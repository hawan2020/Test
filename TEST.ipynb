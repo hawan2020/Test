{
 "cells": [
  {
   "cell_type": "markdown",
   "metadata": {
    "extensions": {
     "jupyter_dashboards": {
      "version": 1,
      "views": {
       "grid_default": {},
       "report_default": {
        "hidden": false
       }
      }
     }
    }
   },
   "source": [
    "# Simple RAM Simulator"
   ]
  },
  {
   "cell_type": "code",
   "execution_count": 1,
   "metadata": {
    "extensions": {
     "jupyter_dashboards": {
      "version": 1,
      "views": {
       "grid_default": {},
       "report_default": {
        "hidden": true
       }
      }
     }
    }
   },
   "outputs": [],
   "source": [
    "import numpy as np\n",
    "import pandas as pd\n",
    "import matplotlib.pyplot as plt    \n",
    "import seaborn as sns\n",
    "\n",
    "from ipywidgets import interact, interactive, fixed, interact_manual\n",
    "import ipywidgets as widgets\n",
    "from IPython.display import display, clear_output\n",
    "from ipywidgets.widgets.interaction import show_inline_matplotlib_plots\n",
    "from ipywidgets import Button, HBox, VBox, Layout\n",
    "from IPython.display import HTML"
   ]
  },
  {
   "cell_type": "markdown",
   "metadata": {
    "extensions": {
     "jupyter_dashboards": {
      "version": 1,
      "views": {
       "grid_default": {},
       "report_default": {
        "hidden": false
       }
      }
     }
    }
   },
   "source": [
    "This notebook is a simulation tool to estimate the RAM parameters of certain type of equipments. The tool infact simulates the Renewal Process, a type of counting process to model the RAM characterstics of repairable systems. Currently the program covers following three type of equipment:\n",
    "1. Simple series component\n",
    "2. Redundant system with delayed repair policy\n",
    "3. Redundant system with independent failure and repair\n",
    "\n",
    "The terminology used is in accordance with IEC Definitions and can be assesed [here](http://www.electropedia.org/iev/iev.nsf/index?openform&part=192). All time based parameters should be in units of hours. Followng are the input parmeteres:\n",
    "1. CMleft, CMmode and CMright:*part of the maintenance time taken to perform corrective maintenance, including technical delays and logistic delays inherent in corrective maintenance* [IEC](http://www.electropedia.org/iev/iev.nsf/display?openform&ievref=192-07-07). The triangular distribution is used for modelling. \n",
    "2. PMleft, PMmode and PMright: *part of the maintenance time taken to perform preventive maintenance, including technical delays and logistic delays inherent in preventive maintenance* [IEC](http://www.electropedia.org/iev/iev.nsf/display?openform&ievref=192-07-05). The triangular distribution is used for modelling. \n",
    "3. PMinterval: Preventive maintenace frequency. For example 8760 means a preventive maintenance action every year.\n",
    "4. Wibull shape and scale: Parameters of Weibull Distribution used to model time to failure event.\n",
    "5. PMtolerance: A pramater to skip a scheduled PM action if CM was performed specified number of hours ago. \n",
    "6. NumSimulations: Replications of simulations\n",
    "7. SimPeriod: Simulation period for the program.\n",
    "\n",
    "The results are explained with each component type. "
   ]
  },
  {
   "cell_type": "markdown",
   "metadata": {
    "extensions": {
     "jupyter_dashboards": {
      "version": 1,
      "views": {
       "grid_default": {},
       "report_default": {
        "hidden": false
       }
      }
     }
    }
   },
   "source": [
    "## Distribution Viewer"
   ]
  },
  {
   "cell_type": "markdown",
   "metadata": {
    "extensions": {
     "jupyter_dashboards": {
      "version": 1,
      "views": {
       "grid_default": {},
       "report_default": {
        "hidden": false
       }
      }
     }
    }
   },
   "source": [
    "### Triangular Distribution"
   ]
  },
  {
   "cell_type": "code",
   "execution_count": 6,
   "metadata": {
    "extensions": {
     "jupyter_dashboards": {
      "version": 1,
      "views": {
       "grid_default": {},
       "report_default": {
        "hidden": false
       }
      }
     }
    }
   },
   "outputs": [
    {
     "data": {
      "application/vnd.jupyter.widget-view+json": {
       "model_id": "39fb4d3eb05b468683e24dcde5c74158",
       "version_major": 2,
       "version_minor": 0
      },
      "text/plain": [
       "interactive(children=(IntSlider(value=1, description='a', max=3, min=-1), IntSlider(value=750, description='b'…"
      ]
     },
     "metadata": {},
     "output_type": "display_data"
    }
   ],
   "source": [
    "@interact\n",
    "def make_Hist(a=1, b=750, c=1500):\n",
    "    Triangular = np.array(np.random.triangular(a, b, c, size = 10000));\n",
    "    plt.hist(Triangular);"
   ]
  },
  {
   "cell_type": "markdown",
   "metadata": {
    "extensions": {
     "jupyter_dashboards": {
      "version": 1,
      "views": {
       "grid_default": {},
       "report_default": {
        "hidden": false
       }
      }
     }
    }
   },
   "source": [
    "### Weibull Distribution"
   ]
  },
  {
   "cell_type": "code",
   "execution_count": 7,
   "metadata": {
    "extensions": {
     "jupyter_dashboards": {
      "version": 1,
      "views": {
       "grid_default": {},
       "report_default": {
        "hidden": false
       }
      }
     }
    }
   },
   "outputs": [
    {
     "data": {
      "application/vnd.jupyter.widget-view+json": {
       "model_id": "a736cea146b240658864a77a196a6281",
       "version_major": 2,
       "version_minor": 0
      },
      "text/plain": [
       "interactive(children=(FloatSlider(value=1.5, description='shape', max=4.5, min=-1.5), IntSlider(value=21900, d…"
      ]
     },
     "metadata": {},
     "output_type": "display_data"
    }
   ],
   "source": [
    "@interact\n",
    "def make_Hist(shape=1.5, scale=21900):\n",
    "    Weibull = np.array(scale * np.random.weibull(shape, size = 10000));\n",
    "    plt.hist(Weibull);"
   ]
  },
  {
   "cell_type": "code",
   "execution_count": null,
   "metadata": {
    "extensions": {
     "jupyter_dashboards": {
      "version": 1,
      "views": {
       "grid_default": {},
       "report_default": {
        "hidden": true
       }
      }
     }
    }
   },
   "outputs": [],
   "source": []
  }
 ],
 "metadata": {
  "extensions": {
   "jupyter_dashboards": {
    "activeView": "report_default",
    "version": 1,
    "views": {
     "grid_default": {
      "name": "grid",
      "type": "grid"
     },
     "report_default": {
      "name": "report",
      "type": "report"
     }
    }
   }
  },
  "kernelspec": {
   "display_name": "Python 3",
   "language": "python",
   "name": "python3"
  },
  "language_info": {
   "codemirror_mode": {
    "name": "ipython",
    "version": 3
   },
   "file_extension": ".py",
   "mimetype": "text/x-python",
   "name": "python",
   "nbconvert_exporter": "python",
   "pygments_lexer": "ipython3",
   "version": "3.7.6"
  },
  "widgets": {
   "application/vnd.jupyter.widget-state+json": {
    "state": {
     "001a992cd38143f3bc939028fc0a6a0b": {
      "model_module": "@jupyter-widgets/controls",
      "model_module_version": "1.5.0",
      "model_name": "BoundedFloatTextModel",
      "state": {
       "description": "Series or Redund:",
       "layout": "IPY_MODEL_96e269d6eeff409da7b23e41e7167e58",
       "max": 2,
       "min": 1,
       "step": 1,
       "style": "IPY_MODEL_88c276bdf61d40a0ad213cfc11f20a0c",
       "value": 1
      }
     },
     "008ec404b8674f40b03b1734aeaea382": {
      "model_module": "@jupyter-widgets/controls",
      "model_module_version": "1.5.0",
      "model_name": "ButtonModel",
      "state": {
       "button_style": "success",
       "description": "Run Simulation",
       "layout": "IPY_MODEL_a066975057fb4d888c135d5cfdd58ee1",
       "style": "IPY_MODEL_c930e699fdf942a289517b24041f69c9",
       "tooltip": "Click me"
      }
     },
     "00db92fbb294482e9323b5080e8c1fdb": {
      "model_module": "@jupyter-widgets/controls",
      "model_module_version": "1.5.0",
      "model_name": "BoundedFloatTextModel",
      "state": {
       "description": "Series or Redund:",
       "layout": "IPY_MODEL_1c2fcaff1d684122ad3d2b87d368c6aa",
       "max": 2,
       "min": 1,
       "step": 1,
       "style": "IPY_MODEL_6d67efa16acf48bb90cbfc21d2fb5d11",
       "value": 1
      }
     },
     "00deb86be6c141389fefc465ab4699ed": {
      "model_module": "@jupyter-widgets/controls",
      "model_module_version": "1.5.0",
      "model_name": "BoundedFloatTextModel",
      "state": {
       "description": "PM right time (hrs):",
       "layout": "IPY_MODEL_0c19fac1f9644090a81388b815c41e43",
       "max": 26280,
       "min": 3,
       "step": 1,
       "style": "IPY_MODEL_7e3462cd89da4e9190ff98c9c0844eef",
       "value": 168
      }
     },
     "012a07ae22b340ab93ad9ae5db8db1fc": {
      "model_module": "@jupyter-widgets/controls",
      "model_module_version": "1.5.0",
      "model_name": "ButtonModel",
      "state": {
       "button_style": "success",
       "description": "Run Simulation",
       "layout": "IPY_MODEL_a19184c1f3fe4e65bbf6ab8f55ac6eed",
       "style": "IPY_MODEL_4348d19cae5e42b0ba30c31be7d7ad6e",
       "tooltip": "Click me"
      }
     },
     "01bdeabbfbf34906b6de7b11a8f10cbf": {
      "model_module": "@jupyter-widgets/controls",
      "model_module_version": "1.5.0",
      "model_name": "VBoxModel",
      "state": {
       "_dom_classes": [
        "widget-interact"
       ],
       "children": [
        "IPY_MODEL_b5c580a1b7284691a072aa72342c7db8",
        "IPY_MODEL_d71fea7d6993432994c30e773433e7e5",
        "IPY_MODEL_bb785368147c4613b50837de06c72d7e",
        "IPY_MODEL_34d97be366154f6f8e3c667c075d5e2e"
       ],
       "layout": "IPY_MODEL_8fb4b8fc32fe423482e8663b3db96f32"
      }
     },
     "01d875d404eb4fb59fa2bbff7beae181": {
      "model_module": "@jupyter-widgets/controls",
      "model_module_version": "1.5.0",
      "model_name": "BoundedFloatTextModel",
      "state": {
       "description": "Series or Redund:",
       "layout": "IPY_MODEL_9d4a1702664b49e1be221d6a5aa9905b",
       "max": 2,
       "min": 1,
       "step": 1,
       "style": "IPY_MODEL_a8db61e9e2ba4fcdbeae114f5783dd85",
       "value": 1
      }
     },
     "020343f8441143f79deb3528c6ceb128": {
      "model_module": "@jupyter-widgets/controls",
      "model_module_version": "1.5.0",
      "model_name": "BoundedFloatTextModel",
      "state": {
       "description": "CM left time (hrs):",
       "layout": "IPY_MODEL_295dd36190284e20835cd4bcb7b386e2",
       "max": 26280,
       "min": 1,
       "step": 1,
       "style": "IPY_MODEL_f3a0559e8e7a4e22a63815b8e7e7c6c9",
       "value": 520
      }
     },
     "0230cfe7d7f745e59e983611c11af19b": {
      "model_module": "@jupyter-widgets/controls",
      "model_module_version": "1.5.0",
      "model_name": "DescriptionStyleModel",
      "state": {
       "description_width": "initial"
      }
     },
     "0251ce0ba4a9471aadd8c26c31c2076c": {
      "model_module": "@jupyter-widgets/controls",
      "model_module_version": "1.5.0",
      "model_name": "DescriptionStyleModel",
      "state": {
       "description_width": "initial"
      }
     },
     "02b97556e4c742c28b73c6449be859e2": {
      "model_module": "@jupyter-widgets/base",
      "model_module_version": "1.2.0",
      "model_name": "LayoutModel",
      "state": {
       "border": "solid 2px green",
       "display": "flex",
       "flex_flow": "row",
       "justify_content": "center",
       "width": "100%"
      }
     },
     "02ec85b792dd436594659a3b43a43b49": {
      "model_module": "@jupyter-widgets/controls",
      "model_module_version": "1.5.0",
      "model_name": "SliderStyleModel",
      "state": {
       "description_width": ""
      }
     },
     "031de9fb63894515bff8ee040b0f1837": {
      "model_module": "@jupyter-widgets/controls",
      "model_module_version": "1.5.0",
      "model_name": "VBoxModel",
      "state": {
       "children": [
        "IPY_MODEL_8c72d89236dc4a689d80e16c378fbd46",
        "IPY_MODEL_51c19b36cd974860a422571b2e12d856",
        "IPY_MODEL_f96b5368c5954ec287afb21d0732fc04",
        "IPY_MODEL_3286e5a8c07a42c1b0af272c8a34175d"
       ],
       "layout": "IPY_MODEL_72099a7effc54634a879dd972f4d6b54"
      }
     },
     "0326a6222a4a4fc2bdf59dffe5b8b083": {
      "model_module": "@jupyter-widgets/controls",
      "model_module_version": "1.5.0",
      "model_name": "BoundedIntTextModel",
      "state": {
       "description": "Sim. Period (hrs):",
       "layout": "IPY_MODEL_552fe39294264007b5729842811f380e",
       "max": 876000,
       "min": 8760,
       "style": "IPY_MODEL_649c00dac14e4f518642356359d9efda",
       "value": 87600
      }
     },
     "037b38410af444848a76f4121490a40e": {
      "model_module": "@jupyter-widgets/base",
      "model_module_version": "1.2.0",
      "model_name": "LayoutModel",
      "state": {}
     },
     "037bb41e77b9412a8de533dd35d99fb2": {
      "model_module": "@jupyter-widgets/controls",
      "model_module_version": "1.5.0",
      "model_name": "DescriptionStyleModel",
      "state": {
       "description_width": "150px"
      }
     },
     "038bcd30522e41bcbbf59c601d657b38": {
      "model_module": "@jupyter-widgets/controls",
      "model_module_version": "1.5.0",
      "model_name": "BoundedFloatTextModel",
      "state": {
       "description": "PM mode time (hrs):",
       "layout": "IPY_MODEL_73623a7b43ec47938862b9a221a5344a",
       "max": 26280,
       "min": 2,
       "step": 1,
       "style": "IPY_MODEL_821b2d97fe8b48e28ed54855ba6e7766",
       "value": 120
      }
     },
     "03939dda83584ff8a8d1f26c9b0937fb": {
      "model_module": "@jupyter-widgets/controls",
      "model_module_version": "1.5.0",
      "model_name": "BoundedFloatTextModel",
      "state": {
       "description": "PM right time (hrs):",
       "layout": "IPY_MODEL_87d23286796646538a2f4343c5e8486d",
       "max": 26280,
       "min": 3,
       "step": 24,
       "style": "IPY_MODEL_ee04e669aa124c918cbaa40071a8359a",
       "value": 168
      }
     },
     "03d47dbefcce44c984c55ea33a046291": {
      "model_module": "@jupyter-widgets/base",
      "model_module_version": "1.2.0",
      "model_name": "LayoutModel",
      "state": {}
     },
     "03dc92ec6b634b1d918e5500d7ebe8b7": {
      "model_module": "@jupyter-widgets/controls",
      "model_module_version": "1.5.0",
      "model_name": "VBoxModel",
      "state": {
       "children": [
        "IPY_MODEL_8435d5e2ead04460be38a4f64b5a87bf",
        "IPY_MODEL_46ba8b87f2484fb6850961cb4fa545bd",
        "IPY_MODEL_11d652d6379140cf803544e6643632aa",
        "IPY_MODEL_1a229cf7dadd4a84aa6e3f9a76bc496a"
       ],
       "layout": "IPY_MODEL_af3f42974052457389227405f2475997"
      }
     },
     "040b6b0327584b239e255546cd888304": {
      "model_module": "@jupyter-widgets/controls",
      "model_module_version": "1.5.0",
      "model_name": "DescriptionStyleModel",
      "state": {
       "description_width": "initial"
      }
     },
     "0424d85fc9644880984119fa1bac166d": {
      "model_module": "@jupyter-widgets/base",
      "model_module_version": "1.2.0",
      "model_name": "LayoutModel",
      "state": {}
     },
     "044edec58404442497c2018de4a0aa2a": {
      "model_module": "@jupyter-widgets/controls",
      "model_module_version": "1.5.0",
      "model_name": "SliderStyleModel",
      "state": {
       "description_width": ""
      }
     },
     "04572def6c7240f68e03d614b354d919": {
      "model_module": "@jupyter-widgets/base",
      "model_module_version": "1.2.0",
      "model_name": "LayoutModel",
      "state": {}
     },
     "048481f737b34a888f538c5c8710a08f": {
      "model_module": "@jupyter-widgets/base",
      "model_module_version": "1.2.0",
      "model_name": "LayoutModel",
      "state": {}
     },
     "049f9618f5ff4d27b2929057659eadc7": {
      "model_module": "@jupyter-widgets/base",
      "model_module_version": "1.2.0",
      "model_name": "LayoutModel",
      "state": {}
     },
     "04a941d6f02c420f9a45c714146ff190": {
      "model_module": "@jupyter-widgets/controls",
      "model_module_version": "1.5.0",
      "model_name": "DescriptionStyleModel",
      "state": {
       "description_width": "initial"
      }
     },
     "04d080ca99124daab9127892924234b8": {
      "model_module": "@jupyter-widgets/controls",
      "model_module_version": "1.5.0",
      "model_name": "VBoxModel",
      "state": {
       "children": [
        "IPY_MODEL_60ab7f9c257447bc97a4b8ed6a0431c1",
        "IPY_MODEL_0e0b1580140a48a38a0c900db590710c",
        "IPY_MODEL_a0ad5133da3049e8a946a025fb5099bc",
        "IPY_MODEL_9d7dfcd6073444af800fc6db543aa553",
        "IPY_MODEL_62e8866ee85e4fdf9feb0ae7a287ebd5"
       ],
       "layout": "IPY_MODEL_3d1ac92b94b14b759e7e5d79c5e5fd20"
      }
     },
     "04f5de4cc6c4488188aa82b923afd4cc": {
      "model_module": "@jupyter-widgets/controls",
      "model_module_version": "1.5.0",
      "model_name": "BoundedFloatTextModel",
      "state": {
       "description": "PM left time (hrs):",
       "layout": "IPY_MODEL_39ab5bceb5344edd84490d5633a88511",
       "max": 26280,
       "min": 1,
       "step": 1,
       "style": "IPY_MODEL_c1a91f1763d7402ba866a0b050845ab8",
       "value": 96
      }
     },
     "050f2ac1f25f452b9dbaf101745cfc62": {
      "model_module": "@jupyter-widgets/controls",
      "model_module_version": "1.5.0",
      "model_name": "IntSliderModel",
      "state": {
       "description": "scale",
       "layout": "IPY_MODEL_deb38a86170d49d2815bde1d97ee4430",
       "max": 65700,
       "min": -21900,
       "style": "IPY_MODEL_3007b9ccbd844591be9f3d7a07f0504c",
       "value": 21900
      }
     },
     "056929d8fa1640678b4ea1659d0b572b": {
      "model_module": "@jupyter-widgets/controls",
      "model_module_version": "1.5.0",
      "model_name": "VBoxModel",
      "state": {
       "_dom_classes": [
        "widget-interact"
       ],
       "children": [
        "IPY_MODEL_fbe10973870f417cb79050d73c94900c",
        "IPY_MODEL_7b4039eaa5f14f9ebbd8b5f27db8922b",
        "IPY_MODEL_b9b05924299b4b5c8ad349d725ef0d03",
        "IPY_MODEL_f2a92d65715a4900bc528b4cc6576dde"
       ],
       "layout": "IPY_MODEL_1220f44c7b2646778ccccb5658041e7e"
      }
     },
     "05b881dd36a34a00b317e353c9840a15": {
      "model_module": "@jupyter-widgets/controls",
      "model_module_version": "1.5.0",
      "model_name": "ButtonModel",
      "state": {
       "button_style": "success",
       "description": "Run Simulation",
       "layout": "IPY_MODEL_6a509aec8ef94c91bdaba0710cc4f2e1",
       "style": "IPY_MODEL_0aa27706fdd740a291dfe13bb5db26e1",
       "tooltip": "Click me"
      }
     },
     "061674273d01449db0d8163b8db2be51": {
      "model_module": "@jupyter-widgets/controls",
      "model_module_version": "1.5.0",
      "model_name": "DescriptionStyleModel",
      "state": {
       "description_width": "150px"
      }
     },
     "0638537229ad4374b9bcf8001b3df238": {
      "model_module": "@jupyter-widgets/base",
      "model_module_version": "1.2.0",
      "model_name": "LayoutModel",
      "state": {
       "border": "solid 2px green",
       "display": "flex",
       "flex_flow": "row",
       "justify_content": "center",
       "width": "100%"
      }
     },
     "06eac5f8d657414d8c055fc9e40999d4": {
      "model_module": "@jupyter-widgets/base",
      "model_module_version": "1.2.0",
      "model_name": "LayoutModel",
      "state": {}
     },
     "06fa97d09d7d480dbd2f9fa4b91f37ac": {
      "model_module": "@jupyter-widgets/controls",
      "model_module_version": "1.5.0",
      "model_name": "BoundedFloatTextModel",
      "state": {
       "description": "PM right time (hrs):",
       "layout": "IPY_MODEL_59da1f2ca2fc4bf298153f251b32a8bc",
       "max": 26280,
       "min": 3,
       "step": 1,
       "style": "IPY_MODEL_533f7f80c69d47e99d41769da934089d",
       "value": 168
      }
     },
     "071993cf3a904a3aa24bf9c3df5c8c14": {
      "model_module": "@jupyter-widgets/controls",
      "model_module_version": "1.5.0",
      "model_name": "DescriptionStyleModel",
      "state": {
       "description_width": "initial"
      }
     },
     "074270c6693c42ac94c8368902d974ef": {
      "model_module": "@jupyter-widgets/controls",
      "model_module_version": "1.5.0",
      "model_name": "DescriptionStyleModel",
      "state": {
       "description_width": "initial"
      }
     },
     "075a94e53fa6493b8265bb6ca395cdf1": {
      "model_module": "@jupyter-widgets/controls",
      "model_module_version": "1.5.0",
      "model_name": "VBoxModel",
      "state": {
       "children": [
        "IPY_MODEL_6acdb2d3f72949188b092224d4169e47",
        "IPY_MODEL_b156070fb06a43399b8605e1d6490126",
        "IPY_MODEL_a0289b90e56f487494f2c67d3313a2f5",
        "IPY_MODEL_9623f00e19734a159f2078487ca7740f"
       ],
       "layout": "IPY_MODEL_037b38410af444848a76f4121490a40e"
      }
     },
     "0788f2e9c91a4e0e8b5d1965f77db368": {
      "model_module": "@jupyter-widgets/controls",
      "model_module_version": "1.5.0",
      "model_name": "DescriptionStyleModel",
      "state": {
       "description_width": "initial"
      }
     },
     "0790836f1fc44d12a707819c7a385666": {
      "model_module": "@jupyter-widgets/controls",
      "model_module_version": "1.5.0",
      "model_name": "DescriptionStyleModel",
      "state": {
       "description_width": ""
      }
     },
     "07ab87ab79134c86b59696768c32a89e": {
      "model_module": "@jupyter-widgets/controls",
      "model_module_version": "1.5.0",
      "model_name": "VBoxModel",
      "state": {
       "children": [
        "IPY_MODEL_6c0e1028be784ae9a5e92e92d054f026",
        "IPY_MODEL_2264fd519638491cafd8e1d4dd3d7114",
        "IPY_MODEL_7a92d977cd314f8c8e70ca9cf360ab67",
        "IPY_MODEL_d0b95334cba240979f0bf64e44f12441",
        "IPY_MODEL_1bb768053f08484cbad57e257edb678e"
       ],
       "layout": "IPY_MODEL_ce653f04773e4746af0efaafe5d4f5c9"
      }
     },
     "07bbfb07b5cf4f8ead89f999361ac8f3": {
      "model_module": "@jupyter-widgets/controls",
      "model_module_version": "1.5.0",
      "model_name": "ButtonModel",
      "state": {
       "button_style": "success",
       "description": "Run Simulation",
       "layout": "IPY_MODEL_3975213cd74346c8b8a504b467b01ef1",
       "style": "IPY_MODEL_85a3a108df7f4f5c9014204bc12f0c09",
       "tooltip": "Click me"
      }
     },
     "07c1b4fdc0b04135b3d803199a8a6358": {
      "model_module": "@jupyter-widgets/controls",
      "model_module_version": "1.5.0",
      "model_name": "DescriptionStyleModel",
      "state": {
       "description_width": "150px"
      }
     },
     "0807f3c84a9f4d2b893f6322f7ddd84a": {
      "model_module": "@jupyter-widgets/controls",
      "model_module_version": "1.5.0",
      "model_name": "BoundedFloatTextModel",
      "state": {
       "description": "PM right time (hrs):",
       "layout": "IPY_MODEL_87079619d1d44f3b9466e9097b114363",
       "max": 26280,
       "min": 3,
       "step": 24,
       "style": "IPY_MODEL_dc16c750a86b4b9da85665bb7488b90b",
       "value": 168
      }
     },
     "081c6d98d8e54b7cbb9848aaafd35f26": {
      "model_module": "@jupyter-widgets/controls",
      "model_module_version": "1.5.0",
      "model_name": "BoundedFloatTextModel",
      "state": {
       "description": "PM left time (hrs):",
       "layout": "IPY_MODEL_42e3e03fa89245b7a2406a2932ccd4c6",
       "max": 26280,
       "min": 1,
       "step": 24,
       "style": "IPY_MODEL_fbafca7ae98049289ca04ecd52151f41",
       "value": 96
      }
     },
     "081c7320f70d44d09bfd423a96ec3840": {
      "model_module": "@jupyter-widgets/controls",
      "model_module_version": "1.5.0",
      "model_name": "VBoxModel",
      "state": {
       "children": [
        "IPY_MODEL_8ee6cac0a90b48fbafd0659373cc2fdf",
        "IPY_MODEL_c810a7df231e4732a08f82e69ada2e69",
        "IPY_MODEL_ab44cb2e2e4643d093653726c4bfd62a",
        "IPY_MODEL_8d718f1f571c4606a66636850823a97a"
       ],
       "layout": "IPY_MODEL_cb64123a2d3b439bb460dbc3e5fb2fa4"
      }
     },
     "084e7f14ecdb4c6faec8ff78b99cf2cf": {
      "model_module": "@jupyter-widgets/base",
      "model_module_version": "1.2.0",
      "model_name": "LayoutModel",
      "state": {}
     },
     "0872f9cbd13f47ff8197a4817b73496b": {
      "model_module": "@jupyter-widgets/base",
      "model_module_version": "1.2.0",
      "model_name": "LayoutModel",
      "state": {}
     },
     "089799af6db74b67bb541f4738297c77": {
      "model_module": "@jupyter-widgets/controls",
      "model_module_version": "1.5.0",
      "model_name": "BoundedFloatTextModel",
      "state": {
       "description": "PM freq  (hrs):",
       "layout": "IPY_MODEL_368f9f2d61cd474a9b6917eeea1704ac",
       "max": 876000,
       "min": 8760,
       "step": 1,
       "style": "IPY_MODEL_e3fef1192bf94ef39b84f405ab1cddd5",
       "value": 17520
      }
     },
     "08aa3314fcaf47758adde43a9d32966f": {
      "model_module": "@jupyter-widgets/base",
      "model_module_version": "1.2.0",
      "model_name": "LayoutModel",
      "state": {}
     },
     "092902e8271a4a20b2dca228acdd2bd1": {
      "model_module": "@jupyter-widgets/controls",
      "model_module_version": "1.5.0",
      "model_name": "DescriptionStyleModel",
      "state": {
       "description_width": "150px"
      }
     },
     "096e6a688cd643789d7d7b798a6afb47": {
      "model_module": "@jupyter-widgets/controls",
      "model_module_version": "1.5.0",
      "model_name": "SliderStyleModel",
      "state": {
       "description_width": ""
      }
     },
     "0985d02ca0ae49889fdae57a66334daa": {
      "model_module": "@jupyter-widgets/controls",
      "model_module_version": "1.5.0",
      "model_name": "IntSliderModel",
      "state": {
       "description": "a",
       "layout": "IPY_MODEL_b686c9d8da374bb7a2af1922cd810936",
       "max": 3,
       "min": -1,
       "style": "IPY_MODEL_223a97a3f6e745e785b7bc7010c86ef4",
       "value": 1
      }
     },
     "0991f3fea61441588e711e983616d261": {
      "model_module": "@jupyter-widgets/output",
      "model_module_version": "1.0.0",
      "model_name": "OutputModel",
      "state": {
       "layout": "IPY_MODEL_b2ffd13947d5452a9a43ae8dfefedaaa",
       "outputs": [
        {
         "name": "stdout",
         "output_type": "stream",
         "text": "       UptimeCount     CMcount     PMcount    UptimeSum       CMSum  \\\ncount   100.000000  100.000000  100.000000   100.000000  100.000000   \nmean      8.030000    3.380000    3.720000  3530.766250   99.460417   \nstd       1.452653    1.482422    0.551948    43.218031   43.751829   \nmin       5.000000    0.000000    1.000000  3391.041667    0.000000   \n25%       7.000000    2.000000    4.000000  3503.552083   62.729167   \n50%       8.000000    3.000000    4.000000  3536.520833   92.729167   \n75%       9.000000    4.000000    4.000000  3565.520833  127.250000   \nmax      12.000000    8.000000    4.000000  3629.125000  240.791667   \n\n            PMSum    Downtime  Replacements         MTBF        MTTR  \\\ncount  100.000000  100.000000    100.000000   100.000000  100.000000   \nmean    19.773333  119.233750     14.200000  1331.678712   16.326174   \nstd      3.053410   43.218031      2.905933   815.782721    3.391175   \nmin      6.416667   20.875000      8.000000   423.880208    5.218750   \n25%     18.197917   84.479167     12.000000   875.888021   14.373264   \n50%     20.541667  113.479167     14.000000  1178.840278   16.484003   \n75%     21.927083  146.447917     16.000000  1782.380208   18.199219   \nmax     24.083333  258.958333     22.000000  3629.125000   26.756944   \n\n       Availability  \ncount    100.000000  \nmean       0.983405  \nstd        0.009764  \nmin        0.947384  \n25%        0.978635  \n50%        0.986237  \n75%        0.991633  \nmax        0.998564  \n"
        },
        {
         "data": {
          "image/png": "iVBORw0KGgoAAAANSUhEUgAAAsYAAAHcCAYAAADVzWzVAAAABHNCSVQICAgIfAhkiAAAAAlwSFlzAAALEgAACxIB0t1+/AAAADh0RVh0U29mdHdhcmUAbWF0cGxvdGxpYiB2ZXJzaW9uMy4xLjMsIGh0dHA6Ly9tYXRwbG90bGliLm9yZy+AADFEAAAgAElEQVR4nOzde5hkVX3v//dHLqKgAaKQGeBk0BAjMTIQJBiiQRCD6BE8UQNJDEaSJolEjHqO6EkiXs4vGC/E/JIgLRLGaLgEQYgaZR4EkcSDDjBcR0UJ0XEmjAoIRAWB7/lj79aati/V3VVd1dXv1/PUU7VX7dr13VW1qr619tprpaqQJEmSlrtHDToASZIkaRiYGEuSJEmYGEuSJEmAibEkSZIEmBhLkiRJgImxJEmSBJgYS8tGkmOSXJVkS5LvJfmPJB9NcmTHOq9IUklWDSC+SnLqPB73iiSvnKZ80fclyTnt805cvtm+7p2v86r2vlfMY/unJjmsxzH/epI7kzy2o2xe78ccn3dgn7f2+fdP8t0k/20Qzy9p+JgYS8tAklcDFwO3AScALwDe3t7dmWR9HHgmsHlRA1yYVwA/lhgz2H35ZvvczwR+HwjwiSSH92Dbb2br92xBkmwL/H/AO6vqux13PRM4q1fPM4yq6npgLfC2QcciaThsO+gAJC2K1wMfraoTOso+Dbw/yQ//IFfVN2mSuiVvwPvyYFX934mFJJ8GvgacDFw+oJimczSwCji7s7Az/hF3JnBJkjdW1aZBByNpsGwxlpaHXYH/nOqOqnpk4vZUh7aT3JHkQ0lenuRLbTeMzybZJ8mOSc5M8u32UPy72xbIabfXlp+aZMZpN5P8TJJ/SPLv7XPenuSMJLt0rHMl8KvAIR1dF66cYV+2S/L2dp8ebK/fnmS7jnUmujmcmOStSTYnuSfJPyfZc6aYp1NV9wJfBn5mln3+7SQ3JPl+km+1+7+i4/6J1+x/d+zvqe19z0iytn0vvtu+Xn/XRXi/B3yyqu6aFMtWXSkm3rP2ff94kvvb7jh/3vnnaoZ9e1L7uO+23UveCzx6ivWOTfLpdp37k1yf5PhJ69yU5OIpHntoG+Ovtcs/m+TiNN2Hvp/ka0n+qfMzClwG3Etz5EHSMmeLsbQ8fB44PsntwCVV9eU5Pv7ZwJOBNwDbA38FfAS4HfgKcGy7zp8CXwW6SchmsxLYCLwGuBt4EvAm4BM0h/kB/gj4ELANcGJbdu8M21wDvIym68DV7Xb+tN32b05a943Av9F009gNeDfwYZpEfE7aRGwv4N9nWGeMpvXy/Pa5V7Zx/lKSA6rq/jbezwHntOsCbEyyE/Apmvf5FcB9NK3AvzxLXI8GDgX+bA67czHw98DpwH8H3gJ8vS2b7nm2p+my8BjgVcAWmvfrf0yx+pOAC4HTgEdoPldnJXlMVb2vXecM4L1JVk5q5T2R5jW+rF3+GHAP8IfAt4A9gKPoaBSqqoeSfA44kub1lrScVZUXL15G/AL8LHAjUO3lW8C5wPMmrfeK9v5VHWV3AHcBP9FR9up2vbMmPf464IqZtteWn9p8/WxVVsCpM+zDtsCvtOvt31F+JXD1FOtv9dzA06Z6DprEuICnt8ur2uXPTFrv9W35ylle63NoEvpt28ueNElsAa+Z9ByvaJe3Ae7sfO3a8on9ffWk1+ntk9Y7sHMf5vC5+KX2cUdMcd9Wr9XEewb87qT1bgIum+V5fr997MEdZY8Cbpnq8zFpnW2B9wM3dJQ/juYP0J91lD0BeAA4pWO5gBd18Tq8Dfg+8Kh+1kMvXrwM/8WuFNIyUE0L8f40rZ3/B1gPvBj4VJI/7WITn6uq73Qsf7G9/tSk9b5I0zK6YEm2T/KmJF9M8j3gB8Bn27ufMo9NPru9/tCk8onlyS3BH5+0fFN73c0IBnvQxPsDmtbU3wT+HPjradZ/Ck2r9Ic7C6vqauA/pohtsttoWkbPbLtjdPserGyv59IXe/LrcjOzvybPBL5eHf2Wq+nCc8HkFduuGucm+QY/eg1/j473vKruo3nffq+jG8fv0pzkONFy/W2aIxqnJfn9JPvMEN83abp17DrLfkgacSbG0jJRVQ9X1VVV9adV9VyaQ9Y3AW/u7Lc7jbsnLT84Q/kOC48WgL+gaaX8EM0oGgfxo0Pv83mOiaRn8igV/znp/gl3TVp+YA7PvQV4Bk1L7t7AzlX1turoz91lbBPxzZiwtX9angNsounG8rUkNyf59VninNiXB2Zca2tTvS6zvSYraFrEJ9uqrO0SshbYDzgFeBbN63g2P94f+e9oEvKjkgQYAy6uqjuhPRwBRwDraD5LX277Xf/hFHF8r71+zCz7IWnE2cdYWqaqalOSs4D3AvvQ9E/tte+319tPKv/JLh57LPDBqpoYVm4icZqviYTup2j6QdOxDE0LY6/8oKrWzWH9ztgm+yma5G5GVbUe+PW2P/OBNP2UL0iyX1XdPM3DJvZ5tj9GC7UZ+PkpyneftPxM4KeBZ7Wt5cAP+2hvpapuTvJZmn7F36c5sfHESevcDvxOmzjvB5wE/F2SO6rqXzpWnfjj8a057ZWkkWOLsbQMzHBo/efa6ylHrOiB/2ivn9YRy7bA87p47GNpDqN3+t0p1nuA7lr6PtNeHzup/Lfa66u62Ea/fImm9XSr2JL8Mk2i+JmO4geZYX+r6qG2y8Kf0XzHP3WG553oEvOkecQ8F58D9kpy8ERB2wXiZZPWm5hg5Acd6+1CM6TcVP4OeD7NkYUvV9Wnp1qpGuuB17ZFT5u0yt40XT2+h6RlzRZjaXm4OckVNCMK/DvweJqz8/8AuKCqvtan5/0CTevsO9tE6AGakSR+bJiuKXySZiSNm2hGvvgfTD3Kwq3AHyX5jfa57quqL01eqapuSXIucGqbnP8bTQvlnwHnVtWNc967Hqmqh5P8OU0f4Q/RdB/Zg6Y/+G1sPeLDrcALknySpivLJuAAmq4EH6V5f3ekOUHyPpqkdLrn/VqS/6DppjK573UvraHpGnFRkjfRdDX5A5rPYad/ozmp7m+TvJlmP/6UpiX3J6bY7kdoRkg5BHhd5x1Jnk5zNOR8ms/PNjQnZD5EM4Z3p19isH+MJA0JW4yl5eENNPX9rTRDWZ1PkxSeAry8X09aVQ/RtPZ9nWa0hr+l6UN6ThcP/2PgUprk8HyakQiOm2K9d9BMmnEWTSJ+5hTrTDi+Xf+VNMO+ndAuHz/DYxZFVY3TvBe/AFwC/CXNa/Wr1QzVNuEk4L+Af6bZ3zGa5Pl7NEn+v9Ak0g/RjDaxcZanPh94Ye/25MdV1YM0/X3X07TyrqFJ4N8+ab1v0pwUug3NkG1/QfO+Tpm0V9UPaF6rB9ptdvpPmklVXkvzOTqX5mTDF1bVtRMrtUdT9gPOW8g+ShoNac5PkCQtR0meTNOV49DOfr1LQdvy/xXgs1U1rz94Sd5AM87xk6vq4V7GJ2npMTGWpGUuyfuBFVXV15bjXknyeJp+wr9Jk9T+YtuHeK7b2YFmSLdTquqDvY1S0lJkVwpJ0p8BX0jy2FnXHA4HAP8KvBQ4eT5JcWsVTT/kf+hRXJKWOFuMJUmSJGwxliRJkgATY0mSJAkwMZYkSZIAE2NJkiQJMDGWJEmSABNjSZIkCTAxliRJkgATY0mSJAkwMZYkSZIAE2NJkiQJMDGWJEmSABNjSZIkCTAxliRJkgATY0mSJAkwMZYkSZIAE2NJkiQJMDGWJEmSABNjSZIkCTAxliRJkgATY0mSJAkwMZYkSZIAE2NJkiQJMDGWJEmSABNjSZIkCTAxliRJkgATY0mSJAkwMZYkSZIAE2NJkiQJMDGWJEmSABNjSZIkCTAxliRJkgATY0mSJAkwMZYkSZKALhLjJDsk+XySG5LckuQtbfneSa5JcluS85Ns3/9wJUmSpP5IVc28QhJgx6q6P8l2wNXAycBrgYuq6rwk7wNuqKozZnm+mZ9MWn4y6ABmYH2VtjbM9RWss9Jkc66zs7YYV+P+dnG79lLAYcCFbfka4Ji5PrkkSZI0LLrqY5xkmyTrgS3AWuCrwD1V9VC7ykZgj/6EKEmSJPVfV4lxVT1cVauBPYGDgKdOtdpUj00ylmRdknXj4+Pzj1SSJEnqo23nsnJV3ZPkSuBgYOck27atxnsCm6Z5zDgwkRHb/0mSJElDqZtRKZ6YZOf29mOA5wIbgCuAl7SrHQ9c0q8gJUmSpH7rZlSKp9OcXLcNTSJ9QVW9NcmTgPOAXYHrgd+uqgdmeT5bjKWtDfNZ7tZXaWvDXF/BOitNNuc6O2ti3GNWWmlrw/xDa32VtjbM9RWss9JkvR+uTZIkSVoO5nTyneZv0/iU5ybO2cqxlT3ZjiSNgns/eGlPtvP433lRT7ajIdLrkbDGxnq7PQ0lW4wlSRqQJDsk+XySG5LckuQtbfneSa5JcluS85NsP+hYpeXAxFiSpMF5ADisqvYDVgNHJjkYeAdwelXtA9wNnDDAGKVlw8RYkqQBqcb97eJ27aWAw4AL2/I1wDEDCE9adkyMJUkaoCTbJFkPbAHWAl8F7mkn0ALYCOwxqPik5cTEWJKkAaqqh6tqNc0ssgcBT51qtakem2Qsybok68Z7fbKZtAw5KoUkSUOgqu5JciVwMLBzkm3bVuM9gSmHNqqqcWAiI3YcY2mBbDGWJGlAkjwxyc7t7ccAzwU2AFcAL2lXOx64ZDARSsuLLcaSJA3OCmBNkm1oGqsuqKqPJbkVOC/J24HrgQ8MMkhpuTAxlkZIkqcA53cUPQn4c+CDbfkq4A7gZVV192LHJ2lrVXUjsP8U5bfT9DeWtIjsSiGNkKr6UlWtbk/k+UXgu8DFwCnA5e2YqJe3y5IkqYOJsTS6Dge+WlX/ARxNMxYqOCaqJElTMjGWRtexwLnt7d2rajNAe73bwKKSJGlImRhLIyjJ9sCLgH+a4+McE1WStGx58p00mp4PXFdVd7bLdyZZUVWbk6ygmWHrxzgmqiRpObPFWBpNx/GjbhQAl9KMhQqOiSpJ0pRMjKURk+SxwBHARR3FpwFHJLmtve+0QcQmSdIwsyuFNGKq6rvAT04q+zbNKBWSJGkathhLkiRJdJEYJ9kryRVJNiS5JcnJbfmpSb6RZH17Oar/4UqSJEn90U1XioeA11XVdUkeB1ybZG173+lV9a7+hSdJkiQtjlkT43YygImJAe5LsgHYo9+BSZIkSYtpTn2Mk6wC9geuaYtOSnJjkrOT7DLNY5wwQJIkSUOv61EpkuwEfAR4TVXdm+QM4G00kwC8DXg38MrJj3PCAEmSJC0FXbUYJ9mOJin+cFVdBFBVd1bVw1X1CPB+4KD+hSlJkiT1VzejUgT4ALChqt7TUb6iY7UXAzf3PjxJkiRpcXTTleIQ4OXATUnWt2VvAo5Lspqme8QdwIl9iVCSJElaBN2MSnE1kCnu+kTvw5EkSZIGw5nvJEkaECfRkoZL16NSSJKknnMSLWmImBhLkjQgTqIlDRe7UkgjJsnOSS5M8sX28Owzk+yaZG2S29rrKSfkkTQ4TqIlDZ6JsTR63gt8sqp+DtgP2ACcAlxeVfsAl7fLkobE5Em0gDOAJwOraVqU3z3V46pqvKoOrKoDx8bGFi1eaVSZGEsjJMnjgWfTjD1OVT1YVfcARwNr2tXWAMcMJkJJkzmJljQ8TIyl0fIk4JvA3ye5PslZSXYEdm/7Mk70adxtqgd7WFZaXE6iJQ0XT76TRsu2wAHAH1fVNUneyxy6TVTVODCREVcf4pO0NSfRkoaIibE0WjYCG6tq4uSdC2kS4zuTrKiqzW1L1JaBRSjph5xESxoudqWQRkhV/Sfw9SRPaYsOB24FLgWOb8uOBy4ZQHiSJA01W4yl0fPHwIeTbA/cDvwuzZ/gC5KcAHwNeOkA45MkaSiZGC9Dm8Y39WQ7K8dW9mQ76q2qWg8cOMVdhy92LJIkLSV2pZAkSZIwMZYkSZIAE2NJkiQJMDGWJEmSABNjSZIkCTAxliRJkgATY0mSJAnoIjFOsleSK5JsSHJLkpPb8l2TrE1yW3u9S//DlSRJkvqjmxbjh4DXVdVTgYOBVyXZFzgFuLyq9gEub5clSZKkJWnWxLiqNlfVde3t+4ANwB7A0cCadrU1wDH9ClKSJEnqtzn1MU6yCtgfuAbYvao2Q5M8A7v1OjhJkiRpsXSdGCfZCfgI8JqquncOjxtLsi7JuvHx8fnEKEmSJPXdtt2slGQ7mqT4w1V1UVt8Z5IVVbU5yQpgy1SPrapxYCIjroUGLGlmSe4A7gMeBh6qqgOT7AqcD6wC7gBeVlV3DypGSZKG0ayJcZIAHwA2VNV7Ou66FDgeOK29vqQvEUqaj+dU1bc6lidOlj0tySnt8hsGE5okTcGjyhoC3XSlOAR4OXBYkvXt5SiahPiIJLcBR7TLkoaTJ8tKQ8ghUaXhMmuLcVVdDWSauw/vbTiSeqCAy5IUcGbbnWmrk2WTeLKsNBwmhkS9LsnjgGuTrAVegUd5pEXXVR/j5WzT+KZBhyDN1SFVtalNftcm+WK3D0wyBowBnHnmmYyNjfUrRkn8cFSniT+t9yXpHBL10Ha1NcCVmBhLfWdiLI2YqtrUXm9JcjFwEJ4sKw29mYZE9SiPtDhMjKURkmRH4FFty9OOwPOAt+LJstJQmzwkanPee1eP8yjPUtXrkw1973vCxFgaLbsDF7c/qtsC/1hVn0zyBeCCJCcAXwNeOsAYJXVwSFRpeJgYSyOkqm4H9pui/Nt4sqw0dBwSVRouJsaSJA3OxJCoNyVZ35a9iSYh9iiPtMhMjCVJGhCHRJWGSzcTfEiSJEkjz8RYkiRJwsRYkiRJAkyMJUmSJMDEWJIkSQJMjCVJkiTAxFiSJEkCTIwlSZIkwMRYkiRJAkyMJUmSJMDEWJIkSQJMjKWRlGSbJNcn+Vi7vHeSa5LcluT8JNsPOkZJkobNrIlxkrOTbElyc0fZqUm+kWR9ezmqv2FKmqOTgQ0dy+8ATq+qfYC7gRMGEpUkSUOsmxbjc4Ajpyg/vapWt5dP9DYsSfOVZE/gBcBZ7XKAw4AL21XWAMcMJjpJkobXrIlxVV0F3LUIsUjqjb8C/hfwSLv8k8A9VfVQu7wR2GMQgUmSNMwW0sf4pCQ3tl0tdulZRJLmLckLgS1VdW1n8RSr1jSPH0uyLsm68fHxvsQoSdKwmm9ifAbwZGA1sBl493Qr+kMrLapDgBcluQM4j6YLxV8BOyfZtl1nT2DTVA+uqvGqOrCqDhwbG1uMeCVJGhrbzr7Kj6uqOyduJ3k/8LEZ1h0HJjLiKVupJPVGVb0ReCNAkkOB11fVbyX5J+AlNMny8cAlAwtSkqQhNa8W4yQrOhZfDNw83bqShsIbgNcm+QpNn+MPDDgeSTjykzRsZm0xTnIucCjwhCQbgTcDhyZZTdMCfAdwYh9jlDQPVXUlcGV7+3bgoEHGI2lK5wB/A3xwUvnpVfWuxQ9HWt5mTYyr6rgpim1tkiRpgarqqiSrBh2HpIYz30mSNHwc+UkaABNjSZKGiyM/SQMyr1EpJElSfzjykzQ4thhLkjREHPlJGhxbjCVJGhBHfpKGi4mxJEkD4shP0nCxK4UkSZKEibEkSZIEmBhLkiRJgImxJEmSBJgYS5IkSYCJsSRJkgSYGEsjJ8kOST6f5IYktyR5S1u+d5JrktyW5Pwk2w86VkmShomJsTR6HgAOq6r9gNXAkUkOBt4BnF5V+wB3AycMMEZJkoaOibE0Yqpxf7u4XXsp4DDgwrZ8DXDMAMKTJGlomRhLIyjJNknWA1uAtcBXgXuq6qF2lY3AHlM8bizJuiTrxsfHFy9gSZKGgFNCSyOoqh4GVifZGbgYeOpUq03xuHFgfLr7JUkaZbYYSyOsqu4BrgQOBnZOMvFneE9g06DikiRpGNlirHnbNN6bvGrl2MqebEeNJE8EflBV9yR5DPBcmhPvrgBeApwHHA9cMrgoJUkaPibG0uhZAaxJsg3NUaELqupjSW4FzkvyduB64AODDFKSpGEza2Kc5GzghcCWqnpaW7YrcD6wCrgDeFlV3d2/MCV1q6puBPafovx24KDFj0iSpKWhmz7G5wBHTio7Bbi8HQ/18nZZkiRJWrJmbTGuqquSrJpUfDRwaHt7Dc3JPW/oYVySJGmYOaSjRtB8R6XYvao2A7TXu023ouOiSpI0tSRnJ9mS5OaOsl2TrG2nb1+bZJdBxigtJ30frq2qxqvqwKo6cGxsrN9PJ0nSUnIOdleUhsZ8E+M7k6wAaK+39C4kSZKWh6q6CrhrUvHRNN0UwenbpUU138T4UppxUMHxUCVJ6qWuuytK6q1ZE+Mk5wKfA56SZGOSE4DTgCOS3AYc0S5LkqRF5Hk8Um91MyrFcdPcdXiPY5EkSW13xaraPFt3xaoaByYy4lqU6KQR5sx3GjinlpakrUx0VzwNuytKi6rvo1JIkqSp2V1RGi62GEuSNCB2V5SGiy3GkiRJEibG0khJsleSK5JsSHJLkpPbcmfSkiRpFibG0mh5CHhdVT0VOBh4VZJ9cSYtSZJmNbJ9jHs10oG0lLSTAUxMDHBfkg3AHjQzaR3arrYGuBJ4wwBC1ADd+8FLe7Kdx//Oi3qyHUkaNrYYSyMqySpgf+AanElLkqRZmRhLIyjJTsBHgNdU1b1zeJyzaEmSlq2R7UohLVdJtqNJij9cVRe1xV3NpOUsWpKk5cwWY2mEJAnwAWBDVb2n466JmbTAmbQkSZqSLcbSaDkEeDlwU5L1bdmbaGbOuqCdVetrwEsHFJ8kSUPLxFgaIVV1NZBp7nYmLUmSZmBXCkmSJAlbjCVJkpa+YR9JaGxs0BF0xRZjSZIkCRNjSZIkCTAxliRJkgATY0mSJAlY4Ml3Se4A7gMeBh6qqgN7EZQkSZK02HoxKsVzqupbPdiOJEmSNDAO1yZJ0hDyqKy0+BaaGBdwWZICzqyqIR9ET5KkJcWjstIiWujJd4dU1QHA84FXJXn25BWSjCVZl2Td+LAPPi1JkqRla0EtxlW1qb3ekuRi4CDgqknrjAMTGXEt5PkkSVpGPCorLbJ5txgn2THJ4yZuA88Dbu5VYJIkLXMelZUW2UJajHcHLk4ysZ1/rKpP9iQqSfOW5GzghcCWqnpaW7YrcD6wCrgDeFlV3T2oGCXNzqOy0uKbd4txVd1eVfu1l5+vqv/Ty8Akzds5wJGTyk4BLq+qfYDL22VJQ8qjstJgOPOdNGKq6irgrknFRwNr2ttrgGMWNShJc7U7cHWSG4DPAx/3qKzUf45jLC0Pu1fVZoCq2pxkt0EHJGl6VXU7sN+g45CWG1uMJf2QJ/JIkpYzW4yl5eHOJCva1uIVwJapVvJEHknScmaLsbQ8XAoc394+HrhkgLFIkjSUTIylEZPkXOBzwFOSbExyAnAacESS24Aj2mVJktTBrhTSiKmq46a56/BFDUSSpCXGFmNJkiQJE2NJkiQJMDGWJEmSABNjSZIkCTAxliRJkgATY0mSJAlwuDZJkpYPp3qXZmSLsSRJkoSJsSRJkgSYGEuSJEmAibEkSZIEDOHJd5vGNw06BC1zvfoMrhxb2ZPtSJK05PX6xM+xsd5urzV0ibEkDdq9H7y0J9t5/O+8qCfbkSQtjgV1pUhyZJIvJflKklN6FZSk/rDOSkuH9VVafPNuMU6yDfC3wBHARuALSS6tqlt7FZyk3ulHnbVlVeoPf2OlwVhIi/FBwFeq6vaqehA4Dzi6N2FJ6gPrrLR0WF+lAUhVze+ByUuAI6vq99rllwO/VFUnTVpvDJjoIb0D8P1ZNv0E4FvzCmpwllrMSy1eGN2Yv1VVRy5GMN3U2WVSXxfC/R1dS66+tuVzrbOLYTl9bqbi/g/P/s+5zi7k5LtMUfZjWXZVjQNdn4qYZF1VHbiAuBbdUot5qcULxtwjs9bZ5VBfF8L9HV1DuK99+Y1dDEP4Wi4q939p7/9CulJsBPbqWN4TcKw1aXhZZ6Wlw/oqDcBCEuMvAPsk2TvJ9sCxQG/OxJHUD9ZZaemwvkoDMO+uFFX1UJKTgE8B2wBnV9UtPYhpqA4JdWmpxbzU4gVjXrA+1dmh2sdF4P6OrqHa1z7+xi6GoXotB8D9X8LmffKdJEmSNEoWNMGHJEmSNCpMjCVJkiSGKDFealNfJtkryRVJNiS5JcnJg46pW0m2SXJ9ko8NOpZuJNk5yYVJvti+3s8cdEwzSfIn7Wfi5iTnJtlh0DH1WpKzk2xJcvOgY+m3pVzX5yPJDkk+n+SGdn/fMuiYFsNS+14cFlN9FyTZNcnaJLe117sMMsZ+mmb/T03yjSTr28tRg4yxX6b7blzq7/9QJMYdU18+H9gXOC7JvoONalYPAa+rqqcCBwOvWgIxTzgZ2DDoIObgvcAnq+rngP0Y4tiT7AG8Gjiwqp5Gc9LMsYONqi/OARZlooMhsJTr+nw8ABxWVfsBq4Ejkxw84JgWw1L7XhwW5/Dj3wWnAJdX1T7A5e3yqDqHqb8LT6+q1e3lE4sc02KZ7rtxSb//Q5EYswSnvqyqzVV1XXv7Ppov1D0GG9XskuwJvAA4a9CxdCPJ44FnAx8AqKoHq+qewUY1q22BxyTZFngsIzj2aFVdBdw16DgWw1Kt6/NVjfvbxe3ay0ifpb3UvheHyTTfBUcDa9rba4BjFjWoRbScvgsnm+G7cUm//8OSGO8BfL1jeSNL6IcnySpgf+CawUbSlb8C/hfwyKAD6dKTgG8Cf98e5jwryY6DDmo6VfUN4F3A14DNwHeq6rLBRqVeWWJ1fd7abgXrgS3A2qoa6f1l6X0vDrvdq2ozNMkTsNuA4xmEk5Lc2Ha1WFJdCeZj0nfjkn7/hyUx7mrqy2GUZCfgI8BrqureQcczkyQvBLZU1bWDjmUOtgUOAM6oqv2B/2KID8u0X4BHA3sDK4Edk/z2YKNSLyylur5QVfVwVa2mmW3toCRPG3RM/bJEvxc13M4AnkzTFWkz8O7BhtNfo/bdOCyJ8ZKc+jLJdjQfhg9X1UWDjqcLhwAvSnIHTXeVw5J8aLAhzWojsLGjxepCmkR5WD0X+Peq+mZV/QC4CPjlAcekBVqCdb0n2m5LVzLa/cmX4vfisIthp8YAACAASURBVLszyQqA9nrLgONZVFV1Z/vn8hHg/TTdRUfSNN+NS/r9H5bEeMlNfZkkNP1eN1TVewYdTzeq6o1VtWdVraJ5jT9dVUPdmllV/wl8PclT2qLDgVsHGNJsvgYcnOSx7WfkcDyhZ0lbinV9IZI8McnO7e3H0PzZ++Jgo+qfpfi9uARcChzf3j4euGSAsSy6iaSw9WJgJEfvmeG7cUm///OeErqXlujUl4cALwduavviAbxphM8+HaQ/Bj7c/mm6HfjdAcczraq6JsmFwHU0Z+xezxKfHnMqSc4FDgWekGQj8Oaq+sBgo+qb5VbXVwBr2tGCHgVcUFUOYaYpTfVdAJwGXJDkBJrGgpcOLsL+mmb/D02ymqZL6B3AiQMLsL+m/G5kib//TgktSZIkMTxdKSRJkqSBMjGWJEmSMDGWJEmSABNjSZIkCTAxliRJkgAT4yUhyU8lOS/JV5PcmuQTSX42SSV5W8d6T0jygyR/s0hxrU5y1GI8l7RUJHk4yfokNyf5pySPbcsryT90rLdtkm8mWZSh0JKsSvKbi/Fc0iBMqnv/PDEe9zy3dWWSA3sZXz8k2TnJHw06jlFiYjzk2gG0LwaurKonV9W+NOME7k4zpu8LO1Z/KbCY4z+vBkyMpa19r6pWV9XTgAeBP2jL/wt4WjtpBsARwDcWMa5VgImxRlln3bsLeNWgA1oEOwMmxj1kYjz8ngP8oKreN1FQVeuBrwPfAzZ0/Kv9DeCCifWS7J7k4iQ3tJdfbstf2/6jvjnJa9qyVUlu7njs65Oc2t6+Msk7knw+yZeTPKudbOOtwG+0/9B/o6+vgrQ0fRb4mY7lfwFe0N4+Djh34o4kOyX5+yQ3Jbkxya+35ce1ZTcneUfH+vd33H5JknPa2+ck+esk/5bk9iQvaVc7DXhWW1//pB87Kw2RzwF7TCwk+Z9JvtDWrbe0ZauSfDHJmrb8wokjPJ2SnJFkXZJbJh7blj+jrWc3tL+Pj0uyTZJ3djzXie26hyb5TJIL2t/R05L8Vvu4m5I8uV3viUk+0j7+C0kOactPTXJ2+3t8e5JXt2GcBjy5rdfvTLIiyVUdLefP6tsrPKJMjIff04BrZ7j/PODYJHsCDwObOu77a+AzVbUfcABwS5JfpJk57peAg4HfT7J/F3FsW1UHAa+hmeXsQeDPgfPbf+jnz3XHpFGWZFvg+cBNHcUT9XUH4OnANR33/Rnwnar6hap6OvDpJCuBdwCH0RyheUaSY7p4+hXAr9AcUTqtLTsF+GxbX09fwK5JQy3NrI2H00xNTJLnAfsAB9HUo19M8ux29acA422du5epW1//d1UdSFNnfzXJ09vGofOBk9vf2OfSNFadQFOPnwE8g+Y3du92O/sBJwO/QDNj3M+2v6tn0czwCvBe4PT28b/e3jfh54Bfa/fjzUm2o6nXX23r9f+kOSr0qapa3T7fejQnQzEltBbkk8DbgDtpKmmnw4DfAaiqh4HvJPkV4OKq+i+AJBcBz6L9ApnBRe31tTSHZCVN7TH50fSonwV+OFV2Vd2YZBVNa/HkKaWfCxzbse7d7Y/3lVX1TYAkHwaeDXx0lhg+WlWPALcm2X0B+yItJRN1bxXNb9Xatvx57eX6dnknmkT5a8DXq+pf2/IPAa8G3jVpuy9LMkaTM60A9qWZ7nlzVX0BoKruhR8m4U/vOFLzE+1zPQh8oao2t+t9FbisXecmmqPD0HwP7Nv0ogTg8Uke197+eFU9ADyQZAtNl8rJvgCc3SbNH22PMGsOTIyH3y3AS6a7s6oeTHIt8Drg54H/Psv2Mk35Q2x9BGGHSfc/0F4/jJ8baSbfa1trpnMpzQ/vocBPdpSH5seWSWXT6Vx3uvo62zakUfK9qlqd5CeAj9H0Mf5rmjrwF1V1ZufK7Z/UyXWuJq2zN/B64Bntn9VzaOrbVPWVtvyPq+pTk7ZzKFvXy0c6lh/hR7+rjwKeWVXfm/R4Jj1+yt/iqrqq/UP9AuAfkryzqj44RZyahl0pht+ngUcn+f2JgiTPAH66Y513A2+oqm9PeuzlwB+2j9kmyeOBq4Bjkjw2yY7Ai2late4Edkvyk0kezdYn9U3nPuBxs64lqdPZwFur6qZJ5ZcBJ00sJNmFpqvFr6YZcWYbmpbmz7Sr3JnkqUkeRVOPZ2N91bJQVd+hafl9fdty+inglUl2AkiyR5Ld2tX/W5JntrePA66etLnH05w4+5326Mvz2/IvAivb32Pa/sXbts/1h+3zkmYEqR3nEP7k74GZ/mTDpHqd5KeBLVX1fpqjVQfM4bmFifHQq6qi+dE7Is1wbbcAp9LRl7iqbqmqNVM8/GTgOUluojms9PNVdR1wDvB5mh/ds6rq+qr6Ac3JdNfQ/NP+YhfhXUFzyMeT76QuVdXGqnrvFHe9HdilPWHmBuA57WHXN9LUtRuA66rqknb9U2jq6qeBzV089Y3AQ+2JQp58p5FWVdfT1Jljq+oy4B+Bz7W/hxfyo2RyA3B8khuBXYEzJm3nBpouGLfQ/Kn917b8QZoT3v//tr6upWlJPgu4FbguzQntZzK3o6yvBg5sT9y7lR+NajPdfn4b+Nf2e+OdNEei1ie5nqaP8lTfNZpBmrxLkiRp+Wi7UnysHd5NAmwxliRJkgBbjCVJkiTAFmNJkiQJMDGWRk6SHdrZlG7onKkpyd5JrklyW5Lz2wHqJUlSa7G7UthvQ9paz8eYTTPg5Y5VdX87ZNDVNCOUvBa4qKrOS/I+4IaqOmOGTVlfpa0N+5jQ1llpa3Ous7YYSyOmGve3i9u1l6KZCfHCtnwN0M3UwpIkLRsmxtIIaid0WQ9soRlf86vAPVX1ULvKRmCPKR43lmRdknXj4+OLF7AkSUPAqX2lEVRVDwOrk+wMXAw8darVpnjcODA+3f2SJI0yW4ylEVZV9wBXAgcDO7dTlgLsScfsiZIkycRYGjlJnti2FJPkMcBzaaY9vQJ4Sbva8cAlU29BkqTlyVEppMHqx6gUT6c5uW4bmj+/F1TVW5M8CTgP2BW4Hvjtqnpghk1ZX6WtOSqFtLTMuc6aGEuDNcw/tNZXaWvDXF/BOitNNuc668l3A7ZpU+/O/F+5cqxn25JGQa8H1hiziklaYno1wtDYMvkCtI+xJEmShImxJEmSBHSRGCfZK8kVSTYkuSXJyW35qUm+kWR9ezmq/+FKkiRJ/dFNH+OHgNdV1XVJHgdcm2Rte9/pVfWu/oUnSZIkLY5ZE+Oq2gxsbm/fl2QDU0wlK0mSJC1lc+pjnGQVsD9wTVt0UpIbk5ydZJdpHjOWZF2Sdb06M1KSJEnqta6Ha0uyE/AR4DVVdW+SM4C30Yyb+Dbg3cArJz+uqsaBiYzYMRYlSZI0lLpqMU6yHU1S/OGqugigqu6sqoer6hHg/cBB/QtTkiRJ6q9uRqUI8AFgQ1W9p6N8RcdqLwZu7n14kiSNLkd+koZLN10pDgFeDtyUZH1b9ibguCSrabpH3AGc2JcIJUkaXY78JA2RbkaluJqp55r+RO/DkSRp+XDkJ2m4OPOdJElDwJGfpMHrelQKSZLUH478JA0HW4wlSRogR36ShoeJsSRJA+LIT9JwsSuFJEmD48hP0hAxMZYkaUAc+UkaLnalkCRJkjAxlkaKs2hJkjR/dqWQRouzaEmSNE8mxtIIcRYtSZLmz64U0oiazyxakiQtZybG0giaPIsWcAbwZGA1TYvyu6d5nNPLSpKWLbtSSCNmulm0Ou5/P/CxqR7r9LKSpOXMxHiONm2yFU3Da6ZZtNr+x+AsWpIkTcnEWBotzqIlSdI8mRhLI8RZtCRJmj9PvpMkSZIwMZYkSZIAE2NJkiQJMDGWJEmSAE++Gym9Hkpu5cqxnm5PkiRpmNliLEmSJNFFYpxkryRXJNmQ5JYkJ7fluyZZm+S29nqX/ocrSZIk9Uc3LcYPAa+rqqcCBwOvSrIvcApweVXtA1zeLkuSJElL0qyJcVVtrqrr2tv3ARuAPYCjgTXtamuAY/oVpCRJktRvc+pjnGQVsD9wDbB7VW2GJnkGdut1cJIkSdJi6ToxTrIT8BHgNVV17xweN5ZkXZJ14+O9HTVBkiRJ6pWuhmtLsh1NUvzhqrqoLb4zyYqq2pxkBbBlqsdW1TgwkRHXQgOWJGlUJNkL+CDwU8AjwHhVvTfJrsD5wCrgDuBlVXX3oOKUlotZE+MkAT4AbKiq93TcdSlwPHBae31JXyKUtGx4UEnL0MQJ7tcleRxwbZK1wCtoTnA/LckpNCe4v2GAcUrLQjddKQ4BXg4clmR9ezmKJiE+IsltwBHtsiRJ6pInuEvDZdYW46q6Gsg0dx/e23AkSVqeZjrBPYknuEuLwCmhJUkasMknuDe9GLt63BgwBnDmmWcyNjbWvyC1qIZtwIJexTPsn1ETY0mSBsgT3KXhMadxjCVJUu90cYI7eIK7tGhsMZY0b0N2pE9aiiZOcL8pyfq27E00J7RfkOQE4GvASwcUn7SsmBhLkjQgnuAuDRe7UkgjJMleSa5IsiHJLUlObst3TbI2yW3t9S6DjlWSpGFjYiyNlonJAp4KHAy8Ksm+NJMDXF5V+wCXt8uSJKmDibE0QpwsQJKk+TMxlkbUTJMFAFNOFpBkLMm6JOuGbQxNSZL6zZPvpBE038kCHBNVkrSc2WIsjZiZJgto7592sgBJkpYzE2NphDhZgCRJ82dXCmm0OFmAJEnzZGIsjRAnC5Akaf5MjCWpS70eqGNsrLfbkyQtjH2MJUmSJEyMJUmSJMDEWJIkSQJMjCVJkiTAxFiSJEkCTIwlSZIkwMRYkiRJAkyMJUmSJKCLxDjJ2Um2JLm5o+zUJN9Isr69HNXfMCVJkqT+6qbF+BzgyCnKT6+q1e3lE70NS5IkSVpcsybGVXUVcNcixCJJkiQNzEL6GJ+U5Ma2q8UuPYtIkiRJGoD5JsZnAE8GVgObgXdPt2KSsSTrkqwbHx+f59NJkjR6PI9HGi7bzudBVXXnxO0k7wc+NsO648BERlzzeT5JkkbUOcDfAB+cVH56Vb1r8cORlrd5tRgnWdGx+GLg5unWlSRJU/M8Hmm4dDNc27nA54CnJNmY5ATgL5PclORG4DnAn/Q5TkmSlpOuzuOxu6LUW7N2paiq46Yo/kAfYpEkSc15PG+j6X74NprzeF451Yp2V5R6y5nvJEkaIlV1Z1U9XFWPAO8HDhp0TNJyYWIsjRjPcpeWNs/jkQZnXqNSSBpq5+BZ7tKS0J7HcyjwhCQbgTcDhyZZTdM14g7gxIEFKC0zJsbSiKmqq5KsGnQckmbneTzScLErhbR8OFulJEkzMDGWloeuZqt06CdJ0nJmVwppGeh2tkqHfpIkLWe2GEvLgGe5S5I0O1uMpRHjWe6SJM2PibE0YjzLXZKk+bErhSRJkoSJsSRJkgSYGEuSJEmAibEkSZIEmBhLkiRJgImxJEmSBJgYS5IkSYCJsSRJkgSYGEuSJEmAibEkSZIEOCW0ZrBp03hPt7dy5VhPtydJktRLthhLkiRJmBhLkiRJQBeJcZKzk2xJcnNH2a5J1ia5rb3epb9hSpIkSf3VTYvxOcCRk8pOAS6vqn2Ay9tlSZIkacmaNTGuqquAuyYVHw2saW+vAY7pcVySJI08j8pKw2W+fYx3r6rNAO31btOtmGQsybok68bHezvKgSRJS9w5eFRWGhp9H66tqsaBiYy4+v18kiQtFVV1VZJVk4qPBg5tb68BrgTesGhBScvYfFuM70yyAqC93tK7kCRJWta6Piorqbfm22J8KXA8cFp7fUnPIpK0IEnOBl4IbKmqp7VluwLnA6uAO4CXVdXdg4pRUm8kGQPGAM4880zGxpxIScOtV91q+/VZ72a4tnOBzwFPSbIxyQk0CfERSW4DjmiXJQ2Hc7DPorSUdX1UtqrGq+rAqjrQpFhauFlbjKvquGnuOrzHsUjqAfssSkueR2WlAXHmO2l5sM+iNIQ8KisNl76PSjFomzY5RJzULfsrSovLo7LScBn5xFgS0PZZrKrNM/VZdHhFSdJyZlcKaXmY6LMI9lmUJGlKJsbSiLHPoiRJ82NXCmnE2GdRkqT5scVYkiRJwhZjLaJejxCycqUjJkjLVY8mz/ohB2CRBLYYS5IkSYAtxpIkSYz36DCE478vbbYYS5IkSZgYS5IkSYCJsSRJkgSYGEuSJEmAibEkSZIEOCqFJElawno1moQEthhLkiRJgImxJEmSBJgYS5IkSYCJsSRJkgSYGEuSJEmAo1JIkiT1jKNkLG0LSoyT3AHcBzwMPFRVB/YiKEmSJGmx9aLF+DlV9a0ebEeSJEkaGLtSSJI0hDwqKy2+hSbGBVyWpIAzq8qONZIk9Y5HZaVFtNBRKQ6pqgOA5wOvSvLsySskGUuyLsk6O6RLg5XkjiQ3JVmfZN2g45EkaZgsKDGuqk3t9RbgYuCgKdYZr6oDq+rAsbGxhTydpN54TlWt9rCsNPQmjspem2TKH1Abn6TemndXiiQ7Ao+qqvva288D3tqzyCRJWt4OqapNSXYD1ib5YlVd1blC24VxIiOuRY9QGjELaTHeHbg6yQ3A54GPV9UnexOWpD6ZsQXK1idpeHRzVFZSb827xbiqbgf262EskvpvxhYoW5+k4eBRWWkwnBJaWkZsgZKWDI/KSgPgOMbSMmELlLR0eFRWGgwTY2n52B24OAk0df8fbYGSJOlHTIylZcIWKEmSZmYfY0mSJAkTY0mSJAkwMZYkSZIAE2NJkiQJMDGWJEmSABNjSZIkCTAxliRJkgATY0mSJAkwMZYkSZIAE2NJkiQJGMIpoTdtGh90CJIkSVqGbDGWJEmSMDGWJEmSABNjSZIkCTAxliRJkgATY0mSJAkYwlEppEHp9YgoK1eO9XR7kiSpv0yMJUlaJsbHF94AMDbWmz/9vYhF6jW7UkiSJEksMDFOcmSSLyX5SpJTehWUpP6wzkpLh/VVWnzzToyTbAP8LfB8YF/guCT79iowSb1lnZWWDuurNBgLaTE+CPhKVd1eVQ8C5wFH9yYsSX1gnZWWDuurNAALSYz3AL7esbyxLZM0nKyz0tJhfZUGYCGjUmSKsvqxlZIxYOIU1luA78+y3ScA31pAXP1gTN1Z5JhO7HbFAb1WM8Y3EdMnq+rIxYln9jo7j/o6aMNYD7p24uwf4SW9f10Ymv3r4r2AIauv0Lc6O+P7cmKXL1aPDM1nBGOZzkBimeZzODmWOdfZhSTGG4G9Opb3BDZNXqmqxoGux2RJsq6qDlxAXD1nTN0ZxphgOOMaUEyz1tm51tdBG8b3tpfcv2WtL7+x3Rim98VYpmYsU+tFLAvpSvEFYJ8keyfZHjgWuHQhwUjqK+ustHRYX6UBmHeLcVU9lOQk4FPANsDZVXVLzyKT1FPWWWnpsL5Kg7Ggme+q6hPAJ3oUy4RhPIxrTN0ZxphgOOMaSEx9qrODNIzvbS+5f8vYAOvrML0vxjI1Y5nagmNJ1Y/15ZckSZKWHaeEliRJkhiixHiYpr5MckeSm5KsT7KuLds1ydokt7XXu/Q5hrOTbElyc0fZlDGk8dfta3djkgMWMaZTk3yjfa3WJzmq4743tjF9Kcmv9SmmvZJckWRDkluSnNyWD+y1miGmgb5WS0WvPvtJjm/Xvy3J8YPYl8l6+Xkd0v3bIcnnk9zQ7t9b2vK9k1zTxnp+mpPJSPLodvkr7f2rOrZlneixzPI7m+Snk1zeftauTLJnx30Pd3x3LfgkwAXG8t+SXNbWo1s7PzeLGUuS53S8JuuTfD/JMYOIpb3vL9t6t6H93phqyL/FiuUdSW5uL7+xkDja7f3Y78Kk+3v3XVlVA7/QnFjwVeBJwPbADcC+A4znDuAJk8r+EjilvX0K8I4+x/Bs4ADg5tliAI4C/oVm3MuDgWsWMaZTgddPse6+7fv4aGDv9v3dpg8xrQAOaG8/Dvhy+9wDe61miGmgr9VSufTisw/sCtzeXu/S3t5lCPatJ5/XId6/ADu1t7cDrmnjvgA4ti1/H/CH7e0/At7X3j4WOL+9bZ3o/Xsz6+8s8E/A8e3tw4B/6Ljv/iGK5UrgiPb2TsBjBxVLxzq7AncNKhbgl4F/bbexDfA54NABxfICYC3NeWw7AuuAxy/wM/NjvwuT7u/Zd+WwtBgvhakvjwbWtLfXAAv6VzibqrqKppJ1E8PRwAer8X+BnZOsWKSYpnM0cF5VPVBV/w58heZ97nVMm6vquvb2fcAGmtmhBvZazRDTdBbltVoqevTZ/zVgbVXdVVV303xJL9bEDNPq4ed1WPevqur+dnG79lI0P5oXtuWT929ivy8EDm9buawTvdfN7+y+wOXt7SumuH/gsSTZF9i2qtYCVNX9VfXdQcQyyUuAfxlgLAXsQJPEPpqm7t05oFj2BT5TVQ9V1X/RJNUL+n7qIv/o2XflsCTGwzb1ZQGXJbk2zaxCALtX1WZoftyA3QYQ13QxDPr1O6k9dHF2ftTFZNFjag+n7U/TSjUUr9WkmGBIXqslaK7v59C/pgv8vA7t/iXZJsl6/l979x5jR1mHcfz70EIrF2tpiWBAKigI1LqF0hBuLdUWiwqsFNvFIK3EhMTESJR4IUECXlC5aPGCgoAQAlXaKhBuQqkCpRqg27sghUa5SA0KgiG2hZ9/vO/QabvbPbvn7M45y/NJNmdm3pnZ38yZ98x73ved88IG0k1oHfByRGzOq5Rjfes4cvorwCia+PhaWC3ndDlwWp5uB/aQNCrPD5f0qKSl9XYXqDOWg4CXJS2QtEzSDyQNqSiWslnAzXXEUVcsEfEIqXD6Qv67JyLWVhFLXj5d0q6SRgMnsPVgNf2hYZ+VzVIwrmnoywF0TEQcDkwHviDp+ApjqUWV5+9nwIFAGykzXlZFTJJ2B+YDX4qI/+xo1S6W9UtcXcTUFOdqkOnu3DX1OW3A9dq0xxcRb0REG2mktonAIV2tll9b7vhaWC3n9CvAJEnLgEnAc0Dxhea9kUYUOwP4oaQDK4plKHBcTj+S1NQ/u6JY0g5SzeSHSL85XY8+xyLp/aS8ti+p4DelzrJLn2OJiHtJPzO4hPRl4RFK56ufNOyzpFkKxjUNfTlQIuL5/LoBWEj6cH+xaHLPrxsqCK27GCo7fxHxYr4RvglczZbmzgGLSdLOpELGTRGxIC+u9Fx1FVMznKsW1tv3s2nPaYOu16Y9vkJEvEzqC3oUqVmz+N38cqxvHUdOH0FqLm3642tBtQwJ/3xEfCoixgPn52WvFGn59WnS+zq+olieBZblJv7NwG9JfU+riKXwaWBhRGyqI456Y2kHluauJa+R+tseVVEsRMS3I6ItIqaSCqd/rSOWeuLt9WdJsxSMm2boS0m7SdqjmAamAatyPMXTjGcBv6sgvO5iuA34bH4q8yjglaJZtr9t0z+3nXSuiphmKT11/j7gA8Cf++H/C/glsDYiLi8lVXauuoup6nPV4nr7ft4DTJM0MndZmUb9tTl1a+D12qzHt5ekd+XpdwAfJfWjfoDUBxO2P77iuGcAiyIicJ7oDz3eZyWNllSUC74OXJuXj5Q0rFgHOAZYU0UseduRkvbK81MqjKXQQf3dKOqN5W+k2tuh+cv3JFLeG/BYcneqUXl6HDAOuLeOWGrRuM/KaNBTpvX+kZ4ofJLUH+38CuM4gNQ/ZjmwuoiF1O/tftK3nvuBPfs5jptJze2bSN94zu4uBtK3sZ/kc7cSmDCAMd2Y/+eKfGHuU1r//BzTE8D0forpWFKzyAqgM/+dVOW52kFMlZ6rVvlr1LUPfI700NZTwJyqj6vR12uTHt84YFk+vlXABXn5AaSC7VOkJ9mH5eXD8/xTOf2A0r6cJxr//mx3nwUuAk7O0zPyNfgkcE3pfTo6X3/L8+vZVcWS06bma2wlcD2wS4WxjCF1Idip4vdoCPBzUmF4DXB5hbEMzzGsAZYCbQ2Ipav7wjnAOTm9YZ+VHvnOzMzMzIzm6UphZmZmZlYpF4zNzMzMzHDB2MzMzMwMcMHYzMzMzAxwwdjMzMzMDHDBuOVI2lvSLZLWSVoj6U5JB0kKSReX1hstaZOkH+f5gyUtltQpaa2kX1R3FGZvXzmv3liaHyrpn5LukDQn59FOSRslrczTl0iandfrlLRa0q2Sds37uFDSc6VtL6nuCM2ak6T2nP8+2Mft3yPp1jw9WdIdPaw/u7gHd5G2JL+OkbQqT0+QNLe0/6P7EqfVxwXjFpIHB1gILI6IAyPiUOAbwLuBp4FPlFY/nfQ7zIW5wBWRRqI5BLhygMI2s639FxibB8CA9JuszwFExHU5j7aRRmc6Ic9/La87L88fBmwEZpb2W+Tv8vpmtkUH8BBpsIpeizTS24ye16xpX9sVeiPi0Yj4Yp6dTPr9aBtgLhi3lhOATRFxVbEgIjqBvwOvA2slTchJM4Ffl7bdh/Sj2MV2K2H7b7S51mpynn5N0vckPSbpPkkTc63z05JO7qdjNHs7uAv4eJ7u9ahZSsMn7wb8u8FxmQ1KknYnjdh3NrlgLGmepJNK61wv6bRci/ugpMfz39E5/a3a3W32PVHSEknL8uvBpeT9JN0t6QlJ3yxt81oX+5mc78FjSINXnJtbgI6T9Ewe0Q5J75S0vpi3xnLBuLWMBR7bQfotpGFU9wXeYOvxwK8AFkm6S9K5ysO29mA3Uu30EcCrwLdItVvtpNFvzKxvirw6nDRa3J9q3G6mpE5SDfOewO2ltOIm2inpxMaGa9byTgXujogngX9JOpyUD2cC5GGPPwLcCWwApkbE4Tl9bg/7/gtwfESMBy4AvlNKmwh8BmgDTi9VXnUrItYDV7GlFehBYDFbvkzPAuZHxKae9mW954Lx4HI3qeDaAcwrJ0TEdcAhpOFXJwNLJQ3rYX8b8z4hDbH4h5wRV5KGwTSzPoiIFaQ81EG6EddqXu5msTcpH55XSit3pbingoFjCgAAAlhJREFUYcGaDQ4dpIIw+bWD1HIzJd8LpwN/jIjXgZ2BqyWtJN0zD+1h3yOA3+Ta5CuAw0ppv4+Il/J+F5CGhe+La4A5eXoOcF0f92M9cMG4tawGjuguMSI2kmqUvwzM7yL9+Yi4NiJOATaTaqA3s/V1MLw0vSm2jBn+JvC/vJ83gaF1HIeZwW3ApfSyGwVAzpe3A8c3OiizwUbSKGAKcI2k9aQvlDNJ97TFwIl5vig4nwu8CHwYmADs0sO/uBh4ICLGAp9k6/tobLPutvM1iYiHgTGSJgFDImK7Lh3WGC4Yt5ZFwDBJny8WSDoS2L+0zmXAVyPipfKGkj5W6p+0NzCK1By7HmiTtJOk/UjNPmbW/64FLir6+/fBscC6BsZjNljNAG6IiP0jYkxE7Ac8Q8pDt5BqYI8DipaWEcALuRLoTGBID/sfQX6AFpi9TdpUSXvmh21PBR6uMeZXgT22WXYD6Yu0a4v7kQvGLSTXErWTMto6SauBCyn1JY6I1RHxqy42nwaskrSclPnPi4h/kDLpM6Rm2UuBx/v3KMwMICKejYgf9XKzmbkP8QpgPKmmysx2rIP0i05l84EzgHtJLS/35VZXgJ8CZ0laChxE+iWZHfk+8F1JD7N9Ifoh4Eagk9Qv+NEaY74daC8evsvLbgJG0odWJqudtrSUm5mZmVkzkjQDOCUizqw6lsHM/UTNzMzMmpikK0kPCJ7U07pWH9cYm5mZmZnhPsZmZmZmZoALxmZmZmZmgAvGZmZmZmaAC8ZmZmZmZoALxmZmZmZmgAvGZmZmZmYA/B/cMErFXvL3+wAAAABJRU5ErkJggg==\n",
          "text/plain": "<Figure size 864x504 with 6 Axes>"
         },
         "metadata": {
          "needs_background": "light"
         },
         "output_type": "display_data"
        }
       ]
      }
     },
     "09c8d7612c23464eaee7dc9a6498ab1a": {
      "model_module": "@jupyter-widgets/base",
      "model_module_version": "1.2.0",
      "model_name": "LayoutModel",
      "state": {}
     },
     "09ea0a9f0fce4bfd83581b55da236fcf": {
      "model_module": "@jupyter-widgets/controls",
      "model_module_version": "1.5.0",
      "model_name": "DescriptionStyleModel",
      "state": {
       "description_width": "150px"
      }
     },
     "0a9955943344442f84a2e95134a60b80": {
      "model_module": "@jupyter-widgets/controls",
      "model_module_version": "1.5.0",
      "model_name": "DescriptionStyleModel",
      "state": {
       "description_width": "150px"
      }
     },
     "0aa27706fdd740a291dfe13bb5db26e1": {
      "model_module": "@jupyter-widgets/controls",
      "model_module_version": "1.5.0",
      "model_name": "ButtonStyleModel",
      "state": {}
     },
     "0af237662b1442f58cc4f8304633d88b": {
      "model_module": "@jupyter-widgets/controls",
      "model_module_version": "1.5.0",
      "model_name": "DescriptionStyleModel",
      "state": {
       "description_width": "initial"
      }
     },
     "0b03eefe077444ada2237c1507dd4a53": {
      "model_module": "@jupyter-widgets/controls",
      "model_module_version": "1.5.0",
      "model_name": "DescriptionStyleModel",
      "state": {
       "description_width": "150px"
      }
     },
     "0b682a9596d54811bf6a1c35a5da23fa": {
      "model_module": "@jupyter-widgets/controls",
      "model_module_version": "1.5.0",
      "model_name": "DescriptionStyleModel",
      "state": {
       "description_width": "150px"
      }
     },
     "0b7e3e3d6a1641aca907cb2b2fcf04d4": {
      "model_module": "@jupyter-widgets/controls",
      "model_module_version": "1.5.0",
      "model_name": "BoundedFloatTextModel",
      "state": {
       "description": "CM right time (hrs):",
       "layout": "IPY_MODEL_e639c511023b4e25b2052c1f8537e509",
       "max": 26280,
       "min": 3,
       "step": 24,
       "style": "IPY_MODEL_aa6a9b0b6ea34637b5d874820f8b36ce",
       "value": 920
      }
     },
     "0bca3a4869044734a870831340aef40b": {
      "model_module": "@jupyter-widgets/controls",
      "model_module_version": "1.5.0",
      "model_name": "BoundedFloatTextModel",
      "state": {
       "description": "PM mode time (hrs):",
       "layout": "IPY_MODEL_1fb0f0e045084dcd83ea1c92d31d8f96",
       "max": 26280,
       "min": 2,
       "step": 1,
       "style": "IPY_MODEL_1f93ca6e65164fd280c5d58b5eae0248",
       "value": 120
      }
     },
     "0bd1b5db55c845fb8bf405497a13a183": {
      "model_module": "@jupyter-widgets/controls",
      "model_module_version": "1.5.0",
      "model_name": "HBoxModel",
      "state": {
       "children": [
        "IPY_MODEL_481a8b213f50480c87b06753fd5c01cd",
        "IPY_MODEL_256c15d50428407694b144c796cd9325",
        "IPY_MODEL_3c5344cdb56849f39b9d54f7bdbfd15e"
       ],
       "layout": "IPY_MODEL_646e456bb215417d8fb902506e9f2fd1"
      }
     },
     "0c19fac1f9644090a81388b815c41e43": {
      "model_module": "@jupyter-widgets/base",
      "model_module_version": "1.2.0",
      "model_name": "LayoutModel",
      "state": {}
     },
     "0c70f8cc5cef49488bfede98337908ed": {
      "model_module": "@jupyter-widgets/base",
      "model_module_version": "1.2.0",
      "model_name": "LayoutModel",
      "state": {}
     },
     "0c7509f04b05476a8ef3d2993a7f7f70": {
      "model_module": "@jupyter-widgets/controls",
      "model_module_version": "1.5.0",
      "model_name": "BoundedFloatTextModel",
      "state": {
       "description": "PM right time (hrs):",
       "layout": "IPY_MODEL_dfa7592d08004439964893fe0772c4af",
       "max": 26280,
       "min": 3,
       "step": 1,
       "style": "IPY_MODEL_b3b9518481064072b1879386b7d1ebb0",
       "value": 168
      }
     },
     "0ce28028d19448c8a59b9c100ca76c49": {
      "model_module": "@jupyter-widgets/controls",
      "model_module_version": "1.5.0",
      "model_name": "DescriptionStyleModel",
      "state": {
       "description_width": "initial"
      }
     },
     "0d18b4369e7f40588019c0284bc0c5c1": {
      "model_module": "@jupyter-widgets/base",
      "model_module_version": "1.2.0",
      "model_name": "LayoutModel",
      "state": {}
     },
     "0d24f81faa434d5f981a042a7a3a705f": {
      "model_module": "@jupyter-widgets/controls",
      "model_module_version": "1.5.0",
      "model_name": "VBoxModel",
      "state": {
       "children": [
        "IPY_MODEL_7b295fa1730c40408bf9bd44037be3a9",
        "IPY_MODEL_3e037f9978ca4544a6815381c7f4b3e8",
        "IPY_MODEL_bcba1310b3aa43dcbab10ceb998b133d",
        "IPY_MODEL_5a4c38bead8548ec95bb196282a2dd00",
        "IPY_MODEL_5b19afc304c443ec95cfb3e675f92feb"
       ],
       "layout": "IPY_MODEL_83918d84d8ae4ebaa23d4036877f0a32"
      }
     },
     "0d2d1ebacc1447c5a9bebb588a62d0e5": {
      "model_module": "@jupyter-widgets/controls",
      "model_module_version": "1.5.0",
      "model_name": "HBoxModel",
      "state": {
       "children": [
        "IPY_MODEL_d3ae75a82c4f43b2a0551b4b7938f3b8",
        "IPY_MODEL_307c1c5e9d514596a9cfa5eca969ceba",
        "IPY_MODEL_752d8be26b1e4c4eb94d9b071aab2774"
       ],
       "layout": "IPY_MODEL_198b01e8e4df403798f48c788ae4c0a2"
      }
     },
     "0d44640d7c894717808f21428aaf42ca": {
      "model_module": "@jupyter-widgets/controls",
      "model_module_version": "1.5.0",
      "model_name": "BoundedIntTextModel",
      "state": {
       "description": "No of Simulation:",
       "layout": "IPY_MODEL_d134fc8459924afe9a7eca9f18e5bd13",
       "max": 1000,
       "min": 100,
       "step": 50,
       "style": "IPY_MODEL_14a537041f464ce4aa0e4110826ff304",
       "value": 100
      }
     },
     "0d56f5c8f76645e7a695bd65c8138032": {
      "model_module": "@jupyter-widgets/base",
      "model_module_version": "1.2.0",
      "model_name": "LayoutModel",
      "state": {}
     },
     "0d70ef8671a241d29b9875390cf02d9c": {
      "model_module": "@jupyter-widgets/controls",
      "model_module_version": "1.5.0",
      "model_name": "DescriptionStyleModel",
      "state": {
       "description_width": "initial"
      }
     },
     "0d7448b9fd254e7cad79efb6fff001b7": {
      "model_module": "@jupyter-widgets/controls",
      "model_module_version": "1.5.0",
      "model_name": "DescriptionStyleModel",
      "state": {
       "description_width": "initial"
      }
     },
     "0d76e61523554a69b60aa635bb95840b": {
      "model_module": "@jupyter-widgets/controls",
      "model_module_version": "1.5.0",
      "model_name": "DescriptionStyleModel",
      "state": {
       "description_width": ""
      }
     },
     "0dbfbd5981a34fccbd47d23e1c6e3ab1": {
      "model_module": "@jupyter-widgets/controls",
      "model_module_version": "1.5.0",
      "model_name": "BoundedFloatTextModel",
      "state": {
       "description": "PM left time (hrs):",
       "layout": "IPY_MODEL_6ab73647cfcf48eba1a4c800d0e6ef3e",
       "max": 26280,
       "min": 1,
       "step": 1,
       "style": "IPY_MODEL_62927caac1914e2bb99411ab0a6547d9",
       "value": 96
      }
     },
     "0e0b1580140a48a38a0c900db590710c": {
      "model_module": "@jupyter-widgets/controls",
      "model_module_version": "1.5.0",
      "model_name": "BoundedFloatTextModel",
      "state": {
       "description": "PM left time (hrs):",
       "layout": "IPY_MODEL_06eac5f8d657414d8c055fc9e40999d4",
       "max": 26280,
       "min": 1,
       "step": 1,
       "style": "IPY_MODEL_e27b9732763c4bd995f20be50eabbd28",
       "value": 96
      }
     },
     "0e0e82d5a5cf41998e71283f276e2b3f": {
      "model_module": "@jupyter-widgets/controls",
      "model_module_version": "1.5.0",
      "model_name": "BoundedFloatTextModel",
      "state": {
       "description": "PM right time (hrs):",
       "layout": "IPY_MODEL_d0d4b2930e0a4d959474c53a6de01556",
       "max": 26280,
       "min": 3,
       "step": 24,
       "style": "IPY_MODEL_7c49d142882948d5afda207974f7a3e7",
       "value": 168
      }
     },
     "0e2bc15fe2724f498fd318d8929449c8": {
      "model_module": "@jupyter-widgets/controls",
      "model_module_version": "1.5.0",
      "model_name": "BoundedFloatTextModel",
      "state": {
       "description": "PM toler  (hrs):",
       "layout": "IPY_MODEL_08aa3314fcaf47758adde43a9d32966f",
       "max": 17520,
       "min": 1,
       "step": 24,
       "style": "IPY_MODEL_baee3d467cd24184ba21449ddee1f300",
       "value": 720
      }
     },
     "0e5fc6078fea4b3da581bdcf11761a78": {
      "model_module": "@jupyter-widgets/controls",
      "model_module_version": "1.5.0",
      "model_name": "ButtonModel",
      "state": {
       "button_style": "success",
       "description": "Run Simulation",
       "layout": "IPY_MODEL_d21a6f65a67f401faa7fa640f2a29be7",
       "style": "IPY_MODEL_d9335201e96a4ffeb3281d88628e0106",
       "tooltip": "Click me"
      }
     },
     "0e63ca5866c8453c99eb6aec3fa0161b": {
      "model_module": "@jupyter-widgets/base",
      "model_module_version": "1.2.0",
      "model_name": "LayoutModel",
      "state": {}
     },
     "0e8c7860577a4aa9992a30b95cb5f1d6": {
      "model_module": "@jupyter-widgets/base",
      "model_module_version": "1.2.0",
      "model_name": "LayoutModel",
      "state": {}
     },
     "0ec64ad976ca480e9bdad6ac716860b5": {
      "model_module": "@jupyter-widgets/base",
      "model_module_version": "1.2.0",
      "model_name": "LayoutModel",
      "state": {}
     },
     "0eeb81fc3c2346dabd551e9fd401ea12": {
      "model_module": "@jupyter-widgets/controls",
      "model_module_version": "1.5.0",
      "model_name": "BoundedFloatTextModel",
      "state": {
       "description": "Scale parameter  (hrs):",
       "layout": "IPY_MODEL_fc246bad88ad4173b7d64cf53b242116",
       "max": 876000,
       "min": 8760,
       "step": 1,
       "style": "IPY_MODEL_93b085f61ef24f96b1a33a1232790628",
       "value": 13140
      }
     },
     "0eef87bb3419487bb6e8965b3368079d": {
      "model_module": "@jupyter-widgets/controls",
      "model_module_version": "1.5.0",
      "model_name": "VBoxModel",
      "state": {
       "children": [
        "IPY_MODEL_020343f8441143f79deb3528c6ceb128",
        "IPY_MODEL_04f5de4cc6c4488188aa82b923afd4cc",
        "IPY_MODEL_089799af6db74b67bb541f4738297c77",
        "IPY_MODEL_869c3aad65f64016a9fe408e3b541466",
        "IPY_MODEL_05b881dd36a34a00b317e353c9840a15"
       ],
       "layout": "IPY_MODEL_a136aa38598440ecbc3fc21366946500"
      }
     },
     "0f0dc51eb9bd4c6883d0d6bcf8f8a93f": {
      "model_module": "@jupyter-widgets/controls",
      "model_module_version": "1.5.0",
      "model_name": "HBoxModel",
      "state": {
       "children": [
        "IPY_MODEL_23914f3c45634bb085a9c7861460d4ab",
        "IPY_MODEL_4989645726b04ca79927b047131b46dd",
        "IPY_MODEL_835cad21cbe144e1af4c51f095d8eb99"
       ],
       "layout": "IPY_MODEL_616755a35e054e14807075df9ac05c7d"
      }
     },
     "0f41ec39971c4a2bb323b402dd695d30": {
      "model_module": "@jupyter-widgets/base",
      "model_module_version": "1.2.0",
      "model_name": "LayoutModel",
      "state": {
       "border": "solid 2px green",
       "display": "flex",
       "flex_flow": "row",
       "justify_content": "center",
       "width": "100%"
      }
     },
     "0f5b2ed536924735a84161515d896b98": {
      "model_module": "@jupyter-widgets/controls",
      "model_module_version": "1.5.0",
      "model_name": "DescriptionStyleModel",
      "state": {
       "description_width": "initial"
      }
     },
     "0f78e6ec734a4c7590dc2c9dde2c8aab": {
      "model_module": "@jupyter-widgets/controls",
      "model_module_version": "1.5.0",
      "model_name": "BoundedFloatTextModel",
      "state": {
       "description": "PM mode time (hrs):",
       "layout": "IPY_MODEL_ed759c970cfc4b57b48087029d2d0353",
       "max": 26280,
       "min": 2,
       "step": 1,
       "style": "IPY_MODEL_844667e040fe4dd5baa4d3ef7ca17137",
       "value": 120
      }
     },
     "0f85d5b4c0c94d90ac46f6c231206461": {
      "model_module": "@jupyter-widgets/base",
      "model_module_version": "1.2.0",
      "model_name": "LayoutModel",
      "state": {}
     },
     "0fb567bbc23c44b2b6041ad0cc223329": {
      "model_module": "@jupyter-widgets/base",
      "model_module_version": "1.2.0",
      "model_name": "LayoutModel",
      "state": {}
     },
     "0fde8dc0d0dc4774a5b584b14962016a": {
      "model_module": "@jupyter-widgets/controls",
      "model_module_version": "1.5.0",
      "model_name": "DescriptionStyleModel",
      "state": {
       "description_width": "initial"
      }
     },
     "0ff078def93141e9b3f7b26d29bfc92b": {
      "model_module": "@jupyter-widgets/controls",
      "model_module_version": "1.5.0",
      "model_name": "BoundedFloatTextModel",
      "state": {
       "description": "PM freq  (hrs):",
       "layout": "IPY_MODEL_5bd89305be224958bca7a49cce230d6b",
       "max": 876000,
       "min": 2920,
       "step": 4380,
       "style": "IPY_MODEL_efde6b9a412f4c9aa5773d02e7358e99",
       "value": 17520
      }
     },
     "104bc0d48c0649989a5097246d188900": {
      "model_module": "@jupyter-widgets/base",
      "model_module_version": "1.2.0",
      "model_name": "LayoutModel",
      "state": {}
     },
     "105a3c86a17a4edbb0b77032e4ce9664": {
      "model_module": "@jupyter-widgets/base",
      "model_module_version": "1.2.0",
      "model_name": "LayoutModel",
      "state": {}
     },
     "105ac47f141b49bf88c08237c1e70b3f": {
      "model_module": "@jupyter-widgets/controls",
      "model_module_version": "1.5.0",
      "model_name": "DescriptionStyleModel",
      "state": {
       "description_width": "initial"
      }
     },
     "106d7cd7e5d24047a92ab85e63794a1a": {
      "model_module": "@jupyter-widgets/controls",
      "model_module_version": "1.5.0",
      "model_name": "DescriptionStyleModel",
      "state": {
       "description_width": "initial"
      }
     },
     "10a0e9ed762c4c39aeb78e348bdb1ba9": {
      "model_module": "@jupyter-widgets/output",
      "model_module_version": "1.0.0",
      "model_name": "OutputModel",
      "state": {
       "layout": "IPY_MODEL_d39965f32dfd4815bb515f5ebd09ed6e",
       "outputs": [
        {
         "data": {
          "image/png": "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\n",
          "text/plain": "<Figure size 432x288 with 1 Axes>"
         },
         "metadata": {
          "needs_background": "light"
         },
         "output_type": "display_data"
        }
       ]
      }
     },
     "10b08a7345ac479f8bf425023c84c69d": {
      "model_module": "@jupyter-widgets/controls",
      "model_module_version": "1.5.0",
      "model_name": "ButtonStyleModel",
      "state": {}
     },
     "10e5463e0e404438828d090b3cb58be6": {
      "model_module": "@jupyter-widgets/base",
      "model_module_version": "1.2.0",
      "model_name": "LayoutModel",
      "state": {}
     },
     "10ee9e8d9bb040c7893118b4782e6222": {
      "model_module": "@jupyter-widgets/controls",
      "model_module_version": "1.5.0",
      "model_name": "DescriptionStyleModel",
      "state": {
       "description_width": ""
      }
     },
     "1145b06f1ac648e98eb8bc51813af219": {
      "model_module": "@jupyter-widgets/base",
      "model_module_version": "1.2.0",
      "model_name": "LayoutModel",
      "state": {}
     },
     "1156b488f667474eaf21f72017b527f6": {
      "model_module": "@jupyter-widgets/base",
      "model_module_version": "1.2.0",
      "model_name": "LayoutModel",
      "state": {}
     },
     "11b1728777074bd086d325e099784e9a": {
      "model_module": "@jupyter-widgets/controls",
      "model_module_version": "1.5.0",
      "model_name": "DescriptionStyleModel",
      "state": {
       "description_width": "150px"
      }
     },
     "11c224cca0f94a59ab7dbcc99463254a": {
      "model_module": "@jupyter-widgets/controls",
      "model_module_version": "1.5.0",
      "model_name": "BoundedFloatTextModel",
      "state": {
       "description": "PM left time (hrs):",
       "layout": "IPY_MODEL_1b729fdb19754f01b46394aa1944c3eb",
       "max": 26280,
       "min": 1,
       "step": 1,
       "style": "IPY_MODEL_8e47390217684878972f0d23bc69c6ec",
       "value": 96
      }
     },
     "11c346e983f34578a36aa9e018de943b": {
      "model_module": "@jupyter-widgets/base",
      "model_module_version": "1.2.0",
      "model_name": "LayoutModel",
      "state": {}
     },
     "11c86d093679400e806d673c873047dc": {
      "model_module": "@jupyter-widgets/controls",
      "model_module_version": "1.5.0",
      "model_name": "BoundedFloatTextModel",
      "state": {
       "description": "PM toler  (hrs):",
       "layout": "IPY_MODEL_bd3651ff23c54a238eb2331a56792532",
       "max": 8760,
       "min": 1,
       "step": 1,
       "style": "IPY_MODEL_3ceba62db2754597aa11fd65452c923b",
       "value": 720
      }
     },
     "11d652d6379140cf803544e6643632aa": {
      "model_module": "@jupyter-widgets/controls",
      "model_module_version": "1.5.0",
      "model_name": "BoundedFloatTextModel",
      "state": {
       "description": "Scale parameter  (hrs):",
       "layout": "IPY_MODEL_e106e7d6781d4fa4b0a1fa617b47edea",
       "max": 876000,
       "min": 8760,
       "step": 1,
       "style": "IPY_MODEL_c70ab5ff25d347e3b351fe92e2d7dbf5",
       "value": 13140
      }
     },
     "121ff9490b3f402ea2326d97d87587e7": {
      "model_module": "@jupyter-widgets/controls",
      "model_module_version": "1.5.0",
      "model_name": "BoundedFloatTextModel",
      "state": {
       "description": "PM mode time (hrs):",
       "layout": "IPY_MODEL_d8eeae73fdf7433a906d927d6a8e950a",
       "max": 26280,
       "min": 2,
       "step": 1,
       "style": "IPY_MODEL_238ed55cc88640468dab58eeb4bd5869",
       "value": 120
      }
     },
     "1220f44c7b2646778ccccb5658041e7e": {
      "model_module": "@jupyter-widgets/base",
      "model_module_version": "1.2.0",
      "model_name": "LayoutModel",
      "state": {}
     },
     "12be0abf732e4297a6f7e54c26d7fadd": {
      "model_module": "@jupyter-widgets/base",
      "model_module_version": "1.2.0",
      "model_name": "LayoutModel",
      "state": {}
     },
     "131e4347abd84b9aa5121d4d15246ff9": {
      "model_module": "@jupyter-widgets/base",
      "model_module_version": "1.2.0",
      "model_name": "LayoutModel",
      "state": {}
     },
     "132fc4f505e342cabc89a457321cde58": {
      "model_module": "@jupyter-widgets/controls",
      "model_module_version": "1.5.0",
      "model_name": "SliderStyleModel",
      "state": {
       "description_width": ""
      }
     },
     "138305d6476a4acebc277fe1882c2761": {
      "model_module": "@jupyter-widgets/base",
      "model_module_version": "1.2.0",
      "model_name": "LayoutModel",
      "state": {}
     },
     "138e520c52bf4c39bdf6de415b0861bf": {
      "model_module": "@jupyter-widgets/controls",
      "model_module_version": "1.5.0",
      "model_name": "ButtonModel",
      "state": {
       "button_style": "success",
       "description": "Run Simulation",
       "layout": "IPY_MODEL_27de9c8cd5404141a0472df9461d2593",
       "style": "IPY_MODEL_d6a7684b33f24c8baf8c89e2dee21bb5",
       "tooltip": "Click me"
      }
     },
     "13c09e1aa8ed4ae8898bd156d5fe3525": {
      "model_module": "@jupyter-widgets/base",
      "model_module_version": "1.2.0",
      "model_name": "LayoutModel",
      "state": {}
     },
     "13cc2c2a1c954f11b9a6030c40e139a2": {
      "model_module": "@jupyter-widgets/controls",
      "model_module_version": "1.5.0",
      "model_name": "DescriptionStyleModel",
      "state": {
       "description_width": "initial"
      }
     },
     "14297ae64ba3429c87126eafe73b4da3": {
      "model_module": "@jupyter-widgets/base",
      "model_module_version": "1.2.0",
      "model_name": "LayoutModel",
      "state": {}
     },
     "143f0edf714f400b96e8f4956f11d620": {
      "model_module": "@jupyter-widgets/controls",
      "model_module_version": "1.5.0",
      "model_name": "BoundedFloatTextModel",
      "state": {
       "description": "CM right time (hrs):",
       "layout": "IPY_MODEL_fc7dd8a23e6f4fb79248e9ca73493d2a",
       "max": 26280,
       "min": 3,
       "step": 1,
       "style": "IPY_MODEL_0af237662b1442f58cc4f8304633d88b",
       "value": 920
      }
     },
     "1491554b001e41d5beb3167b5c18ae39": {
      "model_module": "@jupyter-widgets/controls",
      "model_module_version": "1.5.0",
      "model_name": "DescriptionStyleModel",
      "state": {
       "description_width": "initial"
      }
     },
     "14a537041f464ce4aa0e4110826ff304": {
      "model_module": "@jupyter-widgets/controls",
      "model_module_version": "1.5.0",
      "model_name": "DescriptionStyleModel",
      "state": {
       "description_width": "150px"
      }
     },
     "14a5bc9d59784c00a16a27c785e9228a": {
      "model_module": "@jupyter-widgets/base",
      "model_module_version": "1.2.0",
      "model_name": "LayoutModel",
      "state": {}
     },
     "14ba140da6f24d12b7bbd69ad900056b": {
      "model_module": "@jupyter-widgets/controls",
      "model_module_version": "1.5.0",
      "model_name": "DescriptionStyleModel",
      "state": {
       "description_width": "initial"
      }
     },
     "14bcf3e1f4a34b67b6186c7f8ed8e0d2": {
      "model_module": "@jupyter-widgets/base",
      "model_module_version": "1.2.0",
      "model_name": "LayoutModel",
      "state": {}
     },
     "1521ff5c150f42b1a34878c27fcedf2a": {
      "model_module": "@jupyter-widgets/base",
      "model_module_version": "1.2.0",
      "model_name": "LayoutModel",
      "state": {}
     },
     "15286626d697495abbd71a70f3fcf3f1": {
      "model_module": "@jupyter-widgets/base",
      "model_module_version": "1.2.0",
      "model_name": "LayoutModel",
      "state": {}
     },
     "1536a21e431e44fd83ebaae9b0fcbd1f": {
      "model_module": "@jupyter-widgets/output",
      "model_module_version": "1.0.0",
      "model_name": "OutputModel",
      "state": {
       "layout": "IPY_MODEL_733dd57f661843b1980896cee12ab1f2"
      }
     },
     "159a1234b0844dd597738ca56d1b9953": {
      "model_module": "@jupyter-widgets/controls",
      "model_module_version": "1.5.0",
      "model_name": "DescriptionStyleModel",
      "state": {
       "description_width": "initial"
      }
     },
     "16324523984444689fe1c58f0170159b": {
      "model_module": "@jupyter-widgets/controls",
      "model_module_version": "1.5.0",
      "model_name": "DescriptionStyleModel",
      "state": {
       "description_width": "initial"
      }
     },
     "1643274b5df5425db61331e9dca52276": {
      "model_module": "@jupyter-widgets/base",
      "model_module_version": "1.2.0",
      "model_name": "LayoutModel",
      "state": {}
     },
     "16ff0fa47a784af380e9c46f47006cf1": {
      "model_module": "@jupyter-widgets/base",
      "model_module_version": "1.2.0",
      "model_name": "LayoutModel",
      "state": {}
     },
     "170ffa15b1864d87af423c5200d7154c": {
      "model_module": "@jupyter-widgets/controls",
      "model_module_version": "1.5.0",
      "model_name": "BoundedIntTextModel",
      "state": {
       "description": "Sim. Period (hrs):",
       "layout": "IPY_MODEL_14297ae64ba3429c87126eafe73b4da3",
       "max": 876000,
       "min": 8760,
       "step": 8760,
       "style": "IPY_MODEL_c5ea3cc17bfb478b928aa228f88d5a71",
       "value": 87600
      }
     },
     "17580326ad294ed7ab09680d92f30db1": {
      "model_module": "@jupyter-widgets/controls",
      "model_module_version": "1.5.0",
      "model_name": "DescriptionStyleModel",
      "state": {
       "description_width": "initial"
      }
     },
     "175a68dc90c845d0b7b5637e4b971d4a": {
      "model_module": "@jupyter-widgets/controls",
      "model_module_version": "1.5.0",
      "model_name": "DescriptionStyleModel",
      "state": {
       "description_width": "initial"
      }
     },
     "17932765f19c4b59b6118d903cc8adcb": {
      "model_module": "@jupyter-widgets/controls",
      "model_module_version": "1.5.0",
      "model_name": "BoundedFloatTextModel",
      "state": {
       "description": "Scale parameter  (hrs):",
       "layout": "IPY_MODEL_6baec0bcc13f44bda9078dd926aa93f5",
       "max": 876000,
       "min": 4380,
       "step": 1,
       "style": "IPY_MODEL_8df435ca3a53480b97628018e4269031",
       "value": 13140
      }
     },
     "17b73876e3e849e092e2db989a5a1f5c": {
      "model_module": "@jupyter-widgets/base",
      "model_module_version": "1.2.0",
      "model_name": "LayoutModel",
      "state": {}
     },
     "17cbea32a61b4b5a8b79f03c1cc81e01": {
      "model_module": "@jupyter-widgets/controls",
      "model_module_version": "1.5.0",
      "model_name": "IntSliderModel",
      "state": {
       "description": "c",
       "layout": "IPY_MODEL_cf0e1d42bc424c61a8dac03d20fca4fb",
       "max": 4500,
       "min": -1500,
       "style": "IPY_MODEL_fc262fc91a4b43688af8c568babe2e39",
       "value": 1500
      }
     },
     "17d29c5184cd440c8b3cc855d2a883f7": {
      "model_module": "@jupyter-widgets/base",
      "model_module_version": "1.2.0",
      "model_name": "LayoutModel",
      "state": {}
     },
     "1868865b920b406b9988da398a9d0c39": {
      "model_module": "@jupyter-widgets/controls",
      "model_module_version": "1.5.0",
      "model_name": "VBoxModel",
      "state": {
       "children": [
        "IPY_MODEL_b165b1dc3c2f4c2c8e91397a0862cfbe",
        "IPY_MODEL_70ff6d9b9a9c4736b5c642cb4c76d2e7",
        "IPY_MODEL_7885ba7260754a139c056330f821a41a",
        "IPY_MODEL_4b9cf2fd86084df2a1e53fd25d8188af"
       ],
       "layout": "IPY_MODEL_f250e8e616f74f49bfafbf307e27da28"
      }
     },
     "186a1ac202d74cff855f8294e8c313a3": {
      "model_module": "@jupyter-widgets/base",
      "model_module_version": "1.2.0",
      "model_name": "LayoutModel",
      "state": {}
     },
     "189ce586ecf54a2faf40cbc45a95d7d6": {
      "model_module": "@jupyter-widgets/controls",
      "model_module_version": "1.5.0",
      "model_name": "DescriptionStyleModel",
      "state": {
       "description_width": "150px"
      }
     },
     "18a3984086ff441695e947c7a9c65428": {
      "model_module": "@jupyter-widgets/base",
      "model_module_version": "1.2.0",
      "model_name": "LayoutModel",
      "state": {}
     },
     "18da9df5a78a4dbcb1258a67dc4852cd": {
      "model_module": "@jupyter-widgets/base",
      "model_module_version": "1.2.0",
      "model_name": "LayoutModel",
      "state": {}
     },
     "18f27903dea54c7f8fcd9f59bc14ec8d": {
      "model_module": "@jupyter-widgets/base",
      "model_module_version": "1.2.0",
      "model_name": "LayoutModel",
      "state": {}
     },
     "1909a077f28149dc8ba45650679da63a": {
      "model_module": "@jupyter-widgets/controls",
      "model_module_version": "1.5.0",
      "model_name": "DescriptionStyleModel",
      "state": {
       "description_width": "initial"
      }
     },
     "196861d3e99047e0a49091ab695af743": {
      "model_module": "@jupyter-widgets/controls",
      "model_module_version": "1.5.0",
      "model_name": "VBoxModel",
      "state": {
       "children": [
        "IPY_MODEL_3d1c3868a26a4eaab4342a9301bdb233",
        "IPY_MODEL_fb9586a847a345eda8804b84821993a0",
        "IPY_MODEL_4232f13913684ba28d8c2dfd9deca55e",
        "IPY_MODEL_8ccb80a9610b4bb5b0916051997dddb0"
       ],
       "layout": "IPY_MODEL_0ec64ad976ca480e9bdad6ac716860b5"
      }
     },
     "196d724bc7844421a5b17244d02d17d8": {
      "model_module": "@jupyter-widgets/controls",
      "model_module_version": "1.5.0",
      "model_name": "DescriptionStyleModel",
      "state": {
       "description_width": "initial"
      }
     },
     "198b01e8e4df403798f48c788ae4c0a2": {
      "model_module": "@jupyter-widgets/base",
      "model_module_version": "1.2.0",
      "model_name": "LayoutModel",
      "state": {
       "border": "solid 2px green",
       "display": "flex",
       "flex_flow": "row",
       "justify_content": "center",
       "width": "100%"
      }
     },
     "19c2c34e16a1477a91a05dea431acf07": {
      "model_module": "@jupyter-widgets/controls",
      "model_module_version": "1.5.0",
      "model_name": "BoundedFloatTextModel",
      "state": {
       "description": "PM freq  (hrs):",
       "layout": "IPY_MODEL_b53d48f3f82146029aaf3ae831727402",
       "max": 876000,
       "min": 8760,
       "step": 1,
       "style": "IPY_MODEL_a4f2cb6d5b654d828cfcffda8cde85b7",
       "value": 17520
      }
     },
     "19c5f5b5fade47bab01e9f5f1b127199": {
      "model_module": "@jupyter-widgets/base",
      "model_module_version": "1.2.0",
      "model_name": "LayoutModel",
      "state": {}
     },
     "1a229cf7dadd4a84aa6e3f9a76bc496a": {
      "model_module": "@jupyter-widgets/controls",
      "model_module_version": "1.5.0",
      "model_name": "BoundedIntTextModel",
      "state": {
       "description": "Sim. Period (hrs):",
       "layout": "IPY_MODEL_0f85d5b4c0c94d90ac46f6c231206461",
       "max": 876000,
       "min": 8760,
       "style": "IPY_MODEL_a7930dcea27241ceb4ceab54e31f9a1a",
       "value": 87600
      }
     },
     "1a3ab6a7304947f892da60dfd2d123b6": {
      "model_module": "@jupyter-widgets/output",
      "model_module_version": "1.0.0",
      "model_name": "OutputModel",
      "state": {
       "layout": "IPY_MODEL_7e3a34d9fda247bca225f3d0675dc7a3",
       "outputs": [
        {
         "name": "stdout",
         "output_type": "stream",
         "text": "       TotalPMcount  TotalCMcount  DowntimeCount  DowntimeCount_CMonly  \\\ncount    100.000000    100.000000     100.000000            100.000000   \nmean       7.060000     12.840000       3.700000              0.620000   \nstd        0.993108      3.365661       1.029857              0.749141   \nmin        3.000000      4.000000       1.000000              0.000000   \n25%        7.000000     10.750000       3.000000              0.000000   \n50%        7.000000     13.000000       4.000000              0.000000   \n75%        8.000000     15.000000       4.000000              1.000000   \nmax        8.000000     21.000000       7.000000              3.000000   \n\n       Replacements       Uptime    Downtime         MTBF        MTTR  \\\ncount    100.000000   100.000000  100.000000   100.000000  100.000000   \nmean      19.460000  3623.407500   24.571250  3395.074306    6.544174   \nstd        2.955632    12.273074   12.193335   633.138470    2.571275   \nmin       12.000000  3588.708333    4.791667  1202.805556    3.927083   \n25%       17.000000  3612.750000   15.468750  3611.604167    4.833333   \n50%       19.000000  3628.916667   19.916667  3628.916667    5.171875   \n75%       21.000000  3630.770833   34.541667  3630.770833    7.795833   \nmax       26.000000  3645.208333   61.291667  3645.208333   13.861111   \n\n       Availability  \ncount    100.000000  \nmean       0.997838  \nstd        0.001577  \nmin        0.988607  \n25%        0.997406  \n50%        0.998578  \n75%        0.998671  \nmax        0.998921  \n"
        },
        {
         "data": {
          "image/png": "iVBORw0KGgoAAAANSUhEUgAAAr8AAAHcCAYAAADfkcKHAAAABHNCSVQICAgIfAhkiAAAAAlwSFlzAAALEgAACxIB0t1+/AAAADh0RVh0U29mdHdhcmUAbWF0cGxvdGxpYiB2ZXJzaW9uMy4xLjMsIGh0dHA6Ly9tYXRwbG90bGliLm9yZy+AADFEAAAgAElEQVR4nOzde5hsVX3n//cnXII3AqiQwyVz0BDFOOEySDAkBkEcREfIRByMwWOCaTPjBUadgE4ScTQzOEm8zCQxtEA4KEEY0ECIUfkhBE0c5HCRS44GQwgeOXJUIOCoIPD9/bFXa9H2OX051V3dtd+v5+mnaq9au/Z3V9Xu+tbaa6+VqkKSJEnqgx8ZdQCSJEnSUjH5lSRJUm+Y/EqSJKk3TH4lSZLUGya/kiRJ6g2TX0mSJPWGya/UE0mOTXJ1kk1JvpPkn5P8RZKjBuq8OkklWT2C+CrJaQtY79VJfn0z5Uu+L0nOadud+vt6e90HX+fV7bFXL+D5T0ty+JBj/uUkdyd5/EDZgt6PeW53ZJ+3tv0Dknw7yU+MYvuSRsPkV+qBJG8EPgbcBpwIvBh4V3t4MJH6K+C5wMYlDXDrvBr4oeSX0e7L19u2nwv8BhDg40mOGMJzv53HvmdbJcm2wH8Hfr+qvj3w0HOBM4e1neWoqm4ALgfeOepYJC2dbUcdgKQl8RbgL6rqxIGyTwMfTPL9H8FV9XW6xG3FG/G+PFRV/3dqIcmngTuBk4ArRhTT5hwDrAbOHiwcjH/MnQFckuStVXXXqIORtPhs+ZX6YRfgazM9UFWPTt2f6TR0kjuSfDjJCUm+1LpMfCbJPkmekOSMJN9sp83/sLUkbvb5WvlpSbY4vWSSn0zyoST/1LZ5e5IPJNl5oM5VwC8Chw50M7hqC/uyXZJ3tX16qN2+K8l2A3WmuiS8Nsl/S7IxyX1J/jLJnluKeXOq6n7gH4CfnGWffzXJF5J8N8k32v6vGnh86jX7rwP7e1p77DlJLm/vxbfb6/UncwjvNcAnquqeabE8ptvD1HvW3ve/SvKt1nXmdwd/QG1h357W1vt26wryfuBHZ6h3fJJPtzrfSnJDkjXT6tyc5GMzrHtYi/HftuWfSvKxdF19vpvkziT/Z/AzCnwKuJ/uDIKkHrDlV+qHzwNrktwOXFJV/zDP9Z8HPB04BdgeeB9wMXA78GXg+Fbnt4F/BOaSdM1md2ADcDJwL/A04G3Ax+lOyQP8J+DDwDbAa1vZ/Vt4zrXAy+lO83+2Pc9vt+f+lWl13wr8HV2Xil2BPwTOo0u256UlW3sB/7SFOhN0rZAXtG3v3uL82SQHVtW3WryfA85pdQE2JHki8Em69/nVwAN0rbk/N0tcPwocBvzOPHbnY8CfAe8F/h3wDuArrWxz29mernvB44DXAZvo3q9/P0P1pwEXAacDj9J9rs5M8riq+tNW5wPA+5PsPq219rV0r/Gn2vJlwH3AfwS+AewBHM1Aw09VPZzkc8BRdK+3pHFXVf7559+Y/wE/BdwEVPv7BnA+8MJp9V7dHl89UHYHcA/wYwNlb2z1zpy2/vXAlVt6vlZ+Wvfv5zFlBZy2hX3YFvj5Vu+AgfKrgM/OUP8x2waePdM26JLfAn6mLa9uy38zrd5bWvnus7zW59Al7du2vz3pEtUCTp62jVe35W2Auwdfu1Y+tb9vnPY6vWtavYMG92Een4ufbesdOcNjj3mtpt4z4Nem1bsZ+NQs2/mNtu4hA2U/Atw60+djWp1tgQ8CXxgofxLdj5zfGSh7CvAgcOrAcgEvncPr8E7gu8CPLOZx6J9//i2PP7s9SD1QXUvvAXStlr8H3Aj8EvDJJL89h6f4XFX9y8DyF9vtJ6fV+yJdC+dWS7J9krcl+WKS7wDfAz7THn7GAp7yee32w9PKp5ant+j+1bTlm9vtXEYG2IMu3u/RtYr+CvC7wP/aTP1n0LUunzdYWFWfBf55htimu42uhfOM1nViru/B7u12Pn2jp78utzD7a/Jc4Cs10I+4uu42F06v2LpVnJ/kq/zgNXwNA+95VT1A9769ZqDLxa/RXVg41QL9TbozE6cn+Y0k+2whvq/TdcHYZZb9kDQGTH6lnqiqR6rq6qr67ap6Ad3p5ZuBtw/2o92Me6ctP7SF8h22PloA/gdda+OH6UanOJgfnCZfyDamEpvpoz98bdrjU+6ZtvzgPLa9CXgOXYvs3sBOVfXOGuhfPcfYpuLbYlLWfpg8H7iLrsvJnUluSfLLs8Q5tS8PbrHWY830usz2mqyia9me7jFlrfvG5cB+wKnAL9C9jmfzw/2D/4Qu6T46SYAJ4GNVdTe00wpwJLCO7rP0D60f9H+cIY7vtNvHzbIfksaAfX6lnqqqu5KcCbwf2Ieuv+iwfbfdbj+t/MlzWPd44NyqmhqSbSo5WqippO3H6folM7AMXUvhsHyvqtbNo/5gbNP9OF0Ct0VVdSPwy61/8UF0/YYvTLJfVd2ymdWm9nm2Hz9bayPw0zOU7zZt+bnAvwJ+obV6A9/vM/0YVXVLks/Q9fP9Lt3FhK+dVud24FUtOd4PeD3wJ0nuqKq/Hqg69ePiG/PaK0krki2/Ug9s4TT4M9vtjCNBDME/t9tnD8SyLfDCOaz7eLpT3oN+bYZ6DzK3Fru/abfHTyt/Zbu9eg7PsVi+RNcK+pjYkvwcXTL4NwPFD7GF/a2qh1v3gt+h+x+/7xa2O9V95WkLiHk+PgfsleSQqYLWXeHl0+pNTbLxvYF6O9MNxzaTPwFeRHeG4B+q6tMzVarOjcCbWtGzp1XZm65bxneQNPZs+ZX64ZYkV9Jdqf9PwI50V73/JnBhVd25SNu9lq6V9fdbsvMg3QgNPzTE1Qw+QTdCxc10I0r8e2YeveDvgf+U5D+0bT1QVV+aXqmqbk1yPnBaS8D/jq6l8XeA86vqpnnv3ZBU1SNJfpeuz+6H6bp67EHXP/s2HjuSwt8DL07yCbpuJ3cBB9Kd9v8Luvf3CXQXJT5Al3hubrt3Jvlnui4l0/tCD9Naum4MH03yNrpuIb9J9zkc9Hd0F7L9cZK30+3Hb9O1yP7YDM97Md3II4cCbx58IMnP0J3VuIDu87MN3UWQD9ONcT3oZxntjx9JS8iWX6kfTqE73v8b3TBQF9AlfqcCJyzWRqvqYbpWu6/QjYLwx3R9Os+Zw+pvAC6lSwAvoLvC/xUz1Hs33cQRZ9Il22fMUGfKmlb/1+mGTDuxLa/ZwjpLoqom6d6Lfw1cAvxPutfqF6sb5mzK64H/B/wl3f5O0CXI36FL5P+aLll+mG4Uhw2zbPoC4CXD25MfVlUP0fW/vZGutXYtXZL+rmn1vk53IeY2dMOd/Q+693XGxLyqvkf3Wj3YnnPQ1+gmFnkT3efofLoL/F5SVddNVWpnRfYDPrI1+yhp5Uh3TYAkqY+SPJ2u28Vhg/1sV4LWgv9l4DNVtaAfcUlOoRsH+OlV9cgw45O0PJn8SlLPJfkgsKqqFrUFeFiS7EjXb/dX6BLXf9P69M73eXagGw7t1Ko6d7hRSlqu7PYgSfod4Nokj5+15vJwIPC3wHHASQtJfJvVdP2CPzSkuCStALb8SpIkqTds+ZUkSVJvmPxKkiSpN0x+JUmS1Bsmv5IkSeoNk19JkiT1hsmvJEmSesPkV5IkSb1h8itJkqTeMPmVJElSb5j8SpIkqTdMfiVJktQbJr+SJEnqDZNfSZIk9YbJryRJknrD5FeSJEm9YfIrSZKk3jD5lSRJUm+Y/EqSJKk3TH4lSZLUGya/kiRJ6g2TX0mSJPWGya8kSZJ6w+RXkiRJvWHyK0mSpN4w+ZUkSVJvmPxKkiSpN0x+JUmS1Bsmv5IkSeoNk19JkiT1hsmvJEmSesPkV5IkSb1h8itJkqTeMPmVJElSb5j8SpIkqTe2XeLt1RJvT1ruMuoAtsDjVXqs5Xy8gsesNN2Mx6wtv5IkSeoNk19JkiT1hsmvJEmSesPkV5IkSb1h8itJkqTeMPmVJElSb5j8SpIkqTdMfiVJktQbSz3JhZaBuybvGsrz7D6x+1CeR9KW3X/upfNeZ8dXvXQRIpE0NJOTw32+iYnhPt8Ys+VXkiRJvWHyK0mSpN4w+ZUkSVJvmPxKkiSpN0x+JUmS1BuzJr9Jdkjy+SRfSHJrkne08r2TXJPktiQXJNl+8cOVJEmSFm4uLb8PAodX1X7A/sBRSQ4B3g28t6r2Ae4FTly8MCXNR5JtktyQ5LK27I9VSZKYQ/JbnW+1xe3aXwGHAxe18rXAsYsSoaSFOAlYP7Dsj1VJkphjn9/WinQjsAm4HPhH4L6qerhV2QDssTghSpqPJHsCLwbObMvBH6uSJAFzTH6r6pGq2h/YEzgY2HemajOtm2Qiybok6yaHPZuJpJm8D/gt4NG2/GT8sSpJEjDP0R6q6j7gKuAQYKckU9Mj7wnMOGduVU1W1UFVddCEU+9JiyrJS4BNVXXdYPEMVf2xKknqpW1nq5DkqcD3quq+JI8DXkDXf/BK4GXAR4A1wCWLGaikOTkUeGmSo4EdgB3pWoJ3SrJta/3d4o9VYCrrnTFBliRpJZtLy+8q4MokNwHXApdX1WXAKcCbknyZ7rTqWYsXpqS5qKq3VtWeVbUaOB74dFW9kh/8WAV/rEqSemzWlt+qugk4YIby2+n6/0pa/k4BPpLkXcAN+GNVkubHrmBjY9bkV9LKVFVX0fXR98eqJEmN0xtLkiSpN0x+JUkakSR7JbkyyfoktyY5qZXvkuTyNivj5Ul2HnWs0rgw+ZUkaXQeBt5cVfvSDSP6uiTPAk4FrmizMl7RliUNgcmvJEkjUlUbq+r6dv8BumnJ9wCOoZuNEZyVURoqk19JkpaBJKvpRle6BtitqjZClyADu44uMmm8mPxKkjRiSZ4IXAycXFX3z2M9Z2WU5smhziRJGqEk29ElvudV1Udb8d1JVlXVxiSrgE0zreusjNL82fIrSdKIJAndpDPrq+o9Aw9dSjcbIzgrozRUtvxKkjQ6hwInADcnubGVvQ04HbgwyYnAncBxI4pPGjsmv5IkjUhVfRbIZh4+YiljkfrCbg+SJEnqDZNfSZIk9YbJryRJknrD5FeSJEm9YfIrSZKk3jD5lSRJUm/Mmvwm2SvJlUnWJ7k1yUmt/LQkX01yY/s7evHDlSRJkhZuLuP8Pgy8uaquT/Ik4Lokl7fH3ltVf7B44UmSJEnDM2vyW1UbgY3t/gNJ1gN7LHZgkiRJ0rDNq89vktXAAcA1rej1SW5KcnaSnYccmyRJkjRUc05+kzwRuBg4uaruBz4APB3Yn65l+A83s95EknVJ1k1OTg4hZEmSJGlh5tLnlyTb0SW+51XVRwGq6u6Bxz8IXDbTulU1CUxlvbVV0UqSJElbYS6jPQQ4C1hfVe8ZKF81UO2XgFuGH54kSZI0PHNp+T0UOAG4OcmNrextwCuS7E/XmnsH8NpFiVCSJEkakrmM9vBZIDM89PHhhyNJkiQtHmd4kyRJUm/M6YI3SZKkFcURprQZtvxKkiSpN0x+JUmS1Bsmv5IkSeoNk19pzCTZIcnnk3whya1J3tHK905yTZLbklyQZPtRxypJ0lIz+ZXGz4PA4VW1H93040clOQR4N/DeqtoHuBc4cYQxSpI0Eia/0pipzrfa4nbtr4DDgYta+Vrg2BGEJ0nSSJn8SmMoyTZtRsZNwOXAPwL3VdXDrcoGYI8Z1ptIsi7JukmHCZIkjSHH+ZXGUFU9AuyfZCfgY8C+M1WbYb1JYHJzj0uStNLZ8iuNsaq6D7gKOATYKcnUD949gbtGFZckSaNi8iuNmSRPbS2+JHkc8AJgPXAl8LJWbQ1wyWgilCRpdEx+pfGzCrgyyU3AtcDlVXUZcArwpiRfBp4MnDXCGCUBSc5OsinJLQNlpyX5apIb29/Ro4xRGjf2+ZXGTFXdBBwwQ/ntwMFLH5GkLTgH+CPg3Gnl762qP1j6cKTxZ8uvJEkjUlVXA/eMOg6pT0x+JUlafl6f5KbWLWLnUQcjjRO7PUgScP+5l857nR1f9dJFiETiA8A76YYbfCfwh8Cvz1QxyQQwAXDGGWcwMTGxVDFKK9asyW+Svej6Iv048CgwWVXvT7ILcAGwGrgDeHlV3bt4oUqSNP6q6u6p+0k+CFy2hbqOzS3N01y6PTwMvLmq9qUbK/R1SZ4FnApcUVX7AFe0ZUmStBWSrBpY/CXgls3VlTR/s7b8VtVGYGO7/0CS9XTToh4DHNaqraUbSP+URYlSkqQxlOR8uu/SpyTZALwdOCzJ/nQtuXcArx1ZgNIYmlef3ySr6YZQugbYrSXGVNXGJLtuZh37I0mSNIOqesUMxY7BLS2iOSe/SZ4IXAycXFX3J5nTevZHkiRJ0nIxp6HOkmxHl/ieV1UfbcV3T/VLarebFidESZIkaThmTX7TNfGeBayvqvcMPHQpsKbdXwNcMvzwJEmSpOGZS7eHQ4ETgJuT3NjK3gacDlyY5ETgTuC4xQlRkiRJGo65jPbwWWBzHXyPGG44kiRJ0uJxemNJkiT1hsmvJEmSesPkV5IkSb1h8itJkqTeMPmVJElSb5j8SpIkqTdMfiVJktQbJr+SJEnqDZNfSZIk9YbJryRJknpj1umNtbzcNXnXqEOQJElasWz5lSRJUm+Y/EqSJKk3TH4lSZLUGya/kiRJ6g2TX0mSJPXGrMlvkrOTbEpyy0DZaUm+muTG9nf04oYpSZIkbb25tPyeAxw1Q/l7q2r/9vfx4YYlaSGS7JXkyiTrk9ya5KRWvkuSy5Pc1m53HnWskiSNwqzJb1VdDdyzBLFI2noPA2+uqn2BQ4DXJXkWcCpwRVXtA1zRliVJ6p2t6fP7+iQ3tW4RtiJJy0BVbayq69v9B4D1wB7AMcDaVm0tcOxoIpQkabQWOsPbB4B3AtVu/xD49ZkqJpkAJgDOOOMMJiYmFrhJjathzVq3+8TuQ3mecZFkNXAAcA2wW1VthC5BTrLrCEOTJGlkFtTyW1V3V9UjVfUo8EHg4C3Unayqg6rqIBNfaWkkeSJwMXByVd0/j/UmkqxLsm5ycnLxApQkaUQW1PKbZNVUKxLwS8AtW6ovaekk2Y4u8T2vqj7aiu+eOm6TrAI2zbRuVU0CU1lvLX60Ur8lORt4CbCpqp7dynYBLgBWA3cAL6+qe0cVozRu5jLU2fnA54BnJNmQ5ETgfya5OclNwPOB/7zIcUqagyQBzgLWV9V7Bh66FFjT7q8BLlnq2CTN6Bx+eEQlL1CVFtGsLb9V9YoZis9ahFgkbb1DgROAm5Pc2MreBpwOXNh+vN4JHDei+CQNqKqrW//8QccAh7X7a4GrgFOWLChpzC30gjdJy1BVfRbIZh4+YiljkbRgXqAqLSKTX0mSVihHVNL3Dfsi5TH+LJn8SpK0vMzpAlXwIlVpIbZmkgtJkjR8XqAqLSKTX0mSRmQzIyqdDhyZ5DbgyLYsaUjs9iBJ0ohsZkQl8AJVadHY8itJkqTeMPmVJElSb5j8SpIkqTdMfiVJktQbJr+SJEnqDZNfSZIk9YbJryRJknrD5FeSJEm9YfIrSZKk3nCGN0kS95976bzX2fFVL12ESCQtC5OTw32+iYnhPt9WMPmdxV2Tdw3leXaf2H0ozyNJkqSFm7XbQ5Kzk2xKcstA2S5JLk9yW7vdeXHDlCRJkrbeXPr8ngMcNa3sVOCKqtoHuKItS5IkScvarMlvVV0N3DOt+Bhgbbu/Fjh2yHFJkiRJQ7fQ0R52q6qNAO121+GFJEmSJC2ORR/qLMlEknVJ1k0O+8pBSZIkaR4WOtrD3UlWVdXGJKuATZurWFWTwFTWWwvcniRJGmc2kGmJLLTl91JgTbu/BrhkOOFIkiRJi2cuQ52dD3wOeEaSDUlOBE4HjkxyG3BkW5YkSZKWtVm7PVTVKzbz0BFDjkWSJElaVM7wtkSGNVOcJEmSFm7RR3uQJEmSlguTX0mSJPWG3R4kSZK0uIY9lN3ExIJXteVXGjNJzk6yKcktA2W7JLk8yW3tdudRxihJ0qiY/Erj5xzgqGllpwJXVNU+wBVtWZKk3jH5lcZMVV0N3DOt+Bhgbbu/Fjh2SYOSJGmZsM+v1A+7VdVGgDYt+a6jDkjSliW5A3gAeAR4uKoOGm1E0niw5VfS9yWZSLIuybrJYV+cIGkhnl9V+5v4SsNjy6/UD3cnWdVafVcBm2aqVFWTwFTWW0sWnSRJS8TkV+qHS4E1wOnt9pLRhiNpDgr4VJICzmg/Th8jyQQwAXDGGWcwsRXDP82bZ4e0Qpn8SmMmyfnAYcBTkmwA3k6X9F6Y5ETgTuC40UUoaY4Oraq7Wh/9y5N8sV3Q+n2erZHmz+RXGjNV9YrNPHTEkgYyRPefe+m819nxVS9dhEikpVNVd7XbTUk+BhwMXL3ltSTNxgveJElaZpI8IcmTpu4DLwRu2fJakubCll9Jkpaf3YCPJYHuu/rPq+oTow1JGg8mvxobd03eNZTn2X1i96E8jyQtVFXdDuw36jikcWS3B0mSJPXGVrX8OvuMJEmSVpJhdHt4flV9YwjPI0mSJC0quz1IkiSpN7Y2+Z2afea6NsuMJEmStGxtbfJ7aFUdCLwIeF2S502vkGQiybok6yadClGSJEkjtFV9fucy+4xTL0qSJGm5WHDLr7PPSJIkaaXZmpZfZ5+RJEnSirLg5NfZZyRJWmG89kZyqDNJkiT1h8mvJEmSesPkV5IkSb1h8itJkqTeMPmVJElSb2zVJBfL2V2Td406hLHnayxJklYaW34lSZLUGya/kiRJ6g2TX0mSJPWGya8kSZJ6Y9ld8OZFVBq1YX0Gd5/YfSjPI0mShseWX0mSJPWGya8kSZJ6Y9l1e5C0ctx/7qXzXmfHV710ESLRSuFnRtKo2fIrSZKk3jD5lSRJUm/Y7UGSNFbsWiFpS7aq5TfJUUm+lOTLSU4dVlCSFofHrLRyeLxKi2PByW+SbYA/Bl4EPAt4RZJnDSswScPlMSutHB6v0uLZmpbfg4EvV9XtVfUQ8BHgmOGEJWkReMxKK4fHq7RIUlULWzF5GXBUVb2mLZ8A/GxVvX5avQlgoi3uAHx34eE+xlOAbwzpuZYL92n5G/b+fKOqjhri823WXI7ZRTxeh23cPlez6dP+Lud9XVbHaytfKcfsbJbz+74U3P/F2f8Zj9mtueAtM5T9UCZdVZPA5FZsZ+aNJ+uq6qBhP+8ouU/L3wrfn1mP2cU6Xodthb8P89an/e3Tvs5ipN+xS63v77v7v7T7vzXdHjYAew0s7wnctXXhSFpEHrPSyuHxKi2SrUl+rwX2SbJ3ku2B44H5jy8jaal4zEorh8ertEgW3O2hqh5O8nrgk8A2wNlVdevQIpvdij/NMwP3aflbsfuzDI7ZYVqx78MC9Wl/+7SvmzVmx+tc9P19d/+X0IIveJMkSZJWGqc3liRJUm+Y/EqSJKk3VmTym+SOJDcnuTHJulHHsxBJzk6yKcktA2W7JLk8yW3tdudRxjgfm9mf05J8tb1PNyY5epQxzleSvZJcmWR9kluTnNTKV+z7tNJt7j0ZZ0m2SXJDkstGHctiS7JTkouSfLG9x88ddUwavnH8vpirvn+vbGH/l/T9X5F9fpPcARxUVSt2QOgkzwO+BZxbVc9uZf8TuKeqTm/zuO9cVaeMMs652sz+nAZ8q6r+YJSxLVSSVcCqqro+yZOA64BjgVezQt+nlW5z70lV/f2IQ1s0Sd4EHATsWFUvGXU8iynJWuAzVXVmG+Hg8VV136jj0nCN4/fFXPX9e2UL+/9ylvD9X5Etv+Ogqq4G7plWfAywtt1fS/eBWBE2sz8rWlVtrKrr2/0HgPXAHqzg92ml28J7MpaS7Am8GDhz1LEstiQ7As8DzgKoqodMfMfTOH5fzFXfv1eWy//wlZr8FvCpJNe1qR3HxW5VtRG6Dwiw64jjGYbXJ7mpneZasadxkqwGDgCuYTzfpxVn2nsyrt4H/Bbw6KgDWQJPA74O/Fnr5nFmkieMOigtqbH4vpirvn+vzPA/fMne/5Wa/B5aVQcCLwJe106haPn5APB0YH9gI/CHow1nYZI8EbgYOLmq7h91POrHe5LkJcCmqrpu1LEskW2BA4EPVNUBwP8DTh1tSFpCY/F9MVd9+B+2JTPs/5K+/ysy+a2qu9rtJuBjwMGjjWho7m79Yab6xWwacTxbparurqpHqupR4IOswPcpyXZ0B+h5VfXRVjxW79NKs5n3ZBwdCry0XePwEeDwJB8ebUiLagOwoaqmWoEuokuG1QPj8H0xV33/Xplp/5f6/V9xyW+SJ7RO0rRTYi8EbtnyWivGpcCadn8NcMkIY9lqUwdy80ussPcpSej6H66vqvcMPDRW79NKsoX3ZOxU1Vuras+qWk03te2nq+pXRxzWoqmqrwFfSfKMVnQEMLYXMuqxVvr3xVz1/Xtlc/u/1O//ihvtIcnT6Fp7oTtN9udV9XsjDGlBkpwPHAY8BbgbeDvwF8CFwE8AdwLHVdWKuChgM/tzGN0pjALuAF471adpJUjy88BngJv5QZ/Lt9H1T1qR79NKt7n3pKo+PrqoFl+Sw4C39GC0h/3pLu7bHrgd+LWqune0UWnYxvH7Yq76/r2yhf1/BUv4/q+45FeSJElaqBXX7UGSJElaKJNfSZIk9YbJryRJknrD5FeSJEm9YfIrSZKk3jD5XUJJnpzkxvb3tSRfHVjefob6uyT5zTk877ZJ7htYfmaSv05yW5L1ST6SZNckL0hSSdYM1H1OKzt5eHu6xVgPT3LIUmxLmo8kj7Rj8dYkX0jypiSL9j8yyclJHj+w/PEkOw3puQ9OcnWSLyX5Ypsq+PGzrzmvbbw6ye7DfE5pawwcw7ck+cutOZ6SXJXkoGHGtxiS7JTkP406jpXG5HcJVdU3q2r/qtof+FPgvVPLVfXQDKvsAsya/A5K8jjgMuB/V9U+VbUv3WwpT25VbqYbMH/K8cAX5rsvW+FwwORXy9F32rH408CRwNF0448ulpOB7yekVXV0Vd23hfpzkmQ34P8Ap1TVM4B9gU8AT9ra557m1YDJr5aTqWP42cA9wOtGHdAS2Akw+Z0nk99lIslvtV+rtyR5Qys+HXhG+++O4o8AACAASURBVCV7epIdk3w6yfVJbkoy04D3JwBXDw76X1VXVNX6tng7sGOSp7SZVo4EPjkQx0+1bXyhbWd1kh9J8p4W281JXtbqviDJXwys+6dJfrXd35DktCQ3tFh/KsnTgdcA/6Xt088N7xWUhqdNnT4BvD6dHZL8Wfv835Dk+fD91tqfafdvSPK77f47k7wmyWGtBemi1gJ7Xnu+N9IljlcmubKtc0c7LlcPtNbe0tZ5QZK/bWdzDm71n5Dk7CTXtm0f08J/HbC2qj7X9qWq6qKqurudTfqLdkz+34HYT0vylqn9b9td3f7WJ/lgaxH/VJLHtf8BBwHntWP5cYv/rkjz8jlgj6mFJP+lHSs3JXlHK5s61ta28otmOkOS5ANJ1rVj4B0D5c9J8nft+/LzSZ6UZJskvz+wrde2uocl+ZskFyb5h/ad/sq23s3t+5EkT01ycVv/2iSHtvLT2vF+VZLb2/8Q6PKEp7fj8PeTrEp31meqBfwXFu0VXsG2HXUA6k5RAq+km8t6G+DzSf4GOBX4ydZSPDUf9jFV9UCSXYG/pWvlHfRs4LpZNnkx8DJgPd2sMt8beOx84LSq+sskO9D9QDoOeBawH/BU4NokV89h1+6uqgPaQfqmqvrNJGcC36iq981hfWlkqur2dN0edgV+tZX96yTPBD6V5KeAq4FfSHIH8DBwaFv954EPA6uAA4CfBu6iO2YPrar/leRNwPOr6hszbP4n6Y67CeBa4Ffac76UbjakY4H/Sjfl8a+nO737+ST/H93/gLWb2a13ADdU1bFJDgfOpZtVaUv2AV5RVb+R5ELgl6vqw0leTzfr3LpZ1peWVJJt6KbHPqstv5Duc3wwEODSJM+jm0ntGcCJVfW3Sc6ma0X9g2lP+V+r6p72vFe0H41fBC4A/kNVXZtkR+A7wInAv1TVc5L8KPC3ST7Vnmc/ujMx99A1RJ1ZVQcnOQl4A93ZoPfTnRX+bJKfoGuc2ret/0zg+XRncb6U5AN0ecKzB/KENwOfrKrfa/EOtbvTuLDld3n4BeDiqvp2VT1AN83xz89QL8C7k9wEfArYK8lTFrC9C4CX000neP73nzzZGXhKVf0lQFV9t6q+3WL586p6pKq+BnyWrtVnNh9tt9cBqxcQpzRqabc/D3wIoKq+CPwz8FN003Q+rz3+V8ATW8vR6qr6Ulv381W1oaoeBW5kbsfCP1XVzW2dW4ErqpuO8+aB9V8InJrkRuAqYAe6qVG3ZHA/Pg08OcmPzSGWG9t9j2UtZ49rx8M36boNXt7KX9j+bgCup0si92mPfaWq/rbd/zAzf/e+PMn1bf2fpmsMegawsaquBaiq+6vq4badV7U4rqHrcji1rWuramNVPQj8I933ODz2uH4B8Edt/UvpztROdVn6q6p6sP1g3gTsNkOs1wK/luQ04F+3nELT2PK7PGT2KgC8Cvgx4MCqejjJBrovvEG3Aj+7pSepqq8mCfCLdL9yDx98eB7xPcxjf0BNj+XBdvsIfta0wiR5Gt1ndxObPwaupfsheDvdF+1TgN/gsWdfHhy4P9djYXCdRweWHx1YP3StsF8aXDHJrcC/AS6Z4Xln2o9iy8fy9Pjt4qDl6jtVtX/7QXcZXReg/0X3uf8fVXXGYOUkq/nh77yaVmdv4C3Ac6rq3iTn0B0fmWFdWvkbquqTjylMDmNux/WPAM+tqu9MWx/m8L+kqq5urdovBj6U5Per6twZ4uw1W36Xh6uBX2p96Z4IHEPXovQAj71I5ceATS3xPZKB/kwDPgT8YpKjpgqSHJ3kWdPq/Q7dBTGPThVU1b3AN5L8u7beDq0V62rg+NaXaTe6U7vr6Fq/fjrJ9q3V+HBmN32fpGUnyVPpLkr9o9biejVd1yRad4efAL7ULlT9Ct2ZlP9Ld9y+pd3OZmuPhU8Cb2g/ZElyQCv/I2BNku//CE7yq0l+fNp+HEbXBel+4A7gwFZ+ILD3EsQvLYqq+hfgjcBbWnfBTwK/3r5fSbJH6zoI8BNJntvuv4LuzOagHYH/B/xL+/57USv/IrB7kue053xSkm3btv5j2+7UdTRPmEf4nwJeP7WQZLZuSY85DpP8K7o84YN03T4OnMe2e8PWuGWgqj6f5Hy6ViSAD1TVzQDpOtnfTHdK9T3AXyZZR3fq5rYZnuvbLXl9b5L/Tdef90bgJAauzK6q6Qf4lFcCZyT5PeAh4JeBi+hGaPgC3S/dN7ULgkh3wdvNwD+0mGZzCfB/kvx74HVV9XdzWEdaClOnTLejawn9EN0xB/AnwJ+2Y/Fh4NXt1CV0ie4R7dj7DLAnc0t+J4G/TrKxqp6/gHjfCbwPuKklwHcAL2kXth0P/EH7gn+ULun9KHAa8Get69S3galhDy/mB6dqr6U7nmdzDt1r8h1maKmSRqmqbkjyBeD4qvpQkn2Bz7Xfit+i68f/CN21L2uSnEH3nfqBac/zhSQ30J1VvZ2u3z5V9VCS/wD873QXfH6HrsvCmXRdGK5vx+XX6froz9UbgT9ux+i2dMfuZkd9qqpvprsY9hbgr4Fb6C4q/17bz1fNY9u9ka5RQ5IkqT9at4fL2tBo6hG7PUiSJKk3bPmVJElSb9jyK0mSpN4w+ZUkSVJvLPVoD/axkB5rrmM8j4LHq/RYy/l4BY9ZaboZj1lbfiVJktQbJr+SJEnqDZNfSZIk9YbJryRJknrD5FeSJEm9YfIrSZKk3jD5lSRJUm8s9Ti/y8Lk5NJsZ2JiabYjSZq/we8C/19Ly8PkHJO0ia04aG35lSRJUm+Y/EqSNEJJdkpyUZIvJlmf5LlJdklyeZLb2u3Oo45TGhcmv5Ikjdb7gU9U1TOB/YD1wKnAFVW1D3BFW5Y0BCa/kiSNSJIdgecBZwFU1UNVdR9wDLC2VVsLHDuaCKXxY/IrSdLoPA34OvBnSW5IcmaSJwC7VdVGgHa760wrJ5lIsi7JurleKCT1XS9He5AkaZnYFjgQeENVXZPk/cyji0NVTQJTWW8tQnzS2LHlV5Kk0dkAbKiqa9ryRXTJ8N1JVgG0200jik8aOya/kiSNSFV9DfhKkme0oiOAvwcuBda0sjXAJSMITxpLdnuQJGm03gCcl2R74Hbg1+gapy5MciJwJ3DcCOOTxorJryRJI1RVNwIHzfDQEUsdi9QHdnuQxkyS/5zk1iS3JDk/yQ5J9k5yTRsw/4LWwiRJUu+Y/EpjJMkewBuBg6rq2cA2wPHAu4H3tgHz7wVOHF2UkiSNjsmvNH62BR6XZFvg8cBG4HC6q8jBAfMlST1m8iuNkar6KvAHdBfIbAT+BbgOuK+qHm7VNgB7jCZCSZJGy+RXGiNJdqabFnVvYHfgCcCLZqg642D4zhYlSRp3jvYgjZcXAP9UVV8HSPJR4OeAnZJs21p/9wTummllZ4uSJI07W36l8XIncEiSxycJPxgw/0rgZa2OA+ZLknprzslvkm2S3JDksrbs0EnSMtOmSL0IuB64me4YnwROAd6U5MvAk4GzRhakJEkjNJ+W35OA9QPLDp0kLUNV9faqemZVPbuqTqiqB6vq9qo6uKp+sqqOq6oHRx2nJEmjMKfkN8mewIuBM9tycOgkSZIkrTBzbfl9H/BbwKNt+ck4dJIkSZJWmFmT3yQvATZV1XWDxTNUdegkSZIkLWtzGersUOClSY4GdgB2pGsJdugkSZIkrSiztvxW1Vuras+qWg0cD3y6ql6JQydJkiRphdmacX4dOkmSJEkryrxmeKuqq4Cr2v3bgYOHH5IkSZK0OJzhTZIkSb0xr5ZfSZI0XEnuAB4AHgEerqqDkuwCXACsBu4AXl5V944qRmmc2PIrSdLoPb+q9q+qg9ryqcAVbRbVK9qypCEw+ZUkafk5hm72VHAWVWmoTH4lSRqtAj6V5LokE61st6raCNBudx1ZdNKYMfmVJGm0Dq2qA4EXAa9L8ry5rugsqtL8ecGbJEkjVFV3tdtNST5GN4zo3UlWVdXGJKuATZtZ11lUpXmy5VeSpBFJ8oQkT5q6D7wQuAW4lG72VHAWVWmobPmVJGl0dgM+lgS67+Q/r6pPJLkWuDDJicCdwHEjjFEaKya/kiSNSJstdb8Zyr8JHLH0EUnjz24PkiRJ6g2TX0mSJPWGya8kSZJ6w+RXkiRJvWHyK0mSpN4w+ZUkSVJvmPxKkiSpN0x+JUmS1Bsmv5IkSeoNk19JkiT1hsmvJEmSesPkV5IkSb1h8iuNmSQ7JbkoyReTrE/y3CS7JLk8yW3tdudRxylJ0iiY/Erj5/3AJ6rqmcB+wHrgVOCKqtoHuKItS5LUOya/0hhJsiPwPOAsgKp6qKruA44B1rZqa4FjRxOhJEmjZfIrjZenAV8H/izJDUnOTPIEYLeq2gjQbnedaeUkE0nWJVk3OTm5dFFLkrREth11AJKGalvgQOANVXVNkvczjy4OVTUJTGW9tQjxSZI0UrO2/CbZIcnnk3whya1J3tHK905yTbuA5oIk2y9+uJJmsQHYUFXXtOWL6JLhu5OsAmi3m0YUnyRJIzWXbg8PAodX1X7A/sBRSQ4B3g28t11Acy9w4uKFKWkuquprwFeSPKMVHQH8PXApsKaVrQEuGUF4kjYjyTatq9JlbdkGJmmRzJr8VudbbXG79lfA4XStSuAFNNJy8gbgvCQ30f1g/e/A6cCRSW4DjmzLkpaPk+hGZpliA5O0SOZ0wVv7RXoj3anSy4F/BO6rqodblQ3AHptZ1wtopCVUVTdW1UFV9TNVdWxV3VtV36yqI6pqn3Z7z6jjlNRJsifwYuDMthxsYJIWzZwueKuqR4D9k+wEfAzYd6Zqm1nXC2gkSdq89wG/BTypLT+ZOTYwSZq/eQ111sYLvQo4BNgpyVTyvCdw13BDkyRpvCV5CbCpqq4bLJ6h6oyNR55dleZv1pbfJE8FvldV9yV5HPACur5IVwIvAz6CF9BIkrQQhwIvTXI0sAOwI11L8E5Jtm2tv5ttYPLsqjR/c2n5XQVc2S6euRa4vKouA04B3pTky3SnaM5avDAlSRo/VfXWqtqzqlYDxwOfrqpX8oMGJrCBSRqqWVt+q+om4IAZym8HDl6MoCRJ6rlTgI8keRdwAzYwSUPjDG+SJC0DVXUV3XU1NjBJi2heF7xJkiRJK5nJryRJknrD5FeSJEm9YfIrSZKk3jD5lSRJUm+Y/EqSJKk3TH4lSZLUGya/kiRJ6g2TX0mSJPWGya8kSZJ6w+RXkiRJvWHyK0mSpN4w+ZUkSVJvmPxKkiSpN0x+JUmS1Bsmv5IkSeoNk19JkiT1hsmvJEkjkmSHJJ9P8oUktyZ5RyvfO8k1SW5LckGS7UcdqzQuTH4lSRqdB4HDq2o/YH/gqCSHAO8G3ltV+wD3AieOMEZprJj8SpI0ItX5Vlvcrv0VcDhwUStfCxw7gvCksWTyK0nSCCXZJsmNwCbgcuAfgfuq6uFWZQOwx6jik8aNya8kSSNUVY9U1f7AnsDBwL4zVZtp3SQTSdYlWTc5ObmYYUpjY9tRByBp+JJsA6wDvlpVL0myN/ARYBfgeuCEqnpolDFKeqyqui/JVcAhwE5Jtm2tv3sCd21mnUlgKuudMUGW9Fi2/Erj6SRg/cCyF89Iy1CSpybZqd1/HPACumP3SuBlrdoa4JLRRCiNH5Nfacwk2RN4MXBmWw5ePCMtV6uAK5PcBFwLXF5VlwGnAG9K8mXgycBZI4xRGiuzdntIshdwLvDjwKPAZFW9P8kuwAXAauAO4OVVde/ihSppjt4H/BbwpLb8ZLx4RlqWquom4IAZym+n6/8racjm0vL7MPDmqtqXrh/S65I8CzgVuKKdRr2iLUsaoSQvATZV1XWDxTNU9eIZSVIvzdryW1UbgY3t/gNJ1tO1Gh0DHNaqrQWuojtNI2l0DgVemuRoYAdgR7qWYC+ekSSJefb5TbKa7vTMNcBuLTGeSpB3HXZwkuanqt5aVXtW1WrgeODTVfVKvHhGkiRgHslvkicCFwMnV9X981jP06jS6HnxjCRJzHGc3yTb0SW+51XVR1vx3UlWVdXGJKvoZqb5IZ5GlUajqq6i647kxTOSJDWztvy2YZLOAtZX1XsGHrqU7vQpeBpVkiRJK8BcWn4PBU4Abm5zjwO8DTgduDDJicCdwHGLE6IkSZI0HHMZ7eGzzDxUEsARww1HkiRJWjzO8CZJkqTeMPmVJElSb5j8SpIkqTdMfiVJktQbJr+SJEnqDZNfSZIk9YbJryRJknrD5FeSJEm9YfIrSZKk3jD5lSRJUm/MOr2xBDA5uTTbmZhYmu1I0nKQZC/gXODHgUeByap6f5JdgAuA1cAdwMur6t5RxSmNE1t+JUkanYeBN1fVvsAhwOuSPAs4FbiiqvYBrmjLkobA5FeSpBGpqo1VdX27/wCwHtgDOAZY26qtBY4dTYTS+DH5lSRpGUiyGjgAuAbYrao2QpcgA7uOLjJpvJj8SpI0YkmeCFwMnFxV989jvYkk65Ksm1yqizOkFc4L3iRJGqEk29ElvudV1Udb8d1JVlXVxiSrgE0zrVtVk8BU1luLH6208tnyK0nSiCQJcBawvqreM/DQpcCadn8NcMlSxyaNK1t+JUkanUOBE4Cbk9zYyt4GnA5cmORE4E7guBHFJ40dk19Jkkakqj4LZDMPH7GUsUh9YbcHSZIk9YbJryRJknrD5FeSJEm9YfIrSZKk3jD5lSRJUm+Y/EqSJKk3TH4lSZLUGya/0hhJsleSK5OsT3JrkpNa+S5JLk9yW7vdedSxSpI0CrNOcpHkbOAlwKaqenYr2wW4AFgN3AG8vKruXbwwV6bJydnrSEP2MPDmqro+yZOA65JcDrwauKKqTk9yKnAqcMoI45QkaSTm0vJ7DnDUtLJT6b5I9wGuaMuSRqyqNlbV9e3+A8B6YA/gGGBtq7YWOHY0EUqSNFqzJr9VdTVwz7Riv0ilZS7JauAA4Bpgt6raCF2CDOy6mXUmkqxLsm7SUxeSpDE0a7eHzXjMF2mSGb9IJY1GkicCFwMnV9X9Sea0XlVNAlNZby1SeJIkjcxCk985SzIBTACcccYZTExMbLG+jU3S1kmyHV3ie15VfbQV351kVfuxugrYNLoIJUkanYUmv3P+IrUlSVo66Zp4zwLWV9V7Bh66FFgDnN5uLxlBeJIkjdxChzqb+iIFv0il5eRQ4ATg8CQ3tr+j6ZLeI5PcBhzZliVJ6p25DHV2PnAY8JQkG4C3031xXpjkROBO4LjFDFLS3FTVZ4HNdfA9YiljkSRpOZo1+a2qV2zmIb9IJUmStKI4w5skSZJ6w+RXkqQRSXJ2kk1JbhkoczpyaRGZ/EqSNDrn4Cyq0pIy+ZUkaUScRVVaeos+yYUkSZqXOc+iOt+JpKT5mstU9yvtc2fyK0nSCuVEUtL82e1BkqTl5e42eypORy4Nny2/kiQtL05HrrE0ly4US8GWX0mSRqTNovo54BlJNrSZU52OXFpEtvxKkjQizqIqLT1bfiVJktQbJr+SJEnqDbs9SOqF6ddZrLBhKSVJQ2Lyq2VlKS4ENemRJKm/7PYgSZKk3jD5lSRJUm+Y/EqSJKk3TH4lSZLUG17wJkmS1DPDnGp4uUxbPFe2/EqSJKk3TH4lSZLUGya/kiRJ6g2TX0mSJPWGF7xJkiQtorlcEDbh9KNLxpZfSZIk9YYtv5IkSSuErchbz5ZfSZIk9cZWtfwmOQp4P7ANcGZVnT6UqKRFtFRjcS/HH97DPmanv5bLcZ+llcrvWGlxLDj5TbIN8MfAkcAG4Nokl1bV3w8rOEnD4zErrRyLdbx6yrwzrBnJhvlarbRZ0layren2cDDw5aq6vaoeAj4CHDOcsCQtAo9ZaeXweJUWydYkv3sAXxlY3tDKJC1PHrPSyuHxKi2SVNXCVkyOA/5tVb2mLZ8AHFxVb5hWbwKYOi+wA/DdhYe7IjwF+MaogxiRPu87LGz/v1FVRy1GMNPN5ZhdRsfrcvwsLbeYlls8MP4xLavjtZUvl2N2ynL5DCyXOMBYNmcpYpnxmN2aC942AHsNLO8J3DW9UlVNAr3pyJJkXVUdNOo4RqHP+w4rYv9nPWaXy/G6HF/L5RbTcosHjGnIVuR37HJ5vZdLHGAsmzPKWLam28O1wD5J9k6yPXA8cOlwwpK0CDxmpZXD41VaJAtu+a2qh5O8Hvgk3TAsZ1fVrUOLTNJQecxKK4fHq7R4tmqc36r6OPDxIcUyLpbN6acR6PO+wwrY/xV0zC7H13K5xbTc4gFjGqoVdLwOWi6v93KJA4xlc0YWy4IveJMkSZJWGqc3liRJUm+Y/G6FJHsluTLJ+iS3Jjmple/y/7d37sF2TXcc/3ybRBAiD7QMFal6hEaSCdN6JtEUlxGpaJJ2DEE7pRiMKjXjOVqlrWcxpQlRJSR0vImQJt6vvK42iUt0So1Qj6JekV//WL+T7Hvdm7PvyTnZyTm/z8yes/Zae6/9PWvvtdfvrMf5SZou6SX/7F201lohqYukOZLu8f1tJT3t332KL9SoOyT1kjRV0kK//99ppPteCZImSloqqTkTd66k1yXN9a0pk3ampBZJiyTtn4k/wONaJJ2xGno6VX+VuMKvO1/SkExeR/rxL0k6ssp6iiyj9SU9I2meazrP49ut55K6+36Lp/crp7WKmm6QtCRTToM8vqb3rZ4p9xxJ2kbSDC/XmZK2yqT9RlKzb2Mz8RW1ETXScrPn2az0fupWlJZM+pWSPiywTCTpQkmLld5FJxWoZT9JL3h9fkzSdnm05MLMYqtwA7YAhnh4Y2AxMAC4GDjD488AflO01hqWwanAX4B7fP82YJyHrwWOK1pjjb73jcCxHl4P6NVI973CMtsHGAI0Z+LOBU5r59gBwDygO7At8DJp0U8XD/f3cp8HDKhQT6fqL9AE3A8I+DbwtMf3AV7xz94e7l1FPUWWkYCNPNwNeNq/e7v1HDgeuNbD44Apq9JaZU03AGPaOb6m961etzzPEXA7cKSHRwA3efggYDppXVEP4Dmgp6d1uo2ooZYmfy4E3FKkFk8fCtwEfFhgmUwAJgNf8f3NC9SyGNjJw8cDN1Tr+Y6e39XAzN4wsxc8/AHwD5IHnlEk4wj/PLQYhbXFf7kdBFzv+yI91FP9kLr87pJ6kgy5PwGY2Wdm9h4Nct8rxcxmAe/kPHwUcKuZfWpmS4AWkrvXqrl8raD+jgImW+IpoJekLYD9gelm9o6ZvUt6kXfaEcIq9HTEmigjM7NSL1Q334yO63m27KYC+/l7oSOt1dTUETW9b3VMnudoADDDw49m0gcAfzOzZWb2EckYOmA12oiqa4G0oNCfCwOeIf2XciFaJHUBLgFOz6GhZjqA44DzzWw5gJktLVCLAT09vAnt/M91pYTxWyWUhvcGk3ohvmpmb0Bq0IDNi1NWUy4jVdTlvt8XeM/Mlvl+vbrj7A+8BUxSmvJxvaQeNM59rzYn+FDYRK2cKtKRa9eauHzNWX/XmKY2eqDAMlKa2jQXWEoyEF+m43q+4tqe/j7pvVBTTWZWKqcLvZwuldS9raY21w73wasmT/nMAw7z8GhgY0l9Pf5ASRtK2hQYTnLYUWkbUQstK/DpDkcADxSo5QTgrtK7p0Ad3wDGSnpO0v2SvlmglmOB+yS9Rro/F+XQkoswfquApI2AacDJZvbfovWsCSQdDCw1s+ez0e0cWo9/J9KVNHx/jZkNBj4iDY8Hneca0st2EPAG8DuP7+hZqvoz1on6u0Y0taOn0DIysy/MbBCpV2x3YKdV5F+IJkm7AGcCOwK7kaYy/GJNaqpD8pTPacC+kuYA+wKvA8vM7CHSX7Q9QZpO8CSwLGeea0pLlquBWWY2uwgtkrYEDgeuzHH9munwc7oDn1jyvHYdMLFALacATWa2FTAJ+H0OLbkI43c18V+M04CbzewOj37Th9XwzzzDBusaewKHSHqVNMQxgtQT3EtS6f+j23XHWQe8BryW6W2aSjKGG+G+VxUze9MNmeWkF21pKLwj1665XL7mpZP1t+aa2tNTdBmV8Kk9M0nzZjuq5yuu7embkKa61FrTAT5txMzsU1JDWUg51RF53KH/28y+750AZ3nc+/55oZkNMrORJOPoJeBtKmsjaqEFAEnnAJuR1q/koRZaBgPbAS3epm4oqaUAHaV8p3n4TmBgGR010SJpM2DXTDs7Bdgjh5Z82FowsX5d3fwmTQYuaxN/Ca0XzFxctNYal8MwVi54u53WixmOL1pfjb7zbGAHD5/r97yh7nuF5daP1gvetsiETyHNCwXYmdYLpF4hLaro6uFtWbmwYucKtXSq/pLmt2cXTj3j8X2AJaRFU7093KeKeooso82AXh7ewJ/7gzuq58DPaL3g7bZVaa2ypi0y5XgZcNGauG/1uuV5joBNWbkw6kLSXFH8Oezr4YFAM9DV9zvdRtRQy7GkHscNii6XNufnWfBWqzK5CDjaw8OAZ4vQ4tvbwPaedgwwrWrPd9EVbF3egL1IXfvzgbm+NZHmNc0g/ZKaQZ2/UGlt/PYnLRxo8Zdc96L11eg7DyKtSp0P/JXUeDbUfa+gzG4hDdt/TuopOIa0snmBl+NdtDb0ziLNL10EHJiJbyKtAn4ZOGs19HSq/pKMpz/4dRcAQzN5He3PfAswocp6iiyjgcAcv3YzcLbHt1vPgfV9v8XT+5fTWkVNj3g5NQN/ZuU/QtT0vtXz1t5zBJwPHOLhMV5PFpMWPmefg7/79hQwKJNnRW1EjbQs8/xK9e3sorS0yb+s8VvDMukF3Ot15UlS72tRWka7jnmkEZ7+ebTk2cLDWxAEQRAEQdAwxJzfIAiCIAiCoGEI4zcIgiAIgiBoGML4DYIgCIIgCBqGMH6DIAiCIAiChiGM3yAIgiAIgqBhCON3LUTSF5LmSnpR0jxJp0qq2b2SdLKkDTP790nqVavrBUEjI8kk3ZTZ7yrpLUn3mB7TEQAABU5JREFUSJrgdX+upM8kLfDwRZKO8uNK74appXor6VxJr2fOrZob0CCoFySN9vq3Y4XnbylpqoeHSbqnzPFHSbqqg7Qn/LOfpGYPD5V0RSb/6jl1CFoRxu/ayceWvJ3sDIwk/X/eOTW83snACuPXzJoseU4KgqD6fATsImkD3x9JcvWJmU3yuj+I5CFpuO+X3GdPybwbPgPGZvK9tHRu5vggCFYyHniM5ICl01jyUjamGkLM7EuGrZk9Z2Yn+e4wqunRLGhFGL9rOWa2FPgJcIIS60ua5D1CcyQNhxW9tQM9PEfS2R6+QNKx/itypvcWLZR0s+d3ErAl8KikR/2cVyVt6r9IF0q6XlKzn/NdSY9LeknS7n58D0kTJT3r1x5VRFkFwTrE/STPY5Aa5Fs6c7K7h+0BvFtlXUFQl0jaCNiT5FxnnMdNkdSUOeYGSYd52zdb0gu+7eHpK3pp2+S9u6QnvP17QtIOmeStJT0gaZG7Ui6d82E7+QzzEaB+wE+BU3wkZ29JS5TcnyOpp7fT3apRNo1IGL/rAGb2CulebU5yH4qZfYvUaN4oaX1gFrC3pJ4krzV7+ul7kdx/QvIffjIwgORlZ08zu4KVPUzD27n8dsDlJK9KOwI/9DxPA37px5wFPGJmuwHDgUsk9ajOtw+CuuRWYJzX3YHA02WOLzFW0lxST3Ef4O5MWqmhnCtp/+rKDYJ1nkOBB8xsMfCOpCGkejgWQNJ6wH7AfcBSYKSZDfH0K8rkvRDYx8wGA2cDv8qk7Q78iOQV9HBJQ8sJNbNXSa6fS6M5s0kezko/mMeRXP1+Xi6voH3C+F13kH/uRXJ3ipktBP4JbE8ycPfx9HuBjXw+YD8zW+TnPmNmr5nZcpIrx345rrvEzBb4OS8CMyy5BVyQOf97wBneKM8kuSv8euVfNQjqGzObT6o/40mNbV6m+JSIr5Hq4M8zadlpDw9WTWwQ1AfjScYu/jmeNAIzQlJ34EBglpl9DHQDrpO0gOSCeUCZvDcBbvde4UuBnTNp083sP57vHaQ2uhKuByZ4eAIwqcJ8AqBr0QKC8kjqD3xB+jWqDg57FhgKvAJMBzYFfgw8nznm00z4C/Ld/+w5yzP7yzPnCzgsY2QHQVCeu4Dfkub29e3MiWZmku4GTgRicVsQrAJJfYERpLn2BnQBDDid1GGzP6mHtzT96BTgTWBXUifhJ2UucQHwqJmN9ikLMzNp1ubYtvu5MLPHfdrFvkAXM/vS9IsgP9Hzu5YjaTPS8MdV3uM6izSEgqTtST2si8zsM+BfwA+Ap0g9waexcsrDqvgA2Hg1ZD4InChJrmvwauQVBI3CROB8M1tQ4fl7AS9XUU8Q1CtjgMlmto2Z9TOzrYElpDp0K6kndW9SWwapJ/cNH/E8gmQsr4pN8EWrwFFt0kZK6uMLXA8FHs+pub12eTLJQI9e39UkjN+1kw183t6LwMPAQ8B5nnY10MWHY6YAR5lZqTd2NvCmmf3Pw1uRz/j9I3B/acFbBVxAGiaa78M+F1SYTxA0DD4F6fJOnjbW3w3zSXP4o64FQXnGA3e2iZtGWsPyEGnK4MPeiQSpnT1S0lOkaYUflcn/YuDXkh7ny4byY6SpinNJ83Sfy6n5bmB0acGbx90M9KaTC2SDL6PUmRgEQRAEQRCsrUgaA4wysyOK1rKuE3N+gyAIgiAI1mIkXUlalNdU7tigPNHzGwRBEARBEDQMMec3CIIgCIIgaBjC+A2CIAiCIAgahjB+gyAIgiAIgoYhjN8gCIIgCIKgYQjjNwiCIAiCIGgYwvgNgiAIgiAIGob/A5Q5/IV/Gr8bAAAAAElFTkSuQmCC\n",
          "text/plain": "<Figure size 864x504 with 6 Axes>"
         },
         "metadata": {
          "needs_background": "light"
         },
         "output_type": "display_data"
        }
       ]
      }
     },
     "1a921398df504e50b57dd0ab595b13e8": {
      "model_module": "@jupyter-widgets/base",
      "model_module_version": "1.2.0",
      "model_name": "LayoutModel",
      "state": {}
     },
     "1ad64f5cd0104d73a7d7d4cf576fb622": {
      "model_module": "@jupyter-widgets/controls",
      "model_module_version": "1.5.0",
      "model_name": "BoundedFloatTextModel",
      "state": {
       "description": "PM right time (hrs):",
       "layout": "IPY_MODEL_af012b9f7a604f0cb96e6b73322537e5",
       "max": 26280,
       "min": 3,
       "step": 1,
       "style": "IPY_MODEL_0ce28028d19448c8a59b9c100ca76c49",
       "value": 168
      }
     },
     "1b30677aa1634408922a6eb40764912b": {
      "model_module": "@jupyter-widgets/output",
      "model_module_version": "1.0.0",
      "model_name": "OutputModel",
      "state": {
       "layout": "IPY_MODEL_9fb6a9e8992e4e65ab0876f6127f1356",
       "outputs": [
        {
         "data": {
          "image/png": "iVBORw0KGgoAAAANSUhEUgAAAX0AAAD4CAYAAAAAczaOAAAABHNCSVQICAgIfAhkiAAAAAlwSFlzAAALEgAACxIB0t1+/AAAADh0RVh0U29mdHdhcmUAbWF0cGxvdGxpYiB2ZXJzaW9uMy4xLjMsIGh0dHA6Ly9tYXRwbG90bGliLm9yZy+AADFEAAASiklEQVR4nO3df6ye5X3f8fenJpAuyYopB+Ta1o7TeVOdP2rYEXGWacpCy69MdSolklFVvIzJ1QZSslWaTPsH/TEkMrVJhZbSuMOrU6UhNEmHBXTUo0xV/whwaClgHM8nwODEHj4ZCUkXLSr0uz+e67QP5vzy+Wmf6/2SHj33/b2v+7mvi/vwObev536ek6pCktSHH1jrDkiSVo+hL0kdMfQlqSOGviR1xNCXpI5csNYdmMull15ao6Oja90NSTqvPPnkk9+sqpGZtp3ToT86Osr4+Phad0OSzitJ/tds25zekaSOGPqS1BFDX5I6YuhLUkcMfUnqiKEvSR0x9CWpI4a+JHXE0JekjpzTn8g9X43uf3DNjv3inR9as2NLOvd5pS9JHTH0Jakjhr4kdcTQl6SOGPqS1BFDX5I6YuhLUkcMfUnqyLyhn+TtSR5P8hdJjib55VbfluSxJCeSfDHJha1+UVufaNtHh17rtlY/nuTalRqUJGlmC7nS/z7wwar6cWAncF2SXcAngU9X1XbgW8DNrf3NwLeq6u8Dn27tSLID2AO8B7gO+M0kG5ZzMJKkuc0b+jXwl231be1RwAeBL7X6IeDDbXl3W6dtvzpJWv3eqvp+Vb0ATABXLcsoJEkLsqA5/SQbkjwFnAaOAF8Hvl1Vr7cmk8DmtrwZeBmgbX8N+OHh+gz7DB9rX5LxJONTU1NnPyJJ0qwWFPpV9UZV7QS2MLg6/7GZmrXnzLJttvqZxzpQVWNVNTYyMrKQ7kmSFuis7t6pqm8D/wPYBVycZPpbOrcAJ9vyJLAVoG3/IeDV4foM+0iSVsFC7t4ZSXJxW/5B4CeAY8CjwEdas73A/W35cFunbf/jqqpW39Pu7tkGbAceX66BSJLmt5Dv098EHGp32vwAcF9VPZDkOeDeJP8B+HPgntb+HuB3k0wwuMLfA1BVR5PcBzwHvA7cUlVvLO9wJElzmTf0q+pp4IoZ6s8zw903VfX/gI/O8lp3AHecfTclScvBT+RKUkcMfUnqiKEvSR0x9CWpI4a+JHXE0Jekjhj6ktQRQ1+SOmLoS1JHDH1J6oihL0kdWcgXrp23Rvc/uNZdkKRzilf6ktQRQ1+SOmLoS1JHDH1J6oihL0kdMfQlqSOGviR1xNCXpI4Y+pLUEUNfkjpi6EtSR+YN/SRbkzya5FiSo0k+3uq/lOQbSZ5qjxuG9rktyUSS40muHapf12oTSfavzJAkSbNZyBeuvQ78fFX9WZJ3AU8mOdK2fbqqfm24cZIdwB7gPcCPAP89yT9omz8D/CQwCTyR5HBVPbccA5EkzW/e0K+qU8CptvzdJMeAzXPsshu4t6q+D7yQZAK4qm2bqKrnAZLc29oa+pK0Ss5qTj/JKHAF8Fgr3Zrk6SQHk2xstc3Ay0O7TbbabHVJ0ipZcOgneSfwZeATVfUd4G7gR4GdDP4l8OvTTWfYveaon3mcfUnGk4xPTU0ttHuSpAVYUOgneRuDwP98VX0FoKpeqao3quqvgd/mb6dwJoGtQ7tvAU7OUX+TqjpQVWNVNTYyMnK245EkzWEhd+8EuAc4VlWfGqpvGmr208CzbfkwsCfJRUm2AduBx4EngO1JtiW5kMGbvYeXZxiSpIVYyN077wd+FngmyVOt9gvAjUl2MpiieRH4OYCqOprkPgZv0L4O3FJVbwAkuRV4GNgAHKyqo8s4FknSPBZy986fMvN8/ENz7HMHcMcM9Yfm2k+StLL8RK4kdcTQl6SOGPqS1BFDX5I6YuhLUkcMfUnqiKEvSR0x9CWpI4a+JHXE0Jekjhj6ktQRQ1+SOmLoS1JHDH1J6oihL0kdMfQlqSML+ctZOo+M7n9wTY774p0fWpPjSjo7XulLUkcMfUnqiKEvSR0x9CWpI4a+JHXE0Jekjhj6ktSReUM/ydYkjyY5luRoko+3+iVJjiQ50Z43tnqS3JVkIsnTSa4ceq29rf2JJHtXbliSpJks5Er/deDnq+rHgF3ALUl2APuBR6pqO/BIWwe4HtjeHvuAu2HwSwK4HXgvcBVw+/QvCknS6pg39KvqVFX9WVv+LnAM2AzsBg61ZoeAD7fl3cDnauCrwMVJNgHXAkeq6tWq+hZwBLhuWUcjSZrTWc3pJxkFrgAeAy6vqlMw+MUAXNaabQZeHtptstVmq595jH1JxpOMT01NnU33JEnzWHDoJ3kn8GXgE1X1nbmazlCrOepvLlQdqKqxqhobGRlZaPckSQuwoNBP8jYGgf/5qvpKK7/Spm1oz6dbfRLYOrT7FuDkHHVJ0ipZyN07Ae4BjlXVp4Y2HQam78DZC9w/VL+p3cWzC3itTf88DFyTZGN7A/eaVpMkrZKFfLXy+4GfBZ5J8lSr/QJwJ3BfkpuBl4CPtm0PATcAE8D3gI8BVNWrSX4VeKK1+5WqenVZRiFJWpB5Q7+q/pSZ5+MBrp6hfQG3zPJaB4GDZ9NBSdLy8RO5ktQRQ1+SOmLoS1JHDH1J6oihL0kdMfQlqSOGviR1xNCXpI4Y+pLUEUNfkjpi6EtSRwx9SeqIoS9JHTH0Jakjhr4kdcTQl6SOGPqS1BFDX5I6YuhLUkcMfUnqiKEvSR0x9CWpI4a+JHVk3tBPcjDJ6STPDtV+Kck3kjzVHjcMbbstyUSS40muHapf12oTSfYv/1AkSfNZyJX+7wDXzVD/dFXtbI+HAJLsAPYA72n7/GaSDUk2AJ8Brgd2ADe2tpKkVXTBfA2q6k+SjC7w9XYD91bV94EXkkwAV7VtE1X1PECSe1vb5866x5KkRVvKnP6tSZ5u0z8bW20z8PJQm8lWm63+Fkn2JRlPMj41NbWE7kmSzrTY0L8b+FFgJ3AK+PVWzwxta476W4tVB6pqrKrGRkZGFtk9SdJM5p3emUlVvTK9nOS3gQfa6iSwdajpFuBkW56tLklaJYu60k+yaWj1p4HpO3sOA3uSXJRkG7AdeBx4AtieZFuSCxm82Xt48d2WJC3GvFf6Sb4AfAC4NMkkcDvwgSQ7GUzRvAj8HEBVHU1yH4M3aF8HbqmqN9rr3Ao8DGwADlbV0WUfjSRpTgu5e+fGGcr3zNH+DuCOGeoPAQ+dVe8kScvKT+RKUkcMfUnqiKEvSR0x9CWpI4a+JHXE0Jekjhj6ktQRQ1+SOmLoS1JHDH1J6oihL0kdMfQlqSOGviR1xNCXpI4Y+pLUEUNfkjqyqL+RK51pdP+Da3LcF+/80JocVzpfeaUvSR0x9CWpI4a+JHXE0Jekjhj6ktQRQ1+SOmLoS1JH5g39JAeTnE7y7FDtkiRHkpxozxtbPUnuSjKR5OkkVw7ts7e1P5Fk78oMR5I0l4Vc6f8OcN0Ztf3AI1W1HXikrQNcD2xvj33A3TD4JQHcDrwXuAq4ffoXhSRp9cwb+lX1J8CrZ5R3A4fa8iHgw0P1z9XAV4GLk2wCrgWOVNWrVfUt4Ahv/UUiSVphi53Tv7yqTgG058tafTPw8lC7yVabrf4WSfYlGU8yPjU1tcjuSZJmstxv5GaGWs1Rf2ux6kBVjVXV2MjIyLJ2TpJ6t9jQf6VN29CeT7f6JLB1qN0W4OQcdUnSKlps6B8Gpu/A2QvcP1S/qd3Fswt4rU3/PAxck2RjewP3mlaTJK2ieb9aOckXgA8AlyaZZHAXzp3AfUluBl4CPtqaPwTcAEwA3wM+BlBVryb5VeCJ1u5XqurMN4clSSts3tCvqhtn2XT1DG0LuGWW1zkIHDyr3kmSlpWfyJWkjhj6ktQRQ1+SOmLoS1JHDH1J6oihL0kdMfQlqSOGviR1xNCXpI4Y+pLUEUNfkjpi6EtSRwx9SeqIoS9JHTH0Jakjhr4kdcTQl6SOGPqS1BFDX5I6YuhLUkcMfUnqiKEvSR0x9CWpI0sK/SQvJnkmyVNJxlvtkiRHkpxozxtbPUnuSjKR5OkkVy7HACRJC7ccV/r/rKp2VtVYW98PPFJV24FH2jrA9cD29tgH3L0Mx5YknYWVmN7ZDRxqy4eADw/VP1cDXwUuTrJpBY4vSZrFUkO/gD9K8mSSfa12eVWdAmjPl7X6ZuDloX0nW+1NkuxLMp5kfGpqaondkyQNu2CJ+7+/qk4muQw4kuRrc7TNDLV6S6HqAHAAYGxs7C3bJUmLt6TQr6qT7fl0kj8ArgJeSbKpqk616ZvTrfkksHVo9y3AyaUcXxrd/+CaHfvFOz+0ZseWFmvR0ztJ3pHkXdPLwDXAs8BhYG9rthe4vy0fBm5qd/HsAl6bngaSJK2OpVzpXw78QZLp1/m9qvpvSZ4A7ktyM/AS8NHW/iHgBmAC+B7wsSUcW5K0CIsO/ap6HvjxGer/B7h6hnoBtyz2eJKkpfMTuZLUEUNfkjpi6EtSRwx9SeqIoS9JHTH0Jakjhr4kdcTQl6SOGPqS1BFDX5I6YuhLUkcMfUnqiKEvSR0x9CWpI4a+JHXE0Jekjiz1D6NL3Vqrv8/r3+bVUnilL0kdMfQlqSOGviR1xNCXpI4Y+pLUEUNfkjriLZvSeWatbhUFbxddD1b9Sj/JdUmOJ5lIsn+1jy9JPVvV0E+yAfgMcD2wA7gxyY7V7IMk9Wy1p3euAiaq6nmAJPcCu4HnVrkfkhZhLaeW1sp6m9Ja7dDfDLw8tD4JvHe4QZJ9wL62+pdJji/heJcC31zC/ueTnsYKjne9O2fGm0+uymGWe7x/b7YNqx36maFWb1qpOgAcWJaDJeNVNbYcr3Wu62ms4HjXO8e7clb7jdxJYOvQ+hbg5Cr3QZK6tdqh/wSwPcm2JBcCe4DDq9wHSerWqk7vVNXrSW4FHgY2AAer6ugKHnJZponOEz2NFRzveud4V0iqav5WkqR1wa9hkKSOGPqS1JF1Gfrn81c9JNma5NEkx5IcTfLxVr8kyZEkJ9rzxlZPkrvaWJ9OcuXQa+1t7U8k2TtU/0dJnmn73JVkpltpV02SDUn+PMkDbX1bksdav7/Y3vQnyUVtfaJtHx16jdta/XiSa4fq59TPQpKLk3wpydfaOX7fOj+3/7b9HD+b5AtJ3r7ezm+Sg0lOJ3l2qLbi53S2Y8yrqtbVg8EbxF8H3g1cCPwFsGOt+3UW/d8EXNmW3wX8TwZfWfEfgf2tvh/4ZFu+AfhDBp+B2AU81uqXAM+3541teWPb9jjwvrbPHwLXr/GY/x3we8ADbf0+YE9b/i3gX7flfwP8VlveA3yxLe9o5/kiYFs7/xvOxZ8F4BDwr9ryhcDF6/XcMvgw5gvADw6d13+x3s4v8E+BK4Fnh2orfk5nO8a8/V3L/wFW6AS8D3h4aP024La17tcSxnM/8JPAcWBTq20CjrflzwI3DrU/3rbfCHx2qP7ZVtsEfG2o/qZ2azC+LcAjwAeBB9oP9jeBC848nwzu+npfW76gtcuZ53i63bn2swD83RaCOaO+Xs/t9CfwL2nn6wHg2vV4foFR3hz6K35OZzvGfI/1OL0z01c9bF6jvixJ++ftFcBjwOVVdQqgPV/Wms023rnqkzPU18pvAP8e+Ou2/sPAt6vq9bY+3L+/GVPb/lprf7b/DdbKu4Ep4L+06az/nOQdrNNzW1XfAH4NeAk4xeB8Pcn6Pb/DVuOcznaMOa3H0J/3qx7OB0neCXwZ+ERVfWeupjPUahH1VZfknwOnq+rJ4fIMTWuebef8WJsLGEwD3F1VVwD/l8E/y2dzXo+3zTHvZjAl8yPAOxh8w+6Z1sv5XYg1H+N6DP3z/qsekryNQeB/vqq+0sqvJNnUtm8CTrf6bOOdq75lhvpaeD/wU0leBO5lMMXzG8DFSaY/ODjcv78ZU9v+Q8CrnP1/g7UyCUxW1WNt/UsMfgmsx3ML8BPAC1U1VVV/BXwF+Mes3/M7bDXO6WzHmNN6DP3z+qse2jvz9wDHqupTQ5sOA9Pv6O9lMNc/Xb+p3RWwC3it/VPvYeCaJBvbFdc1DOY/TwHfTbKrHeumoddaVVV1W1VtqapRBufpj6vqZ4BHgY+0ZmeOdfq/wUda+2r1Pe3uj23AdgZvfp1TPwtV9b+Bl5P8w1a6msHXiq+7c9u8BOxK8ndaf6bHuy7P7xlW45zOdoy5rdWbPCv8psoNDO56+Trwi2vdn7Ps+z9h8M+3p4Gn2uMGBnObjwAn2vMlrX0Y/GGarwPPAGNDr/UvgYn2+NhQfQx4tu3znzjjjcU1GvcH+Nu7d97N4H/qCeD3gYta/e1tfaJtf/fQ/r/YxnOcoTtWzrWfBWAnMN7O739lcKfGuj23wC8DX2t9+l0Gd+Csq/MLfIHBexZ/xeDK/ObVOKezHWO+h1/DIEkdWY/TO5KkWRj6ktQRQ1+SOmLoS1JHDH1J6oihL0kdMfQlqSP/Hztp0vR/MKKfAAAAAElFTkSuQmCC\n",
          "text/plain": "<Figure size 432x288 with 1 Axes>"
         },
         "metadata": {
          "needs_background": "light"
         },
         "output_type": "display_data"
        }
       ]
      }
     },
     "1b49886057744d3c88aaefef85f075a2": {
      "model_module": "@jupyter-widgets/controls",
      "model_module_version": "1.5.0",
      "model_name": "BoundedFloatTextModel",
      "state": {
       "description": "Scale parameter  (hrs):",
       "layout": "IPY_MODEL_2c424b61eff74599b95f7f5214a676ba",
       "max": 876000,
       "min": 4380,
       "step": 1,
       "style": "IPY_MODEL_acb3c01bcd4043d888229d4ae0f3e475",
       "value": 13140
      }
     },
     "1b729fdb19754f01b46394aa1944c3eb": {
      "model_module": "@jupyter-widgets/base",
      "model_module_version": "1.2.0",
      "model_name": "LayoutModel",
      "state": {}
     },
     "1b89c137e42a4b34ac2e90553cda98ef": {
      "model_module": "@jupyter-widgets/controls",
      "model_module_version": "1.5.0",
      "model_name": "BoundedFloatTextModel",
      "state": {
       "description": "PM freq  (hrs):",
       "layout": "IPY_MODEL_c2fb66f645fd461496f4bab39d958440",
       "max": 876000,
       "min": 2190,
       "step": 4380,
       "style": "IPY_MODEL_96db2e0a0b5b45dcb1b9a492f033b98f",
       "value": 17520
      }
     },
     "1bb768053f08484cbad57e257edb678e": {
      "model_module": "@jupyter-widgets/controls",
      "model_module_version": "1.5.0",
      "model_name": "ButtonModel",
      "state": {
       "button_style": "success",
       "description": "Run Simulation",
       "layout": "IPY_MODEL_1d3e0fb6656348eda1bf679377ae8a1a",
       "style": "IPY_MODEL_10b08a7345ac479f8bf425023c84c69d",
       "tooltip": "Click me"
      }
     },
     "1bbb2b7222fd4baeba14b5ab1809c245": {
      "model_module": "@jupyter-widgets/base",
      "model_module_version": "1.2.0",
      "model_name": "LayoutModel",
      "state": {}
     },
     "1bc38b05de5f44ad96567e6d27fdb8d5": {
      "model_module": "@jupyter-widgets/output",
      "model_module_version": "1.0.0",
      "model_name": "OutputModel",
      "state": {
       "layout": "IPY_MODEL_2514d529f2164d73aa8c1372e4069e96",
       "outputs": [
        {
         "data": {
          "image/png": "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\n",
          "text/plain": "<Figure size 432x288 with 1 Axes>"
         },
         "metadata": {
          "needs_background": "light"
         },
         "output_type": "display_data"
        }
       ]
      }
     },
     "1bec67bfe1e549a79b5d3944c32349af": {
      "model_module": "@jupyter-widgets/base",
      "model_module_version": "1.2.0",
      "model_name": "LayoutModel",
      "state": {}
     },
     "1bf09e5ba2b34c49894a26497afa9c48": {
      "model_module": "@jupyter-widgets/controls",
      "model_module_version": "1.5.0",
      "model_name": "BoundedIntTextModel",
      "state": {
       "description": "Sim. Period (hrs):",
       "layout": "IPY_MODEL_8c3d81fb14a1426e8ecb5a24621b0831",
       "max": 876000,
       "min": 8760,
       "style": "IPY_MODEL_a2323acfd638412c803c06c096ed1773",
       "value": 8760
      }
     },
     "1c2fcaff1d684122ad3d2b87d368c6aa": {
      "model_module": "@jupyter-widgets/base",
      "model_module_version": "1.2.0",
      "model_name": "LayoutModel",
      "state": {}
     },
     "1c9f029e85024b17bac75133eee0cd16": {
      "model_module": "@jupyter-widgets/controls",
      "model_module_version": "1.5.0",
      "model_name": "DescriptionStyleModel",
      "state": {
       "description_width": "initial"
      }
     },
     "1d04c877a714493f91a4c474922635ba": {
      "model_module": "@jupyter-widgets/base",
      "model_module_version": "1.2.0",
      "model_name": "LayoutModel",
      "state": {}
     },
     "1d15a85d578247c7991e77e4ba5b55db": {
      "model_module": "@jupyter-widgets/base",
      "model_module_version": "1.2.0",
      "model_name": "LayoutModel",
      "state": {}
     },
     "1d3e0fb6656348eda1bf679377ae8a1a": {
      "model_module": "@jupyter-widgets/base",
      "model_module_version": "1.2.0",
      "model_name": "LayoutModel",
      "state": {}
     },
     "1d5558eecfd34bfbbb0b46c151520be0": {
      "model_module": "@jupyter-widgets/controls",
      "model_module_version": "1.5.0",
      "model_name": "ButtonStyleModel",
      "state": {}
     },
     "1d7106e07ca947648adc0a7cd688e783": {
      "model_module": "@jupyter-widgets/base",
      "model_module_version": "1.2.0",
      "model_name": "LayoutModel",
      "state": {}
     },
     "1d77bb8d21674a13baa7aae25c9edab2": {
      "model_module": "@jupyter-widgets/controls",
      "model_module_version": "1.5.0",
      "model_name": "SliderStyleModel",
      "state": {
       "description_width": ""
      }
     },
     "1d7d1d31d79e43c3951e812461c1a565": {
      "model_module": "@jupyter-widgets/base",
      "model_module_version": "1.2.0",
      "model_name": "LayoutModel",
      "state": {}
     },
     "1e30338d988345d9b0dff6f7f6374c71": {
      "model_module": "@jupyter-widgets/base",
      "model_module_version": "1.2.0",
      "model_name": "LayoutModel",
      "state": {}
     },
     "1e5eb9ab79c3449a9cb20aff74fd8bae": {
      "model_module": "@jupyter-widgets/controls",
      "model_module_version": "1.5.0",
      "model_name": "BoundedFloatTextModel",
      "state": {
       "description": "Shape parameter:",
       "layout": "IPY_MODEL_2be4a75cfc8b4f0e9fb2007351877687",
       "max": 10,
       "min": 1,
       "step": 1,
       "style": "IPY_MODEL_2ed739dea1d248c0a9afe7eafd67f463",
       "value": 1.5
      }
     },
     "1e7cd654717e49cb9f010d1a17f00a81": {
      "model_module": "@jupyter-widgets/controls",
      "model_module_version": "1.5.0",
      "model_name": "DescriptionStyleModel",
      "state": {
       "description_width": "initial"
      }
     },
     "1ecd4a22bb64409abbdeff669573e694": {
      "model_module": "@jupyter-widgets/controls",
      "model_module_version": "1.5.0",
      "model_name": "DescriptionStyleModel",
      "state": {
       "description_width": "initial"
      }
     },
     "1f5eb87df09d4035ab4a5a017f05ae3d": {
      "model_module": "@jupyter-widgets/base",
      "model_module_version": "1.2.0",
      "model_name": "LayoutModel",
      "state": {}
     },
     "1f93ca6e65164fd280c5d58b5eae0248": {
      "model_module": "@jupyter-widgets/controls",
      "model_module_version": "1.5.0",
      "model_name": "DescriptionStyleModel",
      "state": {
       "description_width": "initial"
      }
     },
     "1f9603e8a8ca4b518659dfaa44e88fe3": {
      "model_module": "@jupyter-widgets/controls",
      "model_module_version": "1.5.0",
      "model_name": "VBoxModel",
      "state": {
       "children": [
        "IPY_MODEL_96bbb6453af542e4bed1b3f6abad5590",
        "IPY_MODEL_56defb4a7a7b4347ab08817f9983cea1",
        "IPY_MODEL_bcba1310b3aa43dcbab10ceb998b133d",
        "IPY_MODEL_5a4c38bead8548ec95bb196282a2dd00",
        "IPY_MODEL_72157211265844d198ba71bd6e43d92d"
       ],
       "layout": "IPY_MODEL_b4caa4e509354c46b7e7935584088f7c"
      }
     },
     "1fb0f0e045084dcd83ea1c92d31d8f96": {
      "model_module": "@jupyter-widgets/base",
      "model_module_version": "1.2.0",
      "model_name": "LayoutModel",
      "state": {}
     },
     "2021f3a2c0d54c0eaff6bda239aa9cc7": {
      "model_module": "@jupyter-widgets/output",
      "model_module_version": "1.0.0",
      "model_name": "OutputModel",
      "state": {
       "layout": "IPY_MODEL_b1493b3cacf24c498992d7b229fbe2b0"
      }
     },
     "207f1def8d1b4e14a872496f31806d55": {
      "model_module": "@jupyter-widgets/base",
      "model_module_version": "1.2.0",
      "model_name": "LayoutModel",
      "state": {}
     },
     "2087549102fa4fbd826aac640499ac22": {
      "model_module": "@jupyter-widgets/controls",
      "model_module_version": "1.5.0",
      "model_name": "BoundedFloatTextModel",
      "state": {
       "description": "CM left time (hrs):",
       "layout": "IPY_MODEL_d3367d2e7d6e4c65b6f1f900ad692689",
       "max": 26280,
       "min": 1,
       "step": 24,
       "style": "IPY_MODEL_5377d5f6b8534cf3836e734c194e3a4f",
       "value": 520
      }
     },
     "208e9c3bb9d7492a87a2e7530b1a1cc3": {
      "model_module": "@jupyter-widgets/controls",
      "model_module_version": "1.5.0",
      "model_name": "BoundedIntTextModel",
      "state": {
       "description": "No of Simulatio:",
       "layout": "IPY_MODEL_a478d6d2d77e42ff98982d66faa603bf",
       "max": 1000,
       "min": 100,
       "style": "IPY_MODEL_d2f71e37a01742cab50ec166267cd43a",
       "value": 100
      }
     },
     "2105e11d10ee49c49621ff2ecd911d7a": {
      "model_module": "@jupyter-widgets/controls",
      "model_module_version": "1.5.0",
      "model_name": "SliderStyleModel",
      "state": {
       "description_width": ""
      }
     },
     "21257ebafeb54d459df4b59c6956e0e9": {
      "model_module": "@jupyter-widgets/controls",
      "model_module_version": "1.5.0",
      "model_name": "BoundedFloatTextModel",
      "state": {
       "description": "PM freq  (hrs):",
       "layout": "IPY_MODEL_2ecd6e1373ab4d7b98f3584a5b240cda",
       "max": 876000,
       "min": 2190,
       "step": 4380,
       "style": "IPY_MODEL_092902e8271a4a20b2dca228acdd2bd1",
       "value": 17520
      }
     },
     "215d35ba4ca34c06b719e720fb1951df": {
      "model_module": "@jupyter-widgets/base",
      "model_module_version": "1.2.0",
      "model_name": "LayoutModel",
      "state": {}
     },
     "21955536fedf47f0bb235711a0a6ffaa": {
      "model_module": "@jupyter-widgets/controls",
      "model_module_version": "1.5.0",
      "model_name": "DescriptionStyleModel",
      "state": {
       "description_width": "initial"
      }
     },
     "21a8e3ff3dec4b6f99213a90c348b062": {
      "model_module": "@jupyter-widgets/base",
      "model_module_version": "1.2.0",
      "model_name": "LayoutModel",
      "state": {}
     },
     "223a97a3f6e745e785b7bc7010c86ef4": {
      "model_module": "@jupyter-widgets/controls",
      "model_module_version": "1.5.0",
      "model_name": "SliderStyleModel",
      "state": {
       "description_width": ""
      }
     },
     "2264fd519638491cafd8e1d4dd3d7114": {
      "model_module": "@jupyter-widgets/controls",
      "model_module_version": "1.5.0",
      "model_name": "BoundedFloatTextModel",
      "state": {
       "description": "PM left time (hrs):",
       "layout": "IPY_MODEL_d06b1d5084e94e68aeddc7b62cc2e7ce",
       "max": 26280,
       "min": 1,
       "step": 1,
       "style": "IPY_MODEL_c138c2d4d93c4c27b4962bbd36b67afe",
       "value": 96
      }
     },
     "226a5615141c4b1a88a2d2c9ee3db8d5": {
      "model_module": "@jupyter-widgets/base",
      "model_module_version": "1.2.0",
      "model_name": "LayoutModel",
      "state": {}
     },
     "22a71bdb9c91491a874ea9674d3d857a": {
      "model_module": "@jupyter-widgets/controls",
      "model_module_version": "1.5.0",
      "model_name": "VBoxModel",
      "state": {
       "children": [
        "IPY_MODEL_2087549102fa4fbd826aac640499ac22",
        "IPY_MODEL_d4fd458b329f429d87e4d42ae2c6fcd1",
        "IPY_MODEL_e1094d518e524fe9a6409b8accaf6c4e",
        "IPY_MODEL_465ee4660d5c4965835303b108ad5c91",
        "IPY_MODEL_fd532aecd8284da7876539b90751f342"
       ],
       "layout": "IPY_MODEL_81a3ff7571b64afba5710c7460b2ffe7"
      }
     },
     "22bafe93190740e6b42ac16110a6cbd1": {
      "model_module": "@jupyter-widgets/controls",
      "model_module_version": "1.5.0",
      "model_name": "IntSliderModel",
      "state": {
       "description": "c",
       "layout": "IPY_MODEL_c245b08ecf5b4fdc820c0eb74badffeb",
       "max": 4500,
       "min": -1500,
       "style": "IPY_MODEL_b01a017c0e9e492295c77ac9c9cd1d66",
       "value": 1500
      }
     },
     "22cbb8f1d2c9495f986d098ab099e3b0": {
      "model_module": "@jupyter-widgets/controls",
      "model_module_version": "1.5.0",
      "model_name": "VBoxModel",
      "state": {
       "children": [
        "IPY_MODEL_43dca5d380db40e9bfa5143d950fab68",
        "IPY_MODEL_cacc95dd1f2549418d4c0f092cee31a1",
        "IPY_MODEL_6e4933058d4d4c6e93730eb4090fb605",
        "IPY_MODEL_972e702815024381a75389af24214d09"
       ],
       "layout": "IPY_MODEL_a4681cbd7ff14685a627dd57fd56d1cb"
      }
     },
     "234b872303284d40835723bbc087aa9d": {
      "model_module": "@jupyter-widgets/controls",
      "model_module_version": "1.5.0",
      "model_name": "DescriptionStyleModel",
      "state": {
       "description_width": "initial"
      }
     },
     "234e583cbcc24b47964cdbd019e954b2": {
      "model_module": "@jupyter-widgets/controls",
      "model_module_version": "1.5.0",
      "model_name": "BoundedFloatTextModel",
      "state": {
       "description": "CM left time (hrs):",
       "layout": "IPY_MODEL_a1f2aa9bc76040a8837f021aa31bd96b",
       "max": 26280,
       "min": 1,
       "step": 1,
       "style": "IPY_MODEL_648d1e33c40e498ca713aed860b19ebe",
       "value": 520
      }
     },
     "235f7db05af34893a7d5b322ec2cded6": {
      "model_module": "@jupyter-widgets/base",
      "model_module_version": "1.2.0",
      "model_name": "LayoutModel",
      "state": {}
     },
     "2367eba067c24208bd4e0bee3f12ceb7": {
      "model_module": "@jupyter-widgets/base",
      "model_module_version": "1.2.0",
      "model_name": "LayoutModel",
      "state": {}
     },
     "238ed55cc88640468dab58eeb4bd5869": {
      "model_module": "@jupyter-widgets/controls",
      "model_module_version": "1.5.0",
      "model_name": "DescriptionStyleModel",
      "state": {
       "description_width": "initial"
      }
     },
     "23914f3c45634bb085a9c7861460d4ab": {
      "model_module": "@jupyter-widgets/controls",
      "model_module_version": "1.5.0",
      "model_name": "VBoxModel",
      "state": {
       "children": [
        "IPY_MODEL_d018517c77eb4106a2c05662e97b76ee",
        "IPY_MODEL_7728adc175554609a8adbd9fbfae0ad1",
        "IPY_MODEL_ef1999cf08144d5d98027a409cda3063",
        "IPY_MODEL_3fc0b99678b44266bdbab75150a59de3",
        "IPY_MODEL_c41c7deaba6f44f4bcc67dd8d0c5dd08"
       ],
       "layout": "IPY_MODEL_d05bcbcb73b041f39bb3387ffa913bfc"
      }
     },
     "23d67e1905294f91a04c866140bf86ba": {
      "model_module": "@jupyter-widgets/base",
      "model_module_version": "1.2.0",
      "model_name": "LayoutModel",
      "state": {}
     },
     "23de1e4e913440bea4fc8605f95ee2d2": {
      "model_module": "@jupyter-widgets/controls",
      "model_module_version": "1.5.0",
      "model_name": "BoundedFloatTextModel",
      "state": {
       "description": "PM right time (hrs):",
       "layout": "IPY_MODEL_274bce120b09401bbafeb1981e0eae78",
       "max": 26280,
       "min": 3,
       "step": 24,
       "style": "IPY_MODEL_d189ec60dec347e1814e35defadc1554",
       "value": 168
      }
     },
     "240d306d82a247c1b2aade04e03277e5": {
      "model_module": "@jupyter-widgets/controls",
      "model_module_version": "1.5.0",
      "model_name": "BoundedFloatTextModel",
      "state": {
       "description": "Series or Redund:",
       "layout": "IPY_MODEL_6dbfdeeb11eb4ad8b1b9a5b9453bd3f2",
       "max": 2,
       "min": 1,
       "step": 1,
       "style": "IPY_MODEL_6341c08ebb2f4939a9bc5a3c7bd45a06",
       "value": 1
      }
     },
     "241f438e8393409490bec021ef465ab6": {
      "model_module": "@jupyter-widgets/base",
      "model_module_version": "1.2.0",
      "model_name": "LayoutModel",
      "state": {}
     },
     "24741e0a44074442baf5d224115474b7": {
      "model_module": "@jupyter-widgets/controls",
      "model_module_version": "1.5.0",
      "model_name": "BoundedFloatTextModel",
      "state": {
       "description": "PM right time (hrs):",
       "layout": "IPY_MODEL_61a461bfc70144e7ac325284cc617b55",
       "max": 26280,
       "min": 3,
       "step": 1,
       "style": "IPY_MODEL_370939ce1dd84499ba4d3831dd02e975",
       "value": 168
      }
     },
     "24804748dae64befb1cbfc17541f68a0": {
      "model_module": "@jupyter-widgets/base",
      "model_module_version": "1.2.0",
      "model_name": "LayoutModel",
      "state": {}
     },
     "24931fc201ff47bdad4a08ccd09d4100": {
      "model_module": "@jupyter-widgets/controls",
      "model_module_version": "1.5.0",
      "model_name": "HBoxModel",
      "state": {
       "children": [
        "IPY_MODEL_31f5aea3b52b4a779516e5559456f828",
        "IPY_MODEL_196861d3e99047e0a49091ab695af743",
        "IPY_MODEL_413efab564fa495c80bb06cc08136634"
       ],
       "layout": "IPY_MODEL_432c710d5f0843e4a3e236414edc2df4"
      }
     },
     "2514d529f2164d73aa8c1372e4069e96": {
      "model_module": "@jupyter-widgets/base",
      "model_module_version": "1.2.0",
      "model_name": "LayoutModel",
      "state": {}
     },
     "256babb809ee49b5af882a0cf4b8f295": {
      "model_module": "@jupyter-widgets/controls",
      "model_module_version": "1.5.0",
      "model_name": "DescriptionStyleModel",
      "state": {
       "description_width": "initial"
      }
     },
     "256c15d50428407694b144c796cd9325": {
      "model_module": "@jupyter-widgets/controls",
      "model_module_version": "1.5.0",
      "model_name": "VBoxModel",
      "state": {
       "children": [
        "IPY_MODEL_3feadf453e58447c845d10b9806eba2a",
        "IPY_MODEL_6a7eea74438c4834a4d0ad55392c5a66",
        "IPY_MODEL_f8ee9847f96a4c24830ba4efc6a43b3d",
        "IPY_MODEL_87e1b697a9c749968a010f1d6a577856"
       ],
       "layout": "IPY_MODEL_235f7db05af34893a7d5b322ec2cded6"
      }
     },
     "256e7472cd7b426ba5f6304980530a8a": {
      "model_module": "@jupyter-widgets/base",
      "model_module_version": "1.2.0",
      "model_name": "LayoutModel",
      "state": {}
     },
     "25e9e99d877d491fa1f24c513de8b4a6": {
      "model_module": "@jupyter-widgets/base",
      "model_module_version": "1.2.0",
      "model_name": "LayoutModel",
      "state": {}
     },
     "26c0d380b4444df99de9cc02e03ecf2d": {
      "model_module": "@jupyter-widgets/base",
      "model_module_version": "1.2.0",
      "model_name": "LayoutModel",
      "state": {}
     },
     "274bce120b09401bbafeb1981e0eae78": {
      "model_module": "@jupyter-widgets/base",
      "model_module_version": "1.2.0",
      "model_name": "LayoutModel",
      "state": {}
     },
     "279ff798c4b0432994cf084496cbbc8b": {
      "model_module": "@jupyter-widgets/controls",
      "model_module_version": "1.5.0",
      "model_name": "BoundedFloatTextModel",
      "state": {
       "description": "CM right time (hrs):",
       "layout": "IPY_MODEL_f8a680144ca14131a5fd0500396851c3",
       "max": 26280,
       "min": 3,
       "step": 24,
       "style": "IPY_MODEL_309ede7b3bcc4b3b92e03d1f645a2fab",
       "value": 920
      }
     },
     "27b4a5d7bfea419eb1e128a99fc71360": {
      "model_module": "@jupyter-widgets/base",
      "model_module_version": "1.2.0",
      "model_name": "LayoutModel",
      "state": {}
     },
     "27c01a56cc1a4a958d16428f8922d748": {
      "model_module": "@jupyter-widgets/output",
      "model_module_version": "1.0.0",
      "model_name": "OutputModel",
      "state": {
       "layout": "IPY_MODEL_105a3c86a17a4edbb0b77032e4ce9664",
       "outputs": [
        {
         "name": "stdout",
         "output_type": "stream",
         "text": "       TotalCMcount  DowntimeCount      Uptime  Downtime        MTBF  MTTR  \\\ncount    100.000000         100.00  100.000000    100.00  100.000000   1.0   \nmean       1.010000           0.01  363.520000      0.27  363.520000  27.0   \nstd        0.904478           0.10    3.092774      2.70    3.092774   NaN   \nmin        0.000000           0.00  335.000000      0.00  335.000000  27.0   \n25%        0.000000           0.00  363.000000      0.00  363.000000  27.0   \n50%        1.000000           0.00  364.000000      0.00  364.000000  27.0   \n75%        2.000000           0.00  365.000000      0.00  365.000000  27.0   \nmax        3.000000           1.00  365.000000     27.00  365.000000  27.0   \n\n       Availability  \ncount      1.000000  \nmean       0.925414  \nstd             NaN  \nmin        0.925414  \n25%        0.925414  \n50%        0.925414  \n75%        0.925414  \nmax        0.925414  \n"
        },
        {
         "data": {
          "image/png": "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\n",
          "text/plain": "<Figure size 864x504 with 6 Axes>"
         },
         "metadata": {
          "needs_background": "light"
         },
         "output_type": "display_data"
        }
       ]
      }
     },
     "27de9c8cd5404141a0472df9461d2593": {
      "model_module": "@jupyter-widgets/base",
      "model_module_version": "1.2.0",
      "model_name": "LayoutModel",
      "state": {}
     },
     "282428ca3c844fed98425a28dd291d36": {
      "model_module": "@jupyter-widgets/base",
      "model_module_version": "1.2.0",
      "model_name": "LayoutModel",
      "state": {}
     },
     "283b1b921c8e4f2aa24c836b943875c5": {
      "model_module": "@jupyter-widgets/controls",
      "model_module_version": "1.5.0",
      "model_name": "ButtonModel",
      "state": {
       "button_style": "success",
       "description": "Run Simulation",
       "layout": "IPY_MODEL_23d67e1905294f91a04c866140bf86ba",
       "style": "IPY_MODEL_472d18999c3d4e9c8c1e5fcb811a084b",
       "tooltip": "Click me"
      }
     },
     "2852cd81fa154ceab026ea84b89ade36": {
      "model_module": "@jupyter-widgets/base",
      "model_module_version": "1.2.0",
      "model_name": "LayoutModel",
      "state": {}
     },
     "290cdab31e91415f9e3b5c0188b65fc3": {
      "model_module": "@jupyter-widgets/controls",
      "model_module_version": "1.5.0",
      "model_name": "DescriptionStyleModel",
      "state": {
       "description_width": "150px"
      }
     },
     "29231081edb042ecb765479247aad59b": {
      "model_module": "@jupyter-widgets/controls",
      "model_module_version": "1.5.0",
      "model_name": "BoundedFloatTextModel",
      "state": {
       "description": "PM mode time (hrs):",
       "layout": "IPY_MODEL_bf57de49d2f44365b4de35a2b60f2f2d",
       "max": 26280,
       "min": 2,
       "step": 1,
       "style": "IPY_MODEL_56b667c97aed4cab9f5fde3b2aec9435",
       "value": 120
      }
     },
     "29334c48df89496dbf2125b88b14a2f1": {
      "model_module": "@jupyter-widgets/controls",
      "model_module_version": "1.5.0",
      "model_name": "HBoxModel",
      "state": {
       "children": [
        "IPY_MODEL_c0190666782944818b08ab720078423d",
        "IPY_MODEL_acdd36b8317f4ff889bb94eec14818d2",
        "IPY_MODEL_dcb7044e88ec4cc48c226e0d2fe33d2a"
       ],
       "layout": "IPY_MODEL_8e66409f76014e5581968cd1773bf22f"
      }
     },
     "29517ed0154643feb132988cdeb66311": {
      "model_module": "@jupyter-widgets/controls",
      "model_module_version": "1.5.0",
      "model_name": "BoundedFloatTextModel",
      "state": {
       "description": "PM mode time (hrs):",
       "layout": "IPY_MODEL_fd203efde40841d78475c7de99ac7acc",
       "max": 26280,
       "min": 2,
       "step": 1,
       "style": "IPY_MODEL_833b352e798949838e458199a28a25bc",
       "value": 120
      }
     },
     "295dd36190284e20835cd4bcb7b386e2": {
      "model_module": "@jupyter-widgets/base",
      "model_module_version": "1.2.0",
      "model_name": "LayoutModel",
      "state": {}
     },
     "29744c4431c94d2287f60992d7e4bf9a": {
      "model_module": "@jupyter-widgets/controls",
      "model_module_version": "1.5.0",
      "model_name": "DescriptionStyleModel",
      "state": {
       "description_width": "initial"
      }
     },
     "29b2739a5ce34eeca3005d076a6df117": {
      "model_module": "@jupyter-widgets/base",
      "model_module_version": "1.2.0",
      "model_name": "LayoutModel",
      "state": {}
     },
     "29febd6b354e4fd8b3ede2317d512dfc": {
      "model_module": "@jupyter-widgets/controls",
      "model_module_version": "1.5.0",
      "model_name": "DescriptionStyleModel",
      "state": {
       "description_width": "initial"
      }
     },
     "2a1de0d77ad2434aaaa7cfe69b56a1af": {
      "model_module": "@jupyter-widgets/base",
      "model_module_version": "1.2.0",
      "model_name": "LayoutModel",
      "state": {}
     },
     "2a2fef98155f4cd38f2acadf450b6e7a": {
      "model_module": "@jupyter-widgets/base",
      "model_module_version": "1.2.0",
      "model_name": "LayoutModel",
      "state": {}
     },
     "2a5f38209f304c44bc3fb8035a1f0d4e": {
      "model_module": "@jupyter-widgets/base",
      "model_module_version": "1.2.0",
      "model_name": "LayoutModel",
      "state": {}
     },
     "2a6803d1e00c47e2b8e5bf31215750ba": {
      "model_module": "@jupyter-widgets/base",
      "model_module_version": "1.2.0",
      "model_name": "LayoutModel",
      "state": {}
     },
     "2ae866bddf63490c8d52e0864cc113dc": {
      "model_module": "@jupyter-widgets/base",
      "model_module_version": "1.2.0",
      "model_name": "LayoutModel",
      "state": {
       "border": "solid 2px green",
       "display": "flex",
       "flex_flow": "row",
       "justify_content": "center",
       "width": "100%"
      }
     },
     "2b03c929dbed4ba5bb6d25024d29b18e": {
      "model_module": "@jupyter-widgets/controls",
      "model_module_version": "1.5.0",
      "model_name": "VBoxModel",
      "state": {
       "children": [
        "IPY_MODEL_caa3e156fd054449bd4df1769b45d6ac",
        "IPY_MODEL_ae576968329f41cbb1ec54b7ab20b44b",
        "IPY_MODEL_9667804fd78042589ea5da1678aae514",
        "IPY_MODEL_49f1edffae4b4381a0bec4e07728c32d"
       ],
       "layout": "IPY_MODEL_554a723f2d3840319e2e43bc4b6b1771"
      }
     },
     "2b7627d55142484da913ee6eb0f9f0b3": {
      "model_module": "@jupyter-widgets/base",
      "model_module_version": "1.2.0",
      "model_name": "LayoutModel",
      "state": {}
     },
     "2bdd838d5c5e4140a14292ea95e1c61d": {
      "model_module": "@jupyter-widgets/base",
      "model_module_version": "1.2.0",
      "model_name": "LayoutModel",
      "state": {}
     },
     "2be4a75cfc8b4f0e9fb2007351877687": {
      "model_module": "@jupyter-widgets/base",
      "model_module_version": "1.2.0",
      "model_name": "LayoutModel",
      "state": {}
     },
     "2c2912bd4ead4b3ba4b3334da70ae08b": {
      "model_module": "@jupyter-widgets/base",
      "model_module_version": "1.2.0",
      "model_name": "LayoutModel",
      "state": {}
     },
     "2c3dc2d078bf46b3b81e12910ba18431": {
      "model_module": "@jupyter-widgets/controls",
      "model_module_version": "1.5.0",
      "model_name": "BoundedIntTextModel",
      "state": {
       "description": "Sim. Period (hrs):",
       "layout": "IPY_MODEL_6972a224b3084dd4a7223d7f1db5fbc8",
       "max": 876000,
       "min": 8760,
       "step": 8760,
       "style": "IPY_MODEL_782847e663ec44fea5292171f3e5d326",
       "value": 87600
      }
     },
     "2c3f4a58649146bf88f0099cd4906dd7": {
      "model_module": "@jupyter-widgets/controls",
      "model_module_version": "1.5.0",
      "model_name": "IntSliderModel",
      "state": {
       "description": "scale",
       "layout": "IPY_MODEL_1a921398df504e50b57dd0ab595b13e8",
       "max": 65700,
       "min": -21900,
       "style": "IPY_MODEL_132fc4f505e342cabc89a457321cde58",
       "value": 21900
      }
     },
     "2c424b61eff74599b95f7f5214a676ba": {
      "model_module": "@jupyter-widgets/base",
      "model_module_version": "1.2.0",
      "model_name": "LayoutModel",
      "state": {}
     },
     "2c5db23b422d425ca16c7c3bf07bef43": {
      "model_module": "@jupyter-widgets/controls",
      "model_module_version": "1.5.0",
      "model_name": "BoundedIntTextModel",
      "state": {
       "description": "No of Simulatio:",
       "layout": "IPY_MODEL_feba4981c5a74e149c772f5c7a28a7b8",
       "max": 1000,
       "min": 10,
       "style": "IPY_MODEL_0230cfe7d7f745e59e983611c11af19b",
       "value": 100
      }
     },
     "2cb7e426379f42deb2da30799247cc20": {
      "model_module": "@jupyter-widgets/controls",
      "model_module_version": "1.5.0",
      "model_name": "DescriptionStyleModel",
      "state": {
       "description_width": "initial"
      }
     },
     "2cfaa24883f44fb4ab2e1f5a8df7c962": {
      "model_module": "@jupyter-widgets/controls",
      "model_module_version": "1.5.0",
      "model_name": "DescriptionStyleModel",
      "state": {
       "description_width": "initial"
      }
     },
     "2d0f48d91e1d44dbbd68be42d77718e5": {
      "model_module": "@jupyter-widgets/base",
      "model_module_version": "1.2.0",
      "model_name": "LayoutModel",
      "state": {}
     },
     "2d3de5d519f040d7a7a042de0b142fda": {
      "model_module": "@jupyter-widgets/controls",
      "model_module_version": "1.5.0",
      "model_name": "HBoxModel",
      "state": {
       "children": [
        "IPY_MODEL_6ebe61c6273641a2a3ebc3fe04d4e88e",
        "IPY_MODEL_1868865b920b406b9988da398a9d0c39",
        "IPY_MODEL_a0779fcbf1f7487282534cd9c6ba4286"
       ],
       "layout": "IPY_MODEL_0638537229ad4374b9bcf8001b3df238"
      }
     },
     "2d4f43935e4e4fbf8c578df367e277ba": {
      "model_module": "@jupyter-widgets/controls",
      "model_module_version": "1.5.0",
      "model_name": "DescriptionStyleModel",
      "state": {
       "description_width": "initial"
      }
     },
     "2d6a1d662c2e49c68c555d46d7c1df17": {
      "model_module": "@jupyter-widgets/controls",
      "model_module_version": "1.5.0",
      "model_name": "BoundedFloatTextModel",
      "state": {
       "description": "Scale parameter  (hrs):",
       "layout": "IPY_MODEL_7c361a6e27d94ed8a473a159dee088c8",
       "max": 876000,
       "min": 8760,
       "step": 1,
       "style": "IPY_MODEL_9dcefb071bf740c2b393a4d066c053e8",
       "value": 13140
      }
     },
     "2db34744088840f386e410dcbb9080f0": {
      "model_module": "@jupyter-widgets/base",
      "model_module_version": "1.2.0",
      "model_name": "LayoutModel",
      "state": {}
     },
     "2dcbbe0844e746c1b94491a3fe01890b": {
      "model_module": "@jupyter-widgets/controls",
      "model_module_version": "1.5.0",
      "model_name": "DescriptionStyleModel",
      "state": {
       "description_width": "150px"
      }
     },
     "2dceb104299a446cae26cb272f1014b6": {
      "model_module": "@jupyter-widgets/base",
      "model_module_version": "1.2.0",
      "model_name": "LayoutModel",
      "state": {}
     },
     "2dd960e6041f41e18e8ded8fc76004e4": {
      "model_module": "@jupyter-widgets/base",
      "model_module_version": "1.2.0",
      "model_name": "LayoutModel",
      "state": {}
     },
     "2deb5ef6d8d3440b8fec26e9a6ad91e8": {
      "model_module": "@jupyter-widgets/base",
      "model_module_version": "1.2.0",
      "model_name": "LayoutModel",
      "state": {}
     },
     "2dee9543ef554f0aa54b37c8e150f18a": {
      "model_module": "@jupyter-widgets/controls",
      "model_module_version": "1.5.0",
      "model_name": "ButtonModel",
      "state": {
       "button_style": "success",
       "description": "Run Simulation",
       "layout": "IPY_MODEL_aeebea5fd8624dd59d975f278d910668",
       "style": "IPY_MODEL_44953bda159d4042be1be240726eb40e",
       "tooltip": "Click me"
      }
     },
     "2dfdc71e72514bac9f76249f05827822": {
      "model_module": "@jupyter-widgets/base",
      "model_module_version": "1.2.0",
      "model_name": "LayoutModel",
      "state": {}
     },
     "2e174214023a4067bd84a0ba9126b365": {
      "model_module": "@jupyter-widgets/controls",
      "model_module_version": "1.5.0",
      "model_name": "IntSliderModel",
      "state": {
       "description": "c",
       "layout": "IPY_MODEL_4c59493db2ec4435bedf317cba9f5eee",
       "max": 4500,
       "min": -1500,
       "style": "IPY_MODEL_1d77bb8d21674a13baa7aae25c9edab2",
       "value": 1500
      }
     },
     "2e4f3d6ba73f46af87b5f672c71b0311": {
      "model_module": "@jupyter-widgets/controls",
      "model_module_version": "1.5.0",
      "model_name": "DescriptionStyleModel",
      "state": {
       "description_width": "initial"
      }
     },
     "2ec36f12e9b44c1c9234878d1f5cf6ec": {
      "model_module": "@jupyter-widgets/base",
      "model_module_version": "1.2.0",
      "model_name": "LayoutModel",
      "state": {
       "border": "solid 2px green",
       "display": "flex",
       "flex_flow": "row",
       "justify_content": "center",
       "width": "100%"
      }
     },
     "2ecd6e1373ab4d7b98f3584a5b240cda": {
      "model_module": "@jupyter-widgets/base",
      "model_module_version": "1.2.0",
      "model_name": "LayoutModel",
      "state": {}
     },
     "2ed739dea1d248c0a9afe7eafd67f463": {
      "model_module": "@jupyter-widgets/controls",
      "model_module_version": "1.5.0",
      "model_name": "DescriptionStyleModel",
      "state": {
       "description_width": "150px"
      }
     },
     "2ff799bd4f3747c6b1cd69dd4bc130d9": {
      "model_module": "@jupyter-widgets/controls",
      "model_module_version": "1.5.0",
      "model_name": "DescriptionStyleModel",
      "state": {
       "description_width": "150px"
      }
     },
     "3007b9ccbd844591be9f3d7a07f0504c": {
      "model_module": "@jupyter-widgets/controls",
      "model_module_version": "1.5.0",
      "model_name": "SliderStyleModel",
      "state": {
       "description_width": ""
      }
     },
     "301459631c6a4a86b622ad9b1c5abced": {
      "model_module": "@jupyter-widgets/base",
      "model_module_version": "1.2.0",
      "model_name": "LayoutModel",
      "state": {}
     },
     "306450b83e4e44a78966d21e081558a3": {
      "model_module": "@jupyter-widgets/controls",
      "model_module_version": "1.5.0",
      "model_name": "BoundedFloatTextModel",
      "state": {
       "description": "Shape parameter:",
       "layout": "IPY_MODEL_4edb20010935420dbc6916bf181b6eb9",
       "max": 10,
       "min": 1,
       "step": 1,
       "style": "IPY_MODEL_952ebdab4e3b443ba9878c434674d9a8",
       "value": 1.5
      }
     },
     "307ad09ff4294a74b1bd85c3257b2a46": {
      "model_module": "@jupyter-widgets/controls",
      "model_module_version": "1.5.0",
      "model_name": "SliderStyleModel",
      "state": {
       "description_width": ""
      }
     },
     "307c1c5e9d514596a9cfa5eca969ceba": {
      "model_module": "@jupyter-widgets/controls",
      "model_module_version": "1.5.0",
      "model_name": "VBoxModel",
      "state": {
       "children": [
        "IPY_MODEL_a1d6d3e7fd4f4577860bcd3d940dcf26",
        "IPY_MODEL_29231081edb042ecb765479247aad59b",
        "IPY_MODEL_5bad885b88fa4ede9f1af43cc3268782",
        "IPY_MODEL_2c5db23b422d425ca16c7c3bf07bef43"
       ],
       "layout": "IPY_MODEL_e024c64c95124bb68e096261bc7bdb50"
      }
     },
     "309ede7b3bcc4b3b92e03d1f645a2fab": {
      "model_module": "@jupyter-widgets/controls",
      "model_module_version": "1.5.0",
      "model_name": "DescriptionStyleModel",
      "state": {
       "description_width": "150px"
      }
     },
     "30a9056fabdf4ee99837e3ddaed8873b": {
      "model_module": "@jupyter-widgets/controls",
      "model_module_version": "1.5.0",
      "model_name": "IntSliderModel",
      "state": {
       "description": "b",
       "layout": "IPY_MODEL_af6c3278bb6b4936952ed70942e89260",
       "max": 2250,
       "min": -750,
       "style": "IPY_MODEL_7017da0bab2a40e4b8f869cb3001cccc",
       "value": 750
      }
     },
     "3123b0ff99734317a3eeb38b6a7605a2": {
      "model_module": "@jupyter-widgets/base",
      "model_module_version": "1.2.0",
      "model_name": "LayoutModel",
      "state": {}
     },
     "31329b3b05e64c628b5a46af6acbafa3": {
      "model_module": "@jupyter-widgets/controls",
      "model_module_version": "1.5.0",
      "model_name": "BoundedFloatTextModel",
      "state": {
       "description": "CM right time (hrs):",
       "layout": "IPY_MODEL_ace8a50395ba4deb8632eebb237cae36",
       "max": 26280,
       "min": 3,
       "step": 1,
       "style": "IPY_MODEL_0251ce0ba4a9471aadd8c26c31c2076c",
       "value": 920
      }
     },
     "3196e863744347f28f9ad1e5ea0e5f47": {
      "model_module": "@jupyter-widgets/base",
      "model_module_version": "1.2.0",
      "model_name": "LayoutModel",
      "state": {}
     },
     "31cb1b626af840dfb4327111a7aa3923": {
      "model_module": "@jupyter-widgets/base",
      "model_module_version": "1.2.0",
      "model_name": "LayoutModel",
      "state": {}
     },
     "31f560213c0c47fdaffb23752d9c5076": {
      "model_module": "@jupyter-widgets/base",
      "model_module_version": "1.2.0",
      "model_name": "LayoutModel",
      "state": {}
     },
     "31f5aea3b52b4a779516e5559456f828": {
      "model_module": "@jupyter-widgets/controls",
      "model_module_version": "1.5.0",
      "model_name": "VBoxModel",
      "state": {
       "children": [
        "IPY_MODEL_aadb8a4c9e14417391faaf82342fc396",
        "IPY_MODEL_cc99c6d91df0407e8e817a15fff29078",
        "IPY_MODEL_21257ebafeb54d459df4b59c6956e0e9",
        "IPY_MODEL_89fa6da22a334212b9e098ef60d898ed",
        "IPY_MODEL_012a07ae22b340ab93ad9ae5db8db1fc"
       ],
       "layout": "IPY_MODEL_a68a51fe05754df2abf8b1a37dfb0325"
      }
     },
     "321a2cf39e84406a89e0bd01b8d42026": {
      "model_module": "@jupyter-widgets/controls",
      "model_module_version": "1.5.0",
      "model_name": "BoundedFloatTextModel",
      "state": {
       "description": "PM right time (hrs):",
       "layout": "IPY_MODEL_46b010e5da8d46259a23ce0f45dbce24",
       "max": 26280,
       "min": 3,
       "step": 1,
       "style": "IPY_MODEL_e1e2725e09f34d6d8efe449ae559f31e",
       "value": 168
      }
     },
     "32235c57de5f4b91ba4f50a1c2c89a63": {
      "model_module": "@jupyter-widgets/output",
      "model_module_version": "1.0.0",
      "model_name": "OutputModel",
      "state": {
       "layout": "IPY_MODEL_ca5a441e626645d39a4d2caea5c78930",
       "outputs": [
        {
         "data": {
          "image/png": "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\n",
          "text/plain": "<Figure size 432x288 with 1 Axes>"
         },
         "metadata": {
          "needs_background": "light"
         },
         "output_type": "display_data"
        }
       ]
      }
     },
     "326ba6cb92c04bcca26dee36ec86d08e": {
      "model_module": "@jupyter-widgets/base",
      "model_module_version": "1.2.0",
      "model_name": "LayoutModel",
      "state": {}
     },
     "327d6d6c25f74352abf467c566f7a3da": {
      "model_module": "@jupyter-widgets/base",
      "model_module_version": "1.2.0",
      "model_name": "LayoutModel",
      "state": {}
     },
     "3286e5a8c07a42c1b0af272c8a34175d": {
      "model_module": "@jupyter-widgets/controls",
      "model_module_version": "1.5.0",
      "model_name": "BoundedIntTextModel",
      "state": {
       "description": "Sim. Period (hrs):",
       "layout": "IPY_MODEL_c291ef0fb9dd4ed28af32490e43cb455",
       "max": 876000,
       "min": 8760,
       "style": "IPY_MODEL_e10cad7487ef46a6939c12996310f548",
       "value": 87600
      }
     },
     "32e0b1e7b0e1412c9a3fe023c7c75c1d": {
      "model_module": "@jupyter-widgets/controls",
      "model_module_version": "1.5.0",
      "model_name": "HBoxModel",
      "state": {
       "children": [
        "IPY_MODEL_405236b4e0bd4c2db71abdf5ee7d8c19",
        "IPY_MODEL_bf20ce0151244480a309fc2fb5e201ba",
        "IPY_MODEL_bc1b32f614384ca695917f7ebf37fb8f"
       ],
       "layout": "IPY_MODEL_5e472f7638c04c5eba0cf099180786c4"
      }
     },
     "331339c2c9bd42d19b6412332923b6ba": {
      "model_module": "@jupyter-widgets/controls",
      "model_module_version": "1.5.0",
      "model_name": "BoundedFloatTextModel",
      "state": {
       "description": "CM left time (hrs):",
       "layout": "IPY_MODEL_e679e119f5a54b7c838be01446b5b750",
       "max": 26280,
       "min": 1,
       "step": 1,
       "style": "IPY_MODEL_581371767c1e4cf39c0039705107bc7f",
       "value": 520
      }
     },
     "33693e4bf90448f08f2aa935a78057af": {
      "model_module": "@jupyter-widgets/output",
      "model_module_version": "1.0.0",
      "model_name": "OutputModel",
      "state": {
       "layout": "IPY_MODEL_572d7cd0a681440383a723e7778ef5da",
       "outputs": [
        {
         "data": {
          "image/png": "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\n",
          "text/plain": "<Figure size 432x288 with 1 Axes>"
         },
         "metadata": {
          "needs_background": "light"
         },
         "output_type": "display_data"
        }
       ]
      }
     },
     "33c2ff7c4c7041ddaa94293710795bc6": {
      "model_module": "@jupyter-widgets/controls",
      "model_module_version": "1.5.0",
      "model_name": "BoundedFloatTextModel",
      "state": {
       "description": "Scale parameter  (hrs):",
       "layout": "IPY_MODEL_ce49cb118ba84539a1688bdb1d702790",
       "max": 876000,
       "min": 8760,
       "step": 1,
       "style": "IPY_MODEL_04a941d6f02c420f9a45c714146ff190",
       "value": 13140
      }
     },
     "33df19a95a5d4cbe91fe188b9e03d7c3": {
      "model_module": "@jupyter-widgets/base",
      "model_module_version": "1.2.0",
      "model_name": "LayoutModel",
      "state": {}
     },
     "33fab588d35f4097bbba7300ea44b2aa": {
      "model_module": "@jupyter-widgets/base",
      "model_module_version": "1.2.0",
      "model_name": "LayoutModel",
      "state": {}
     },
     "34173941f6ae47cd9c279d15b38712fb": {
      "model_module": "@jupyter-widgets/controls",
      "model_module_version": "1.5.0",
      "model_name": "ButtonModel",
      "state": {
       "button_style": "success",
       "description": "Run Simulation",
       "layout": "IPY_MODEL_d3e3d21825bb477ba8eda7fcc8a93a4c",
       "style": "IPY_MODEL_f00770dc393340dab8a4627ab8322010",
       "tooltip": "Click me"
      }
     },
     "343953374d034c71ad5a7b106a0b173a": {
      "model_module": "@jupyter-widgets/controls",
      "model_module_version": "1.5.0",
      "model_name": "BoundedIntTextModel",
      "state": {
       "description": "Sim. Period (hrs):",
       "layout": "IPY_MODEL_cd6cb31a4ad044d3a0b2706a56a26f4d",
       "max": 876000,
       "min": 8760,
       "style": "IPY_MODEL_e8aaccd476bc4c0cb772ad35e7968e89",
       "value": 87600
      }
     },
     "34533f6f3163426ebe69f70431c99898": {
      "model_module": "@jupyter-widgets/controls",
      "model_module_version": "1.5.0",
      "model_name": "FloatSliderModel",
      "state": {
       "description": "shape",
       "layout": "IPY_MODEL_d48c4564016a4b7ab2c019735a1a183a",
       "max": 4.5,
       "min": -1.5,
       "step": 0.1,
       "style": "IPY_MODEL_d1ffe6e750e2498e8ad8c73f2ec91506",
       "value": 1.5
      }
     },
     "34d97be366154f6f8e3c667c075d5e2e": {
      "model_module": "@jupyter-widgets/output",
      "model_module_version": "1.0.0",
      "model_name": "OutputModel",
      "state": {
       "layout": "IPY_MODEL_33fab588d35f4097bbba7300ea44b2aa",
       "outputs": [
        {
         "data": {
          "image/png": "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\n",
          "text/plain": "<Figure size 432x288 with 1 Axes>"
         },
         "metadata": {
          "needs_background": "light"
         },
         "output_type": "display_data"
        }
       ]
      }
     },
     "3512c5b4ebef423ca7cc6100f33ef03d": {
      "model_module": "@jupyter-widgets/base",
      "model_module_version": "1.2.0",
      "model_name": "LayoutModel",
      "state": {}
     },
     "35344c2c0e004553b4993ca9fa1c3da2": {
      "model_module": "@jupyter-widgets/controls",
      "model_module_version": "1.5.0",
      "model_name": "BoundedFloatTextModel",
      "state": {
       "description": "Scale parameter  (hrs):",
       "layout": "IPY_MODEL_a422b4552a7241c99906106112ca229a",
       "max": 876000,
       "min": 8760,
       "step": 1,
       "style": "IPY_MODEL_4726d3e7be0543e29de81374bc6730ad",
       "value": 13140
      }
     },
     "355336595d3a405788e10a8f6f4f18f0": {
      "model_module": "@jupyter-widgets/controls",
      "model_module_version": "1.5.0",
      "model_name": "BoundedIntTextModel",
      "state": {
       "description": "No of Simulation:",
       "layout": "IPY_MODEL_a368f13a8f674769b6398c0600b6b78c",
       "max": 1000,
       "min": 100,
       "style": "IPY_MODEL_c7bb21e773ce4de18939b7a556ce9b56",
       "value": 100
      }
     },
     "358038981e064786b49f0d228387848d": {
      "model_module": "@jupyter-widgets/base",
      "model_module_version": "1.2.0",
      "model_name": "LayoutModel",
      "state": {}
     },
     "36002305c5f2483da4041552b13df2e6": {
      "model_module": "@jupyter-widgets/controls",
      "model_module_version": "1.5.0",
      "model_name": "BoundedFloatTextModel",
      "state": {
       "description": "Shape parameter:",
       "layout": "IPY_MODEL_29b2739a5ce34eeca3005d076a6df117",
       "max": 10,
       "min": 1,
       "step": 1,
       "style": "IPY_MODEL_f5443c8680e64f7a8c92c8072a747e7b",
       "value": 1.5
      }
     },
     "365a934cb36d4b0093d8f4b064746107": {
      "model_module": "@jupyter-widgets/base",
      "model_module_version": "1.2.0",
      "model_name": "LayoutModel",
      "state": {}
     },
     "3681e86015524beea206d5295351e5fb": {
      "model_module": "@jupyter-widgets/base",
      "model_module_version": "1.2.0",
      "model_name": "LayoutModel",
      "state": {}
     },
     "368f9f2d61cd474a9b6917eeea1704ac": {
      "model_module": "@jupyter-widgets/base",
      "model_module_version": "1.2.0",
      "model_name": "LayoutModel",
      "state": {}
     },
     "36a562001506403b8869d193b5085aa4": {
      "model_module": "@jupyter-widgets/base",
      "model_module_version": "1.2.0",
      "model_name": "LayoutModel",
      "state": {}
     },
     "36cda569dec94449aa2a58af3e4a5d18": {
      "model_module": "@jupyter-widgets/controls",
      "model_module_version": "1.5.0",
      "model_name": "BoundedIntTextModel",
      "state": {
       "description": "No of Simulatio:",
       "layout": "IPY_MODEL_69fdf943caab4a48abd4b1db46122703",
       "max": 1000,
       "min": 10,
       "style": "IPY_MODEL_0d7448b9fd254e7cad79efb6fff001b7",
       "value": 100
      }
     },
     "36e35a4c18284575b2905386f07de466": {
      "model_module": "@jupyter-widgets/controls",
      "model_module_version": "1.5.0",
      "model_name": "BoundedFloatTextModel",
      "state": {
       "description": "Shape parameter:",
       "layout": "IPY_MODEL_92d3456a092249bd9e2f586f1fdd8bd8",
       "max": 10,
       "min": 1,
       "step": 1,
       "style": "IPY_MODEL_e5007c68e00844e4afdda99dcc378f14",
       "value": 1.5
      }
     },
     "370939ce1dd84499ba4d3831dd02e975": {
      "model_module": "@jupyter-widgets/controls",
      "model_module_version": "1.5.0",
      "model_name": "DescriptionStyleModel",
      "state": {
       "description_width": "initial"
      }
     },
     "37d5cb33670d4bebb070139a0a954dc3": {
      "model_module": "@jupyter-widgets/controls",
      "model_module_version": "1.5.0",
      "model_name": "BoundedFloatTextModel",
      "state": {
       "description": "CM right time (hrs):",
       "layout": "IPY_MODEL_2367eba067c24208bd4e0bee3f12ceb7",
       "max": 26280,
       "min": 3,
       "step": 1,
       "style": "IPY_MODEL_3f10a4ab36324989a978726226acc40a",
       "value": 920
      }
     },
     "37dd0f5f666b42279ab8a2a9ea4323bc": {
      "model_module": "@jupyter-widgets/controls",
      "model_module_version": "1.5.0",
      "model_name": "BoundedFloatTextModel",
      "state": {
       "description": "Shape parameter:",
       "layout": "IPY_MODEL_7c595c99b88d4b668eee7a39aaad5ae7",
       "max": 10,
       "min": 1,
       "step": 1,
       "style": "IPY_MODEL_93de6c33c67b4bb8bf563b0a02492d32",
       "value": 1.5
      }
     },
     "37e3c5b139f3444cb108dcce3d73e6ce": {
      "model_module": "@jupyter-widgets/controls",
      "model_module_version": "1.5.0",
      "model_name": "ButtonStyleModel",
      "state": {}
     },
     "3823f261d16947c180e85f01e6438c4d": {
      "model_module": "@jupyter-widgets/controls",
      "model_module_version": "1.5.0",
      "model_name": "SliderStyleModel",
      "state": {
       "description_width": ""
      }
     },
     "3874ace6b938462cbea23e99ab6d0e3c": {
      "model_module": "@jupyter-widgets/base",
      "model_module_version": "1.2.0",
      "model_name": "LayoutModel",
      "state": {}
     },
     "3889ed4c43964f6eb20026d5a8d15c88": {
      "model_module": "@jupyter-widgets/controls",
      "model_module_version": "1.5.0",
      "model_name": "DescriptionStyleModel",
      "state": {
       "description_width": "initial"
      }
     },
     "389fdcd6439a4408a518882b9c6b197f": {
      "model_module": "@jupyter-widgets/controls",
      "model_module_version": "1.5.0",
      "model_name": "BoundedIntTextModel",
      "state": {
       "description": "No of Simulation:",
       "layout": "IPY_MODEL_c3e7b4c4f33648c2bb7ceca80a970782",
       "max": 1000,
       "min": 100,
       "step": 50,
       "style": "IPY_MODEL_6f4a1e2891cb4525ac540b0fc3ebde2d",
       "value": 100
      }
     },
     "38f48f82317d49e18949668d38225d75": {
      "model_module": "@jupyter-widgets/controls",
      "model_module_version": "1.5.0",
      "model_name": "BoundedFloatTextModel",
      "state": {
       "description": "CM mode time (hrs):",
       "layout": "IPY_MODEL_ebea4318b5bc4d9e984e7a29d64d2548",
       "max": 26280,
       "min": 2,
       "step": 1,
       "style": "IPY_MODEL_234b872303284d40835723bbc087aa9d",
       "value": 720
      }
     },
     "3924aa8d8b8641c7babe2ee837e366f6": {
      "model_module": "@jupyter-widgets/controls",
      "model_module_version": "1.5.0",
      "model_name": "DescriptionStyleModel",
      "state": {
       "description_width": "initial"
      }
     },
     "39659a1dc6c94d49b57b7d57f2e62059": {
      "model_module": "@jupyter-widgets/controls",
      "model_module_version": "1.5.0",
      "model_name": "BoundedFloatTextModel",
      "state": {
       "description": "PM mode time (hrs):",
       "layout": "IPY_MODEL_8dd3a3d7cd48422bbd17e564aa701188",
       "max": 26280,
       "min": 2,
       "step": 1,
       "style": "IPY_MODEL_9dfeff9e7ac647bbb459f2bf694b83af",
       "value": 120
      }
     },
     "3975213cd74346c8b8a504b467b01ef1": {
      "model_module": "@jupyter-widgets/base",
      "model_module_version": "1.2.0",
      "model_name": "LayoutModel",
      "state": {}
     },
     "39ab5bceb5344edd84490d5633a88511": {
      "model_module": "@jupyter-widgets/base",
      "model_module_version": "1.2.0",
      "model_name": "LayoutModel",
      "state": {}
     },
     "39b2ec8e688341a39bd30f8ebe82999d": {
      "model_module": "@jupyter-widgets/base",
      "model_module_version": "1.2.0",
      "model_name": "LayoutModel",
      "state": {}
     },
     "39bfb05fab0e46a9a80cfa6529435850": {
      "model_module": "@jupyter-widgets/controls",
      "model_module_version": "1.5.0",
      "model_name": "DescriptionStyleModel",
      "state": {
       "description_width": "initial"
      }
     },
     "39d7be1e01cd4b759b84ca8ad51e5dbc": {
      "model_module": "@jupyter-widgets/controls",
      "model_module_version": "1.5.0",
      "model_name": "VBoxModel",
      "state": {
       "_dom_classes": [
        "widget-interact"
       ],
       "children": [
        "IPY_MODEL_4830ff5842db41e0a0b478ab205e40cd",
        "IPY_MODEL_050f2ac1f25f452b9dbaf101745cfc62",
        "IPY_MODEL_33693e4bf90448f08f2aa935a78057af"
       ],
       "layout": "IPY_MODEL_bde7814aa7f24a7ab170afb68a891a34"
      }
     },
     "39da1350ec5d494c944dee1cd286faa8": {
      "model_module": "@jupyter-widgets/controls",
      "model_module_version": "1.5.0",
      "model_name": "BoundedFloatTextModel",
      "state": {
       "description": "CM left time (hrs):",
       "layout": "IPY_MODEL_464ddf9069f94488a3874e71fffb7070",
       "max": 26280,
       "min": 1,
       "step": 1,
       "style": "IPY_MODEL_b2fc97cfa6e04cf38f537f3eb1a1ee58",
       "value": 520
      }
     },
     "39ec3f328de84b9bbb094f99ccafbace": {
      "model_module": "@jupyter-widgets/controls",
      "model_module_version": "1.5.0",
      "model_name": "VBoxModel",
      "state": {
       "_dom_classes": [
        "widget-interact"
       ],
       "children": [
        "IPY_MODEL_34533f6f3163426ebe69f70431c99898",
        "IPY_MODEL_ede638eac0cd425389552d58890cb933",
        "IPY_MODEL_c90e7e97c5bc420fbbcc4ef86d681d90"
       ],
       "layout": "IPY_MODEL_c73eac7836c54b44987edbfcf9adbc0f"
      }
     },
     "39f064a9c6b6452aaa489ceb211133e2": {
      "model_module": "@jupyter-widgets/controls",
      "model_module_version": "1.5.0",
      "model_name": "BoundedIntTextModel",
      "state": {
       "description": "Sim. Period (hrs):",
       "layout": "IPY_MODEL_a1a9de34ec7e430bb7d23ef8da34196e",
       "max": 876000,
       "min": 8760,
       "style": "IPY_MODEL_d3ce1c406acd42f2a7980343d60f1069",
       "value": 87600
      }
     },
     "3a0762dd7d8c43429c516ae05a46d43e": {
      "model_module": "@jupyter-widgets/controls",
      "model_module_version": "1.5.0",
      "model_name": "FloatSliderModel",
      "state": {
       "description": "shape",
       "layout": "IPY_MODEL_532509ef15db4b53b0b564a40b006d59",
       "max": 4.5,
       "min": -1.5,
       "step": 0.1,
       "style": "IPY_MODEL_307ad09ff4294a74b1bd85c3257b2a46",
       "value": 1.5
      }
     },
     "3a1e011de3ac4136ba9b873bc0021d4a": {
      "model_module": "@jupyter-widgets/base",
      "model_module_version": "1.2.0",
      "model_name": "LayoutModel",
      "state": {}
     },
     "3a66d4c848da421c995f4ee1f5d202ce": {
      "model_module": "@jupyter-widgets/controls",
      "model_module_version": "1.5.0",
      "model_name": "ButtonStyleModel",
      "state": {}
     },
     "3aaf9431bff64fb5bffd6559bd3c10c6": {
      "model_module": "@jupyter-widgets/controls",
      "model_module_version": "1.5.0",
      "model_name": "BoundedFloatTextModel",
      "state": {
       "description": "PM left time (hrs):",
       "layout": "IPY_MODEL_2a1de0d77ad2434aaaa7cfe69b56a1af",
       "max": 26280,
       "min": 1,
       "step": 24,
       "style": "IPY_MODEL_606a5e689b454d5e91e8a3788064de8b",
       "value": 96
      }
     },
     "3ac0495595c142d3ae52e856f5a3d709": {
      "model_module": "@jupyter-widgets/controls",
      "model_module_version": "1.5.0",
      "model_name": "BoundedFloatTextModel",
      "state": {
       "description": "PM freq  (hrs):",
       "layout": "IPY_MODEL_c1532b72a86f4da0aa80a6c8aecc588a",
       "max": 876000,
       "min": 8760,
       "step": 1,
       "style": "IPY_MODEL_5f184d7fe8f74d9abf42752f270eb6a0",
       "value": 17520
      }
     },
     "3b3c639f28164be98e9a70e97db85286": {
      "model_module": "@jupyter-widgets/controls",
      "model_module_version": "1.5.0",
      "model_name": "BoundedIntTextModel",
      "state": {
       "description": "No of Simulatio:",
       "layout": "IPY_MODEL_5313d3b4982549a1a2079be3946135a8",
       "max": 1000,
       "min": 10,
       "style": "IPY_MODEL_9e1e5aa24de24f51b3a876c578c38ca8",
       "value": 100
      }
     },
     "3b3efb850c704a59b6361e175d590515": {
      "model_module": "@jupyter-widgets/base",
      "model_module_version": "1.2.0",
      "model_name": "LayoutModel",
      "state": {}
     },
     "3b67b178c25941c29d91815b25c90db8": {
      "model_module": "@jupyter-widgets/controls",
      "model_module_version": "1.5.0",
      "model_name": "HBoxModel",
      "state": {
       "children": [
        "IPY_MODEL_df506672e0fb455f85f031911274ec0b",
        "IPY_MODEL_2b03c929dbed4ba5bb6d25024d29b18e",
        "IPY_MODEL_84665e30e3ed4cc8a1bece7601077b6a"
       ],
       "layout": "IPY_MODEL_e52b3aa48d794a7aa39b62416f248391"
      }
     },
     "3b75315b21a54ad3bd07b1791622bbfd": {
      "model_module": "@jupyter-widgets/controls",
      "model_module_version": "1.5.0",
      "model_name": "DescriptionStyleModel",
      "state": {
       "description_width": "initial"
      }
     },
     "3bb9916f3e204d1886d19f1b430e110d": {
      "model_module": "@jupyter-widgets/base",
      "model_module_version": "1.2.0",
      "model_name": "LayoutModel",
      "state": {}
     },
     "3c5344cdb56849f39b9d54f7bdbfd15e": {
      "model_module": "@jupyter-widgets/controls",
      "model_module_version": "1.5.0",
      "model_name": "VBoxModel",
      "state": {
       "children": [
        "IPY_MODEL_f79c96643c034e9d95eb367ec90dc61d",
        "IPY_MODEL_bc28b46384504ce08e74fc680dc2d66a",
        "IPY_MODEL_405c85df10d04d98b0ba28d7b7a8d9bd",
        "IPY_MODEL_ff3669205569480986de0f87f10598f1"
       ],
       "layout": "IPY_MODEL_b0465e5bee0c4439aa1ddb1a1baf46e9"
      }
     },
     "3c954c17ac5e4a8a8ddde90efd8550ab": {
      "model_module": "@jupyter-widgets/base",
      "model_module_version": "1.2.0",
      "model_name": "LayoutModel",
      "state": {}
     },
     "3ceba62db2754597aa11fd65452c923b": {
      "model_module": "@jupyter-widgets/controls",
      "model_module_version": "1.5.0",
      "model_name": "DescriptionStyleModel",
      "state": {
       "description_width": "initial"
      }
     },
     "3d02ac236a814e978c333398e075235c": {
      "model_module": "@jupyter-widgets/output",
      "model_module_version": "1.0.0",
      "model_name": "OutputModel",
      "state": {
       "layout": "IPY_MODEL_e186d0999497421c8ea4c460e331b152"
      }
     },
     "3d1ac92b94b14b759e7e5d79c5e5fd20": {
      "model_module": "@jupyter-widgets/base",
      "model_module_version": "1.2.0",
      "model_name": "LayoutModel",
      "state": {}
     },
     "3d1c3868a26a4eaab4342a9301bdb233": {
      "model_module": "@jupyter-widgets/controls",
      "model_module_version": "1.5.0",
      "model_name": "BoundedFloatTextModel",
      "state": {
       "description": "CM mode time (hrs):",
       "layout": "IPY_MODEL_9767bf04877d466c97ae0163b52165af",
       "max": 26280,
       "min": 2,
       "step": 24,
       "style": "IPY_MODEL_f4e34381565f4a98b38c7f0d5fcffd6c",
       "value": 720
      }
     },
     "3db5b13cf27845ad9e2543a442fdece5": {
      "model_module": "@jupyter-widgets/controls",
      "model_module_version": "1.5.0",
      "model_name": "ButtonModel",
      "state": {
       "button_style": "success",
       "description": "Run Simulation",
       "layout": "IPY_MODEL_cd2f43ff22774786bb463fd282347b46",
       "style": "IPY_MODEL_7d89176a4d6142fc9616aa6b6c6d8fa5",
       "tooltip": "Click me"
      }
     },
     "3e037f9978ca4544a6815381c7f4b3e8": {
      "model_module": "@jupyter-widgets/controls",
      "model_module_version": "1.5.0",
      "model_name": "BoundedFloatTextModel",
      "state": {
       "description": "PM left time (hrs):",
       "layout": "IPY_MODEL_2dd960e6041f41e18e8ded8fc76004e4",
       "max": 26280,
       "min": 1,
       "step": 1,
       "style": "IPY_MODEL_b319b15596264edebeb0fc049818761c",
       "value": 96
      }
     },
     "3e45140970fc4987bb5fba21b778faf7": {
      "model_module": "@jupyter-widgets/base",
      "model_module_version": "1.2.0",
      "model_name": "LayoutModel",
      "state": {}
     },
     "3e4807358f514949982a3b64662f832e": {
      "model_module": "@jupyter-widgets/controls",
      "model_module_version": "1.5.0",
      "model_name": "DescriptionStyleModel",
      "state": {
       "description_width": "initial"
      }
     },
     "3ebfd11c1e2c401aad0266eb441e7f4d": {
      "model_module": "@jupyter-widgets/controls",
      "model_module_version": "1.5.0",
      "model_name": "DescriptionStyleModel",
      "state": {
       "description_width": "initial"
      }
     },
     "3f10a4ab36324989a978726226acc40a": {
      "model_module": "@jupyter-widgets/controls",
      "model_module_version": "1.5.0",
      "model_name": "DescriptionStyleModel",
      "state": {
       "description_width": "initial"
      }
     },
     "3f3cf59401b24b909d518cf7e3e83acb": {
      "model_module": "@jupyter-widgets/base",
      "model_module_version": "1.2.0",
      "model_name": "LayoutModel",
      "state": {}
     },
     "3f46ab75f95349ccbd20c378a3ccfea7": {
      "model_module": "@jupyter-widgets/base",
      "model_module_version": "1.2.0",
      "model_name": "LayoutModel",
      "state": {}
     },
     "3fa8f3ac8d004bf888c60a884ac99e78": {
      "model_module": "@jupyter-widgets/base",
      "model_module_version": "1.2.0",
      "model_name": "LayoutModel",
      "state": {}
     },
     "3fb99abfcba346b18bbbe56f710a620a": {
      "model_module": "@jupyter-widgets/base",
      "model_module_version": "1.2.0",
      "model_name": "LayoutModel",
      "state": {}
     },
     "3fc0b99678b44266bdbab75150a59de3": {
      "model_module": "@jupyter-widgets/controls",
      "model_module_version": "1.5.0",
      "model_name": "BoundedFloatTextModel",
      "state": {
       "description": "PM toler  (hrs):",
       "layout": "IPY_MODEL_69a2cc8e6aa64231a650bb7733691427",
       "max": 17520,
       "min": 1,
       "step": 24,
       "style": "IPY_MODEL_964e8cad61964f699debde2df43c7272",
       "value": 720
      }
     },
     "3feadf453e58447c845d10b9806eba2a": {
      "model_module": "@jupyter-widgets/controls",
      "model_module_version": "1.5.0",
      "model_name": "BoundedFloatTextModel",
      "state": {
       "description": "CM mode time (hrs):",
       "layout": "IPY_MODEL_5f35d96746c5466791ed0da33b14b12d",
       "max": 26280,
       "min": 2,
       "step": 1,
       "style": "IPY_MODEL_adff1e2146424bd68987481541d3c040",
       "value": 720
      }
     },
     "400a51e7457848a3b7516c815716e8aa": {
      "model_module": "@jupyter-widgets/controls",
      "model_module_version": "1.5.0",
      "model_name": "DescriptionStyleModel",
      "state": {
       "description_width": "initial"
      }
     },
     "405236b4e0bd4c2db71abdf5ee7d8c19": {
      "model_module": "@jupyter-widgets/controls",
      "model_module_version": "1.5.0",
      "model_name": "VBoxModel",
      "state": {
       "children": [
        "IPY_MODEL_39da1350ec5d494c944dee1cd286faa8",
        "IPY_MODEL_ac4fe6f349934992b754ecc9501d81ab",
        "IPY_MODEL_a0ad5133da3049e8a946a025fb5099bc",
        "IPY_MODEL_9d7dfcd6073444af800fc6db543aa553",
        "IPY_MODEL_3db5b13cf27845ad9e2543a442fdece5"
       ],
       "layout": "IPY_MODEL_21a8e3ff3dec4b6f99213a90c348b062"
      }
     },
     "405c85df10d04d98b0ba28d7b7a8d9bd": {
      "model_module": "@jupyter-widgets/controls",
      "model_module_version": "1.5.0",
      "model_name": "BoundedFloatTextModel",
      "state": {
       "description": "Scale parameter  (hrs):",
       "layout": "IPY_MODEL_2deb5ef6d8d3440b8fec26e9a6ad91e8",
       "max": 876000,
       "min": 8760,
       "step": 1,
       "style": "IPY_MODEL_d7791a27ad4b4a849a8ead9ae613bffb",
       "value": 13140
      }
     },
     "40620dba63884c76839245d51c3ee717": {
      "model_module": "@jupyter-widgets/controls",
      "model_module_version": "1.5.0",
      "model_name": "BoundedFloatTextModel",
      "state": {
       "description": "CM right time (hrs):",
       "layout": "IPY_MODEL_9432698fd0b44b08afdbe4f62e7f2eae",
       "max": 26280,
       "min": 3,
       "step": 24,
       "style": "IPY_MODEL_0b682a9596d54811bf6a1c35a5da23fa",
       "value": 920
      }
     },
     "40f20cf455a74fe4b81c889e62f2227d": {
      "model_module": "@jupyter-widgets/controls",
      "model_module_version": "1.5.0",
      "model_name": "DescriptionStyleModel",
      "state": {
       "description_width": "initial"
      }
     },
     "413efab564fa495c80bb06cc08136634": {
      "model_module": "@jupyter-widgets/controls",
      "model_module_version": "1.5.0",
      "model_name": "VBoxModel",
      "state": {
       "children": [
        "IPY_MODEL_40620dba63884c76839245d51c3ee717",
        "IPY_MODEL_0e0e82d5a5cf41998e71283f276e2b3f",
        "IPY_MODEL_70f3cb51d9864b069aa1a2a1be6d9137",
        "IPY_MODEL_e6dba31e6df94b9f9e5fc9131d001b09"
       ],
       "layout": "IPY_MODEL_6ce49a941f01426c8f4f0c8ec16f5c85"
      }
     },
     "414aaf903ad6487883806a542fbcc1a3": {
      "model_module": "@jupyter-widgets/base",
      "model_module_version": "1.2.0",
      "model_name": "LayoutModel",
      "state": {}
     },
     "418d38e53bc74d61b7a4d17bd47ad56a": {
      "model_module": "@jupyter-widgets/base",
      "model_module_version": "1.2.0",
      "model_name": "LayoutModel",
      "state": {}
     },
     "4232f13913684ba28d8c2dfd9deca55e": {
      "model_module": "@jupyter-widgets/controls",
      "model_module_version": "1.5.0",
      "model_name": "BoundedFloatTextModel",
      "state": {
       "description": "Shape parameter:",
       "layout": "IPY_MODEL_74760160ff91430797b9bd9b58415953",
       "max": 30,
       "min": 1,
       "step": 1,
       "style": "IPY_MODEL_037bb41e77b9412a8de533dd35d99fb2",
       "value": 1.5
      }
     },
     "4250b1a22c28432f918289a0c808715d": {
      "model_module": "@jupyter-widgets/base",
      "model_module_version": "1.2.0",
      "model_name": "LayoutModel",
      "state": {}
     },
     "425ef0c16eb34948877380db9ea91bc2": {
      "model_module": "@jupyter-widgets/base",
      "model_module_version": "1.2.0",
      "model_name": "LayoutModel",
      "state": {}
     },
     "42c6f2019cbf480faca9e45e08237eaf": {
      "model_module": "@jupyter-widgets/base",
      "model_module_version": "1.2.0",
      "model_name": "LayoutModel",
      "state": {}
     },
     "42c750f4773c40d2a8487c329a3d80c3": {
      "model_module": "@jupyter-widgets/controls",
      "model_module_version": "1.5.0",
      "model_name": "HBoxModel",
      "state": {
       "children": [
        "IPY_MODEL_04d080ca99124daab9127892924234b8",
        "IPY_MODEL_b22d21a1a05b4c7e986284b81c30383e",
        "IPY_MODEL_82661e96e92944f1924ad1c6841d3e60"
       ],
       "layout": "IPY_MODEL_7e8f515da807480cbd911ef2f4d69f75"
      }
     },
     "42d93258906e4d0eb63ec4889df65848": {
      "model_module": "@jupyter-widgets/controls",
      "model_module_version": "1.5.0",
      "model_name": "BoundedFloatTextModel",
      "state": {
       "description": "PM freq  (hrs):",
       "layout": "IPY_MODEL_8cd283d5d26d48c1822ded2063de6cd4",
       "max": 876000,
       "min": 8760,
       "step": 1,
       "style": "IPY_MODEL_29744c4431c94d2287f60992d7e4bf9a",
       "value": 17520
      }
     },
     "42e3e03fa89245b7a2406a2932ccd4c6": {
      "model_module": "@jupyter-widgets/base",
      "model_module_version": "1.2.0",
      "model_name": "LayoutModel",
      "state": {}
     },
     "42ea63786d1d4edba137bd3c4fba7892": {
      "model_module": "@jupyter-widgets/controls",
      "model_module_version": "1.5.0",
      "model_name": "BoundedFloatTextModel",
      "state": {
       "description": "Series or Redund:",
       "layout": "IPY_MODEL_d82e64bdc0764d16afc9ef144ba01fc1",
       "max": 2,
       "min": 1,
       "step": 1,
       "style": "IPY_MODEL_b8afcf1eefee4b7bacbfc588cb30f345",
       "value": 2
      }
     },
     "432c710d5f0843e4a3e236414edc2df4": {
      "model_module": "@jupyter-widgets/base",
      "model_module_version": "1.2.0",
      "model_name": "LayoutModel",
      "state": {
       "border": "solid 2px green",
       "display": "flex",
       "flex_flow": "row",
       "justify_content": "center",
       "width": "100%"
      }
     },
     "432d1cf4a7fc433f81d502525acf4d23": {
      "model_module": "@jupyter-widgets/base",
      "model_module_version": "1.2.0",
      "model_name": "LayoutModel",
      "state": {}
     },
     "432f079e95304a8597210923c9719891": {
      "model_module": "@jupyter-widgets/controls",
      "model_module_version": "1.5.0",
      "model_name": "SliderStyleModel",
      "state": {
       "description_width": ""
      }
     },
     "4348d19cae5e42b0ba30c31be7d7ad6e": {
      "model_module": "@jupyter-widgets/controls",
      "model_module_version": "1.5.0",
      "model_name": "ButtonStyleModel",
      "state": {}
     },
     "439403d1a3ff484494dc9eb071693446": {
      "model_module": "@jupyter-widgets/controls",
      "model_module_version": "1.5.0",
      "model_name": "BoundedFloatTextModel",
      "state": {
       "description": "CM mode time (hrs):",
       "layout": "IPY_MODEL_ece620a6047c48bbb44bb1ff69fc188b",
       "max": 26280,
       "min": 2,
       "step": 24,
       "style": "IPY_MODEL_8007d59bb44e44f1a84840b753e55ed7",
       "value": 720
      }
     },
     "439f5e7dc2af484a9940b5304f0578bf": {
      "model_module": "@jupyter-widgets/base",
      "model_module_version": "1.2.0",
      "model_name": "LayoutModel",
      "state": {
       "border": "solid 2px green",
       "display": "flex",
       "flex_flow": "row",
       "justify_content": "center",
       "width": "100%"
      }
     },
     "43dca5d380db40e9bfa5143d950fab68": {
      "model_module": "@jupyter-widgets/controls",
      "model_module_version": "1.5.0",
      "model_name": "BoundedFloatTextModel",
      "state": {
       "description": "CM right time (hrs):",
       "layout": "IPY_MODEL_eed512cd05f84bf1bef3d84b5b8047a5",
       "max": 26280,
       "min": 3,
       "step": 1,
       "style": "IPY_MODEL_b1c4ff7db59d43b69fd9472ab61209e2",
       "value": 920
      }
     },
     "442fbc69c229491aa321a51bb90548bb": {
      "model_module": "@jupyter-widgets/controls",
      "model_module_version": "1.5.0",
      "model_name": "DescriptionStyleModel",
      "state": {
       "description_width": "150px"
      }
     },
     "443341f33ffd4c8aa077b95fb2fa03e4": {
      "model_module": "@jupyter-widgets/controls",
      "model_module_version": "1.5.0",
      "model_name": "BoundedFloatTextModel",
      "state": {
       "description": "Scale parameter  (hrs):",
       "layout": "IPY_MODEL_04572def6c7240f68e03d614b354d919",
       "max": 876000,
       "min": 8760,
       "step": 1,
       "style": "IPY_MODEL_1ecd4a22bb64409abbdeff669573e694",
       "value": 13140
      }
     },
     "44953bda159d4042be1be240726eb40e": {
      "model_module": "@jupyter-widgets/controls",
      "model_module_version": "1.5.0",
      "model_name": "ButtonStyleModel",
      "state": {}
     },
     "44d45499ec924fdbb229718f8a965810": {
      "model_module": "@jupyter-widgets/controls",
      "model_module_version": "1.5.0",
      "model_name": "DescriptionStyleModel",
      "state": {
       "description_width": "150px"
      }
     },
     "44dd7c84c16547599f4909003bfa9f14": {
      "model_module": "@jupyter-widgets/controls",
      "model_module_version": "1.5.0",
      "model_name": "BoundedFloatTextModel",
      "state": {
       "description": "PM mode time (hrs):",
       "layout": "IPY_MODEL_ebcb12db58bf4a70a286e56035228593",
       "max": 26280,
       "min": 2,
       "step": 1,
       "style": "IPY_MODEL_e47e9e99fcb44f48858e107edcfaac16",
       "value": 120
      }
     },
     "44e40311ef134830be87dcfc026b2f5a": {
      "model_module": "@jupyter-widgets/controls",
      "model_module_version": "1.5.0",
      "model_name": "BoundedFloatTextModel",
      "state": {
       "description": "PM toler  (hrs):",
       "layout": "IPY_MODEL_6dad32f3580445a7abd8df65ae0405d5",
       "max": 17520,
       "min": 1,
       "step": 24,
       "style": "IPY_MODEL_f17439c2454746c6b22b09b5ad3a9ee9",
       "value": 720
      }
     },
     "454bc42befbb4add8512a6946cf87a94": {
      "model_module": "@jupyter-widgets/controls",
      "model_module_version": "1.5.0",
      "model_name": "ButtonStyleModel",
      "state": {}
     },
     "45555cd484b04d1d8dfd8e44a3d2abb7": {
      "model_module": "@jupyter-widgets/base",
      "model_module_version": "1.2.0",
      "model_name": "LayoutModel",
      "state": {}
     },
     "459949121c3f4bdf9634eac001547a75": {
      "model_module": "@jupyter-widgets/base",
      "model_module_version": "1.2.0",
      "model_name": "LayoutModel",
      "state": {}
     },
     "459a0360000b4353a5a79e4e21020f3f": {
      "model_module": "@jupyter-widgets/base",
      "model_module_version": "1.2.0",
      "model_name": "LayoutModel",
      "state": {}
     },
     "459ead8487d44e2f89c48e94bcac45b9": {
      "model_module": "@jupyter-widgets/base",
      "model_module_version": "1.2.0",
      "model_name": "LayoutModel",
      "state": {}
     },
     "46059ba6df9046568a2c8eb02265df59": {
      "model_module": "@jupyter-widgets/base",
      "model_module_version": "1.2.0",
      "model_name": "LayoutModel",
      "state": {}
     },
     "464ddf9069f94488a3874e71fffb7070": {
      "model_module": "@jupyter-widgets/base",
      "model_module_version": "1.2.0",
      "model_name": "LayoutModel",
      "state": {}
     },
     "465ee4660d5c4965835303b108ad5c91": {
      "model_module": "@jupyter-widgets/controls",
      "model_module_version": "1.5.0",
      "model_name": "BoundedFloatTextModel",
      "state": {
       "description": "PM toler  (hrs):",
       "layout": "IPY_MODEL_60855ca19f53460ea6bfa6fb51e4f19d",
       "max": 17520,
       "min": 1,
       "step": 24,
       "style": "IPY_MODEL_44d45499ec924fdbb229718f8a965810",
       "value": 720
      }
     },
     "46b010e5da8d46259a23ce0f45dbce24": {
      "model_module": "@jupyter-widgets/base",
      "model_module_version": "1.2.0",
      "model_name": "LayoutModel",
      "state": {}
     },
     "46b3de6513434f1e8c83ee5b5cf05a0e": {
      "model_module": "@jupyter-widgets/controls",
      "model_module_version": "1.5.0",
      "model_name": "DescriptionStyleModel",
      "state": {
       "description_width": "initial"
      }
     },
     "46ba8b87f2484fb6850961cb4fa545bd": {
      "model_module": "@jupyter-widgets/controls",
      "model_module_version": "1.5.0",
      "model_name": "BoundedFloatTextModel",
      "state": {
       "description": "PM right time (hrs):",
       "layout": "IPY_MODEL_1145b06f1ac648e98eb8bc51813af219",
       "max": 26280,
       "min": 3,
       "step": 1,
       "style": "IPY_MODEL_39bfb05fab0e46a9a80cfa6529435850",
       "value": 168
      }
     },
     "4726d3e7be0543e29de81374bc6730ad": {
      "model_module": "@jupyter-widgets/controls",
      "model_module_version": "1.5.0",
      "model_name": "DescriptionStyleModel",
      "state": {
       "description_width": "initial"
      }
     },
     "472d18999c3d4e9c8c1e5fcb811a084b": {
      "model_module": "@jupyter-widgets/controls",
      "model_module_version": "1.5.0",
      "model_name": "ButtonStyleModel",
      "state": {}
     },
     "47a5f5e434af4b13a08192525c9ca20e": {
      "model_module": "@jupyter-widgets/output",
      "model_module_version": "1.0.0",
      "model_name": "OutputModel",
      "state": {
       "layout": "IPY_MODEL_256e7472cd7b426ba5f6304980530a8a"
      }
     },
     "4807f6d1349f41c49c1559dd6fd60d30": {
      "model_module": "@jupyter-widgets/output",
      "model_module_version": "1.0.0",
      "model_name": "OutputModel",
      "state": {
       "layout": "IPY_MODEL_e7aef3e5511744c4ae2c4b1abb81686c"
      }
     },
     "481a8b213f50480c87b06753fd5c01cd": {
      "model_module": "@jupyter-widgets/controls",
      "model_module_version": "1.5.0",
      "model_name": "VBoxModel",
      "state": {
       "children": [
        "IPY_MODEL_234e583cbcc24b47964cdbd019e954b2",
        "IPY_MODEL_b54358efbb4c4a549ff401ce038744a3",
        "IPY_MODEL_ca4db8c552e04476bccbefa9e5f74429",
        "IPY_MODEL_5ce046238b8c44ac9d343d17c3300c4d",
        "IPY_MODEL_6ad3d1c4d4fd474594791233c63f5654"
       ],
       "layout": "IPY_MODEL_6c2c1a89fb9f41e786bdc816a7366919"
      }
     },
     "4830ff5842db41e0a0b478ab205e40cd": {
      "model_module": "@jupyter-widgets/controls",
      "model_module_version": "1.5.0",
      "model_name": "FloatSliderModel",
      "state": {
       "description": "shape",
       "layout": "IPY_MODEL_3bb9916f3e204d1886d19f1b430e110d",
       "max": 4.5,
       "min": -1.5,
       "step": 0.1,
       "style": "IPY_MODEL_096e6a688cd643789d7d7b798a6afb47",
       "value": 1.5
      }
     },
     "48bec37ed4184fc4be78b13489bb1b9d": {
      "model_module": "@jupyter-widgets/controls",
      "model_module_version": "1.5.0",
      "model_name": "BoundedFloatTextModel",
      "state": {
       "description": "Scale parameter  (hrs):",
       "layout": "IPY_MODEL_459ead8487d44e2f89c48e94bcac45b9",
       "max": 876000,
       "min": 8760,
       "step": 1,
       "style": "IPY_MODEL_9f256805d8ea4da4a7c9215059e855e6",
       "value": 13140
      }
     },
     "48ce691c590448a0b89fce1e7d8819b8": {
      "model_module": "@jupyter-widgets/controls",
      "model_module_version": "1.5.0",
      "model_name": "DescriptionStyleModel",
      "state": {
       "description_width": "150px"
      }
     },
     "48e04aaac04a48c68b6a4a6b65b369b2": {
      "model_module": "@jupyter-widgets/controls",
      "model_module_version": "1.5.0",
      "model_name": "VBoxModel",
      "state": {
       "_dom_classes": [
        "widget-interact"
       ],
       "children": [
        "IPY_MODEL_89017eac8b864e69ab0d327be0321159",
        "IPY_MODEL_980f760812ee45faa08c403f0dba997b",
        "IPY_MODEL_17cbea32a61b4b5a8b79f03c1cc81e01",
        "IPY_MODEL_b07a264a609345a5bad30ebfe578e42f"
       ],
       "layout": "IPY_MODEL_358038981e064786b49f0d228387848d"
      }
     },
     "491ddfb669c84aafbf9af8f43a6c4d61": {
      "model_module": "@jupyter-widgets/controls",
      "model_module_version": "1.5.0",
      "model_name": "DescriptionStyleModel",
      "state": {
       "description_width": "initial"
      }
     },
     "4989645726b04ca79927b047131b46dd": {
      "model_module": "@jupyter-widgets/controls",
      "model_module_version": "1.5.0",
      "model_name": "VBoxModel",
      "state": {
       "children": [
        "IPY_MODEL_cca2f232f0344c6e9719075d736c5799",
        "IPY_MODEL_582438de4b6f4b89a2cb4479fc104065",
        "IPY_MODEL_1e5eb9ab79c3449a9cb20aff74fd8bae",
        "IPY_MODEL_0d44640d7c894717808f21428aaf42ca"
       ],
       "layout": "IPY_MODEL_8cffd4c4e41d4f6e904cccfced2e9679"
      }
     },
     "499fff1dccd54e99a51971dcc7d7f96c": {
      "model_module": "@jupyter-widgets/base",
      "model_module_version": "1.2.0",
      "model_name": "LayoutModel",
      "state": {}
     },
     "49e49339654743df9b017029ab2400ae": {
      "model_module": "@jupyter-widgets/base",
      "model_module_version": "1.2.0",
      "model_name": "LayoutModel",
      "state": {}
     },
     "49f1edffae4b4381a0bec4e07728c32d": {
      "model_module": "@jupyter-widgets/controls",
      "model_module_version": "1.5.0",
      "model_name": "BoundedIntTextModel",
      "state": {
       "description": "No of Simulation:",
       "layout": "IPY_MODEL_b4fff22d32184871bb7dee38c1b71a11",
       "max": 1000,
       "min": 10,
       "step": 50,
       "style": "IPY_MODEL_442fbc69c229491aa321a51bb90548bb",
       "value": 100
      }
     },
     "4a0a32b7780940bcab52e74495607d7f": {
      "model_module": "@jupyter-widgets/base",
      "model_module_version": "1.2.0",
      "model_name": "LayoutModel",
      "state": {}
     },
     "4b33304edf1a42eeba8e892531dad4a9": {
      "model_module": "@jupyter-widgets/controls",
      "model_module_version": "1.5.0",
      "model_name": "BoundedFloatTextModel",
      "state": {
       "description": "CM mode time (hrs):",
       "layout": "IPY_MODEL_6a89db06602c4b31b38deffd975615bd",
       "max": 26280,
       "min": 2,
       "step": 1,
       "style": "IPY_MODEL_b9f7d31ea4784476a9f4653afb1fa35f",
       "value": 720
      }
     },
     "4b3868bcded2431587f177547dd05713": {
      "model_module": "@jupyter-widgets/controls",
      "model_module_version": "1.5.0",
      "model_name": "DescriptionStyleModel",
      "state": {
       "description_width": "initial"
      }
     },
     "4b4f5318cc774ee1884e1abb1e54a1ca": {
      "model_module": "@jupyter-widgets/controls",
      "model_module_version": "1.5.0",
      "model_name": "DescriptionStyleModel",
      "state": {
       "description_width": "initial"
      }
     },
     "4b85798147544086bf5c36297da913b9": {
      "model_module": "@jupyter-widgets/controls",
      "model_module_version": "1.5.0",
      "model_name": "VBoxModel",
      "state": {
       "children": [
        "IPY_MODEL_db108f08a60a40a0bdc4907691cb7525",
        "IPY_MODEL_44dd7c84c16547599f4909003bfa9f14",
        "IPY_MODEL_4c03e3192c2247a58719d85b3e598a89",
        "IPY_MODEL_3b3c639f28164be98e9a70e97db85286"
       ],
       "layout": "IPY_MODEL_5bb188f36ec846ce863b272d18965986"
      }
     },
     "4b9cf2fd86084df2a1e53fd25d8188af": {
      "model_module": "@jupyter-widgets/controls",
      "model_module_version": "1.5.0",
      "model_name": "BoundedIntTextModel",
      "state": {
       "description": "No of Simulation:",
       "layout": "IPY_MODEL_2bdd838d5c5e4140a14292ea95e1c61d",
       "max": 1000,
       "min": 100,
       "step": 50,
       "style": "IPY_MODEL_ea27415a822d42cfa999b239150e9c85",
       "value": 100
      }
     },
     "4c03e3192c2247a58719d85b3e598a89": {
      "model_module": "@jupyter-widgets/controls",
      "model_module_version": "1.5.0",
      "model_name": "BoundedFloatTextModel",
      "state": {
       "description": "Shape parameter:",
       "layout": "IPY_MODEL_82c6590827dc441e9252f931db062337",
       "max": 10,
       "min": 1,
       "step": 1,
       "style": "IPY_MODEL_2d4f43935e4e4fbf8c578df367e277ba",
       "value": 1.5
      }
     },
     "4c59493db2ec4435bedf317cba9f5eee": {
      "model_module": "@jupyter-widgets/base",
      "model_module_version": "1.2.0",
      "model_name": "LayoutModel",
      "state": {}
     },
     "4cb988c649034df792b9fc8d6cbde87e": {
      "model_module": "@jupyter-widgets/base",
      "model_module_version": "1.2.0",
      "model_name": "LayoutModel",
      "state": {}
     },
     "4ce4a8736ca94eec8c6936f2fed2bacd": {
      "model_module": "@jupyter-widgets/controls",
      "model_module_version": "1.5.0",
      "model_name": "DescriptionStyleModel",
      "state": {
       "description_width": "initial"
      }
     },
     "4cfae44f7f8847dd9659aa6c0a8ea50a": {
      "model_module": "@jupyter-widgets/output",
      "model_module_version": "1.0.0",
      "model_name": "OutputModel",
      "state": {
       "layout": "IPY_MODEL_5bd67052a72049c3a21fb30a2c233a2d",
       "outputs": [
        {
         "name": "stdout",
         "output_type": "stream",
         "text": "       UptimeCount     CMcount     PMcount    UptimeSum       CMSum  \\\ncount   100.000000  100.000000  100.000000   100.000000  100.000000   \nmean     10.380000    6.010000    3.440000  3451.718750  179.896667   \nstd       1.568503    1.604885    0.656283    48.447011   49.411355   \nmin       7.000000    3.000000    2.000000  3319.333333   87.166667   \n25%       9.000000    5.000000    3.000000  3419.812500  147.447917   \n50%      10.000000    6.000000    4.000000  3451.833333  179.312500   \n75%      11.000000    7.000000    4.000000  3483.093750  212.250000   \nmax      14.000000   10.000000    4.000000  3541.375000  314.375000   \n\n            PMSum    Downtime  Replacements         MTBF        MTTR  \\\ncount  100.000000  100.000000    100.000000   100.000000  100.000000   \nmean    18.384583  198.281250      9.450000   622.566389   20.773577   \nstd      3.631961   48.447011      1.552938   192.871555    2.490998   \nmin     10.041667  108.625000      7.000000   331.933333   15.517857   \n25%     16.125000  166.906250      8.000000   488.544643   19.103385   \n50%     19.625000  198.166667      9.000000   575.305556   21.059975   \n75%     21.364583  230.187500     10.250000   696.618750   22.618750   \nmax     24.583333  330.666667     13.000000  1180.458333   25.802083   \n\n       Availability  \ncount    100.000000  \nmean       0.964259  \nstd        0.012762  \nmin        0.928296  \n25%        0.955740  \n50%        0.964597  \n75%        0.973136  \nmax        0.987025  \n"
        },
        {
         "data": {
          "image/png": "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\n",
          "text/plain": "<Figure size 864x504 with 6 Axes>"
         },
         "metadata": {
          "needs_background": "light"
         },
         "output_type": "display_data"
        }
       ]
      }
     },
     "4d603f78f84c42a0b4c0ee1f3abd55cb": {
      "model_module": "@jupyter-widgets/controls",
      "model_module_version": "1.5.0",
      "model_name": "DescriptionStyleModel",
      "state": {
       "description_width": ""
      }
     },
     "4dcb6dc8a3a74a62aadc28afb1acb80d": {
      "model_module": "@jupyter-widgets/controls",
      "model_module_version": "1.5.0",
      "model_name": "DescriptionStyleModel",
      "state": {
       "description_width": ""
      }
     },
     "4e2e97e1132f421889992e35d988d667": {
      "model_module": "@jupyter-widgets/controls",
      "model_module_version": "1.5.0",
      "model_name": "BoundedFloatTextModel",
      "state": {
       "description": "CM mode time (hrs):",
       "layout": "IPY_MODEL_a5330e3c117c42d1a20c8bce5bb25d40",
       "max": 26280,
       "min": 2,
       "step": 1,
       "style": "IPY_MODEL_67c3149a68654e26bf27debe4a305965",
       "value": 720
      }
     },
     "4e63bc3bc2d54b52a159ec9df1b9bb6e": {
      "model_module": "@jupyter-widgets/controls",
      "model_module_version": "1.5.0",
      "model_name": "DescriptionStyleModel",
      "state": {
       "description_width": "initial"
      }
     },
     "4e6b016b92d84fccbb48e0284236e219": {
      "model_module": "@jupyter-widgets/base",
      "model_module_version": "1.2.0",
      "model_name": "LayoutModel",
      "state": {}
     },
     "4ec94fad68ec49318e489025e6ff0bb1": {
      "model_module": "@jupyter-widgets/controls",
      "model_module_version": "1.5.0",
      "model_name": "VBoxModel",
      "state": {
       "children": [
        "IPY_MODEL_918d5454b17e420ea31c5ca6d0dc89db",
        "IPY_MODEL_7bd7f4e59f5a4bd284ff277f990c411d",
        "IPY_MODEL_c15cbe237a2f41cfab4e6af487b07755",
        "IPY_MODEL_c5234d57fd84425abba5dacf368f0fa7",
        "IPY_MODEL_008ec404b8674f40b03b1734aeaea382"
       ],
       "layout": "IPY_MODEL_5cec59d3145441aab3eab19f7969b86e"
      }
     },
     "4edb20010935420dbc6916bf181b6eb9": {
      "model_module": "@jupyter-widgets/base",
      "model_module_version": "1.2.0",
      "model_name": "LayoutModel",
      "state": {}
     },
     "4fad2e8a6042422898cae496ff526c82": {
      "model_module": "@jupyter-widgets/controls",
      "model_module_version": "1.5.0",
      "model_name": "SliderStyleModel",
      "state": {
       "description_width": ""
      }
     },
     "501847a525ea4a3db3f993b53a5de370": {
      "model_module": "@jupyter-widgets/controls",
      "model_module_version": "1.5.0",
      "model_name": "BoundedFloatTextModel",
      "state": {
       "description": "CM mode time (hrs):",
       "layout": "IPY_MODEL_414aaf903ad6487883806a542fbcc1a3",
       "max": 26280,
       "min": 2,
       "step": 24,
       "style": "IPY_MODEL_7b689227ef1e4e19a17af8be2c2f04e3",
       "value": 720
      }
     },
     "50472725208c40ee816aba9d98eb84c1": {
      "model_module": "@jupyter-widgets/controls",
      "model_module_version": "1.5.0",
      "model_name": "DescriptionStyleModel",
      "state": {
       "description_width": "initial"
      }
     },
     "50992fb959b44220b0ee1edb3262dee0": {
      "model_module": "@jupyter-widgets/base",
      "model_module_version": "1.2.0",
      "model_name": "LayoutModel",
      "state": {}
     },
     "5116d9d14a5b44e4b83f03b091913f6d": {
      "model_module": "@jupyter-widgets/controls",
      "model_module_version": "1.5.0",
      "model_name": "SliderStyleModel",
      "state": {
       "description_width": ""
      }
     },
     "517488707f2b4d4e9d59fe9e7b02a6de": {
      "model_module": "@jupyter-widgets/base",
      "model_module_version": "1.2.0",
      "model_name": "LayoutModel",
      "state": {}
     },
     "51c19b36cd974860a422571b2e12d856": {
      "model_module": "@jupyter-widgets/controls",
      "model_module_version": "1.5.0",
      "model_name": "BoundedFloatTextModel",
      "state": {
       "description": "PM right time (hrs):",
       "layout": "IPY_MODEL_e0e071df07a34e9ca892d2f21b0d67e2",
       "max": 26280,
       "min": 3,
       "step": 1,
       "style": "IPY_MODEL_256babb809ee49b5af882a0cf4b8f295",
       "value": 168
      }
     },
     "522e7fb0409f4fe481c39896e4335cdd": {
      "model_module": "@jupyter-widgets/controls",
      "model_module_version": "1.5.0",
      "model_name": "DescriptionStyleModel",
      "state": {
       "description_width": "150px"
      }
     },
     "522f9ab1358349a592341ea16c278a94": {
      "model_module": "@jupyter-widgets/controls",
      "model_module_version": "1.5.0",
      "model_name": "SliderStyleModel",
      "state": {
       "description_width": ""
      }
     },
     "5299504d66714db095737d31ca96205f": {
      "model_module": "@jupyter-widgets/controls",
      "model_module_version": "1.5.0",
      "model_name": "BoundedFloatTextModel",
      "state": {
       "description": "Series or Redund:",
       "layout": "IPY_MODEL_feb137c8f8d94e5d914df8ae069d010d",
       "max": 2,
       "min": 1,
       "step": 1,
       "style": "IPY_MODEL_0d76e61523554a69b60aa635bb95840b",
       "value": 2
      }
     },
     "52a5ad8c1d0b46c0bf6cb2073d909916": {
      "model_module": "@jupyter-widgets/controls",
      "model_module_version": "1.5.0",
      "model_name": "DescriptionStyleModel",
      "state": {
       "description_width": "initial"
      }
     },
     "52b20b65531a47d3b1902408a64c72a4": {
      "model_module": "@jupyter-widgets/base",
      "model_module_version": "1.2.0",
      "model_name": "LayoutModel",
      "state": {}
     },
     "5313d3b4982549a1a2079be3946135a8": {
      "model_module": "@jupyter-widgets/base",
      "model_module_version": "1.2.0",
      "model_name": "LayoutModel",
      "state": {}
     },
     "532509ef15db4b53b0b564a40b006d59": {
      "model_module": "@jupyter-widgets/base",
      "model_module_version": "1.2.0",
      "model_name": "LayoutModel",
      "state": {}
     },
     "5331aca5dd9d4f3492f966fc743ce82f": {
      "model_module": "@jupyter-widgets/base",
      "model_module_version": "1.2.0",
      "model_name": "LayoutModel",
      "state": {}
     },
     "533f7f80c69d47e99d41769da934089d": {
      "model_module": "@jupyter-widgets/controls",
      "model_module_version": "1.5.0",
      "model_name": "DescriptionStyleModel",
      "state": {
       "description_width": "initial"
      }
     },
     "5377d5f6b8534cf3836e734c194e3a4f": {
      "model_module": "@jupyter-widgets/controls",
      "model_module_version": "1.5.0",
      "model_name": "DescriptionStyleModel",
      "state": {
       "description_width": "150px"
      }
     },
     "53cb2a36af9d4057a8d6cfc4bc2b51ac": {
      "model_module": "@jupyter-widgets/base",
      "model_module_version": "1.2.0",
      "model_name": "LayoutModel",
      "state": {}
     },
     "5423f5d5ef954bbaa62740044f592b9b": {
      "model_module": "@jupyter-widgets/base",
      "model_module_version": "1.2.0",
      "model_name": "LayoutModel",
      "state": {}
     },
     "542cd8788dda40ffbdc65b6430dc0e3d": {
      "model_module": "@jupyter-widgets/base",
      "model_module_version": "1.2.0",
      "model_name": "LayoutModel",
      "state": {}
     },
     "54c5597af2fd4ff48386048f13ad360d": {
      "model_module": "@jupyter-widgets/base",
      "model_module_version": "1.2.0",
      "model_name": "LayoutModel",
      "state": {}
     },
     "54c69d574ff34fe5aaba867bd47e27d3": {
      "model_module": "@jupyter-widgets/controls",
      "model_module_version": "1.5.0",
      "model_name": "BoundedFloatTextModel",
      "state": {
       "description": "PM left time (hrs):",
       "layout": "IPY_MODEL_4cb988c649034df792b9fc8d6cbde87e",
       "max": 26280,
       "min": 1,
       "step": 1,
       "style": "IPY_MODEL_908c269aaf414914bc3ce57d5ecc69e2",
       "value": 96
      }
     },
     "54d20d404bfc463b8fe417569504187d": {
      "model_module": "@jupyter-widgets/base",
      "model_module_version": "1.2.0",
      "model_name": "LayoutModel",
      "state": {}
     },
     "55073aa8f74f4d11b570c91a431a923b": {
      "model_module": "@jupyter-widgets/controls",
      "model_module_version": "1.5.0",
      "model_name": "BoundedFloatTextModel",
      "state": {
       "description": "CM right time (hrs):",
       "layout": "IPY_MODEL_31cb1b626af840dfb4327111a7aa3923",
       "max": 26280,
       "min": 3,
       "step": 24,
       "style": "IPY_MODEL_af17a4deac9e4ae3b1ccc3b956a7454e",
       "value": 920
      }
     },
     "552fe39294264007b5729842811f380e": {
      "model_module": "@jupyter-widgets/base",
      "model_module_version": "1.2.0",
      "model_name": "LayoutModel",
      "state": {}
     },
     "554a723f2d3840319e2e43bc4b6b1771": {
      "model_module": "@jupyter-widgets/base",
      "model_module_version": "1.2.0",
      "model_name": "LayoutModel",
      "state": {}
     },
     "556cece36fc64bd4948d56191a145d1c": {
      "model_module": "@jupyter-widgets/base",
      "model_module_version": "1.2.0",
      "model_name": "LayoutModel",
      "state": {}
     },
     "5635ccc0286049449e77dcfac7a6c8c4": {
      "model_module": "@jupyter-widgets/base",
      "model_module_version": "1.2.0",
      "model_name": "LayoutModel",
      "state": {}
     },
     "56505e5dd6c044248fff29742b18bd42": {
      "model_module": "@jupyter-widgets/base",
      "model_module_version": "1.2.0",
      "model_name": "LayoutModel",
      "state": {}
     },
     "569b37df4d2642f09499b7235ed6a198": {
      "model_module": "@jupyter-widgets/base",
      "model_module_version": "1.2.0",
      "model_name": "LayoutModel",
      "state": {}
     },
     "56a16e751b10407086746a8e0140ed18": {
      "model_module": "@jupyter-widgets/controls",
      "model_module_version": "1.5.0",
      "model_name": "BoundedFloatTextModel",
      "state": {
       "description": "Shape parameter:",
       "layout": "IPY_MODEL_365a934cb36d4b0093d8f4b064746107",
       "max": 10,
       "min": 1,
       "step": 1,
       "style": "IPY_MODEL_040b6b0327584b239e255546cd888304",
       "value": 1.5
      }
     },
     "56b667c97aed4cab9f5fde3b2aec9435": {
      "model_module": "@jupyter-widgets/controls",
      "model_module_version": "1.5.0",
      "model_name": "DescriptionStyleModel",
      "state": {
       "description_width": "initial"
      }
     },
     "56defb4a7a7b4347ab08817f9983cea1": {
      "model_module": "@jupyter-widgets/controls",
      "model_module_version": "1.5.0",
      "model_name": "BoundedFloatTextModel",
      "state": {
       "description": "PM left time (hrs):",
       "layout": "IPY_MODEL_36a562001506403b8869d193b5085aa4",
       "max": 26280,
       "min": 1,
       "step": 1,
       "style": "IPY_MODEL_d7d957d408124a41a8a7f5f7b3af3fd6",
       "value": 96
      }
     },
     "56ecca1a6e1045cc9eb956dd78d5324a": {
      "model_module": "@jupyter-widgets/controls",
      "model_module_version": "1.5.0",
      "model_name": "DescriptionStyleModel",
      "state": {
       "description_width": "150px"
      }
     },
     "5716052cc84146a4b975bc1934245d82": {
      "model_module": "@jupyter-widgets/controls",
      "model_module_version": "1.5.0",
      "model_name": "BoundedFloatTextModel",
      "state": {
       "description": "PM freq  (hrs):",
       "layout": "IPY_MODEL_b978ab3bd21e4c1789a3e6323c19dbdb",
       "max": 876000,
       "min": 8760,
       "step": 1,
       "style": "IPY_MODEL_f7d6a1b67b274a0d8e6a289b5ad684bc",
       "value": 17520
      }
     },
     "572d7cd0a681440383a723e7778ef5da": {
      "model_module": "@jupyter-widgets/base",
      "model_module_version": "1.2.0",
      "model_name": "LayoutModel",
      "state": {}
     },
     "5760fa03221445aabd710b0febc88486": {
      "model_module": "@jupyter-widgets/controls",
      "model_module_version": "1.5.0",
      "model_name": "VBoxModel",
      "state": {
       "children": [
        "IPY_MODEL_cb3d5f10ffa84ba8bfef0de2752ef4a2",
        "IPY_MODEL_11c224cca0f94a59ab7dbcc99463254a",
        "IPY_MODEL_42d93258906e4d0eb63ec4889df65848",
        "IPY_MODEL_e95353e31bc4449b81e2aa4e0458fd70",
        "IPY_MODEL_d8521fdde2ea4d21aa8a0d993114a637"
       ],
       "layout": "IPY_MODEL_d5a6a47f66274949be176247d0eda0c6"
      }
     },
     "581371767c1e4cf39c0039705107bc7f": {
      "model_module": "@jupyter-widgets/controls",
      "model_module_version": "1.5.0",
      "model_name": "DescriptionStyleModel",
      "state": {
       "description_width": "initial"
      }
     },
     "582438de4b6f4b89a2cb4479fc104065": {
      "model_module": "@jupyter-widgets/controls",
      "model_module_version": "1.5.0",
      "model_name": "BoundedFloatTextModel",
      "state": {
       "description": "PM mode time (hrs):",
       "layout": "IPY_MODEL_fb86648e478547e1bf5ff1259f00fb52",
       "max": 26280,
       "min": 2,
       "step": 24,
       "style": "IPY_MODEL_b3c3e1accfa14f81ae5778af1467f969",
       "value": 120
      }
     },
     "58a59bb98cfc4dbdbde633e94f6a1361": {
      "model_module": "@jupyter-widgets/base",
      "model_module_version": "1.2.0",
      "model_name": "LayoutModel",
      "state": {}
     },
     "58a6d440ea9c47a38c98efc2011aee50": {
      "model_module": "@jupyter-widgets/base",
      "model_module_version": "1.2.0",
      "model_name": "LayoutModel",
      "state": {}
     },
     "590c93e288d14282a9bbc89c68ecf022": {
      "model_module": "@jupyter-widgets/controls",
      "model_module_version": "1.5.0",
      "model_name": "DescriptionStyleModel",
      "state": {
       "description_width": "initial"
      }
     },
     "5949f73c6ed54292afce6f88b9c4c8bb": {
      "model_module": "@jupyter-widgets/base",
      "model_module_version": "1.2.0",
      "model_name": "LayoutModel",
      "state": {}
     },
     "5972a578eeed40d2961f12e9ffd408c4": {
      "model_module": "@jupyter-widgets/controls",
      "model_module_version": "1.5.0",
      "model_name": "BoundedFloatTextModel",
      "state": {
       "description": "PM mode time (hrs):",
       "layout": "IPY_MODEL_186a1ac202d74cff855f8294e8c313a3",
       "max": 26280,
       "min": 2,
       "step": 24,
       "style": "IPY_MODEL_c9e24fff5e1e4593af3b411c3605184a",
       "value": 120
      }
     },
     "59bbb8aa8ac942e698a3809405638828": {
      "model_module": "@jupyter-widgets/base",
      "model_module_version": "1.2.0",
      "model_name": "LayoutModel",
      "state": {}
     },
     "59da1f2ca2fc4bf298153f251b32a8bc": {
      "model_module": "@jupyter-widgets/base",
      "model_module_version": "1.2.0",
      "model_name": "LayoutModel",
      "state": {}
     },
     "5a09663b6d744a86a8b02aa48c0a952a": {
      "model_module": "@jupyter-widgets/base",
      "model_module_version": "1.2.0",
      "model_name": "LayoutModel",
      "state": {}
     },
     "5a4c38bead8548ec95bb196282a2dd00": {
      "model_module": "@jupyter-widgets/controls",
      "model_module_version": "1.5.0",
      "model_name": "BoundedFloatTextModel",
      "state": {
       "description": "PM toler  (hrs):",
       "layout": "IPY_MODEL_cd28143c1d7647fb8e98a4aa5c2f1856",
       "max": 8760,
       "min": 1,
       "step": 1,
       "style": "IPY_MODEL_491ddfb669c84aafbf9af8f43a6c4d61",
       "value": 720
      }
     },
     "5a9d9330e91b42718f960c7bc30ad42f": {
      "model_module": "@jupyter-widgets/base",
      "model_module_version": "1.2.0",
      "model_name": "LayoutModel",
      "state": {}
     },
     "5ae54b04917d43fc978451fd45a92a7e": {
      "model_module": "@jupyter-widgets/controls",
      "model_module_version": "1.5.0",
      "model_name": "BoundedFloatTextModel",
      "state": {
       "description": "Scale parameter  (hrs):",
       "layout": "IPY_MODEL_42c6f2019cbf480faca9e45e08237eaf",
       "max": 876000,
       "min": 4380,
       "step": 1,
       "style": "IPY_MODEL_fa66e860c1b44ebaa8478272eb14f09c",
       "value": 13140
      }
     },
     "5b19afc304c443ec95cfb3e675f92feb": {
      "model_module": "@jupyter-widgets/controls",
      "model_module_version": "1.5.0",
      "model_name": "ButtonModel",
      "state": {
       "button_style": "success",
       "description": "Run Simulation",
       "layout": "IPY_MODEL_4e6b016b92d84fccbb48e0284236e219",
       "style": "IPY_MODEL_454bc42befbb4add8512a6946cf87a94",
       "tooltip": "Click me"
      }
     },
     "5b39c72f1290405786f1f998c27c4051": {
      "model_module": "@jupyter-widgets/base",
      "model_module_version": "1.2.0",
      "model_name": "LayoutModel",
      "state": {}
     },
     "5b6a087613924696a98d77c621c125d8": {
      "model_module": "@jupyter-widgets/base",
      "model_module_version": "1.2.0",
      "model_name": "LayoutModel",
      "state": {}
     },
     "5b753d9089bf4da4bdfc035b28b1144e": {
      "model_module": "@jupyter-widgets/controls",
      "model_module_version": "1.5.0",
      "model_name": "BoundedFloatTextModel",
      "state": {
       "description": "Shape parameter:",
       "layout": "IPY_MODEL_e02d77c8671d4a7189bbbd0e03e102d6",
       "max": 10,
       "min": 1,
       "step": 1,
       "style": "IPY_MODEL_071993cf3a904a3aa24bf9c3df5c8c14",
       "value": 1.5
      }
     },
     "5bad885b88fa4ede9f1af43cc3268782": {
      "model_module": "@jupyter-widgets/controls",
      "model_module_version": "1.5.0",
      "model_name": "BoundedFloatTextModel",
      "state": {
       "description": "Shape parameter:",
       "layout": "IPY_MODEL_54d20d404bfc463b8fe417569504187d",
       "max": 10,
       "min": 1,
       "step": 1,
       "style": "IPY_MODEL_d9464292e1ab44e0892bd2b996ad537d",
       "value": 1.5
      }
     },
     "5bb188f36ec846ce863b272d18965986": {
      "model_module": "@jupyter-widgets/base",
      "model_module_version": "1.2.0",
      "model_name": "LayoutModel",
      "state": {}
     },
     "5bd67052a72049c3a21fb30a2c233a2d": {
      "model_module": "@jupyter-widgets/base",
      "model_module_version": "1.2.0",
      "model_name": "LayoutModel",
      "state": {}
     },
     "5bd89305be224958bca7a49cce230d6b": {
      "model_module": "@jupyter-widgets/base",
      "model_module_version": "1.2.0",
      "model_name": "LayoutModel",
      "state": {}
     },
     "5bff8845800d47c79c506d717bf0d36a": {
      "model_module": "@jupyter-widgets/base",
      "model_module_version": "1.2.0",
      "model_name": "LayoutModel",
      "state": {}
     },
     "5c366956088944b5b5c27bc38f74d42a": {
      "model_module": "@jupyter-widgets/controls",
      "model_module_version": "1.5.0",
      "model_name": "DescriptionStyleModel",
      "state": {
       "description_width": "150px"
      }
     },
     "5ca7a0bba2ce4e50a160a100191edec4": {
      "model_module": "@jupyter-widgets/base",
      "model_module_version": "1.2.0",
      "model_name": "LayoutModel",
      "state": {}
     },
     "5ca915e7fa1b46928b45c994b159ea9c": {
      "model_module": "@jupyter-widgets/controls",
      "model_module_version": "1.5.0",
      "model_name": "VBoxModel",
      "state": {
       "children": [
        "IPY_MODEL_a3ce54c0d04544a49599aaae905f2b1e",
        "IPY_MODEL_b94b84074d804ceebeaddc021023bad7",
        "IPY_MODEL_8c8bdc690c6143f79bdd3aca1b24e7dc",
        "IPY_MODEL_5d3ee411640b424cb719b2184158ed25"
       ],
       "layout": "IPY_MODEL_af854441e8644cabba06d96887697a1d"
      }
     },
     "5cd0db3a1c3c44e9885e3050e88fa2b7": {
      "model_module": "@jupyter-widgets/base",
      "model_module_version": "1.2.0",
      "model_name": "LayoutModel",
      "state": {}
     },
     "5ce046238b8c44ac9d343d17c3300c4d": {
      "model_module": "@jupyter-widgets/controls",
      "model_module_version": "1.5.0",
      "model_name": "BoundedFloatTextModel",
      "state": {
       "description": "PM toler  (hrs):",
       "layout": "IPY_MODEL_2dceb104299a446cae26cb272f1014b6",
       "max": 8760,
       "min": 1,
       "step": 1,
       "style": "IPY_MODEL_848821a2d7a24f6c9d4fcc5d75f7bdb4",
       "value": 720
      }
     },
     "5cec59d3145441aab3eab19f7969b86e": {
      "model_module": "@jupyter-widgets/base",
      "model_module_version": "1.2.0",
      "model_name": "LayoutModel",
      "state": {}
     },
     "5d145de6d1aa4d7abc40b4de20c1794b": {
      "model_module": "@jupyter-widgets/base",
      "model_module_version": "1.2.0",
      "model_name": "LayoutModel",
      "state": {}
     },
     "5d18a61ad7ce47e58cbc53da511a78b8": {
      "model_module": "@jupyter-widgets/base",
      "model_module_version": "1.2.0",
      "model_name": "LayoutModel",
      "state": {}
     },
     "5d202319d75044079c4bc024700ff7a0": {
      "model_module": "@jupyter-widgets/base",
      "model_module_version": "1.2.0",
      "model_name": "LayoutModel",
      "state": {}
     },
     "5d3ee411640b424cb719b2184158ed25": {
      "model_module": "@jupyter-widgets/controls",
      "model_module_version": "1.5.0",
      "model_name": "BoundedIntTextModel",
      "state": {
       "description": "No of Simulatio:",
       "layout": "IPY_MODEL_b4b6455675664026b1f8891737c0e381",
       "max": 1000,
       "min": 10,
       "style": "IPY_MODEL_9595d19e8a3e48a990f4f4651322bc04",
       "value": 100
      }
     },
     "5d50d0eba44c4df59583eb85fe511717": {
      "model_module": "@jupyter-widgets/controls",
      "model_module_version": "1.5.0",
      "model_name": "DescriptionStyleModel",
      "state": {
       "description_width": "initial"
      }
     },
     "5e1c201899954df695272630d193ff7b": {
      "model_module": "@jupyter-widgets/output",
      "model_module_version": "1.0.0",
      "model_name": "OutputModel",
      "state": {
       "layout": "IPY_MODEL_18f27903dea54c7f8fcd9f59bc14ec8d"
      }
     },
     "5e472f7638c04c5eba0cf099180786c4": {
      "model_module": "@jupyter-widgets/base",
      "model_module_version": "1.2.0",
      "model_name": "LayoutModel",
      "state": {
       "border": "solid 2px green",
       "display": "flex",
       "flex_flow": "row",
       "justify_content": "center",
       "width": "100%"
      }
     },
     "5e742f7a28a644fd9b08e0824229e10d": {
      "model_module": "@jupyter-widgets/controls",
      "model_module_version": "1.5.0",
      "model_name": "BoundedFloatTextModel",
      "state": {
       "description": "Series or Redund:",
       "layout": "IPY_MODEL_b95b260bf4424c75a015c1f57f471d9e",
       "max": 2,
       "min": 1,
       "step": 1,
       "style": "IPY_MODEL_99a6c820891b401c8f383fd1146b6e67",
       "value": 1
      }
     },
     "5ec191da179b431792aa68b1db24a829": {
      "model_module": "@jupyter-widgets/controls",
      "model_module_version": "1.5.0",
      "model_name": "VBoxModel",
      "state": {
       "children": [
        "IPY_MODEL_72e488c466ef41e69481ec8fd10e1e1b",
        "IPY_MODEL_86596b1086c4408ba2c96b6c5b966a86",
        "IPY_MODEL_3ac0495595c142d3ae52e856f5a3d709",
        "IPY_MODEL_7b78a45b449244068dca2f63fbedfe91",
        "IPY_MODEL_138e520c52bf4c39bdf6de415b0861bf"
       ],
       "layout": "IPY_MODEL_17d29c5184cd440c8b3cc855d2a883f7"
      }
     },
     "5ec6b262d29240d7b914992eb16dfe59": {
      "model_module": "@jupyter-widgets/controls",
      "model_module_version": "1.5.0",
      "model_name": "BoundedIntTextModel",
      "state": {
       "description": "Sim. Period (hrs):",
       "layout": "IPY_MODEL_9be57589373f4955a0a733caa0baaaf1",
       "max": 876000,
       "min": 8760,
       "step": 8760,
       "style": "IPY_MODEL_fe12421f057243afb9fc1c22a1f2a9a6",
       "value": 87600
      }
     },
     "5ed155f4a7e240bf982f4e3ae60db46e": {
      "model_module": "@jupyter-widgets/base",
      "model_module_version": "1.2.0",
      "model_name": "LayoutModel",
      "state": {}
     },
     "5ee00ab46c14422d826f2a481b44a3d8": {
      "model_module": "@jupyter-widgets/base",
      "model_module_version": "1.2.0",
      "model_name": "LayoutModel",
      "state": {}
     },
     "5f184d7fe8f74d9abf42752f270eb6a0": {
      "model_module": "@jupyter-widgets/controls",
      "model_module_version": "1.5.0",
      "model_name": "DescriptionStyleModel",
      "state": {
       "description_width": "initial"
      }
     },
     "5f35d96746c5466791ed0da33b14b12d": {
      "model_module": "@jupyter-widgets/base",
      "model_module_version": "1.2.0",
      "model_name": "LayoutModel",
      "state": {}
     },
     "5f6f1192392545b2b7f6793d4e8543fc": {
      "model_module": "@jupyter-widgets/controls",
      "model_module_version": "1.5.0",
      "model_name": "SliderStyleModel",
      "state": {
       "description_width": ""
      }
     },
     "5f8e7631d9c64b72b4cd562ba7a74979": {
      "model_module": "@jupyter-widgets/base",
      "model_module_version": "1.2.0",
      "model_name": "LayoutModel",
      "state": {}
     },
     "601cb47b5ec74f2ea85da4a57fcfe993": {
      "model_module": "@jupyter-widgets/base",
      "model_module_version": "1.2.0",
      "model_name": "LayoutModel",
      "state": {}
     },
     "606a5e689b454d5e91e8a3788064de8b": {
      "model_module": "@jupyter-widgets/controls",
      "model_module_version": "1.5.0",
      "model_name": "DescriptionStyleModel",
      "state": {
       "description_width": "150px"
      }
     },
     "60855ca19f53460ea6bfa6fb51e4f19d": {
      "model_module": "@jupyter-widgets/base",
      "model_module_version": "1.2.0",
      "model_name": "LayoutModel",
      "state": {}
     },
     "60ab7f9c257447bc97a4b8ed6a0431c1": {
      "model_module": "@jupyter-widgets/controls",
      "model_module_version": "1.5.0",
      "model_name": "BoundedFloatTextModel",
      "state": {
       "description": "CM left time (hrs):",
       "layout": "IPY_MODEL_fe78a84698b74dca8a3c6d5b14f832d4",
       "max": 26280,
       "min": 1,
       "step": 1,
       "style": "IPY_MODEL_f9a8b2ca3a4b42c082199645c3a783c6",
       "value": 520
      }
     },
     "611a991f6e994e708a865c0055ca7184": {
      "model_module": "@jupyter-widgets/controls",
      "model_module_version": "1.5.0",
      "model_name": "BoundedFloatTextModel",
      "state": {
       "description": "PM left time (hrs):",
       "layout": "IPY_MODEL_25e9e99d877d491fa1f24c513de8b4a6",
       "max": 26280,
       "min": 1,
       "step": 1,
       "style": "IPY_MODEL_df70873787f947ae9b6a3e335582d716",
       "value": 96
      }
     },
     "6134c4a821e847819a5b146f539b1086": {
      "model_module": "@jupyter-widgets/controls",
      "model_module_version": "1.5.0",
      "model_name": "DescriptionStyleModel",
      "state": {
       "description_width": "150px"
      }
     },
     "616755a35e054e14807075df9ac05c7d": {
      "model_module": "@jupyter-widgets/base",
      "model_module_version": "1.2.0",
      "model_name": "LayoutModel",
      "state": {
       "border": "solid 2px green",
       "display": "flex",
       "flex_flow": "row",
       "justify_content": "center",
       "width": "100%"
      }
     },
     "617c4ee3f8eb40d6b10e8beae1d52e94": {
      "model_module": "@jupyter-widgets/controls",
      "model_module_version": "1.5.0",
      "model_name": "BoundedFloatTextModel",
      "state": {
       "description": "Shape parameter:",
       "layout": "IPY_MODEL_ae2e5adb9c3d4c7a978fd5843298f10d",
       "max": 30,
       "min": 1,
       "step": 1,
       "style": "IPY_MODEL_48ce691c590448a0b89fce1e7d8819b8",
       "value": 1.5
      }
     },
     "61a461bfc70144e7ac325284cc617b55": {
      "model_module": "@jupyter-widgets/base",
      "model_module_version": "1.2.0",
      "model_name": "LayoutModel",
      "state": {}
     },
     "624258ea5e7748ee8d3849477d84ff0f": {
      "model_module": "@jupyter-widgets/controls",
      "model_module_version": "1.5.0",
      "model_name": "BoundedFloatTextModel",
      "state": {
       "description": "CM mode time (hrs):",
       "layout": "IPY_MODEL_a7f367af47d341b4bf39454618c0dac4",
       "max": 26280,
       "min": 2,
       "step": 24,
       "style": "IPY_MODEL_56ecca1a6e1045cc9eb956dd78d5324a",
       "value": 720
      }
     },
     "62529047b8ac4b1087cbb9ca3249bfe3": {
      "model_module": "@jupyter-widgets/controls",
      "model_module_version": "1.5.0",
      "model_name": "BoundedFloatTextModel",
      "state": {
       "description": "CM left time (hrs):",
       "layout": "IPY_MODEL_f2a607a4bbee4552b4b77aeda7b969c2",
       "max": 26280,
       "min": 1,
       "step": 1,
       "style": "IPY_MODEL_106d7cd7e5d24047a92ab85e63794a1a",
       "value": 520
      }
     },
     "62927caac1914e2bb99411ab0a6547d9": {
      "model_module": "@jupyter-widgets/controls",
      "model_module_version": "1.5.0",
      "model_name": "DescriptionStyleModel",
      "state": {
       "description_width": "initial"
      }
     },
     "62e8866ee85e4fdf9feb0ae7a287ebd5": {
      "model_module": "@jupyter-widgets/controls",
      "model_module_version": "1.5.0",
      "model_name": "ButtonModel",
      "state": {
       "button_style": "success",
       "description": "Run Simulation",
       "layout": "IPY_MODEL_c22f1cba5cc04474b01b478f824e396e",
       "style": "IPY_MODEL_3a66d4c848da421c995f4ee1f5d202ce",
       "tooltip": "Click me"
      }
     },
     "63074068ffc2453ca933c2abe4638829": {
      "model_module": "@jupyter-widgets/base",
      "model_module_version": "1.2.0",
      "model_name": "LayoutModel",
      "state": {}
     },
     "6323fd6e244f4053b58c6647a2035a8b": {
      "model_module": "@jupyter-widgets/controls",
      "model_module_version": "1.5.0",
      "model_name": "BoundedFloatTextModel",
      "state": {
       "description": "CM right time (hrs):",
       "layout": "IPY_MODEL_17b73876e3e849e092e2db989a5a1f5c",
       "max": 26280,
       "min": 3,
       "step": 1,
       "style": "IPY_MODEL_f3850d97bb1e4ba58f05a3a64bacff2a",
       "value": 920
      }
     },
     "6341c08ebb2f4939a9bc5a3c7bd45a06": {
      "model_module": "@jupyter-widgets/controls",
      "model_module_version": "1.5.0",
      "model_name": "DescriptionStyleModel",
      "state": {
       "description_width": ""
      }
     },
     "6392920a36bb43a2a60c42c3cbe8f71e": {
      "model_module": "@jupyter-widgets/controls",
      "model_module_version": "1.5.0",
      "model_name": "BoundedFloatTextModel",
      "state": {
       "description": "PM toler  (hrs):",
       "layout": "IPY_MODEL_46059ba6df9046568a2c8eb02265df59",
       "max": 17520,
       "min": 1,
       "step": 24,
       "style": "IPY_MODEL_0b03eefe077444ada2237c1507dd4a53",
       "value": 720
      }
     },
     "63ac1d4cf5da4ffd9475ce46cbd44cd1": {
      "model_module": "@jupyter-widgets/controls",
      "model_module_version": "1.5.0",
      "model_name": "HBoxModel",
      "state": {
       "children": [
        "IPY_MODEL_5760fa03221445aabd710b0febc88486",
        "IPY_MODEL_bd70ad1abde4438c8980401bc70d37d3",
        "IPY_MODEL_03dc92ec6b634b1d918e5500d7ebe8b7"
       ],
       "layout": "IPY_MODEL_0f41ec39971c4a2bb323b402dd695d30"
      }
     },
     "63b3be88e3694229b0950ec87ab3666c": {
      "model_module": "@jupyter-widgets/controls",
      "model_module_version": "1.5.0",
      "model_name": "DescriptionStyleModel",
      "state": {
       "description_width": "initial"
      }
     },
     "64577e1ab4b84fac960538e474703b98": {
      "model_module": "@jupyter-widgets/base",
      "model_module_version": "1.2.0",
      "model_name": "LayoutModel",
      "state": {}
     },
     "646e456bb215417d8fb902506e9f2fd1": {
      "model_module": "@jupyter-widgets/base",
      "model_module_version": "1.2.0",
      "model_name": "LayoutModel",
      "state": {
       "border": "solid 2px green",
       "display": "flex",
       "flex_flow": "row",
       "justify_content": "center",
       "width": "100%"
      }
     },
     "648b678276dc49a68550809d343c4ba0": {
      "model_module": "@jupyter-widgets/base",
      "model_module_version": "1.2.0",
      "model_name": "LayoutModel",
      "state": {}
     },
     "648d1e33c40e498ca713aed860b19ebe": {
      "model_module": "@jupyter-widgets/controls",
      "model_module_version": "1.5.0",
      "model_name": "DescriptionStyleModel",
      "state": {
       "description_width": "initial"
      }
     },
     "6490b52d8d7848139fa2d4052038d761": {
      "model_module": "@jupyter-widgets/base",
      "model_module_version": "1.2.0",
      "model_name": "LayoutModel",
      "state": {}
     },
     "649c00dac14e4f518642356359d9efda": {
      "model_module": "@jupyter-widgets/controls",
      "model_module_version": "1.5.0",
      "model_name": "DescriptionStyleModel",
      "state": {
       "description_width": "initial"
      }
     },
     "64e3993088334cb9bdcfa707344bdc0c": {
      "model_module": "@jupyter-widgets/base",
      "model_module_version": "1.2.0",
      "model_name": "LayoutModel",
      "state": {}
     },
     "64fbd312d2634b4692e861113e084564": {
      "model_module": "@jupyter-widgets/controls",
      "model_module_version": "1.5.0",
      "model_name": "ButtonModel",
      "state": {
       "button_style": "success",
       "description": "Run Simulation",
       "layout": "IPY_MODEL_96115139de4a413dad1f8f052439ae4c",
       "style": "IPY_MODEL_37e3c5b139f3444cb108dcce3d73e6ce",
       "tooltip": "Click me"
      }
     },
     "65035841a2b94c06a71503142a81edc9": {
      "model_module": "@jupyter-widgets/controls",
      "model_module_version": "1.5.0",
      "model_name": "BoundedFloatTextModel",
      "state": {
       "description": "CM right time (hrs):",
       "layout": "IPY_MODEL_ed8cac5f93744df0b1cdcadb8634191f",
       "max": 26280,
       "min": 3,
       "step": 1,
       "style": "IPY_MODEL_13cc2c2a1c954f11b9a6030c40e139a2",
       "value": 920
      }
     },
     "651c5d57746842a2b4e5930ca30b4a3d": {
      "model_module": "@jupyter-widgets/controls",
      "model_module_version": "1.5.0",
      "model_name": "BoundedIntTextModel",
      "state": {
       "description": "Sim. Period (hrs):",
       "layout": "IPY_MODEL_26c0d380b4444df99de9cc02e03ecf2d",
       "max": 876000,
       "min": 8760,
       "style": "IPY_MODEL_97fa2dba04cb40e2ba24706b1a1c066d",
       "value": 87600
      }
     },
     "65a543b00c0f456eaa40c7843ad5094c": {
      "model_module": "@jupyter-widgets/controls",
      "model_module_version": "1.5.0",
      "model_name": "DescriptionStyleModel",
      "state": {
       "description_width": ""
      }
     },
     "65b7f94891a143f28ee3b2bce775db37": {
      "model_module": "@jupyter-widgets/controls",
      "model_module_version": "1.5.0",
      "model_name": "VBoxModel",
      "state": {
       "children": [
        "IPY_MODEL_624258ea5e7748ee8d3849477d84ff0f",
        "IPY_MODEL_5972a578eeed40d2961f12e9ffd408c4",
        "IPY_MODEL_d78223785c9a4914bb3881c02bf7248b",
        "IPY_MODEL_389fdcd6439a4408a518882b9c6b197f"
       ],
       "layout": "IPY_MODEL_a15aecf3845a4380ba058c9381ad487f"
      }
     },
     "666d310d99474fd4aff00d79415a2fac": {
      "model_module": "@jupyter-widgets/base",
      "model_module_version": "1.2.0",
      "model_name": "LayoutModel",
      "state": {}
     },
     "66cfb4f28a5f45c08d141fb128dc06e1": {
      "model_module": "@jupyter-widgets/controls",
      "model_module_version": "1.5.0",
      "model_name": "BoundedFloatTextModel",
      "state": {
       "description": "CM right time (hrs):",
       "layout": "IPY_MODEL_09c8d7612c23464eaee7dc9a6498ab1a",
       "max": 26280,
       "min": 3,
       "step": 1,
       "style": "IPY_MODEL_ab827283851e415aad1d0284da9b0762",
       "value": 920
      }
     },
     "6750d6a4a9c249c39a61b6cf00e0773d": {
      "model_module": "@jupyter-widgets/controls",
      "model_module_version": "1.5.0",
      "model_name": "BoundedFloatTextModel",
      "state": {
       "description": "CM right time (hrs):",
       "layout": "IPY_MODEL_a5e3a5186663450bb49a33f48862013e",
       "max": 26280,
       "min": 3,
       "step": 24,
       "style": "IPY_MODEL_b51edf27ddad41f7b790510ec09baf99",
       "value": 920
      }
     },
     "67b745d607ac486290bb194ec6537d4f": {
      "model_module": "@jupyter-widgets/base",
      "model_module_version": "1.2.0",
      "model_name": "LayoutModel",
      "state": {}
     },
     "67c3149a68654e26bf27debe4a305965": {
      "model_module": "@jupyter-widgets/controls",
      "model_module_version": "1.5.0",
      "model_name": "DescriptionStyleModel",
      "state": {
       "description_width": "initial"
      }
     },
     "67d2bbcda1434a998d5460ea73870d71": {
      "model_module": "@jupyter-widgets/base",
      "model_module_version": "1.2.0",
      "model_name": "LayoutModel",
      "state": {}
     },
     "683790e097b048dc90668130ffed26c9": {
      "model_module": "@jupyter-widgets/base",
      "model_module_version": "1.2.0",
      "model_name": "LayoutModel",
      "state": {}
     },
     "68f5d2518b514a799a844b9b5b02dbe6": {
      "model_module": "@jupyter-widgets/controls",
      "model_module_version": "1.5.0",
      "model_name": "DescriptionStyleModel",
      "state": {
       "description_width": "initial"
      }
     },
     "6972a224b3084dd4a7223d7f1db5fbc8": {
      "model_module": "@jupyter-widgets/base",
      "model_module_version": "1.2.0",
      "model_name": "LayoutModel",
      "state": {}
     },
     "697ed6bf74ef494da05ca47725f5ed0a": {
      "model_module": "@jupyter-widgets/base",
      "model_module_version": "1.2.0",
      "model_name": "LayoutModel",
      "state": {}
     },
     "69878f45cecb4444b1ebf228a7f4b9c9": {
      "model_module": "@jupyter-widgets/base",
      "model_module_version": "1.2.0",
      "model_name": "LayoutModel",
      "state": {}
     },
     "69a285adec5447cea7de2d7e2cd34eaf": {
      "model_module": "@jupyter-widgets/controls",
      "model_module_version": "1.5.0",
      "model_name": "DescriptionStyleModel",
      "state": {
       "description_width": "initial"
      }
     },
     "69a2cc8e6aa64231a650bb7733691427": {
      "model_module": "@jupyter-widgets/base",
      "model_module_version": "1.2.0",
      "model_name": "LayoutModel",
      "state": {}
     },
     "69be9696c763495cb6d994982a6b96da": {
      "model_module": "@jupyter-widgets/controls",
      "model_module_version": "1.5.0",
      "model_name": "DescriptionStyleModel",
      "state": {
       "description_width": "150px"
      }
     },
     "69fdf943caab4a48abd4b1db46122703": {
      "model_module": "@jupyter-widgets/base",
      "model_module_version": "1.2.0",
      "model_name": "LayoutModel",
      "state": {}
     },
     "6a509aec8ef94c91bdaba0710cc4f2e1": {
      "model_module": "@jupyter-widgets/base",
      "model_module_version": "1.2.0",
      "model_name": "LayoutModel",
      "state": {}
     },
     "6a7dc43d8664448eb5066ff8260835ad": {
      "model_module": "@jupyter-widgets/base",
      "model_module_version": "1.2.0",
      "model_name": "LayoutModel",
      "state": {}
     },
     "6a7eea74438c4834a4d0ad55392c5a66": {
      "model_module": "@jupyter-widgets/controls",
      "model_module_version": "1.5.0",
      "model_name": "BoundedFloatTextModel",
      "state": {
       "description": "PM mode time (hrs):",
       "layout": "IPY_MODEL_327d6d6c25f74352abf467c566f7a3da",
       "max": 26280,
       "min": 2,
       "step": 1,
       "style": "IPY_MODEL_bdebc4ae27284e79971320555422ef7e",
       "value": 120
      }
     },
     "6a89db06602c4b31b38deffd975615bd": {
      "model_module": "@jupyter-widgets/base",
      "model_module_version": "1.2.0",
      "model_name": "LayoutModel",
      "state": {}
     },
     "6aa4bdf8a0164c49a53877043c149a7f": {
      "model_module": "@jupyter-widgets/controls",
      "model_module_version": "1.5.0",
      "model_name": "DescriptionStyleModel",
      "state": {
       "description_width": ""
      }
     },
     "6ab73647cfcf48eba1a4c800d0e6ef3e": {
      "model_module": "@jupyter-widgets/base",
      "model_module_version": "1.2.0",
      "model_name": "LayoutModel",
      "state": {}
     },
     "6acdb2d3f72949188b092224d4169e47": {
      "model_module": "@jupyter-widgets/controls",
      "model_module_version": "1.5.0",
      "model_name": "BoundedFloatTextModel",
      "state": {
       "description": "CM mode time (hrs):",
       "layout": "IPY_MODEL_5331aca5dd9d4f3492f966fc743ce82f",
       "max": 26280,
       "min": 2,
       "step": 1,
       "style": "IPY_MODEL_b021b0c87e1a4e3880028fddffd68fd1",
       "value": 720
      }
     },
     "6ad3d1c4d4fd474594791233c63f5654": {
      "model_module": "@jupyter-widgets/controls",
      "model_module_version": "1.5.0",
      "model_name": "ButtonModel",
      "state": {
       "button_style": "success",
       "description": "Run Simulation",
       "layout": "IPY_MODEL_7a83a968ea574bb58fedfbf73b1b2b6e",
       "style": "IPY_MODEL_d0094db516bc414791ee942edbe9f287",
       "tooltip": "Click me"
      }
     },
     "6b0974fec4a44ffa9e6d0a65d49969e8": {
      "model_module": "@jupyter-widgets/controls",
      "model_module_version": "1.5.0",
      "model_name": "DescriptionStyleModel",
      "state": {
       "description_width": "150px"
      }
     },
     "6b229ac0f2b34be6a5d28638da4468d8": {
      "model_module": "@jupyter-widgets/controls",
      "model_module_version": "1.5.0",
      "model_name": "BoundedFloatTextModel",
      "state": {
       "description": "Series or Redund:",
       "layout": "IPY_MODEL_1e30338d988345d9b0dff6f7f6374c71",
       "max": 2,
       "min": 1,
       "step": 1,
       "style": "IPY_MODEL_de46dbf467cc4f709a16caef24b4c4a9",
       "value": 2
      }
     },
     "6b74f6d4e707498d88627e7fbd3bc9b6": {
      "model_module": "@jupyter-widgets/controls",
      "model_module_version": "1.5.0",
      "model_name": "DescriptionStyleModel",
      "state": {
       "description_width": "initial"
      }
     },
     "6baec0bcc13f44bda9078dd926aa93f5": {
      "model_module": "@jupyter-widgets/base",
      "model_module_version": "1.2.0",
      "model_name": "LayoutModel",
      "state": {}
     },
     "6bb57ed731144ee080a98ade2733c38b": {
      "model_module": "@jupyter-widgets/controls",
      "model_module_version": "1.5.0",
      "model_name": "DescriptionStyleModel",
      "state": {
       "description_width": "initial"
      }
     },
     "6c0e1028be784ae9a5e92e92d054f026": {
      "model_module": "@jupyter-widgets/controls",
      "model_module_version": "1.5.0",
      "model_name": "BoundedFloatTextModel",
      "state": {
       "description": "CM left time (hrs):",
       "layout": "IPY_MODEL_138305d6476a4acebc277fe1882c2761",
       "max": 26280,
       "min": 1,
       "step": 1,
       "style": "IPY_MODEL_400a51e7457848a3b7516c815716e8aa",
       "value": 520
      }
     },
     "6c2c1a89fb9f41e786bdc816a7366919": {
      "model_module": "@jupyter-widgets/base",
      "model_module_version": "1.2.0",
      "model_name": "LayoutModel",
      "state": {}
     },
     "6c5b9609068f4919a16513af53e52bd7": {
      "model_module": "@jupyter-widgets/controls",
      "model_module_version": "1.5.0",
      "model_name": "VBoxModel",
      "state": {
       "children": [
        "IPY_MODEL_62529047b8ac4b1087cbb9ca3249bfe3",
        "IPY_MODEL_e92c41dd19c344168506064261d55925",
        "IPY_MODEL_f1bcd8654121475d988ac148057561d7",
        "IPY_MODEL_f38b6610001144e6a3d03cdd6dddcf18",
        "IPY_MODEL_cab3bfad0ed14fe48c91c484f122b185"
       ],
       "layout": "IPY_MODEL_282428ca3c844fed98425a28dd291d36"
      }
     },
     "6ce49a941f01426c8f4f0c8ec16f5c85": {
      "model_module": "@jupyter-widgets/base",
      "model_module_version": "1.2.0",
      "model_name": "LayoutModel",
      "state": {}
     },
     "6cf6ed9e23874b618491305bf23f66da": {
      "model_module": "@jupyter-widgets/controls",
      "model_module_version": "1.5.0",
      "model_name": "ButtonModel",
      "state": {
       "button_style": "success",
       "description": "Run Simulation",
       "layout": "IPY_MODEL_048481f737b34a888f538c5c8710a08f",
       "style": "IPY_MODEL_77a5c15f1a404d4bb5e98f715adfd07b",
       "tooltip": "Click me"
      }
     },
     "6d47972eff6c45368382dff95bc14e23": {
      "model_module": "@jupyter-widgets/base",
      "model_module_version": "1.2.0",
      "model_name": "LayoutModel",
      "state": {}
     },
     "6d67efa16acf48bb90cbfc21d2fb5d11": {
      "model_module": "@jupyter-widgets/controls",
      "model_module_version": "1.5.0",
      "model_name": "DescriptionStyleModel",
      "state": {
       "description_width": ""
      }
     },
     "6da34ed2dab0487197cc136fc9513005": {
      "model_module": "@jupyter-widgets/base",
      "model_module_version": "1.2.0",
      "model_name": "LayoutModel",
      "state": {}
     },
     "6dad32f3580445a7abd8df65ae0405d5": {
      "model_module": "@jupyter-widgets/base",
      "model_module_version": "1.2.0",
      "model_name": "LayoutModel",
      "state": {}
     },
     "6dbfdeeb11eb4ad8b1b9a5b9453bd3f2": {
      "model_module": "@jupyter-widgets/base",
      "model_module_version": "1.2.0",
      "model_name": "LayoutModel",
      "state": {}
     },
     "6e4933058d4d4c6e93730eb4090fb605": {
      "model_module": "@jupyter-widgets/controls",
      "model_module_version": "1.5.0",
      "model_name": "BoundedFloatTextModel",
      "state": {
       "description": "Scale parameter  (hrs):",
       "layout": "IPY_MODEL_459a0360000b4353a5a79e4e21020f3f",
       "max": 876000,
       "min": 8760,
       "step": 1,
       "style": "IPY_MODEL_0788f2e9c91a4e0e8b5d1965f77db368",
       "value": 13140
      }
     },
     "6e88b7e06c754bfcbbeefd44e1ec7e5d": {
      "model_module": "@jupyter-widgets/base",
      "model_module_version": "1.2.0",
      "model_name": "LayoutModel",
      "state": {}
     },
     "6e8b0850592e4c46adc00b31ec05eb66": {
      "model_module": "@jupyter-widgets/controls",
      "model_module_version": "1.5.0",
      "model_name": "BoundedFloatTextModel",
      "state": {
       "description": "CM mode time (hrs):",
       "layout": "IPY_MODEL_3b3efb850c704a59b6361e175d590515",
       "max": 26280,
       "min": 2,
       "step": 1,
       "style": "IPY_MODEL_159a1234b0844dd597738ca56d1b9953",
       "value": 720
      }
     },
     "6ebe61c6273641a2a3ebc3fe04d4e88e": {
      "model_module": "@jupyter-widgets/controls",
      "model_module_version": "1.5.0",
      "model_name": "VBoxModel",
      "state": {
       "children": [
        "IPY_MODEL_94a2bfc751c542719c5c5dea1a7a934a",
        "IPY_MODEL_3aaf9431bff64fb5bffd6559bd3c10c6",
        "IPY_MODEL_e50e6e2c34b047f68e5a2a33ea313bbb",
        "IPY_MODEL_6392920a36bb43a2a60c42c3cbe8f71e",
        "IPY_MODEL_6cf6ed9e23874b618491305bf23f66da"
       ],
       "layout": "IPY_MODEL_27b4a5d7bfea419eb1e128a99fc71360"
      }
     },
     "6eec119d3baf44679c29551af28158d3": {
      "model_module": "@jupyter-widgets/controls",
      "model_module_version": "1.5.0",
      "model_name": "BoundedFloatTextModel",
      "state": {
       "description": "Scale parameter  (hrs):",
       "layout": "IPY_MODEL_9702cff53f18499e8c8e14abb183ccaf",
       "max": 876000,
       "min": 8760,
       "step": 1,
       "style": "IPY_MODEL_21955536fedf47f0bb235711a0a6ffaa",
       "value": 13140
      }
     },
     "6f1eb421824d49699df84eb9625cec14": {
      "model_module": "@jupyter-widgets/controls",
      "model_module_version": "1.5.0",
      "model_name": "VBoxModel",
      "state": {
       "children": [
        "IPY_MODEL_6323fd6e244f4053b58c6647a2035a8b",
        "IPY_MODEL_b4a7fe42020848809aa9563976a9e25e",
        "IPY_MODEL_baf9d83f16aa4f0791a9154ba027ce0b",
        "IPY_MODEL_39f064a9c6b6452aaa489ceb211133e2"
       ],
       "layout": "IPY_MODEL_ed176b8310114ea988e14d6e022f96f4"
      }
     },
     "6f25eb35a5d04caf804f8f1f0a10d6ef": {
      "model_module": "@jupyter-widgets/base",
      "model_module_version": "1.2.0",
      "model_name": "LayoutModel",
      "state": {}
     },
     "6f4a1e2891cb4525ac540b0fc3ebde2d": {
      "model_module": "@jupyter-widgets/controls",
      "model_module_version": "1.5.0",
      "model_name": "DescriptionStyleModel",
      "state": {
       "description_width": "150px"
      }
     },
     "6f75bf0751a047d19a6b74e1848a73a9": {
      "model_module": "@jupyter-widgets/controls",
      "model_module_version": "1.5.0",
      "model_name": "DescriptionStyleModel",
      "state": {
       "description_width": "initial"
      }
     },
     "6f76f35746df4a70ad2db3453bdc6953": {
      "model_module": "@jupyter-widgets/controls",
      "model_module_version": "1.5.0",
      "model_name": "BoundedFloatTextModel",
      "state": {
       "description": "CM mode time (hrs):",
       "layout": "IPY_MODEL_5423f5d5ef954bbaa62740044f592b9b",
       "max": 26280,
       "min": 2,
       "step": 1,
       "style": "IPY_MODEL_dfb9a941ca19488f87f6f06b27b837dd",
       "value": 720
      }
     },
     "6fb97ae33f4d42f7b7e31043ff6de705": {
      "model_module": "@jupyter-widgets/controls",
      "model_module_version": "1.5.0",
      "model_name": "DescriptionStyleModel",
      "state": {
       "description_width": "initial"
      }
     },
     "70071eb6898d44678f6812831f675729": {
      "model_module": "@jupyter-widgets/controls",
      "model_module_version": "1.5.0",
      "model_name": "DescriptionStyleModel",
      "state": {
       "description_width": "150px"
      }
     },
     "7017da0bab2a40e4b8f869cb3001cccc": {
      "model_module": "@jupyter-widgets/controls",
      "model_module_version": "1.5.0",
      "model_name": "SliderStyleModel",
      "state": {
       "description_width": ""
      }
     },
     "7028fb1b116b4e278a24e3baecebe7e3": {
      "model_module": "@jupyter-widgets/controls",
      "model_module_version": "1.5.0",
      "model_name": "VBoxModel",
      "state": {
       "children": [
        "IPY_MODEL_37d5cb33670d4bebb070139a0a954dc3",
        "IPY_MODEL_aeb7f6412cba4dd8ace0cfb368bb6891",
        "IPY_MODEL_edb79afb5468486aa340d7970016f4a7",
        "IPY_MODEL_0326a6222a4a4fc2bdf59dffe5b8b083"
       ],
       "layout": "IPY_MODEL_70eea673cf594c59bd5c98d8320f7f34"
      }
     },
     "70eea673cf594c59bd5c98d8320f7f34": {
      "model_module": "@jupyter-widgets/base",
      "model_module_version": "1.2.0",
      "model_name": "LayoutModel",
      "state": {}
     },
     "70f3cb51d9864b069aa1a2a1be6d9137": {
      "model_module": "@jupyter-widgets/controls",
      "model_module_version": "1.5.0",
      "model_name": "BoundedFloatTextModel",
      "state": {
       "description": "Scale parameter  (hrs):",
       "layout": "IPY_MODEL_5a09663b6d744a86a8b02aa48c0a952a",
       "max": 876000,
       "min": 4380,
       "step": 1,
       "style": "IPY_MODEL_82362b3c1ae345ec98265be013cc8131",
       "value": 13140
      }
     },
     "70ff6d9b9a9c4736b5c642cb4c76d2e7": {
      "model_module": "@jupyter-widgets/controls",
      "model_module_version": "1.5.0",
      "model_name": "BoundedFloatTextModel",
      "state": {
       "description": "PM mode time (hrs):",
       "layout": "IPY_MODEL_a7edfd58e17241a5b290c3d9c9c858a9",
       "max": 26280,
       "min": 2,
       "step": 24,
       "style": "IPY_MODEL_11b1728777074bd086d325e099784e9a",
       "value": 120
      }
     },
     "72099a7effc54634a879dd972f4d6b54": {
      "model_module": "@jupyter-widgets/base",
      "model_module_version": "1.2.0",
      "model_name": "LayoutModel",
      "state": {}
     },
     "72157211265844d198ba71bd6e43d92d": {
      "model_module": "@jupyter-widgets/controls",
      "model_module_version": "1.5.0",
      "model_name": "ButtonModel",
      "state": {
       "button_style": "success",
       "description": "Run Simulation",
       "layout": "IPY_MODEL_76d90fbf923f4a89a4417ae105869bc8",
       "style": "IPY_MODEL_e7782dec108048e5bb40503f62cfc0a3",
       "tooltip": "Click me"
      }
     },
     "7229556f2a7d40f9bc52bfcfc8ff27ca": {
      "model_module": "@jupyter-widgets/base",
      "model_module_version": "1.2.0",
      "model_name": "LayoutModel",
      "state": {}
     },
     "72cc910117a341d2823186d9dc7eb595": {
      "model_module": "@jupyter-widgets/output",
      "model_module_version": "1.0.0",
      "model_name": "OutputModel",
      "state": {
       "layout": "IPY_MODEL_a94acaeb87bd4b8aaa015fca09a0bd85"
      }
     },
     "72cf506814f942cc8bd0b9f8cf66486b": {
      "model_module": "@jupyter-widgets/base",
      "model_module_version": "1.2.0",
      "model_name": "LayoutModel",
      "state": {}
     },
     "72e488c466ef41e69481ec8fd10e1e1b": {
      "model_module": "@jupyter-widgets/controls",
      "model_module_version": "1.5.0",
      "model_name": "BoundedFloatTextModel",
      "state": {
       "description": "CM left time (hrs):",
       "layout": "IPY_MODEL_e72e973a872c46ed8310ab0ec66b5c96",
       "max": 26280,
       "min": 1,
       "step": 1,
       "style": "IPY_MODEL_17580326ad294ed7ab09680d92f30db1",
       "value": 520
      }
     },
     "730d434b089f413aa1cdce459e70c772": {
      "model_module": "@jupyter-widgets/base",
      "model_module_version": "1.2.0",
      "model_name": "LayoutModel",
      "state": {}
     },
     "731999dfb646464d836934cec471fd53": {
      "model_module": "@jupyter-widgets/controls",
      "model_module_version": "1.5.0",
      "model_name": "DescriptionStyleModel",
      "state": {
       "description_width": "initial"
      }
     },
     "733dd57f661843b1980896cee12ab1f2": {
      "model_module": "@jupyter-widgets/base",
      "model_module_version": "1.2.0",
      "model_name": "LayoutModel",
      "state": {}
     },
     "734c1bb08b874732ab6e44c04d957f6d": {
      "model_module": "@jupyter-widgets/base",
      "model_module_version": "1.2.0",
      "model_name": "LayoutModel",
      "state": {}
     },
     "7353822725764c01855cdc9a2f7dcb8b": {
      "model_module": "@jupyter-widgets/controls",
      "model_module_version": "1.5.0",
      "model_name": "DescriptionStyleModel",
      "state": {
       "description_width": "initial"
      }
     },
     "73623a7b43ec47938862b9a221a5344a": {
      "model_module": "@jupyter-widgets/base",
      "model_module_version": "1.2.0",
      "model_name": "LayoutModel",
      "state": {}
     },
     "73d40b0abaf74480b6ac1305a376de06": {
      "model_module": "@jupyter-widgets/controls",
      "model_module_version": "1.5.0",
      "model_name": "HBoxModel",
      "state": {
       "children": [
        "IPY_MODEL_7c43a72d65ed49e3b23c8858f5a374f9",
        "IPY_MODEL_5ca915e7fa1b46928b45c994b159ea9c",
        "IPY_MODEL_22cbb8f1d2c9495f986d098ab099e3b0"
       ],
       "layout": "IPY_MODEL_d03b9fb05b5349bcb32b3121380faed8"
      }
     },
     "74306903601041cc98f94b96d647fb72": {
      "model_module": "@jupyter-widgets/base",
      "model_module_version": "1.2.0",
      "model_name": "LayoutModel",
      "state": {}
     },
     "74585a2e0485461382701a5ca9080ee8": {
      "model_module": "@jupyter-widgets/controls",
      "model_module_version": "1.5.0",
      "model_name": "BoundedFloatTextModel",
      "state": {
       "description": "Series or Redund:",
       "layout": "IPY_MODEL_d8334114672a4524b26dd42bc50c0c1b",
       "max": 2,
       "min": 1,
       "step": 1,
       "style": "IPY_MODEL_c2005ccb18f14cbcb6b15a090a5b6d39",
       "value": 1
      }
     },
     "747433badbe04698baae23623be2f0cb": {
      "model_module": "@jupyter-widgets/controls",
      "model_module_version": "1.5.0",
      "model_name": "BoundedFloatTextModel",
      "state": {
       "description": "CM right time (hrs):",
       "layout": "IPY_MODEL_6a7dc43d8664448eb5066ff8260835ad",
       "max": 26280,
       "min": 3,
       "step": 1,
       "style": "IPY_MODEL_bb5090c6766a482caa90bdb7d5bc2da4",
       "value": 920
      }
     },
     "74760160ff91430797b9bd9b58415953": {
      "model_module": "@jupyter-widgets/base",
      "model_module_version": "1.2.0",
      "model_name": "LayoutModel",
      "state": {}
     },
     "749fb547c32a4c29aaec7aa4f458ee12": {
      "model_module": "@jupyter-widgets/controls",
      "model_module_version": "1.5.0",
      "model_name": "DescriptionStyleModel",
      "state": {
       "description_width": "initial"
      }
     },
     "74f47de55f754028910dccfb2e2567e2": {
      "model_module": "@jupyter-widgets/controls",
      "model_module_version": "1.5.0",
      "model_name": "DescriptionStyleModel",
      "state": {
       "description_width": "150px"
      }
     },
     "752d8be26b1e4c4eb94d9b071aab2774": {
      "model_module": "@jupyter-widgets/controls",
      "model_module_version": "1.5.0",
      "model_name": "VBoxModel",
      "state": {
       "children": [
        "IPY_MODEL_747433badbe04698baae23623be2f0cb",
        "IPY_MODEL_00deb86be6c141389fefc465ab4699ed",
        "IPY_MODEL_443341f33ffd4c8aa077b95fb2fa03e4",
        "IPY_MODEL_b0b91eccb978412a8975fd384f20bcd0"
       ],
       "layout": "IPY_MODEL_3196e863744347f28f9ad1e5ea0e5f47"
      }
     },
     "7552a53861594d4fa00be321bb82a378": {
      "model_module": "@jupyter-widgets/base",
      "model_module_version": "1.2.0",
      "model_name": "LayoutModel",
      "state": {}
     },
     "75561dd50ac04c99818083515a6aa848": {
      "model_module": "@jupyter-widgets/base",
      "model_module_version": "1.2.0",
      "model_name": "LayoutModel",
      "state": {}
     },
     "75aca35bc59f46e7abb431fb34638b49": {
      "model_module": "@jupyter-widgets/controls",
      "model_module_version": "1.5.0",
      "model_name": "HBoxModel",
      "state": {
       "children": [
        "IPY_MODEL_6c5b9609068f4919a16513af53e52bd7",
        "IPY_MODEL_bdcc5986420e4a4ab7c8fdb946d5b868",
        "IPY_MODEL_7b2a8acdf88c45de8f069d76cea2d12c"
       ],
       "layout": "IPY_MODEL_e1b6cf6d92d445fdb8d45cd8c7884a57"
      }
     },
     "76d90fbf923f4a89a4417ae105869bc8": {
      "model_module": "@jupyter-widgets/base",
      "model_module_version": "1.2.0",
      "model_name": "LayoutModel",
      "state": {}
     },
     "76dc92e950f54f37aa9b55b3407095ce": {
      "model_module": "@jupyter-widgets/controls",
      "model_module_version": "1.5.0",
      "model_name": "DescriptionStyleModel",
      "state": {
       "description_width": ""
      }
     },
     "7728adc175554609a8adbd9fbfae0ad1": {
      "model_module": "@jupyter-widgets/controls",
      "model_module_version": "1.5.0",
      "model_name": "BoundedFloatTextModel",
      "state": {
       "description": "PM left time (hrs):",
       "layout": "IPY_MODEL_8795e3f66b3c4f43a872ec941b76107e",
       "max": 26280,
       "min": 1,
       "step": 24,
       "style": "IPY_MODEL_9c4c45d537264142ac1afefd1f20f532",
       "value": 96
      }
     },
     "7736406dac594c658433f15a62f2ade3": {
      "model_module": "@jupyter-widgets/base",
      "model_module_version": "1.2.0",
      "model_name": "LayoutModel",
      "state": {}
     },
     "779e263bca534dbe9aaefab3fd0f01da": {
      "model_module": "@jupyter-widgets/base",
      "model_module_version": "1.2.0",
      "model_name": "LayoutModel",
      "state": {}
     },
     "77a5c15f1a404d4bb5e98f715adfd07b": {
      "model_module": "@jupyter-widgets/controls",
      "model_module_version": "1.5.0",
      "model_name": "ButtonStyleModel",
      "state": {}
     },
     "77f9f24c08ff455985123334399af5e7": {
      "model_module": "@jupyter-widgets/base",
      "model_module_version": "1.2.0",
      "model_name": "LayoutModel",
      "state": {}
     },
     "782847e663ec44fea5292171f3e5d326": {
      "model_module": "@jupyter-widgets/controls",
      "model_module_version": "1.5.0",
      "model_name": "DescriptionStyleModel",
      "state": {
       "description_width": "150px"
      }
     },
     "78307119d8a242e8956172e4f316b0e8": {
      "model_module": "@jupyter-widgets/base",
      "model_module_version": "1.2.0",
      "model_name": "LayoutModel",
      "state": {}
     },
     "78576c1928b3485d9b22b7ca66bf864d": {
      "model_module": "@jupyter-widgets/controls",
      "model_module_version": "1.5.0",
      "model_name": "VBoxModel",
      "state": {
       "children": [
        "IPY_MODEL_a02a99b406da4346a3e07def5c9a2215",
        "IPY_MODEL_e9843eb1f054478ab045163682c368ad",
        "IPY_MODEL_21257ebafeb54d459df4b59c6956e0e9",
        "IPY_MODEL_89fa6da22a334212b9e098ef60d898ed",
        "IPY_MODEL_283b1b921c8e4f2aa24c836b943875c5"
       ],
       "layout": "IPY_MODEL_1bbb2b7222fd4baeba14b5ab1809c245"
      }
     },
     "7885ba7260754a139c056330f821a41a": {
      "model_module": "@jupyter-widgets/controls",
      "model_module_version": "1.5.0",
      "model_name": "BoundedFloatTextModel",
      "state": {
       "description": "Shape parameter:",
       "layout": "IPY_MODEL_2852cd81fa154ceab026ea84b89ade36",
       "max": 30,
       "min": 1,
       "step": 1,
       "style": "IPY_MODEL_e36bc95e118b4cb2825e3dd99da6b220",
       "value": 1.5
      }
     },
     "78b3737b1c114b80853538fed4ab2a0e": {
      "model_module": "@jupyter-widgets/output",
      "model_module_version": "1.0.0",
      "model_name": "OutputModel",
      "state": {
       "layout": "IPY_MODEL_56505e5dd6c044248fff29742b18bd42"
      }
     },
     "78fca297a1684bf5b3a5baabbcfe94be": {
      "model_module": "@jupyter-widgets/base",
      "model_module_version": "1.2.0",
      "model_name": "LayoutModel",
      "state": {}
     },
     "79084141492f4de8aa258a40f42e43c1": {
      "model_module": "@jupyter-widgets/base",
      "model_module_version": "1.2.0",
      "model_name": "LayoutModel",
      "state": {}
     },
     "797ceaa325664579850b8386054cfb64": {
      "model_module": "@jupyter-widgets/controls",
      "model_module_version": "1.5.0",
      "model_name": "DescriptionStyleModel",
      "state": {
       "description_width": "initial"
      }
     },
     "7994e1c4bf254d6a896906307be2d1ff": {
      "model_module": "@jupyter-widgets/base",
      "model_module_version": "1.2.0",
      "model_name": "LayoutModel",
      "state": {}
     },
     "79d879c9f2a740c09ac966b176c3d9b2": {
      "model_module": "@jupyter-widgets/base",
      "model_module_version": "1.2.0",
      "model_name": "LayoutModel",
      "state": {}
     },
     "79fac92d598946a9945c97e613a2d4a7": {
      "model_module": "@jupyter-widgets/controls",
      "model_module_version": "1.5.0",
      "model_name": "BoundedIntTextModel",
      "state": {
       "description": "Sim. Period (hrs):",
       "layout": "IPY_MODEL_aa1176d554d44baea426d4e9f2f27fcb",
       "max": 876000,
       "min": 8760,
       "style": "IPY_MODEL_2e4f3d6ba73f46af87b5f672c71b0311",
       "value": 87600
      }
     },
     "7a45f12803e5419cab698fe6c870013e": {
      "model_module": "@jupyter-widgets/controls",
      "model_module_version": "1.5.0",
      "model_name": "BoundedFloatTextModel",
      "state": {
       "description": "PM mode time (hrs):",
       "layout": "IPY_MODEL_542cd8788dda40ffbdc65b6430dc0e3d",
       "max": 26280,
       "min": 2,
       "step": 24,
       "style": "IPY_MODEL_84a091a1441c457982c647d710f1db87",
       "value": 120
      }
     },
     "7a83a968ea574bb58fedfbf73b1b2b6e": {
      "model_module": "@jupyter-widgets/base",
      "model_module_version": "1.2.0",
      "model_name": "LayoutModel",
      "state": {}
     },
     "7a92d977cd314f8c8e70ca9cf360ab67": {
      "model_module": "@jupyter-widgets/controls",
      "model_module_version": "1.5.0",
      "model_name": "BoundedFloatTextModel",
      "state": {
       "description": "PM freq  (hrs):",
       "layout": "IPY_MODEL_85fe3e6de807417bafb47ef337e6f532",
       "max": 876000,
       "min": 8760,
       "step": 1,
       "style": "IPY_MODEL_ace361df154a4991916d1da42f271756",
       "value": 17520
      }
     },
     "7ab58042af4044e78f8ee4960133257c": {
      "model_module": "@jupyter-widgets/controls",
      "model_module_version": "1.5.0",
      "model_name": "DescriptionStyleModel",
      "state": {
       "description_width": "150px"
      }
     },
     "7ab82dd7191f421bb683b30afafd0a79": {
      "model_module": "@jupyter-widgets/controls",
      "model_module_version": "1.5.0",
      "model_name": "DescriptionStyleModel",
      "state": {
       "description_width": "initial"
      }
     },
     "7af28526b83e4f09af09565755a6a18d": {
      "model_module": "@jupyter-widgets/controls",
      "model_module_version": "1.5.0",
      "model_name": "VBoxModel",
      "state": {
       "children": [
        "IPY_MODEL_f11c7e3eac434cfdb4eb7248b62eab00",
        "IPY_MODEL_b1bc01486377478b98d255ec986df815",
        "IPY_MODEL_0ff078def93141e9b3f7b26d29bfc92b",
        "IPY_MODEL_44e40311ef134830be87dcfc026b2f5a",
        "IPY_MODEL_c27f192d05a7440d92aa65c012ea0dfa"
       ],
       "layout": "IPY_MODEL_77f9f24c08ff455985123334399af5e7"
      }
     },
     "7b295fa1730c40408bf9bd44037be3a9": {
      "model_module": "@jupyter-widgets/controls",
      "model_module_version": "1.5.0",
      "model_name": "BoundedFloatTextModel",
      "state": {
       "description": "CM left time (hrs):",
       "layout": "IPY_MODEL_9736e6325f8d4ca09bf3afa376d45ec8",
       "max": 26280,
       "min": 1,
       "step": 1,
       "style": "IPY_MODEL_5d50d0eba44c4df59583eb85fe511717",
       "value": 520
      }
     },
     "7b2a8acdf88c45de8f069d76cea2d12c": {
      "model_module": "@jupyter-widgets/controls",
      "model_module_version": "1.5.0",
      "model_name": "VBoxModel",
      "state": {
       "children": [
        "IPY_MODEL_916aee8e8fbc4fe193d79d4cafeecdd7",
        "IPY_MODEL_cbbb4be9267a44af84e851b263d348aa",
        "IPY_MODEL_0eeb81fc3c2346dabd551e9fd401ea12",
        "IPY_MODEL_c1ab5e77479741889982e728b89f5d75"
       ],
       "layout": "IPY_MODEL_ce9fee65bc214a439f52495e8a7c5b59"
      }
     },
     "7b2c809a3bf3483bbfa1b297fe664274": {
      "model_module": "@jupyter-widgets/controls",
      "model_module_version": "1.5.0",
      "model_name": "BoundedFloatTextModel",
      "state": {
       "description": "PM right time (hrs):",
       "layout": "IPY_MODEL_730d434b089f413aa1cdce459e70c772",
       "max": 26280,
       "min": 3,
       "step": 24,
       "style": "IPY_MODEL_c312f36c9985491e80ee4869b51dec9c",
       "value": 168
      }
     },
     "7b4039eaa5f14f9ebbd8b5f27db8922b": {
      "model_module": "@jupyter-widgets/controls",
      "model_module_version": "1.5.0",
      "model_name": "IntSliderModel",
      "state": {
       "description": "b",
       "layout": "IPY_MODEL_a2fe5c623fa943d4806213bc5cf3372d",
       "max": 2250,
       "min": -750,
       "style": "IPY_MODEL_5f6f1192392545b2b7f6793d4e8543fc",
       "value": 750
      }
     },
     "7b559e5a4c644091af5a54fca5eac8e9": {
      "model_module": "@jupyter-widgets/controls",
      "model_module_version": "1.5.0",
      "model_name": "SliderStyleModel",
      "state": {
       "description_width": ""
      }
     },
     "7b689227ef1e4e19a17af8be2c2f04e3": {
      "model_module": "@jupyter-widgets/controls",
      "model_module_version": "1.5.0",
      "model_name": "DescriptionStyleModel",
      "state": {
       "description_width": "150px"
      }
     },
     "7b78a45b449244068dca2f63fbedfe91": {
      "model_module": "@jupyter-widgets/controls",
      "model_module_version": "1.5.0",
      "model_name": "BoundedFloatTextModel",
      "state": {
       "description": "PM toler  (hrs):",
       "layout": "IPY_MODEL_a07841cb442e45db86f2eee7eeb655ba",
       "max": 8760,
       "min": 1,
       "step": 1,
       "style": "IPY_MODEL_196d724bc7844421a5b17244d02d17d8",
       "value": 720
      }
     },
     "7bad7dc7332b41cd9b5175915351a637": {
      "model_module": "@jupyter-widgets/base",
      "model_module_version": "1.2.0",
      "model_name": "LayoutModel",
      "state": {}
     },
     "7bd4aabaef764fa4a3c8e2743325ae0c": {
      "model_module": "@jupyter-widgets/base",
      "model_module_version": "1.2.0",
      "model_name": "LayoutModel",
      "state": {
       "border": "solid 2px green",
       "display": "flex",
       "flex_flow": "row",
       "justify_content": "center",
       "width": "100%"
      }
     },
     "7bd7f4e59f5a4bd284ff277f990c411d": {
      "model_module": "@jupyter-widgets/controls",
      "model_module_version": "1.5.0",
      "model_name": "BoundedFloatTextModel",
      "state": {
       "description": "PM left time (hrs):",
       "layout": "IPY_MODEL_226a5615141c4b1a88a2d2c9ee3db8d5",
       "max": 26280,
       "min": 1,
       "step": 1,
       "style": "IPY_MODEL_4e63bc3bc2d54b52a159ec9df1b9bb6e",
       "value": 96
      }
     },
     "7c19424e2fe74025b6251f01f432e7b5": {
      "model_module": "@jupyter-widgets/controls",
      "model_module_version": "1.5.0",
      "model_name": "BoundedFloatTextModel",
      "state": {
       "description": "PM mode time (hrs):",
       "layout": "IPY_MODEL_0fb567bbc23c44b2b6041ad0cc223329",
       "max": 26280,
       "min": 2,
       "step": 24,
       "style": "IPY_MODEL_09ea0a9f0fce4bfd83581b55da236fcf",
       "value": 120
      }
     },
     "7c361a6e27d94ed8a473a159dee088c8": {
      "model_module": "@jupyter-widgets/base",
      "model_module_version": "1.2.0",
      "model_name": "LayoutModel",
      "state": {}
     },
     "7c43a72d65ed49e3b23c8858f5a374f9": {
      "model_module": "@jupyter-widgets/controls",
      "model_module_version": "1.5.0",
      "model_name": "VBoxModel",
      "state": {
       "children": [
        "IPY_MODEL_331339c2c9bd42d19b6412332923b6ba",
        "IPY_MODEL_93453c30d4aa4982b20610427cabc1f0",
        "IPY_MODEL_bd60fc5ac4d1455ba5e0c63c5bce044e",
        "IPY_MODEL_dc4c35dac6b64b4d9122d7ba0d9a7ed1",
        "IPY_MODEL_07bbfb07b5cf4f8ead89f999361ac8f3"
       ],
       "layout": "IPY_MODEL_9e085dbe755e454391e9e402b95cff8b"
      }
     },
     "7c49d142882948d5afda207974f7a3e7": {
      "model_module": "@jupyter-widgets/controls",
      "model_module_version": "1.5.0",
      "model_name": "DescriptionStyleModel",
      "state": {
       "description_width": "150px"
      }
     },
     "7c595c99b88d4b668eee7a39aaad5ae7": {
      "model_module": "@jupyter-widgets/base",
      "model_module_version": "1.2.0",
      "model_name": "LayoutModel",
      "state": {}
     },
     "7cb0ca5e8da3486db73a48b4e7a48e62": {
      "model_module": "@jupyter-widgets/base",
      "model_module_version": "1.2.0",
      "model_name": "LayoutModel",
      "state": {
       "border": "solid 2px green",
       "display": "flex",
       "flex_flow": "row",
       "justify_content": "center",
       "width": "100%"
      }
     },
     "7cb1a8b1178b481e9d0a7df505f6028f": {
      "model_module": "@jupyter-widgets/base",
      "model_module_version": "1.2.0",
      "model_name": "LayoutModel",
      "state": {}
     },
     "7d722227742643879ea40469153eb6a5": {
      "model_module": "@jupyter-widgets/controls",
      "model_module_version": "1.5.0",
      "model_name": "VBoxModel",
      "state": {
       "children": [
        "IPY_MODEL_4e2e97e1132f421889992e35d988d667",
        "IPY_MODEL_29517ed0154643feb132988cdeb66311",
        "IPY_MODEL_56a16e751b10407086746a8e0140ed18",
        "IPY_MODEL_355336595d3a405788e10a8f6f4f18f0"
       ],
       "layout": "IPY_MODEL_53cb2a36af9d4057a8d6cfc4bc2b51ac"
      }
     },
     "7d89176a4d6142fc9616aa6b6c6d8fa5": {
      "model_module": "@jupyter-widgets/controls",
      "model_module_version": "1.5.0",
      "model_name": "ButtonStyleModel",
      "state": {}
     },
     "7ddccaf671084992a922e40cc8e653a0": {
      "model_module": "@jupyter-widgets/controls",
      "model_module_version": "1.5.0",
      "model_name": "VBoxModel",
      "state": {
       "children": [
        "IPY_MODEL_b0d802660dc947c9be16970154eb3afe",
        "IPY_MODEL_7f21513e01d54e4c8f605ca48eaa0336",
        "IPY_MODEL_5b753d9089bf4da4bdfc035b28b1144e",
        "IPY_MODEL_afa1308fd1aa4fa18a36a12892a70597"
       ],
       "layout": "IPY_MODEL_fd14c2efd4de4e2abe4bbf0cb1500db5"
      }
     },
     "7de428ec933148baaacbf71a59a4fef3": {
      "model_module": "@jupyter-widgets/controls",
      "model_module_version": "1.5.0",
      "model_name": "DescriptionStyleModel",
      "state": {
       "description_width": "initial"
      }
     },
     "7e0595d182434b6b94048ba3f784038f": {
      "model_module": "@jupyter-widgets/base",
      "model_module_version": "1.2.0",
      "model_name": "LayoutModel",
      "state": {}
     },
     "7e3462cd89da4e9190ff98c9c0844eef": {
      "model_module": "@jupyter-widgets/controls",
      "model_module_version": "1.5.0",
      "model_name": "DescriptionStyleModel",
      "state": {
       "description_width": "initial"
      }
     },
     "7e3a34d9fda247bca225f3d0675dc7a3": {
      "model_module": "@jupyter-widgets/base",
      "model_module_version": "1.2.0",
      "model_name": "LayoutModel",
      "state": {}
     },
     "7e8f515da807480cbd911ef2f4d69f75": {
      "model_module": "@jupyter-widgets/base",
      "model_module_version": "1.2.0",
      "model_name": "LayoutModel",
      "state": {
       "border": "solid 2px green",
       "display": "flex",
       "flex_flow": "row",
       "justify_content": "center",
       "width": "100%"
      }
     },
     "7f09943cbc7346f19a55ed12f7864cb2": {
      "model_module": "@jupyter-widgets/controls",
      "model_module_version": "1.5.0",
      "model_name": "IntSliderModel",
      "state": {
       "description": "scale",
       "layout": "IPY_MODEL_3fa8f3ac8d004bf888c60a884ac99e78",
       "max": 65700,
       "min": -21900,
       "style": "IPY_MODEL_9d3dd96bca3d4a5a8c98408d6923c9ba",
       "value": 21900
      }
     },
     "7f21513e01d54e4c8f605ca48eaa0336": {
      "model_module": "@jupyter-widgets/controls",
      "model_module_version": "1.5.0",
      "model_name": "BoundedFloatTextModel",
      "state": {
       "description": "PM mode time (hrs):",
       "layout": "IPY_MODEL_ee54aea796ad4bcca7b2dc9e9e313150",
       "max": 26280,
       "min": 2,
       "step": 1,
       "style": "IPY_MODEL_590c93e288d14282a9bbc89c68ecf022",
       "value": 120
      }
     },
     "7f7a2b316248473b8cc0f0baabc99316": {
      "model_module": "@jupyter-widgets/base",
      "model_module_version": "1.2.0",
      "model_name": "LayoutModel",
      "state": {}
     },
     "7fa5e32e019e42c98fbe67d9f4753749": {
      "model_module": "@jupyter-widgets/controls",
      "model_module_version": "1.5.0",
      "model_name": "DescriptionStyleModel",
      "state": {
       "description_width": "initial"
      }
     },
     "8007d59bb44e44f1a84840b753e55ed7": {
      "model_module": "@jupyter-widgets/controls",
      "model_module_version": "1.5.0",
      "model_name": "DescriptionStyleModel",
      "state": {
       "description_width": "150px"
      }
     },
     "805fdca9328f4d1dab8303d7186e64d9": {
      "model_module": "@jupyter-widgets/controls",
      "model_module_version": "1.5.0",
      "model_name": "VBoxModel",
      "state": {
       "children": [
        "IPY_MODEL_9ecb042b45ad4274818786f79c230ca8",
        "IPY_MODEL_0bca3a4869044734a870831340aef40b",
        "IPY_MODEL_8ae5cb644c2744868a946923e81981e7",
        "IPY_MODEL_e00e4c697a974dc2b83c3b1672bbc260"
       ],
       "layout": "IPY_MODEL_2dfdc71e72514bac9f76249f05827822"
      }
     },
     "8089dbc06eb743babbadff08775d3939": {
      "model_module": "@jupyter-widgets/controls",
      "model_module_version": "1.5.0",
      "model_name": "VBoxModel",
      "state": {
       "_dom_classes": [
        "widget-interact"
       ],
       "children": [
        "IPY_MODEL_0985d02ca0ae49889fdae57a66334daa",
        "IPY_MODEL_d6e3f4e282724389976cb0d5aaf6d519",
        "IPY_MODEL_9df32797cd5744debc8003b716551da2",
        "IPY_MODEL_c7b4751feb644ed586091f07213e1491"
       ],
       "layout": "IPY_MODEL_9a1d71c2bcd0490d88bf8e7fa128e3e1"
      }
     },
     "80fc0e5e9c9549e0bd51b4ab41fb466e": {
      "model_module": "@jupyter-widgets/controls",
      "model_module_version": "1.5.0",
      "model_name": "BoundedFloatTextModel",
      "state": {
       "description": "Scale parameter  (hrs):",
       "layout": "IPY_MODEL_a06a9824035d4b1c85741b7aceecfbac",
       "max": 876000,
       "min": 4380,
       "step": 1,
       "style": "IPY_MODEL_87e76af3ae5d4307b68ee9120c6df905",
       "value": 13140
      }
     },
     "8173ddb93ac44594ab4df7563823eecd": {
      "model_module": "@jupyter-widgets/base",
      "model_module_version": "1.2.0",
      "model_name": "LayoutModel",
      "state": {}
     },
     "819bc48491ea4218bbb842fa8792bfe4": {
      "model_module": "@jupyter-widgets/controls",
      "model_module_version": "1.5.0",
      "model_name": "IntSliderModel",
      "state": {
       "description": "a",
       "layout": "IPY_MODEL_2d0f48d91e1d44dbbd68be42d77718e5",
       "max": 3,
       "min": -1,
       "style": "IPY_MODEL_432f079e95304a8597210923c9719891",
       "value": 1
      }
     },
     "81a3ff7571b64afba5710c7460b2ffe7": {
      "model_module": "@jupyter-widgets/base",
      "model_module_version": "1.2.0",
      "model_name": "LayoutModel",
      "state": {}
     },
     "81ba01cfa93e4454833540be1c60f357": {
      "model_module": "@jupyter-widgets/controls",
      "model_module_version": "1.5.0",
      "model_name": "BoundedFloatTextModel",
      "state": {
       "description": "Series or Redund:",
       "layout": "IPY_MODEL_049f9618f5ff4d27b2929057659eadc7",
       "max": 2,
       "min": 1,
       "step": 1,
       "style": "IPY_MODEL_6aa4bdf8a0164c49a53877043c149a7f",
       "value": 1
      }
     },
     "821b0655006c4254ae771ce26c4a91ba": {
      "model_module": "@jupyter-widgets/base",
      "model_module_version": "1.2.0",
      "model_name": "LayoutModel",
      "state": {}
     },
     "821b2d97fe8b48e28ed54855ba6e7766": {
      "model_module": "@jupyter-widgets/controls",
      "model_module_version": "1.5.0",
      "model_name": "DescriptionStyleModel",
      "state": {
       "description_width": "initial"
      }
     },
     "82362b3c1ae345ec98265be013cc8131": {
      "model_module": "@jupyter-widgets/controls",
      "model_module_version": "1.5.0",
      "model_name": "DescriptionStyleModel",
      "state": {
       "description_width": "150px"
      }
     },
     "82661e96e92944f1924ad1c6841d3e60": {
      "model_module": "@jupyter-widgets/controls",
      "model_module_version": "1.5.0",
      "model_name": "VBoxModel",
      "state": {
       "children": [
        "IPY_MODEL_b86b5fe02cc545b3986b6d8b2cd468ab",
        "IPY_MODEL_1ad64f5cd0104d73a7d7d4cf576fb622",
        "IPY_MODEL_b18330b9383e4181a7182e939aa66457",
        "IPY_MODEL_f432683634044db5bf5930d621ebb4db"
       ],
       "layout": "IPY_MODEL_432d1cf4a7fc433f81d502525acf4d23"
      }
     },
     "82678f6768d44feaa771a2835c175835": {
      "model_module": "@jupyter-widgets/base",
      "model_module_version": "1.2.0",
      "model_name": "LayoutModel",
      "state": {}
     },
     "82c6590827dc441e9252f931db062337": {
      "model_module": "@jupyter-widgets/base",
      "model_module_version": "1.2.0",
      "model_name": "LayoutModel",
      "state": {}
     },
     "832594fdf2a741e4ae442863e1eca48f": {
      "model_module": "@jupyter-widgets/base",
      "model_module_version": "1.2.0",
      "model_name": "LayoutModel",
      "state": {}
     },
     "833b352e798949838e458199a28a25bc": {
      "model_module": "@jupyter-widgets/controls",
      "model_module_version": "1.5.0",
      "model_name": "DescriptionStyleModel",
      "state": {
       "description_width": "initial"
      }
     },
     "835cad21cbe144e1af4c51f095d8eb99": {
      "model_module": "@jupyter-widgets/controls",
      "model_module_version": "1.5.0",
      "model_name": "VBoxModel",
      "state": {
       "children": [
        "IPY_MODEL_279ff798c4b0432994cf084496cbbc8b",
        "IPY_MODEL_03939dda83584ff8a8d1f26c9b0937fb",
        "IPY_MODEL_80fc0e5e9c9549e0bd51b4ab41fb466e",
        "IPY_MODEL_170ffa15b1864d87af423c5200d7154c"
       ],
       "layout": "IPY_MODEL_54c5597af2fd4ff48386048f13ad360d"
      }
     },
     "83918d84d8ae4ebaa23d4036877f0a32": {
      "model_module": "@jupyter-widgets/base",
      "model_module_version": "1.2.0",
      "model_name": "LayoutModel",
      "state": {}
     },
     "83daa5b32dd34fa9a1de792426fbfcd0": {
      "model_module": "@jupyter-widgets/controls",
      "model_module_version": "1.5.0",
      "model_name": "DescriptionStyleModel",
      "state": {
       "description_width": "150px"
      }
     },
     "8435d5e2ead04460be38a4f64b5a87bf": {
      "model_module": "@jupyter-widgets/controls",
      "model_module_version": "1.5.0",
      "model_name": "BoundedFloatTextModel",
      "state": {
       "description": "CM right time (hrs):",
       "layout": "IPY_MODEL_52b20b65531a47d3b1902408a64c72a4",
       "max": 26280,
       "min": 3,
       "step": 1,
       "style": "IPY_MODEL_fa10bbbd02274908bcfbb2be17f5782b",
       "value": 920
      }
     },
     "844667e040fe4dd5baa4d3ef7ca17137": {
      "model_module": "@jupyter-widgets/controls",
      "model_module_version": "1.5.0",
      "model_name": "DescriptionStyleModel",
      "state": {
       "description_width": "initial"
      }
     },
     "845b8c38361142429454661111cc259f": {
      "model_module": "@jupyter-widgets/base",
      "model_module_version": "1.2.0",
      "model_name": "LayoutModel",
      "state": {}
     },
     "84665e30e3ed4cc8a1bece7601077b6a": {
      "model_module": "@jupyter-widgets/controls",
      "model_module_version": "1.5.0",
      "model_name": "VBoxModel",
      "state": {
       "children": [
        "IPY_MODEL_89f7b67cade54416b3dacb5d0b68c881",
        "IPY_MODEL_0807f3c84a9f4d2b893f6322f7ddd84a",
        "IPY_MODEL_1b49886057744d3c88aaefef85f075a2",
        "IPY_MODEL_2c3dc2d078bf46b3b81e12910ba18431"
       ],
       "layout": "IPY_MODEL_241f438e8393409490bec021ef465ab6"
      }
     },
     "846ac217a040450a851a6a857387345a": {
      "model_module": "@jupyter-widgets/controls",
      "model_module_version": "1.5.0",
      "model_name": "DescriptionStyleModel",
      "state": {
       "description_width": "initial"
      }
     },
     "8485750fceb14a28a9179f5e60b4b322": {
      "model_module": "@jupyter-widgets/controls",
      "model_module_version": "1.5.0",
      "model_name": "VBoxModel",
      "state": {
       "children": [
        "IPY_MODEL_501847a525ea4a3db3f993b53a5de370",
        "IPY_MODEL_7c19424e2fe74025b6251f01f432e7b5",
        "IPY_MODEL_b67a566925c8433fb3ef5f8244651936",
        "IPY_MODEL_dbb633cc20cd4ccf8e36db72c24042c6"
       ],
       "layout": "IPY_MODEL_8d0a9a01578d4b85b1214ad7917850b3"
      }
     },
     "848821a2d7a24f6c9d4fcc5d75f7bdb4": {
      "model_module": "@jupyter-widgets/controls",
      "model_module_version": "1.5.0",
      "model_name": "DescriptionStyleModel",
      "state": {
       "description_width": "initial"
      }
     },
     "84a091a1441c457982c647d710f1db87": {
      "model_module": "@jupyter-widgets/controls",
      "model_module_version": "1.5.0",
      "model_name": "DescriptionStyleModel",
      "state": {
       "description_width": "150px"
      }
     },
     "84cb6c4d9ca44faea136727641297f3f": {
      "model_module": "@jupyter-widgets/base",
      "model_module_version": "1.2.0",
      "model_name": "LayoutModel",
      "state": {}
     },
     "84d2f791db7041e6a9bf31c784dd1857": {
      "model_module": "@jupyter-widgets/controls",
      "model_module_version": "1.5.0",
      "model_name": "DescriptionStyleModel",
      "state": {
       "description_width": "initial"
      }
     },
     "84f31b8aa6cf497d9d2d0c1401d649f2": {
      "model_module": "@jupyter-widgets/controls",
      "model_module_version": "1.5.0",
      "model_name": "DescriptionStyleModel",
      "state": {
       "description_width": "150px"
      }
     },
     "8527bcd23b2948b8a44ec49df652c847": {
      "model_module": "@jupyter-widgets/base",
      "model_module_version": "1.2.0",
      "model_name": "LayoutModel",
      "state": {}
     },
     "852c24ae819b474d8530c696a7e52c72": {
      "model_module": "@jupyter-widgets/controls",
      "model_module_version": "1.5.0",
      "model_name": "DescriptionStyleModel",
      "state": {
       "description_width": "initial"
      }
     },
     "858c5083487c47ac81f5b6f8aa38bd0d": {
      "model_module": "@jupyter-widgets/controls",
      "model_module_version": "1.5.0",
      "model_name": "DescriptionStyleModel",
      "state": {
       "description_width": "initial"
      }
     },
     "85a3a108df7f4f5c9014204bc12f0c09": {
      "model_module": "@jupyter-widgets/controls",
      "model_module_version": "1.5.0",
      "model_name": "ButtonStyleModel",
      "state": {}
     },
     "85d636105b594b3cadcbc7efd8ad6663": {
      "model_module": "@jupyter-widgets/controls",
      "model_module_version": "1.5.0",
      "model_name": "BoundedFloatTextModel",
      "state": {
       "description": "CM left time (hrs):",
       "layout": "IPY_MODEL_b97a2cfc626346d1b7c784826a58b110",
       "max": 26280,
       "min": 1,
       "step": 1,
       "style": "IPY_MODEL_c65a39ed469f4d149798c78be8bc4379",
       "value": 520
      }
     },
     "85d763ae38a8478aaa6e6abfddc1aa69": {
      "model_module": "@jupyter-widgets/controls",
      "model_module_version": "1.5.0",
      "model_name": "VBoxModel",
      "state": {
       "children": [
        "IPY_MODEL_8b3932fe54e84825b814e594242d4c38",
        "IPY_MODEL_54c69d574ff34fe5aaba867bd47e27d3",
        "IPY_MODEL_bd60fc5ac4d1455ba5e0c63c5bce044e",
        "IPY_MODEL_dc4c35dac6b64b4d9122d7ba0d9a7ed1",
        "IPY_MODEL_f176b8c2d01945afa78a5058d4cfefab"
       ],
       "layout": "IPY_MODEL_fff7c96d75194897b41cee82ca77e398"
      }
     },
     "85fe3e6de807417bafb47ef337e6f532": {
      "model_module": "@jupyter-widgets/base",
      "model_module_version": "1.2.0",
      "model_name": "LayoutModel",
      "state": {}
     },
     "85ffe4f0e074442184266b3c1b3751e9": {
      "model_module": "@jupyter-widgets/controls",
      "model_module_version": "1.5.0",
      "model_name": "DescriptionStyleModel",
      "state": {
       "description_width": "150px"
      }
     },
     "86596b1086c4408ba2c96b6c5b966a86": {
      "model_module": "@jupyter-widgets/controls",
      "model_module_version": "1.5.0",
      "model_name": "BoundedFloatTextModel",
      "state": {
       "description": "PM left time (hrs):",
       "layout": "IPY_MODEL_3fb99abfcba346b18bbbe56f710a620a",
       "max": 26280,
       "min": 1,
       "step": 1,
       "style": "IPY_MODEL_d0fa32afc07a4144a1f7aaf0c52c7dd0",
       "value": 96
      }
     },
     "8664ec000ea94770a9030c7403617558": {
      "model_module": "@jupyter-widgets/base",
      "model_module_version": "1.2.0",
      "model_name": "LayoutModel",
      "state": {}
     },
     "869c3aad65f64016a9fe408e3b541466": {
      "model_module": "@jupyter-widgets/controls",
      "model_module_version": "1.5.0",
      "model_name": "BoundedFloatTextModel",
      "state": {
       "description": "PM toler  (hrs):",
       "layout": "IPY_MODEL_7552a53861594d4fa00be321bb82a378",
       "max": 8760,
       "min": 1,
       "step": 1,
       "style": "IPY_MODEL_1909a077f28149dc8ba45650679da63a",
       "value": 720
      }
     },
     "86ac4cda6d864844bfe674875e25f73a": {
      "model_module": "@jupyter-widgets/controls",
      "model_module_version": "1.5.0",
      "model_name": "DescriptionStyleModel",
      "state": {
       "description_width": "initial"
      }
     },
     "87079619d1d44f3b9466e9097b114363": {
      "model_module": "@jupyter-widgets/base",
      "model_module_version": "1.2.0",
      "model_name": "LayoutModel",
      "state": {}
     },
     "871acbcb25c04fbf938e455fc27f9d0d": {
      "model_module": "@jupyter-widgets/controls",
      "model_module_version": "1.5.0",
      "model_name": "VBoxModel",
      "state": {
       "_dom_classes": [
        "widget-interact"
       ],
       "children": [
        "IPY_MODEL_b09cc3454fcd4c28b0b41aef4954035c",
        "IPY_MODEL_b695d7d559b446d38ffd6d240f6479a3",
        "IPY_MODEL_1b30677aa1634408922a6eb40764912b"
       ],
       "layout": "IPY_MODEL_14a5bc9d59784c00a16a27c785e9228a"
      }
     },
     "873604d215874b67839c8cc6ed97b808": {
      "model_module": "@jupyter-widgets/base",
      "model_module_version": "1.2.0",
      "model_name": "LayoutModel",
      "state": {
       "border": "solid 2px green",
       "display": "flex",
       "flex_flow": "row",
       "justify_content": "center",
       "width": "100%"
      }
     },
     "8795e3f66b3c4f43a872ec941b76107e": {
      "model_module": "@jupyter-widgets/base",
      "model_module_version": "1.2.0",
      "model_name": "LayoutModel",
      "state": {}
     },
     "87a764ecc3224fb2aec873f1f24c54e5": {
      "model_module": "@jupyter-widgets/base",
      "model_module_version": "1.2.0",
      "model_name": "LayoutModel",
      "state": {}
     },
     "87d23286796646538a2f4343c5e8486d": {
      "model_module": "@jupyter-widgets/base",
      "model_module_version": "1.2.0",
      "model_name": "LayoutModel",
      "state": {}
     },
     "87e1b697a9c749968a010f1d6a577856": {
      "model_module": "@jupyter-widgets/controls",
      "model_module_version": "1.5.0",
      "model_name": "BoundedIntTextModel",
      "state": {
       "description": "No of Simulation:",
       "layout": "IPY_MODEL_c17406ef30be46dd901f1892e11b5a42",
       "max": 1000,
       "min": 100,
       "style": "IPY_MODEL_84d2f791db7041e6a9bf31c784dd1857",
       "value": 100
      }
     },
     "87e76af3ae5d4307b68ee9120c6df905": {
      "model_module": "@jupyter-widgets/controls",
      "model_module_version": "1.5.0",
      "model_name": "DescriptionStyleModel",
      "state": {
       "description_width": "150px"
      }
     },
     "87f6925037b243079e74e5f2ad2f5d4e": {
      "model_module": "@jupyter-widgets/base",
      "model_module_version": "1.2.0",
      "model_name": "LayoutModel",
      "state": {}
     },
     "88bcc5fffab943cab1f2b96341e461b5": {
      "model_module": "@jupyter-widgets/controls",
      "model_module_version": "1.5.0",
      "model_name": "VBoxModel",
      "state": {
       "_dom_classes": [
        "widget-interact"
       ],
       "children": [
        "IPY_MODEL_924151d0d6c9406a974d07f788a99367",
        "IPY_MODEL_30a9056fabdf4ee99837e3ddaed8873b",
        "IPY_MODEL_22bafe93190740e6b42ac16110a6cbd1",
        "IPY_MODEL_d739efe085e0403694d27c7817dd56bc"
       ],
       "layout": "IPY_MODEL_18da9df5a78a4dbcb1258a67dc4852cd"
      }
     },
     "88c276bdf61d40a0ad213cfc11f20a0c": {
      "model_module": "@jupyter-widgets/controls",
      "model_module_version": "1.5.0",
      "model_name": "DescriptionStyleModel",
      "state": {
       "description_width": ""
      }
     },
     "89017eac8b864e69ab0d327be0321159": {
      "model_module": "@jupyter-widgets/controls",
      "model_module_version": "1.5.0",
      "model_name": "IntSliderModel",
      "state": {
       "description": "a",
       "layout": "IPY_MODEL_e2f1f790121849879dc0fff1c1942b7d",
       "max": 3,
       "min": -1,
       "style": "IPY_MODEL_7b559e5a4c644091af5a54fca5eac8e9",
       "value": 1
      }
     },
     "8932f2cacc7c4a82818344e635ab5a73": {
      "model_module": "@jupyter-widgets/output",
      "model_module_version": "1.0.0",
      "model_name": "OutputModel",
      "state": {
       "layout": "IPY_MODEL_b33a76f80c004f32a5b4fc2fd7290625"
      }
     },
     "89e04dee8ebd49efb286ce368a5e4c8a": {
      "model_module": "@jupyter-widgets/controls",
      "model_module_version": "1.5.0",
      "model_name": "BoundedFloatTextModel",
      "state": {
       "description": "CM mode time (hrs):",
       "layout": "IPY_MODEL_425ef0c16eb34948877380db9ea91bc2",
       "max": 26280,
       "min": 2,
       "step": 1,
       "style": "IPY_MODEL_0f5b2ed536924735a84161515d896b98",
       "value": 720
      }
     },
     "89f7b67cade54416b3dacb5d0b68c881": {
      "model_module": "@jupyter-widgets/controls",
      "model_module_version": "1.5.0",
      "model_name": "BoundedFloatTextModel",
      "state": {
       "description": "CM right time (hrs):",
       "layout": "IPY_MODEL_2a5f38209f304c44bc3fb8035a1f0d4e",
       "max": 26280,
       "min": 3,
       "step": 24,
       "style": "IPY_MODEL_d6459110cef74cbf9cc163b7fbdd7caa",
       "value": 920
      }
     },
     "89fa6da22a334212b9e098ef60d898ed": {
      "model_module": "@jupyter-widgets/controls",
      "model_module_version": "1.5.0",
      "model_name": "BoundedFloatTextModel",
      "state": {
       "description": "PM toler  (hrs):",
       "layout": "IPY_MODEL_5b39c72f1290405786f1f998c27c4051",
       "max": 17520,
       "min": 1,
       "step": 24,
       "style": "IPY_MODEL_9f03acbb363242888ae68442e108410a",
       "value": 720
      }
     },
     "8ae5cb644c2744868a946923e81981e7": {
      "model_module": "@jupyter-widgets/controls",
      "model_module_version": "1.5.0",
      "model_name": "BoundedFloatTextModel",
      "state": {
       "description": "Shape parameter:",
       "layout": "IPY_MODEL_4250b1a22c28432f918289a0c808715d",
       "max": 10,
       "min": 1,
       "step": 1,
       "style": "IPY_MODEL_86ac4cda6d864844bfe674875e25f73a",
       "value": 1.5
      }
     },
     "8b2c91375f0144f08b437bb63eaa9352": {
      "model_module": "@jupyter-widgets/controls",
      "model_module_version": "1.5.0",
      "model_name": "ButtonStyleModel",
      "state": {}
     },
     "8b3932fe54e84825b814e594242d4c38": {
      "model_module": "@jupyter-widgets/controls",
      "model_module_version": "1.5.0",
      "model_name": "BoundedFloatTextModel",
      "state": {
       "description": "CM left time (hrs):",
       "layout": "IPY_MODEL_c2bf6a449d7a49f7b979fff18c260464",
       "max": 26280,
       "min": 1,
       "step": 1,
       "style": "IPY_MODEL_40f20cf455a74fe4b81c889e62f2227d",
       "value": 520
      }
     },
     "8c25c8ee4bce4160877ea8b79682cc25": {
      "model_module": "@jupyter-widgets/controls",
      "model_module_version": "1.5.0",
      "model_name": "DescriptionStyleModel",
      "state": {
       "description_width": "initial"
      }
     },
     "8c25e25b0598461d8d79927df11bc103": {
      "model_module": "@jupyter-widgets/controls",
      "model_module_version": "1.5.0",
      "model_name": "DescriptionStyleModel",
      "state": {
       "description_width": "initial"
      }
     },
     "8c3cb6f22b064cd0b1f3606849172719": {
      "model_module": "@jupyter-widgets/controls",
      "model_module_version": "1.5.0",
      "model_name": "BoundedFloatTextModel",
      "state": {
       "description": "Scale parameter  (hrs):",
       "layout": "IPY_MODEL_feb11c0425fe410e9f2a193bf7c17286",
       "max": 876000,
       "min": 4380,
       "step": 1,
       "style": "IPY_MODEL_a71496686c3c449fa5e30fa0c7735091",
       "value": 13140
      }
     },
     "8c3d81fb14a1426e8ecb5a24621b0831": {
      "model_module": "@jupyter-widgets/base",
      "model_module_version": "1.2.0",
      "model_name": "LayoutModel",
      "state": {}
     },
     "8c4dbbc5edb94e1d8914bb82f7134145": {
      "model_module": "@jupyter-widgets/base",
      "model_module_version": "1.2.0",
      "model_name": "LayoutModel",
      "state": {}
     },
     "8c72d89236dc4a689d80e16c378fbd46": {
      "model_module": "@jupyter-widgets/controls",
      "model_module_version": "1.5.0",
      "model_name": "BoundedFloatTextModel",
      "state": {
       "description": "CM right time (hrs):",
       "layout": "IPY_MODEL_418d38e53bc74d61b7a4d17bd47ad56a",
       "max": 26280,
       "min": 3,
       "step": 1,
       "style": "IPY_MODEL_69a285adec5447cea7de2d7e2cd34eaf",
       "value": 920
      }
     },
     "8c8bdc690c6143f79bdd3aca1b24e7dc": {
      "model_module": "@jupyter-widgets/controls",
      "model_module_version": "1.5.0",
      "model_name": "BoundedFloatTextModel",
      "state": {
       "description": "Shape parameter:",
       "layout": "IPY_MODEL_5ed155f4a7e240bf982f4e3ae60db46e",
       "max": 10,
       "min": 1,
       "step": 1,
       "style": "IPY_MODEL_cd9aac8fbd42478ea703cf762357a51a",
       "value": 1.5
      }
     },
     "8ccb80a9610b4bb5b0916051997dddb0": {
      "model_module": "@jupyter-widgets/controls",
      "model_module_version": "1.5.0",
      "model_name": "BoundedIntTextModel",
      "state": {
       "description": "No of Simulation:",
       "layout": "IPY_MODEL_12be0abf732e4297a6f7e54c26d7fadd",
       "max": 1000,
       "min": 10,
       "step": 50,
       "style": "IPY_MODEL_74f47de55f754028910dccfb2e2567e2",
       "value": 100
      }
     },
     "8cd283d5d26d48c1822ded2063de6cd4": {
      "model_module": "@jupyter-widgets/base",
      "model_module_version": "1.2.0",
      "model_name": "LayoutModel",
      "state": {}
     },
     "8cffd4c4e41d4f6e904cccfced2e9679": {
      "model_module": "@jupyter-widgets/base",
      "model_module_version": "1.2.0",
      "model_name": "LayoutModel",
      "state": {}
     },
     "8d0a9a01578d4b85b1214ad7917850b3": {
      "model_module": "@jupyter-widgets/base",
      "model_module_version": "1.2.0",
      "model_name": "LayoutModel",
      "state": {}
     },
     "8d718f1f571c4606a66636850823a97a": {
      "model_module": "@jupyter-widgets/controls",
      "model_module_version": "1.5.0",
      "model_name": "BoundedIntTextModel",
      "state": {
       "description": "Sim. Period (hrs):",
       "layout": "IPY_MODEL_9af4856e008640c1b6d7447c6d5b6b16",
       "max": 876000,
       "min": 8760,
       "style": "IPY_MODEL_da333cb36dea4d4f8457e06d19558e10",
       "value": 87600
      }
     },
     "8dd3a3d7cd48422bbd17e564aa701188": {
      "model_module": "@jupyter-widgets/base",
      "model_module_version": "1.2.0",
      "model_name": "LayoutModel",
      "state": {}
     },
     "8dd5d99cc866452a9771b9f6de8f136e": {
      "model_module": "@jupyter-widgets/controls",
      "model_module_version": "1.5.0",
      "model_name": "HBoxModel",
      "state": {
       "children": [
        "IPY_MODEL_4ec94fad68ec49318e489025e6ff0bb1",
        "IPY_MODEL_075a94e53fa6493b8265bb6ca395cdf1",
        "IPY_MODEL_dae1bad946b3464bad087310f52dce02"
       ],
       "layout": "IPY_MODEL_c87621fb890a45a7a8b2805a724b060e"
      }
     },
     "8df435ca3a53480b97628018e4269031": {
      "model_module": "@jupyter-widgets/controls",
      "model_module_version": "1.5.0",
      "model_name": "DescriptionStyleModel",
      "state": {
       "description_width": "150px"
      }
     },
     "8e0f194e6712498a9a3ef049dd05d719": {
      "model_module": "@jupyter-widgets/base",
      "model_module_version": "1.2.0",
      "model_name": "LayoutModel",
      "state": {}
     },
     "8e47390217684878972f0d23bc69c6ec": {
      "model_module": "@jupyter-widgets/controls",
      "model_module_version": "1.5.0",
      "model_name": "DescriptionStyleModel",
      "state": {
       "description_width": "initial"
      }
     },
     "8e5f1a68627740fb823385e462684c7d": {
      "model_module": "@jupyter-widgets/controls",
      "model_module_version": "1.5.0",
      "model_name": "DescriptionStyleModel",
      "state": {
       "description_width": "initial"
      }
     },
     "8e66409f76014e5581968cd1773bf22f": {
      "model_module": "@jupyter-widgets/base",
      "model_module_version": "1.2.0",
      "model_name": "LayoutModel",
      "state": {
       "border": "solid 2px green",
       "display": "flex",
       "flex_flow": "row",
       "justify_content": "center",
       "width": "100%"
      }
     },
     "8ee6cac0a90b48fbafd0659373cc2fdf": {
      "model_module": "@jupyter-widgets/controls",
      "model_module_version": "1.5.0",
      "model_name": "BoundedFloatTextModel",
      "state": {
       "description": "CM right time (hrs):",
       "layout": "IPY_MODEL_a456e69488be41618d0f539297ac3e8f",
       "max": 26280,
       "min": 3,
       "step": 1,
       "style": "IPY_MODEL_a917ec4cf71c4fd0bdd5390b170694e0",
       "value": 920
      }
     },
     "8fb4b8fc32fe423482e8663b3db96f32": {
      "model_module": "@jupyter-widgets/base",
      "model_module_version": "1.2.0",
      "model_name": "LayoutModel",
      "state": {}
     },
     "8fbf4bf5505348f286e93b2b1b0fdfbf": {
      "model_module": "@jupyter-widgets/controls",
      "model_module_version": "1.5.0",
      "model_name": "DescriptionStyleModel",
      "state": {
       "description_width": "initial"
      }
     },
     "9002719358f34164b6c777aeb422357f": {
      "model_module": "@jupyter-widgets/base",
      "model_module_version": "1.2.0",
      "model_name": "LayoutModel",
      "state": {}
     },
     "9020b3d2ca4d41d290f42bd23b27c12e": {
      "model_module": "@jupyter-widgets/controls",
      "model_module_version": "1.5.0",
      "model_name": "BoundedFloatTextModel",
      "state": {
       "description": "Series or Redund:",
       "layout": "IPY_MODEL_11c346e983f34578a36aa9e018de943b",
       "max": 2,
       "min": 1,
       "step": 1,
       "style": "IPY_MODEL_0790836f1fc44d12a707819c7a385666",
       "value": 2
      }
     },
     "9076ce42b28544c6b071cdf85b486b70": {
      "model_module": "@jupyter-widgets/controls",
      "model_module_version": "1.5.0",
      "model_name": "IntSliderModel",
      "state": {
       "description": "scale",
       "layout": "IPY_MODEL_f867774990164d86a0147e18256329ce",
       "max": 65700,
       "min": -21900,
       "style": "IPY_MODEL_4fad2e8a6042422898cae496ff526c82",
       "value": 21900
      }
     },
     "908c269aaf414914bc3ce57d5ecc69e2": {
      "model_module": "@jupyter-widgets/controls",
      "model_module_version": "1.5.0",
      "model_name": "DescriptionStyleModel",
      "state": {
       "description_width": "initial"
      }
     },
     "91063fffda9042dea998e5ecfa204cfb": {
      "model_module": "@jupyter-widgets/controls",
      "model_module_version": "1.5.0",
      "model_name": "BoundedFloatTextModel",
      "state": {
       "description": "CM left time (hrs):",
       "layout": "IPY_MODEL_569b37df4d2642f09499b7235ed6a198",
       "max": 26280,
       "min": 1,
       "step": 1,
       "style": "IPY_MODEL_1e7cd654717e49cb9f010d1a17f00a81",
       "value": 520
      }
     },
     "91596088634e43a7b1a39d0b68f3fc77": {
      "model_module": "@jupyter-widgets/base",
      "model_module_version": "1.2.0",
      "model_name": "LayoutModel",
      "state": {}
     },
     "916aee8e8fbc4fe193d79d4cafeecdd7": {
      "model_module": "@jupyter-widgets/controls",
      "model_module_version": "1.5.0",
      "model_name": "BoundedFloatTextModel",
      "state": {
       "description": "CM right time (hrs):",
       "layout": "IPY_MODEL_7994e1c4bf254d6a896906307be2d1ff",
       "max": 26280,
       "min": 3,
       "step": 1,
       "style": "IPY_MODEL_63b3be88e3694229b0950ec87ab3666c",
       "value": 920
      }
     },
     "918d5454b17e420ea31c5ca6d0dc89db": {
      "model_module": "@jupyter-widgets/controls",
      "model_module_version": "1.5.0",
      "model_name": "BoundedFloatTextModel",
      "state": {
       "description": "CM left time (hrs):",
       "layout": "IPY_MODEL_8664ec000ea94770a9030c7403617558",
       "max": 26280,
       "min": 1,
       "step": 1,
       "style": "IPY_MODEL_074270c6693c42ac94c8368902d974ef",
       "value": 520
      }
     },
     "91fc93e5dbaa4d13aeb4cf13c31e3728": {
      "model_module": "@jupyter-widgets/controls",
      "model_module_version": "1.5.0",
      "model_name": "BoundedIntTextModel",
      "state": {
       "description": "No of Simulation:",
       "layout": "IPY_MODEL_f7d0de6d13b144fe88d9687bdbc4d5ce",
       "max": 1000,
       "min": 100,
       "step": 50,
       "style": "IPY_MODEL_cae5a03fc88c4ab8ad0db9338b8785b1",
       "value": 100
      }
     },
     "9220720de3424e708f7aaab30563ba69": {
      "model_module": "@jupyter-widgets/controls",
      "model_module_version": "1.5.0",
      "model_name": "DescriptionStyleModel",
      "state": {
       "description_width": "initial"
      }
     },
     "924151d0d6c9406a974d07f788a99367": {
      "model_module": "@jupyter-widgets/controls",
      "model_module_version": "1.5.0",
      "model_name": "IntSliderModel",
      "state": {
       "description": "a",
       "layout": "IPY_MODEL_2b7627d55142484da913ee6eb0f9f0b3",
       "max": 3,
       "min": -1,
       "style": "IPY_MODEL_b2320dda618c470898f93d028c6c21ea",
       "value": 1
      }
     },
     "929d0af1898c402d8586da1833adacad": {
      "model_module": "@jupyter-widgets/base",
      "model_module_version": "1.2.0",
      "model_name": "LayoutModel",
      "state": {}
     },
     "92d3456a092249bd9e2f586f1fdd8bd8": {
      "model_module": "@jupyter-widgets/base",
      "model_module_version": "1.2.0",
      "model_name": "LayoutModel",
      "state": {}
     },
     "9315f0b3ba314e7fa95eb69e29405860": {
      "model_module": "@jupyter-widgets/controls",
      "model_module_version": "1.5.0",
      "model_name": "DescriptionStyleModel",
      "state": {
       "description_width": "initial"
      }
     },
     "93453c30d4aa4982b20610427cabc1f0": {
      "model_module": "@jupyter-widgets/controls",
      "model_module_version": "1.5.0",
      "model_name": "BoundedFloatTextModel",
      "state": {
       "description": "PM left time (hrs):",
       "layout": "IPY_MODEL_0c70f8cc5cef49488bfede98337908ed",
       "max": 26280,
       "min": 1,
       "step": 1,
       "style": "IPY_MODEL_7353822725764c01855cdc9a2f7dcb8b",
       "value": 96
      }
     },
     "936a5c368c4d45a3a1b823e54cc21627": {
      "model_module": "@jupyter-widgets/controls",
      "model_module_version": "1.5.0",
      "model_name": "DescriptionStyleModel",
      "state": {
       "description_width": "initial"
      }
     },
     "93856326170e4cd299f4f27032fdfa6f": {
      "model_module": "@jupyter-widgets/controls",
      "model_module_version": "1.5.0",
      "model_name": "BoundedIntTextModel",
      "state": {
       "description": "Sim. Period (hrs):",
       "layout": "IPY_MODEL_18a3984086ff441695e947c7a9c65428",
       "max": 876000,
       "min": 8760,
       "step": 8760,
       "style": "IPY_MODEL_fc5bfe0c1f7a451e9e5f03719b5bc26d",
       "value": 87600
      }
     },
     "93b085f61ef24f96b1a33a1232790628": {
      "model_module": "@jupyter-widgets/controls",
      "model_module_version": "1.5.0",
      "model_name": "DescriptionStyleModel",
      "state": {
       "description_width": "initial"
      }
     },
     "93de6c33c67b4bb8bf563b0a02492d32": {
      "model_module": "@jupyter-widgets/controls",
      "model_module_version": "1.5.0",
      "model_name": "DescriptionStyleModel",
      "state": {
       "description_width": "initial"
      }
     },
     "9432698fd0b44b08afdbe4f62e7f2eae": {
      "model_module": "@jupyter-widgets/base",
      "model_module_version": "1.2.0",
      "model_name": "LayoutModel",
      "state": {}
     },
     "9459608f201b4a38a1b090834d1ede2e": {
      "model_module": "@jupyter-widgets/base",
      "model_module_version": "1.2.0",
      "model_name": "LayoutModel",
      "state": {}
     },
     "946b599fe756487da37fb5ddbd001fe3": {
      "model_module": "@jupyter-widgets/controls",
      "model_module_version": "1.5.0",
      "model_name": "VBoxModel",
      "state": {
       "children": [
        "IPY_MODEL_66cfb4f28a5f45c08d141fb128dc06e1",
        "IPY_MODEL_dcb805e37445491883f49eff64505f1f",
        "IPY_MODEL_48bec37ed4184fc4be78b13489bb1b9d",
        "IPY_MODEL_d6a70e39c4df436f9579b8b8d3590202"
       ],
       "layout": "IPY_MODEL_999349157a5346fb8bb6631ae1bf7b96"
      }
     },
     "94858cdac02943cfa617074e7bf5d8e4": {
      "model_module": "@jupyter-widgets/controls",
      "model_module_version": "1.5.0",
      "model_name": "VBoxModel",
      "state": {
       "children": [
        "IPY_MODEL_55073aa8f74f4d11b570c91a431a923b",
        "IPY_MODEL_9b5825bb92404131a68d36f5a0c3dff7",
        "IPY_MODEL_aeb77a4600e74b698dd5457844629d99",
        "IPY_MODEL_5ec6b262d29240d7b914992eb16dfe59"
       ],
       "layout": "IPY_MODEL_67b745d607ac486290bb194ec6537d4f"
      }
     },
     "948f97754a01471bbfc9dd11ed67df74": {
      "model_module": "@jupyter-widgets/controls",
      "model_module_version": "1.5.0",
      "model_name": "VBoxModel",
      "state": {
       "_dom_classes": [
        "widget-interact"
       ],
       "children": [
        "IPY_MODEL_d32257eeeb9a429e95aa01bc79728ef7",
        "IPY_MODEL_7f09943cbc7346f19a55ed12f7864cb2",
        "IPY_MODEL_32235c57de5f4b91ba4f50a1c2c89a63"
       ],
       "layout": "IPY_MODEL_821b0655006c4254ae771ce26c4a91ba"
      }
     },
     "94a2bfc751c542719c5c5dea1a7a934a": {
      "model_module": "@jupyter-widgets/controls",
      "model_module_version": "1.5.0",
      "model_name": "BoundedFloatTextModel",
      "state": {
       "description": "CM left time (hrs):",
       "layout": "IPY_MODEL_59bbb8aa8ac942e698a3809405638828",
       "max": 26280,
       "min": 1,
       "step": 24,
       "style": "IPY_MODEL_bca8faa8c12f4e548cdbb9774d743dc3",
       "value": 520
      }
     },
     "94d569d989bf4284a736876cc084efef": {
      "model_module": "@jupyter-widgets/controls",
      "model_module_version": "1.5.0",
      "model_name": "BoundedFloatTextModel",
      "state": {
       "description": "CM mode time (hrs):",
       "layout": "IPY_MODEL_b4750113104f4237b87fc1405ecaadb2",
       "max": 26280,
       "min": 2,
       "step": 1,
       "style": "IPY_MODEL_9315f0b3ba314e7fa95eb69e29405860",
       "value": 720
      }
     },
     "94edcbc482ad487eb86bcf1cef8b2514": {
      "model_module": "@jupyter-widgets/controls",
      "model_module_version": "1.5.0",
      "model_name": "BoundedFloatTextModel",
      "state": {
       "description": "Scale parameter  (hrs):",
       "layout": "IPY_MODEL_58a6d440ea9c47a38c98efc2011aee50",
       "max": 876000,
       "min": 8760,
       "step": 1,
       "style": "IPY_MODEL_9220720de3424e708f7aaab30563ba69",
       "value": 13140
      }
     },
     "952ebdab4e3b443ba9878c434674d9a8": {
      "model_module": "@jupyter-widgets/controls",
      "model_module_version": "1.5.0",
      "model_name": "DescriptionStyleModel",
      "state": {
       "description_width": "initial"
      }
     },
     "95751defaa6c436fbd4662f57de28175": {
      "model_module": "@jupyter-widgets/controls",
      "model_module_version": "1.5.0",
      "model_name": "BoundedFloatTextModel",
      "state": {
       "description": "PM freq  (hrs):",
       "layout": "IPY_MODEL_3f3cf59401b24b909d518cf7e3e83acb",
       "max": 876000,
       "min": 8760,
       "step": 1,
       "style": "IPY_MODEL_3b75315b21a54ad3bd07b1791622bbfd",
       "value": 17520
      }
     },
     "9595d19e8a3e48a990f4f4651322bc04": {
      "model_module": "@jupyter-widgets/controls",
      "model_module_version": "1.5.0",
      "model_name": "DescriptionStyleModel",
      "state": {
       "description_width": "initial"
      }
     },
     "95c4946856dc4461bf58cef0923808f5": {
      "model_module": "@jupyter-widgets/controls",
      "model_module_version": "1.5.0",
      "model_name": "SliderStyleModel",
      "state": {
       "description_width": ""
      }
     },
     "95e3b7c3fce54648bdac3bdc1886f7f3": {
      "model_module": "@jupyter-widgets/controls",
      "model_module_version": "1.5.0",
      "model_name": "SliderStyleModel",
      "state": {
       "description_width": ""
      }
     },
     "96115139de4a413dad1f8f052439ae4c": {
      "model_module": "@jupyter-widgets/base",
      "model_module_version": "1.2.0",
      "model_name": "LayoutModel",
      "state": {}
     },
     "9623f00e19734a159f2078487ca7740f": {
      "model_module": "@jupyter-widgets/controls",
      "model_module_version": "1.5.0",
      "model_name": "BoundedIntTextModel",
      "state": {
       "description": "No of Simulation:",
       "layout": "IPY_MODEL_9b25d7bac325493ab11b8ebcbaa26e50",
       "max": 1000,
       "min": 100,
       "style": "IPY_MODEL_bec11e7c27324879ac5d51be65c94041",
       "value": 100
      }
     },
     "964e8cad61964f699debde2df43c7272": {
      "model_module": "@jupyter-widgets/controls",
      "model_module_version": "1.5.0",
      "model_name": "DescriptionStyleModel",
      "state": {
       "description_width": "150px"
      }
     },
     "9667804fd78042589ea5da1678aae514": {
      "model_module": "@jupyter-widgets/controls",
      "model_module_version": "1.5.0",
      "model_name": "BoundedFloatTextModel",
      "state": {
       "description": "Shape parameter:",
       "layout": "IPY_MODEL_734c1bb08b874732ab6e44c04d957f6d",
       "max": 30,
       "min": 1,
       "step": 1,
       "style": "IPY_MODEL_bfce8171d5bb48a984e11d8b9935fbf6",
       "value": 1.5
      }
     },
     "96727f5579de448996cc76e233de1fb7": {
      "model_module": "@jupyter-widgets/controls",
      "model_module_version": "1.5.0",
      "model_name": "SliderStyleModel",
      "state": {
       "description_width": ""
      }
     },
     "9687198e734b45b79366607f6aad8db7": {
      "model_module": "@jupyter-widgets/base",
      "model_module_version": "1.2.0",
      "model_name": "LayoutModel",
      "state": {}
     },
     "96bbb6453af542e4bed1b3f6abad5590": {
      "model_module": "@jupyter-widgets/controls",
      "model_module_version": "1.5.0",
      "model_name": "BoundedFloatTextModel",
      "state": {
       "description": "CM left time (hrs):",
       "layout": "IPY_MODEL_683790e097b048dc90668130ffed26c9",
       "max": 26280,
       "min": 1,
       "step": 1,
       "style": "IPY_MODEL_c2777333e889495ea51a016431def9c6",
       "value": 520
      }
     },
     "96db2e0a0b5b45dcb1b9a492f033b98f": {
      "model_module": "@jupyter-widgets/controls",
      "model_module_version": "1.5.0",
      "model_name": "DescriptionStyleModel",
      "state": {
       "description_width": "150px"
      }
     },
     "96e269d6eeff409da7b23e41e7167e58": {
      "model_module": "@jupyter-widgets/base",
      "model_module_version": "1.2.0",
      "model_name": "LayoutModel",
      "state": {}
     },
     "9702cff53f18499e8c8e14abb183ccaf": {
      "model_module": "@jupyter-widgets/base",
      "model_module_version": "1.2.0",
      "model_name": "LayoutModel",
      "state": {}
     },
     "9705e2335bac463b9b81e80090782a63": {
      "model_module": "@jupyter-widgets/base",
      "model_module_version": "1.2.0",
      "model_name": "LayoutModel",
      "state": {}
     },
     "970b6ec47ab54de4960ab110acbe584a": {
      "model_module": "@jupyter-widgets/base",
      "model_module_version": "1.2.0",
      "model_name": "LayoutModel",
      "state": {}
     },
     "97265262bf4041e0bee83cb99eb3e996": {
      "model_module": "@jupyter-widgets/output",
      "model_module_version": "1.0.0",
      "model_name": "OutputModel",
      "state": {
       "layout": "IPY_MODEL_1d7106e07ca947648adc0a7cd688e783",
       "outputs": [
        {
         "data": {
          "image/png": "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\n",
          "text/plain": "<Figure size 432x288 with 1 Axes>"
         },
         "metadata": {
          "needs_background": "light"
         },
         "output_type": "display_data"
        }
       ]
      }
     },
     "972e702815024381a75389af24214d09": {
      "model_module": "@jupyter-widgets/controls",
      "model_module_version": "1.5.0",
      "model_name": "BoundedIntTextModel",
      "state": {
       "description": "Sim. Period (hrs):",
       "layout": "IPY_MODEL_d111d65e58514ca79f3d6f3be264aff9",
       "max": 876000,
       "min": 8760,
       "style": "IPY_MODEL_a9384e7be9bc44a88e24da861f0046fc",
       "value": 8760
      }
     },
     "9736e6325f8d4ca09bf3afa376d45ec8": {
      "model_module": "@jupyter-widgets/base",
      "model_module_version": "1.2.0",
      "model_name": "LayoutModel",
      "state": {}
     },
     "9767bf04877d466c97ae0163b52165af": {
      "model_module": "@jupyter-widgets/base",
      "model_module_version": "1.2.0",
      "model_name": "LayoutModel",
      "state": {}
     },
     "97fa2dba04cb40e2ba24706b1a1c066d": {
      "model_module": "@jupyter-widgets/controls",
      "model_module_version": "1.5.0",
      "model_name": "DescriptionStyleModel",
      "state": {
       "description_width": "initial"
      }
     },
     "980f760812ee45faa08c403f0dba997b": {
      "model_module": "@jupyter-widgets/controls",
      "model_module_version": "1.5.0",
      "model_name": "IntSliderModel",
      "state": {
       "description": "b",
       "layout": "IPY_MODEL_1156b488f667474eaf21f72017b527f6",
       "max": 2250,
       "min": -750,
       "style": "IPY_MODEL_5116d9d14a5b44e4b83f03b091913f6d",
       "value": 750
      }
     },
     "98bc5b6ac8b741518e6df55f6ac8de80": {
      "model_module": "@jupyter-widgets/output",
      "model_module_version": "1.0.0",
      "model_name": "OutputModel",
      "state": {
       "layout": "IPY_MODEL_fead93f6c0b543b4917f008ea538e22f"
      }
     },
     "999349157a5346fb8bb6631ae1bf7b96": {
      "model_module": "@jupyter-widgets/base",
      "model_module_version": "1.2.0",
      "model_name": "LayoutModel",
      "state": {}
     },
     "99a6c820891b401c8f383fd1146b6e67": {
      "model_module": "@jupyter-widgets/controls",
      "model_module_version": "1.5.0",
      "model_name": "DescriptionStyleModel",
      "state": {
       "description_width": ""
      }
     },
     "99c971bd1bc3467f86434d980dbc03b1": {
      "model_module": "@jupyter-widgets/controls",
      "model_module_version": "1.5.0",
      "model_name": "DescriptionStyleModel",
      "state": {
       "description_width": "initial"
      }
     },
     "9a1871de6d354d8dac9e4bc28f72ab23": {
      "model_module": "@jupyter-widgets/base",
      "model_module_version": "1.2.0",
      "model_name": "LayoutModel",
      "state": {}
     },
     "9a1d71c2bcd0490d88bf8e7fa128e3e1": {
      "model_module": "@jupyter-widgets/base",
      "model_module_version": "1.2.0",
      "model_name": "LayoutModel",
      "state": {}
     },
     "9a3050da0d43422f8c690ad47c3e3c5d": {
      "model_module": "@jupyter-widgets/base",
      "model_module_version": "1.2.0",
      "model_name": "LayoutModel",
      "state": {}
     },
     "9a47508d032a45139a15f948113251ab": {
      "model_module": "@jupyter-widgets/base",
      "model_module_version": "1.2.0",
      "model_name": "LayoutModel",
      "state": {}
     },
     "9a74c7c74d3f44869f9d578571802b7f": {
      "model_module": "@jupyter-widgets/base",
      "model_module_version": "1.2.0",
      "model_name": "LayoutModel",
      "state": {}
     },
     "9af4856e008640c1b6d7447c6d5b6b16": {
      "model_module": "@jupyter-widgets/base",
      "model_module_version": "1.2.0",
      "model_name": "LayoutModel",
      "state": {}
     },
     "9b25d7bac325493ab11b8ebcbaa26e50": {
      "model_module": "@jupyter-widgets/base",
      "model_module_version": "1.2.0",
      "model_name": "LayoutModel",
      "state": {}
     },
     "9b5825bb92404131a68d36f5a0c3dff7": {
      "model_module": "@jupyter-widgets/controls",
      "model_module_version": "1.5.0",
      "model_name": "BoundedFloatTextModel",
      "state": {
       "description": "PM right time (hrs):",
       "layout": "IPY_MODEL_9a1871de6d354d8dac9e4bc28f72ab23",
       "max": 26280,
       "min": 3,
       "step": 24,
       "style": "IPY_MODEL_bf8bdfd8bdb0448aa0c704db0fd50996",
       "value": 168
      }
     },
     "9bd66fdb3bde4238b31238fd5a033ee6": {
      "model_module": "@jupyter-widgets/output",
      "model_module_version": "1.0.0",
      "model_name": "OutputModel",
      "state": {
       "layout": "IPY_MODEL_63074068ffc2453ca933c2abe4638829"
      }
     },
     "9be57589373f4955a0a733caa0baaaf1": {
      "model_module": "@jupyter-widgets/base",
      "model_module_version": "1.2.0",
      "model_name": "LayoutModel",
      "state": {}
     },
     "9c4c45d537264142ac1afefd1f20f532": {
      "model_module": "@jupyter-widgets/controls",
      "model_module_version": "1.5.0",
      "model_name": "DescriptionStyleModel",
      "state": {
       "description_width": "150px"
      }
     },
     "9cb3e14a834c4fdd970985498bc3a3ca": {
      "model_module": "@jupyter-widgets/base",
      "model_module_version": "1.2.0",
      "model_name": "LayoutModel",
      "state": {}
     },
     "9d15fee6e70c44aa8345aa409d11c56a": {
      "model_module": "@jupyter-widgets/controls",
      "model_module_version": "1.5.0",
      "model_name": "BoundedFloatTextModel",
      "state": {
       "description": "Series or Redund:",
       "layout": "IPY_MODEL_7e0595d182434b6b94048ba3f784038f",
       "max": 2,
       "min": 1,
       "step": 1,
       "style": "IPY_MODEL_76dc92e950f54f37aa9b55b3407095ce",
       "value": 1
      }
     },
     "9d3dd96bca3d4a5a8c98408d6923c9ba": {
      "model_module": "@jupyter-widgets/controls",
      "model_module_version": "1.5.0",
      "model_name": "SliderStyleModel",
      "state": {
       "description_width": ""
      }
     },
     "9d4a1702664b49e1be221d6a5aa9905b": {
      "model_module": "@jupyter-widgets/base",
      "model_module_version": "1.2.0",
      "model_name": "LayoutModel",
      "state": {}
     },
     "9d7dfcd6073444af800fc6db543aa553": {
      "model_module": "@jupyter-widgets/controls",
      "model_module_version": "1.5.0",
      "model_name": "BoundedFloatTextModel",
      "state": {
       "description": "PM toler  (hrs):",
       "layout": "IPY_MODEL_c59a165e113c4ecdb2d0396c4f0c4fcb",
       "max": 8760,
       "min": 1,
       "step": 1,
       "style": "IPY_MODEL_e1102e324bb54bb4a634a2a4caec72e5",
       "value": 720
      }
     },
     "9d8ab51cf28a4e8490814f73c3af4c31": {
      "model_module": "@jupyter-widgets/controls",
      "model_module_version": "1.5.0",
      "model_name": "DescriptionStyleModel",
      "state": {
       "description_width": "initial"
      }
     },
     "9db933977ed6408fbe2721ac55432e7e": {
      "model_module": "@jupyter-widgets/controls",
      "model_module_version": "1.5.0",
      "model_name": "DescriptionStyleModel",
      "state": {
       "description_width": "initial"
      }
     },
     "9dcefb071bf740c2b393a4d066c053e8": {
      "model_module": "@jupyter-widgets/controls",
      "model_module_version": "1.5.0",
      "model_name": "DescriptionStyleModel",
      "state": {
       "description_width": "initial"
      }
     },
     "9df32797cd5744debc8003b716551da2": {
      "model_module": "@jupyter-widgets/controls",
      "model_module_version": "1.5.0",
      "model_name": "IntSliderModel",
      "state": {
       "description": "c",
       "layout": "IPY_MODEL_b4b88a2efda645efabdfb2290206abdf",
       "max": 4500,
       "min": -1500,
       "style": "IPY_MODEL_044edec58404442497c2018de4a0aa2a",
       "value": 1500
      }
     },
     "9dfeff9e7ac647bbb459f2bf694b83af": {
      "model_module": "@jupyter-widgets/controls",
      "model_module_version": "1.5.0",
      "model_name": "DescriptionStyleModel",
      "state": {
       "description_width": "initial"
      }
     },
     "9e085dbe755e454391e9e402b95cff8b": {
      "model_module": "@jupyter-widgets/base",
      "model_module_version": "1.2.0",
      "model_name": "LayoutModel",
      "state": {}
     },
     "9e1e5aa24de24f51b3a876c578c38ca8": {
      "model_module": "@jupyter-widgets/controls",
      "model_module_version": "1.5.0",
      "model_name": "DescriptionStyleModel",
      "state": {
       "description_width": "initial"
      }
     },
     "9e2a7afa55f3481296eae2b4b8948dd6": {
      "model_module": "@jupyter-widgets/controls",
      "model_module_version": "1.5.0",
      "model_name": "DescriptionStyleModel",
      "state": {
       "description_width": "150px"
      }
     },
     "9e2d58486b9044478083f9cbcea38e6a": {
      "model_module": "@jupyter-widgets/controls",
      "model_module_version": "1.5.0",
      "model_name": "ButtonStyleModel",
      "state": {}
     },
     "9ea3ef1a19bd4b558ea1bbee66967eee": {
      "model_module": "@jupyter-widgets/controls",
      "model_module_version": "1.5.0",
      "model_name": "DescriptionStyleModel",
      "state": {
       "description_width": "initial"
      }
     },
     "9ec7c8862a304f3c8d0430aeae39d82a": {
      "model_module": "@jupyter-widgets/base",
      "model_module_version": "1.2.0",
      "model_name": "LayoutModel",
      "state": {}
     },
     "9ecb042b45ad4274818786f79c230ca8": {
      "model_module": "@jupyter-widgets/controls",
      "model_module_version": "1.5.0",
      "model_name": "BoundedFloatTextModel",
      "state": {
       "description": "CM mode time (hrs):",
       "layout": "IPY_MODEL_6e88b7e06c754bfcbbeefd44e1ec7e5d",
       "max": 26280,
       "min": 2,
       "step": 1,
       "style": "IPY_MODEL_b77c8119374f40a98cbf1e510e3f252d",
       "value": 720
      }
     },
     "9efec3e1367f48db82be02ee631323c2": {
      "model_module": "@jupyter-widgets/controls",
      "model_module_version": "1.5.0",
      "model_name": "BoundedFloatTextModel",
      "state": {
       "description": "CM mode time (hrs):",
       "layout": "IPY_MODEL_8c4dbbc5edb94e1d8914bb82f7134145",
       "max": 26280,
       "min": 2,
       "step": 1,
       "style": "IPY_MODEL_8c25e25b0598461d8d79927df11bc103",
       "value": 720
      }
     },
     "9f03acbb363242888ae68442e108410a": {
      "model_module": "@jupyter-widgets/controls",
      "model_module_version": "1.5.0",
      "model_name": "DescriptionStyleModel",
      "state": {
       "description_width": "150px"
      }
     },
     "9f256805d8ea4da4a7c9215059e855e6": {
      "model_module": "@jupyter-widgets/controls",
      "model_module_version": "1.5.0",
      "model_name": "DescriptionStyleModel",
      "state": {
       "description_width": "initial"
      }
     },
     "9f26c7b131584432aaa976f37e5fe266": {
      "model_module": "@jupyter-widgets/controls",
      "model_module_version": "1.5.0",
      "model_name": "SliderStyleModel",
      "state": {
       "description_width": ""
      }
     },
     "9f919926209f4bc98a51345021f7b9da": {
      "model_module": "@jupyter-widgets/controls",
      "model_module_version": "1.5.0",
      "model_name": "DescriptionStyleModel",
      "state": {
       "description_width": ""
      }
     },
     "9fa83f88ed464cc5884dc21e3c758244": {
      "model_module": "@jupyter-widgets/base",
      "model_module_version": "1.2.0",
      "model_name": "LayoutModel",
      "state": {}
     },
     "9fb6a9e8992e4e65ab0876f6127f1356": {
      "model_module": "@jupyter-widgets/base",
      "model_module_version": "1.2.0",
      "model_name": "LayoutModel",
      "state": {}
     },
     "a0289b90e56f487494f2c67d3313a2f5": {
      "model_module": "@jupyter-widgets/controls",
      "model_module_version": "1.5.0",
      "model_name": "BoundedFloatTextModel",
      "state": {
       "description": "Shape parameter:",
       "layout": "IPY_MODEL_5b6a087613924696a98d77c621c125d8",
       "max": 10,
       "min": 1,
       "step": 1,
       "style": "IPY_MODEL_8c25c8ee4bce4160877ea8b79682cc25",
       "value": 1.5
      }
     },
     "a02a99b406da4346a3e07def5c9a2215": {
      "model_module": "@jupyter-widgets/controls",
      "model_module_version": "1.5.0",
      "model_name": "BoundedFloatTextModel",
      "state": {
       "description": "CM left time (hrs):",
       "layout": "IPY_MODEL_8527bcd23b2948b8a44ec49df652c847",
       "max": 26280,
       "min": 1,
       "step": 24,
       "style": "IPY_MODEL_290cdab31e91415f9e3b5c0188b65fc3",
       "value": 520
      }
     },
     "a066975057fb4d888c135d5cfdd58ee1": {
      "model_module": "@jupyter-widgets/base",
      "model_module_version": "1.2.0",
      "model_name": "LayoutModel",
      "state": {}
     },
     "a06a9824035d4b1c85741b7aceecfbac": {
      "model_module": "@jupyter-widgets/base",
      "model_module_version": "1.2.0",
      "model_name": "LayoutModel",
      "state": {}
     },
     "a0779fcbf1f7487282534cd9c6ba4286": {
      "model_module": "@jupyter-widgets/controls",
      "model_module_version": "1.5.0",
      "model_name": "VBoxModel",
      "state": {
       "children": [
        "IPY_MODEL_6750d6a4a9c249c39a61b6cf00e0773d",
        "IPY_MODEL_23de1e4e913440bea4fc8605f95ee2d2",
        "IPY_MODEL_17932765f19c4b59b6118d903cc8adcb",
        "IPY_MODEL_ec0ae7b9ac884d9cbc2fd99790a7fa3c"
       ],
       "layout": "IPY_MODEL_ff00675416ed47c5a3e1bf06ec03a404"
      }
     },
     "a07841cb442e45db86f2eee7eeb655ba": {
      "model_module": "@jupyter-widgets/base",
      "model_module_version": "1.2.0",
      "model_name": "LayoutModel",
      "state": {}
     },
     "a0ad5133da3049e8a946a025fb5099bc": {
      "model_module": "@jupyter-widgets/controls",
      "model_module_version": "1.5.0",
      "model_name": "BoundedFloatTextModel",
      "state": {
       "description": "PM freq  (hrs):",
       "layout": "IPY_MODEL_1521ff5c150f42b1a34878c27fcedf2a",
       "max": 876000,
       "min": 8760,
       "step": 1,
       "style": "IPY_MODEL_d9e49dd1e5a742038930456c82d6a0e7",
       "value": 17520
      }
     },
     "a0ba87d6d61b4f7bb1091f4f725f6f57": {
      "model_module": "@jupyter-widgets/base",
      "model_module_version": "1.2.0",
      "model_name": "LayoutModel",
      "state": {}
     },
     "a0d75ffc50964e9b90eca68ccc058a81": {
      "model_module": "@jupyter-widgets/controls",
      "model_module_version": "1.5.0",
      "model_name": "DescriptionStyleModel",
      "state": {
       "description_width": "initial"
      }
     },
     "a136aa38598440ecbc3fc21366946500": {
      "model_module": "@jupyter-widgets/base",
      "model_module_version": "1.2.0",
      "model_name": "LayoutModel",
      "state": {}
     },
     "a15aecf3845a4380ba058c9381ad487f": {
      "model_module": "@jupyter-widgets/base",
      "model_module_version": "1.2.0",
      "model_name": "LayoutModel",
      "state": {}
     },
     "a19184c1f3fe4e65bbf6ab8f55ac6eed": {
      "model_module": "@jupyter-widgets/base",
      "model_module_version": "1.2.0",
      "model_name": "LayoutModel",
      "state": {}
     },
     "a1a9de34ec7e430bb7d23ef8da34196e": {
      "model_module": "@jupyter-widgets/base",
      "model_module_version": "1.2.0",
      "model_name": "LayoutModel",
      "state": {}
     },
     "a1d6d3e7fd4f4577860bcd3d940dcf26": {
      "model_module": "@jupyter-widgets/controls",
      "model_module_version": "1.5.0",
      "model_name": "BoundedFloatTextModel",
      "state": {
       "description": "CM mode time (hrs):",
       "layout": "IPY_MODEL_9ec7c8862a304f3c8d0430aeae39d82a",
       "max": 26280,
       "min": 2,
       "step": 1,
       "style": "IPY_MODEL_29febd6b354e4fd8b3ede2317d512dfc",
       "value": 720
      }
     },
     "a1f2aa9bc76040a8837f021aa31bd96b": {
      "model_module": "@jupyter-widgets/base",
      "model_module_version": "1.2.0",
      "model_name": "LayoutModel",
      "state": {}
     },
     "a20abc61fb2848bbb4aad845bfaf6f8f": {
      "model_module": "@jupyter-widgets/base",
      "model_module_version": "1.2.0",
      "model_name": "LayoutModel",
      "state": {}
     },
     "a2323acfd638412c803c06c096ed1773": {
      "model_module": "@jupyter-widgets/controls",
      "model_module_version": "1.5.0",
      "model_name": "DescriptionStyleModel",
      "state": {
       "description_width": "initial"
      }
     },
     "a2470572bb0f45898a96b14e01cfba99": {
      "model_module": "@jupyter-widgets/controls",
      "model_module_version": "1.5.0",
      "model_name": "DescriptionStyleModel",
      "state": {
       "description_width": "150px"
      }
     },
     "a2fe5c623fa943d4806213bc5cf3372d": {
      "model_module": "@jupyter-widgets/base",
      "model_module_version": "1.2.0",
      "model_name": "LayoutModel",
      "state": {}
     },
     "a368f13a8f674769b6398c0600b6b78c": {
      "model_module": "@jupyter-widgets/base",
      "model_module_version": "1.2.0",
      "model_name": "LayoutModel",
      "state": {}
     },
     "a3ce54c0d04544a49599aaae905f2b1e": {
      "model_module": "@jupyter-widgets/controls",
      "model_module_version": "1.5.0",
      "model_name": "BoundedFloatTextModel",
      "state": {
       "description": "CM mode time (hrs):",
       "layout": "IPY_MODEL_9cb3e14a834c4fdd970985498bc3a3ca",
       "max": 26280,
       "min": 2,
       "step": 1,
       "style": "IPY_MODEL_ed5801a7568045e4882e5f3651e441cb",
       "value": 720
      }
     },
     "a3d9dff5ebb246c684d2adabe6ff165b": {
      "model_module": "@jupyter-widgets/controls",
      "model_module_version": "1.5.0",
      "model_name": "BoundedFloatTextModel",
      "state": {
       "description": "PM toler  (hrs):",
       "layout": "IPY_MODEL_3e45140970fc4987bb5fba21b778faf7",
       "max": 8760,
       "min": 1,
       "step": 1,
       "style": "IPY_MODEL_b1738e50ac23456391f308000aa9cf63",
       "value": 720
      }
     },
     "a422b4552a7241c99906106112ca229a": {
      "model_module": "@jupyter-widgets/base",
      "model_module_version": "1.2.0",
      "model_name": "LayoutModel",
      "state": {}
     },
     "a456e69488be41618d0f539297ac3e8f": {
      "model_module": "@jupyter-widgets/base",
      "model_module_version": "1.2.0",
      "model_name": "LayoutModel",
      "state": {}
     },
     "a4681cbd7ff14685a627dd57fd56d1cb": {
      "model_module": "@jupyter-widgets/base",
      "model_module_version": "1.2.0",
      "model_name": "LayoutModel",
      "state": {}
     },
     "a478d6d2d77e42ff98982d66faa603bf": {
      "model_module": "@jupyter-widgets/base",
      "model_module_version": "1.2.0",
      "model_name": "LayoutModel",
      "state": {}
     },
     "a4f2cb6d5b654d828cfcffda8cde85b7": {
      "model_module": "@jupyter-widgets/controls",
      "model_module_version": "1.5.0",
      "model_name": "DescriptionStyleModel",
      "state": {
       "description_width": "initial"
      }
     },
     "a5330e3c117c42d1a20c8bce5bb25d40": {
      "model_module": "@jupyter-widgets/base",
      "model_module_version": "1.2.0",
      "model_name": "LayoutModel",
      "state": {}
     },
     "a5e3a5186663450bb49a33f48862013e": {
      "model_module": "@jupyter-widgets/base",
      "model_module_version": "1.2.0",
      "model_name": "LayoutModel",
      "state": {}
     },
     "a630c2fad96149c5b5d1d2e59653e916": {
      "model_module": "@jupyter-widgets/controls",
      "model_module_version": "1.5.0",
      "model_name": "BoundedFloatTextModel",
      "state": {
       "description": "PM toler  (hrs):",
       "layout": "IPY_MODEL_10e5463e0e404438828d090b3cb58be6",
       "max": 8760,
       "min": 1,
       "step": 1,
       "style": "IPY_MODEL_16324523984444689fe1c58f0170159b",
       "value": 720
      }
     },
     "a68a51fe05754df2abf8b1a37dfb0325": {
      "model_module": "@jupyter-widgets/base",
      "model_module_version": "1.2.0",
      "model_name": "LayoutModel",
      "state": {}
     },
     "a6f022041a064d29ae47a4933017cbc7": {
      "model_module": "@jupyter-widgets/controls",
      "model_module_version": "1.5.0",
      "model_name": "SliderStyleModel",
      "state": {
       "description_width": ""
      }
     },
     "a71496686c3c449fa5e30fa0c7735091": {
      "model_module": "@jupyter-widgets/controls",
      "model_module_version": "1.5.0",
      "model_name": "DescriptionStyleModel",
      "state": {
       "description_width": "150px"
      }
     },
     "a7930dcea27241ceb4ceab54e31f9a1a": {
      "model_module": "@jupyter-widgets/controls",
      "model_module_version": "1.5.0",
      "model_name": "DescriptionStyleModel",
      "state": {
       "description_width": "initial"
      }
     },
     "a7edfd58e17241a5b290c3d9c9c858a9": {
      "model_module": "@jupyter-widgets/base",
      "model_module_version": "1.2.0",
      "model_name": "LayoutModel",
      "state": {}
     },
     "a7f367af47d341b4bf39454618c0dac4": {
      "model_module": "@jupyter-widgets/base",
      "model_module_version": "1.2.0",
      "model_name": "LayoutModel",
      "state": {}
     },
     "a8db61e9e2ba4fcdbeae114f5783dd85": {
      "model_module": "@jupyter-widgets/controls",
      "model_module_version": "1.5.0",
      "model_name": "DescriptionStyleModel",
      "state": {
       "description_width": ""
      }
     },
     "a917ec4cf71c4fd0bdd5390b170694e0": {
      "model_module": "@jupyter-widgets/controls",
      "model_module_version": "1.5.0",
      "model_name": "DescriptionStyleModel",
      "state": {
       "description_width": "initial"
      }
     },
     "a9384e7be9bc44a88e24da861f0046fc": {
      "model_module": "@jupyter-widgets/controls",
      "model_module_version": "1.5.0",
      "model_name": "DescriptionStyleModel",
      "state": {
       "description_width": "initial"
      }
     },
     "a94acaeb87bd4b8aaa015fca09a0bd85": {
      "model_module": "@jupyter-widgets/base",
      "model_module_version": "1.2.0",
      "model_name": "LayoutModel",
      "state": {}
     },
     "aa1176d554d44baea426d4e9f2f27fcb": {
      "model_module": "@jupyter-widgets/base",
      "model_module_version": "1.2.0",
      "model_name": "LayoutModel",
      "state": {}
     },
     "aa6a9b0b6ea34637b5d874820f8b36ce": {
      "model_module": "@jupyter-widgets/controls",
      "model_module_version": "1.5.0",
      "model_name": "DescriptionStyleModel",
      "state": {
       "description_width": "150px"
      }
     },
     "aadb8a4c9e14417391faaf82342fc396": {
      "model_module": "@jupyter-widgets/controls",
      "model_module_version": "1.5.0",
      "model_name": "BoundedFloatTextModel",
      "state": {
       "description": "CM left time (hrs):",
       "layout": "IPY_MODEL_ae696ed678e541678e7a2e760e1777d4",
       "max": 26280,
       "min": 1,
       "step": 24,
       "style": "IPY_MODEL_b64b5ed2c0ac435dad698600c1191be9",
       "value": 520
      }
     },
     "ab44cb2e2e4643d093653726c4bfd62a": {
      "model_module": "@jupyter-widgets/controls",
      "model_module_version": "1.5.0",
      "model_name": "BoundedFloatTextModel",
      "state": {
       "description": "Scale parameter  (hrs):",
       "layout": "IPY_MODEL_f36f5bd8a1cf4354ad0e1258c509c44d",
       "max": 876000,
       "min": 8760,
       "step": 1,
       "style": "IPY_MODEL_3e4807358f514949982a3b64662f832e",
       "value": 13140
      }
     },
     "ab827283851e415aad1d0284da9b0762": {
      "model_module": "@jupyter-widgets/controls",
      "model_module_version": "1.5.0",
      "model_name": "DescriptionStyleModel",
      "state": {
       "description_width": "initial"
      }
     },
     "abae50f36aee4accb3dab34577222d0e": {
      "model_module": "@jupyter-widgets/controls",
      "model_module_version": "1.5.0",
      "model_name": "IntSliderModel",
      "state": {
       "description": "b",
       "layout": "IPY_MODEL_556cece36fc64bd4948d56191a145d1c",
       "max": 2250,
       "min": -750,
       "style": "IPY_MODEL_2105e11d10ee49c49621ff2ecd911d7a",
       "value": 750
      }
     },
     "ac4fe6f349934992b754ecc9501d81ab": {
      "model_module": "@jupyter-widgets/controls",
      "model_module_version": "1.5.0",
      "model_name": "BoundedFloatTextModel",
      "state": {
       "description": "PM left time (hrs):",
       "layout": "IPY_MODEL_1d7d1d31d79e43c3951e812461c1a565",
       "max": 26280,
       "min": 1,
       "step": 1,
       "style": "IPY_MODEL_1c9f029e85024b17bac75133eee0cd16",
       "value": 96
      }
     },
     "ac9525c936ac49a98d63481f477af8c9": {
      "model_module": "@jupyter-widgets/controls",
      "model_module_version": "1.5.0",
      "model_name": "VBoxModel",
      "state": {
       "children": [
        "IPY_MODEL_4b33304edf1a42eeba8e892531dad4a9",
        "IPY_MODEL_e66343731a074e199da0f0e2818f43bb",
        "IPY_MODEL_306450b83e4e44a78966d21e081558a3",
        "IPY_MODEL_cff90af6b23140e68b4d765256584896"
       ],
       "layout": "IPY_MODEL_7cb1a8b1178b481e9d0a7df505f6028f"
      }
     },
     "acb3c01bcd4043d888229d4ae0f3e475": {
      "model_module": "@jupyter-widgets/controls",
      "model_module_version": "1.5.0",
      "model_name": "DescriptionStyleModel",
      "state": {
       "description_width": "150px"
      }
     },
     "acdd36b8317f4ff889bb94eec14818d2": {
      "model_module": "@jupyter-widgets/controls",
      "model_module_version": "1.5.0",
      "model_name": "VBoxModel",
      "state": {
       "children": [
        "IPY_MODEL_dbc5199d9e8f4141a06dc53af849e035",
        "IPY_MODEL_038bcd30522e41bcbbf59c601d657b38",
        "IPY_MODEL_36e35a4c18284575b2905386f07de466",
        "IPY_MODEL_c91da6ccbefc436fa7dc812c5ee6e161"
       ],
       "layout": "IPY_MODEL_15286626d697495abbd71a70f3fcf3f1"
      }
     },
     "ace361df154a4991916d1da42f271756": {
      "model_module": "@jupyter-widgets/controls",
      "model_module_version": "1.5.0",
      "model_name": "DescriptionStyleModel",
      "state": {
       "description_width": "initial"
      }
     },
     "ace8a50395ba4deb8632eebb237cae36": {
      "model_module": "@jupyter-widgets/base",
      "model_module_version": "1.2.0",
      "model_name": "LayoutModel",
      "state": {}
     },
     "ad76882ea17f45258d19dfcd8d720c48": {
      "model_module": "@jupyter-widgets/base",
      "model_module_version": "1.2.0",
      "model_name": "LayoutModel",
      "state": {}
     },
     "adfb7f210186497e9cf7fba13aea14c6": {
      "model_module": "@jupyter-widgets/controls",
      "model_module_version": "1.5.0",
      "model_name": "SliderStyleModel",
      "state": {
       "description_width": ""
      }
     },
     "adff1e2146424bd68987481541d3c040": {
      "model_module": "@jupyter-widgets/controls",
      "model_module_version": "1.5.0",
      "model_name": "DescriptionStyleModel",
      "state": {
       "description_width": "initial"
      }
     },
     "ae2e5adb9c3d4c7a978fd5843298f10d": {
      "model_module": "@jupyter-widgets/base",
      "model_module_version": "1.2.0",
      "model_name": "LayoutModel",
      "state": {}
     },
     "ae576968329f41cbb1ec54b7ab20b44b": {
      "model_module": "@jupyter-widgets/controls",
      "model_module_version": "1.5.0",
      "model_name": "BoundedFloatTextModel",
      "state": {
       "description": "PM mode time (hrs):",
       "layout": "IPY_MODEL_6da34ed2dab0487197cc136fc9513005",
       "max": 26280,
       "min": 2,
       "step": 24,
       "style": "IPY_MODEL_2dcbbe0844e746c1b94491a3fe01890b",
       "value": 120
      }
     },
     "ae696ed678e541678e7a2e760e1777d4": {
      "model_module": "@jupyter-widgets/base",
      "model_module_version": "1.2.0",
      "model_name": "LayoutModel",
      "state": {}
     },
     "aeb77a4600e74b698dd5457844629d99": {
      "model_module": "@jupyter-widgets/controls",
      "model_module_version": "1.5.0",
      "model_name": "BoundedFloatTextModel",
      "state": {
       "description": "Scale parameter  (hrs):",
       "layout": "IPY_MODEL_697ed6bf74ef494da05ca47725f5ed0a",
       "max": 876000,
       "min": 4380,
       "step": 1,
       "style": "IPY_MODEL_c7d39d99c7bb472eb34dee41dd8241af",
       "value": 13140
      }
     },
     "aeb7f6412cba4dd8ace0cfb368bb6891": {
      "model_module": "@jupyter-widgets/controls",
      "model_module_version": "1.5.0",
      "model_name": "BoundedFloatTextModel",
      "state": {
       "description": "PM right time (hrs):",
       "layout": "IPY_MODEL_3123b0ff99734317a3eeb38b6a7605a2",
       "max": 26280,
       "min": 3,
       "step": 1,
       "style": "IPY_MODEL_46b3de6513434f1e8c83ee5b5cf05a0e",
       "value": 168
      }
     },
     "aeba4f02d0bc4301a377f6e4b90ef48c": {
      "model_module": "@jupyter-widgets/base",
      "model_module_version": "1.2.0",
      "model_name": "LayoutModel",
      "state": {
       "border": "solid 2px green",
       "display": "flex",
       "flex_flow": "row",
       "justify_content": "center",
       "width": "100%"
      }
     },
     "aeebea5fd8624dd59d975f278d910668": {
      "model_module": "@jupyter-widgets/base",
      "model_module_version": "1.2.0",
      "model_name": "LayoutModel",
      "state": {}
     },
     "af012b9f7a604f0cb96e6b73322537e5": {
      "model_module": "@jupyter-widgets/base",
      "model_module_version": "1.2.0",
      "model_name": "LayoutModel",
      "state": {}
     },
     "af17a4deac9e4ae3b1ccc3b956a7454e": {
      "model_module": "@jupyter-widgets/controls",
      "model_module_version": "1.5.0",
      "model_name": "DescriptionStyleModel",
      "state": {
       "description_width": "150px"
      }
     },
     "af20ca2b5c75493191e5eb762f086392": {
      "model_module": "@jupyter-widgets/base",
      "model_module_version": "1.2.0",
      "model_name": "LayoutModel",
      "state": {}
     },
     "af3f42974052457389227405f2475997": {
      "model_module": "@jupyter-widgets/base",
      "model_module_version": "1.2.0",
      "model_name": "LayoutModel",
      "state": {}
     },
     "af6c3278bb6b4936952ed70942e89260": {
      "model_module": "@jupyter-widgets/base",
      "model_module_version": "1.2.0",
      "model_name": "LayoutModel",
      "state": {}
     },
     "af854441e8644cabba06d96887697a1d": {
      "model_module": "@jupyter-widgets/base",
      "model_module_version": "1.2.0",
      "model_name": "LayoutModel",
      "state": {}
     },
     "afa1308fd1aa4fa18a36a12892a70597": {
      "model_module": "@jupyter-widgets/controls",
      "model_module_version": "1.5.0",
      "model_name": "BoundedIntTextModel",
      "state": {
       "description": "No of Simulatio:",
       "layout": "IPY_MODEL_d8513fad92934417b3b56b0ff214edaa",
       "max": 1000,
       "min": 10,
       "style": "IPY_MODEL_846ac217a040450a851a6a857387345a",
       "value": 100
      }
     },
     "affdb6174ef8408486f934a904290ae5": {
      "model_module": "@jupyter-widgets/base",
      "model_module_version": "1.2.0",
      "model_name": "LayoutModel",
      "state": {
       "border": "solid 2px green",
       "display": "flex",
       "flex_flow": "row",
       "justify_content": "center",
       "width": "100%"
      }
     },
     "b006ac9baf7940249e1404446c1e3722": {
      "model_module": "@jupyter-widgets/base",
      "model_module_version": "1.2.0",
      "model_name": "LayoutModel",
      "state": {}
     },
     "b01a017c0e9e492295c77ac9c9cd1d66": {
      "model_module": "@jupyter-widgets/controls",
      "model_module_version": "1.5.0",
      "model_name": "SliderStyleModel",
      "state": {
       "description_width": ""
      }
     },
     "b021b0c87e1a4e3880028fddffd68fd1": {
      "model_module": "@jupyter-widgets/controls",
      "model_module_version": "1.5.0",
      "model_name": "DescriptionStyleModel",
      "state": {
       "description_width": "initial"
      }
     },
     "b0465e5bee0c4439aa1ddb1a1baf46e9": {
      "model_module": "@jupyter-widgets/base",
      "model_module_version": "1.2.0",
      "model_name": "LayoutModel",
      "state": {}
     },
     "b04817ae8db5492da532ff55b9d28fff": {
      "model_module": "@jupyter-widgets/controls",
      "model_module_version": "1.5.0",
      "model_name": "DescriptionStyleModel",
      "state": {
       "description_width": "150px"
      }
     },
     "b04a80647f694436912b7d04dbf556e3": {
      "model_module": "@jupyter-widgets/controls",
      "model_module_version": "1.5.0",
      "model_name": "HBoxModel",
      "state": {
       "children": [
        "IPY_MODEL_07ab87ab79134c86b59696768c32a89e",
        "IPY_MODEL_e513ab1377eb46ef9c965ea29c2396ee",
        "IPY_MODEL_c7efa76731a7401fa9c6045e1bbd683b"
       ],
       "layout": "IPY_MODEL_aeba4f02d0bc4301a377f6e4b90ef48c"
      }
     },
     "b07a264a609345a5bad30ebfe578e42f": {
      "model_module": "@jupyter-widgets/output",
      "model_module_version": "1.0.0",
      "model_name": "OutputModel",
      "state": {
       "layout": "IPY_MODEL_78fca297a1684bf5b3a5baabbcfe94be",
       "outputs": [
        {
         "data": {
          "image/png": "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\n",
          "text/plain": "<Figure size 432x288 with 1 Axes>"
         },
         "metadata": {
          "needs_background": "light"
         },
         "output_type": "display_data"
        }
       ]
      }
     },
     "b0832f1dafaf4d96b8a21758ff03cf2b": {
      "model_module": "@jupyter-widgets/controls",
      "model_module_version": "1.5.0",
      "model_name": "BoundedFloatTextModel",
      "state": {
       "description": "Shape parameter:",
       "layout": "IPY_MODEL_f3a16d620fba4bdca58a2e0ac985fb29",
       "max": 10,
       "min": 1,
       "step": 1,
       "style": "IPY_MODEL_da5be974aa2e4d18a24fb5b5e7c43ea0",
       "value": 1.5
      }
     },
     "b09cc3454fcd4c28b0b41aef4954035c": {
      "model_module": "@jupyter-widgets/controls",
      "model_module_version": "1.5.0",
      "model_name": "FloatSliderModel",
      "state": {
       "description": "shape",
       "layout": "IPY_MODEL_5d202319d75044079c4bc024700ff7a0",
       "max": 4.5,
       "min": -1.5,
       "step": 0.1,
       "style": "IPY_MODEL_522f9ab1358349a592341ea16c278a94",
       "value": 1.5
      }
     },
     "b0b91eccb978412a8975fd384f20bcd0": {
      "model_module": "@jupyter-widgets/controls",
      "model_module_version": "1.5.0",
      "model_name": "BoundedIntTextModel",
      "state": {
       "description": "Sim. Period (hrs):",
       "layout": "IPY_MODEL_666d310d99474fd4aff00d79415a2fac",
       "max": 876000,
       "min": 8760,
       "style": "IPY_MODEL_0fde8dc0d0dc4774a5b584b14962016a",
       "value": 87600
      }
     },
     "b0d802660dc947c9be16970154eb3afe": {
      "model_module": "@jupyter-widgets/controls",
      "model_module_version": "1.5.0",
      "model_name": "BoundedFloatTextModel",
      "state": {
       "description": "CM mode time (hrs):",
       "layout": "IPY_MODEL_91596088634e43a7b1a39d0b68f3fc77",
       "max": 26280,
       "min": 2,
       "step": 1,
       "style": "IPY_MODEL_c1eb935f35544b83bb5c70d9c7dee2eb",
       "value": 720
      }
     },
     "b119edf0827d4358baacb548a65a19f1": {
      "model_module": "@jupyter-widgets/base",
      "model_module_version": "1.2.0",
      "model_name": "LayoutModel",
      "state": {}
     },
     "b1493b3cacf24c498992d7b229fbe2b0": {
      "model_module": "@jupyter-widgets/base",
      "model_module_version": "1.2.0",
      "model_name": "LayoutModel",
      "state": {}
     },
     "b156070fb06a43399b8605e1d6490126": {
      "model_module": "@jupyter-widgets/controls",
      "model_module_version": "1.5.0",
      "model_name": "BoundedFloatTextModel",
      "state": {
       "description": "PM mode time (hrs):",
       "layout": "IPY_MODEL_f242d15e4cab427683de00f23bb3db5c",
       "max": 26280,
       "min": 2,
       "step": 1,
       "style": "IPY_MODEL_731999dfb646464d836934cec471fd53",
       "value": 120
      }
     },
     "b165b1dc3c2f4c2c8e91397a0862cfbe": {
      "model_module": "@jupyter-widgets/controls",
      "model_module_version": "1.5.0",
      "model_name": "BoundedFloatTextModel",
      "state": {
       "description": "CM mode time (hrs):",
       "layout": "IPY_MODEL_2db34744088840f386e410dcbb9080f0",
       "max": 26280,
       "min": 2,
       "step": 24,
       "style": "IPY_MODEL_ef9d82c7f5f64f0791ff0b7743cd4f80",
       "value": 720
      }
     },
     "b1738e50ac23456391f308000aa9cf63": {
      "model_module": "@jupyter-widgets/controls",
      "model_module_version": "1.5.0",
      "model_name": "DescriptionStyleModel",
      "state": {
       "description_width": "initial"
      }
     },
     "b18330b9383e4181a7182e939aa66457": {
      "model_module": "@jupyter-widgets/controls",
      "model_module_version": "1.5.0",
      "model_name": "BoundedFloatTextModel",
      "state": {
       "description": "Scale parameter  (hrs):",
       "layout": "IPY_MODEL_6f25eb35a5d04caf804f8f1f0a10d6ef",
       "max": 876000,
       "min": 8760,
       "step": 1,
       "style": "IPY_MODEL_c571858f4e1b4d8d8f668409bfd8b2ba",
       "value": 13140
      }
     },
     "b1bc01486377478b98d255ec986df815": {
      "model_module": "@jupyter-widgets/controls",
      "model_module_version": "1.5.0",
      "model_name": "BoundedFloatTextModel",
      "state": {
       "description": "PM left time (hrs):",
       "layout": "IPY_MODEL_5949f73c6ed54292afce6f88b9c4c8bb",
       "max": 26280,
       "min": 1,
       "step": 24,
       "style": "IPY_MODEL_522e7fb0409f4fe481c39896e4335cdd",
       "value": 96
      }
     },
     "b1c4ff7db59d43b69fd9472ab61209e2": {
      "model_module": "@jupyter-widgets/controls",
      "model_module_version": "1.5.0",
      "model_name": "DescriptionStyleModel",
      "state": {
       "description_width": "initial"
      }
     },
     "b22d21a1a05b4c7e986284b81c30383e": {
      "model_module": "@jupyter-widgets/controls",
      "model_module_version": "1.5.0",
      "model_name": "VBoxModel",
      "state": {
       "children": [
        "IPY_MODEL_9efec3e1367f48db82be02ee631323c2",
        "IPY_MODEL_0f78e6ec734a4c7590dc2c9dde2c8aab",
        "IPY_MODEL_d693814b84614272b8bfe97a2eaf154d",
        "IPY_MODEL_208e9c3bb9d7492a87a2e7530b1a1cc3"
       ],
       "layout": "IPY_MODEL_0e8c7860577a4aa9992a30b95cb5f1d6"
      }
     },
     "b2320dda618c470898f93d028c6c21ea": {
      "model_module": "@jupyter-widgets/controls",
      "model_module_version": "1.5.0",
      "model_name": "SliderStyleModel",
      "state": {
       "description_width": ""
      }
     },
     "b250f3011e89441ab58b7b7f050c310a": {
      "model_module": "@jupyter-widgets/controls",
      "model_module_version": "1.5.0",
      "model_name": "BoundedFloatTextModel",
      "state": {
       "description": "CM left time (hrs):",
       "layout": "IPY_MODEL_326ba6cb92c04bcca26dee36ec86d08e",
       "max": 26280,
       "min": 1,
       "step": 1,
       "style": "IPY_MODEL_2cfaa24883f44fb4ab2e1f5a8df7c962",
       "value": 520
      }
     },
     "b27fdb0a8ab24169bd7dd5c55b0e495b": {
      "model_module": "@jupyter-widgets/base",
      "model_module_version": "1.2.0",
      "model_name": "LayoutModel",
      "state": {}
     },
     "b2af2725971f44b0a390bd8c328eaa9c": {
      "model_module": "@jupyter-widgets/base",
      "model_module_version": "1.2.0",
      "model_name": "LayoutModel",
      "state": {}
     },
     "b2c8dadc98a14e1984ed1337b6af3f1d": {
      "model_module": "@jupyter-widgets/controls",
      "model_module_version": "1.5.0",
      "model_name": "BoundedFloatTextModel",
      "state": {
       "description": "PM left time (hrs):",
       "layout": "IPY_MODEL_601cb47b5ec74f2ea85da4a57fcfe993",
       "max": 26280,
       "min": 1,
       "step": 1,
       "style": "IPY_MODEL_f7630d28281c440e866a95bf6131f26d",
       "value": 96
      }
     },
     "b2ed22e797bb409d9e1a3708082d1c7c": {
      "model_module": "@jupyter-widgets/controls",
      "model_module_version": "1.5.0",
      "model_name": "DescriptionStyleModel",
      "state": {
       "description_width": "initial"
      }
     },
     "b2ee0631241c431dbef5231b124177a3": {
      "model_module": "@jupyter-widgets/controls",
      "model_module_version": "1.5.0",
      "model_name": "DescriptionStyleModel",
      "state": {
       "description_width": "150px"
      }
     },
     "b2fc97cfa6e04cf38f537f3eb1a1ee58": {
      "model_module": "@jupyter-widgets/controls",
      "model_module_version": "1.5.0",
      "model_name": "DescriptionStyleModel",
      "state": {
       "description_width": "initial"
      }
     },
     "b2ffd13947d5452a9a43ae8dfefedaaa": {
      "model_module": "@jupyter-widgets/base",
      "model_module_version": "1.2.0",
      "model_name": "LayoutModel",
      "state": {}
     },
     "b319b15596264edebeb0fc049818761c": {
      "model_module": "@jupyter-widgets/controls",
      "model_module_version": "1.5.0",
      "model_name": "DescriptionStyleModel",
      "state": {
       "description_width": "initial"
      }
     },
     "b33a76f80c004f32a5b4fc2fd7290625": {
      "model_module": "@jupyter-widgets/base",
      "model_module_version": "1.2.0",
      "model_name": "LayoutModel",
      "state": {}
     },
     "b3b9518481064072b1879386b7d1ebb0": {
      "model_module": "@jupyter-widgets/controls",
      "model_module_version": "1.5.0",
      "model_name": "DescriptionStyleModel",
      "state": {
       "description_width": "initial"
      }
     },
     "b3c3e1accfa14f81ae5778af1467f969": {
      "model_module": "@jupyter-widgets/controls",
      "model_module_version": "1.5.0",
      "model_name": "DescriptionStyleModel",
      "state": {
       "description_width": "150px"
      }
     },
     "b3e438658d2143118dc19bad4961deed": {
      "model_module": "@jupyter-widgets/controls",
      "model_module_version": "1.5.0",
      "model_name": "DescriptionStyleModel",
      "state": {
       "description_width": "initial"
      }
     },
     "b4750113104f4237b87fc1405ecaadb2": {
      "model_module": "@jupyter-widgets/base",
      "model_module_version": "1.2.0",
      "model_name": "LayoutModel",
      "state": {}
     },
     "b4a7fe42020848809aa9563976a9e25e": {
      "model_module": "@jupyter-widgets/controls",
      "model_module_version": "1.5.0",
      "model_name": "BoundedFloatTextModel",
      "state": {
       "description": "PM right time (hrs):",
       "layout": "IPY_MODEL_f688fbddd842467cb9a8b37734ec3424",
       "max": 26280,
       "min": 3,
       "step": 1,
       "style": "IPY_MODEL_b3e438658d2143118dc19bad4961deed",
       "value": 168
      }
     },
     "b4b6455675664026b1f8891737c0e381": {
      "model_module": "@jupyter-widgets/base",
      "model_module_version": "1.2.0",
      "model_name": "LayoutModel",
      "state": {}
     },
     "b4b88a2efda645efabdfb2290206abdf": {
      "model_module": "@jupyter-widgets/base",
      "model_module_version": "1.2.0",
      "model_name": "LayoutModel",
      "state": {}
     },
     "b4caa4e509354c46b7e7935584088f7c": {
      "model_module": "@jupyter-widgets/base",
      "model_module_version": "1.2.0",
      "model_name": "LayoutModel",
      "state": {}
     },
     "b4fff22d32184871bb7dee38c1b71a11": {
      "model_module": "@jupyter-widgets/base",
      "model_module_version": "1.2.0",
      "model_name": "LayoutModel",
      "state": {}
     },
     "b51edf27ddad41f7b790510ec09baf99": {
      "model_module": "@jupyter-widgets/controls",
      "model_module_version": "1.5.0",
      "model_name": "DescriptionStyleModel",
      "state": {
       "description_width": "150px"
      }
     },
     "b5385d22e1014c1a972ab17c5c8d8cba": {
      "model_module": "@jupyter-widgets/base",
      "model_module_version": "1.2.0",
      "model_name": "LayoutModel",
      "state": {}
     },
     "b53d48f3f82146029aaf3ae831727402": {
      "model_module": "@jupyter-widgets/base",
      "model_module_version": "1.2.0",
      "model_name": "LayoutModel",
      "state": {}
     },
     "b54358efbb4c4a549ff401ce038744a3": {
      "model_module": "@jupyter-widgets/controls",
      "model_module_version": "1.5.0",
      "model_name": "BoundedFloatTextModel",
      "state": {
       "description": "PM left time (hrs):",
       "layout": "IPY_MODEL_79d879c9f2a740c09ac966b176c3d9b2",
       "max": 26280,
       "min": 1,
       "step": 1,
       "style": "IPY_MODEL_7ab82dd7191f421bb683b30afafd0a79",
       "value": 96
      }
     },
     "b5c580a1b7284691a072aa72342c7db8": {
      "model_module": "@jupyter-widgets/controls",
      "model_module_version": "1.5.0",
      "model_name": "IntSliderModel",
      "state": {
       "description": "a",
       "layout": "IPY_MODEL_0424d85fc9644880984119fa1bac166d",
       "max": 3,
       "min": -1,
       "style": "IPY_MODEL_95e3b7c3fce54648bdac3bdc1886f7f3",
       "value": 1
      }
     },
     "b61d594f67074e99a59e2769d138913d": {
      "model_module": "@jupyter-widgets/base",
      "model_module_version": "1.2.0",
      "model_name": "LayoutModel",
      "state": {}
     },
     "b64b5ed2c0ac435dad698600c1191be9": {
      "model_module": "@jupyter-widgets/controls",
      "model_module_version": "1.5.0",
      "model_name": "DescriptionStyleModel",
      "state": {
       "description_width": "150px"
      }
     },
     "b6701682fbf640d5940c66644c8ac081": {
      "model_module": "@jupyter-widgets/base",
      "model_module_version": "1.2.0",
      "model_name": "LayoutModel",
      "state": {}
     },
     "b67a566925c8433fb3ef5f8244651936": {
      "model_module": "@jupyter-widgets/controls",
      "model_module_version": "1.5.0",
      "model_name": "BoundedFloatTextModel",
      "state": {
       "description": "Shape parameter:",
       "layout": "IPY_MODEL_1d04c877a714493f91a4c474922635ba",
       "max": 10,
       "min": 1,
       "step": 1,
       "style": "IPY_MODEL_9e2a7afa55f3481296eae2b4b8948dd6",
       "value": 1.5
      }
     },
     "b6827b5640e14e98bef36cece4989a51": {
      "model_module": "@jupyter-widgets/controls",
      "model_module_version": "1.5.0",
      "model_name": "BoundedFloatTextModel",
      "state": {
       "description": "Series or Redund:",
       "layout": "IPY_MODEL_5635ccc0286049449e77dcfac7a6c8c4",
       "max": 2,
       "min": 1,
       "step": 1,
       "style": "IPY_MODEL_4dcb6dc8a3a74a62aadc28afb1acb80d",
       "value": 2
      }
     },
     "b686c9d8da374bb7a2af1922cd810936": {
      "model_module": "@jupyter-widgets/base",
      "model_module_version": "1.2.0",
      "model_name": "LayoutModel",
      "state": {}
     },
     "b695d7d559b446d38ffd6d240f6479a3": {
      "model_module": "@jupyter-widgets/controls",
      "model_module_version": "1.5.0",
      "model_name": "IntSliderModel",
      "state": {
       "description": "scale",
       "layout": "IPY_MODEL_f89e874926594c5193ef7432b6fa150e",
       "max": 65700,
       "min": -21900,
       "style": "IPY_MODEL_f406a23edd5348a0a158df04fcd50bca",
       "value": 21900
      }
     },
     "b714ec1f58e743258bc2bf02e9a58085": {
      "model_module": "@jupyter-widgets/output",
      "model_module_version": "1.0.0",
      "model_name": "OutputModel",
      "state": {
       "layout": "IPY_MODEL_dd9ba51cbfba4682aa1fa6ba27664d6e",
       "outputs": [
        {
         "name": "stdout",
         "output_type": "stream",
         "text": "       UptimeCount     CMcount   UptimeSum       CMSum    Downtime  \\\ncount   100.000000  100.000000  100.000000  100.000000  100.000000   \nmean      1.490000    0.560000  349.142968   15.857032   15.857032   \nstd       0.559491    0.624742   17.730810   17.730810   17.730810   \nmin       1.000000    0.000000  299.761319    0.000000    0.000000   \n25%       1.000000    0.000000  334.247708    0.000000    0.000000   \n50%       1.000000    0.000000  365.000000    0.000000    0.000000   \n75%       2.000000    1.000000  365.000000   30.752292   30.752292   \nmax       3.000000    2.000000  365.000000   65.238681   65.238681   \n\n             MTBF       MTTR  Availability  \ncount  100.000000  49.000000     49.000000  \nmean   338.163522  28.696894      0.911339  \nstd     52.078934   5.581667      0.027830  \nmin    149.880660   8.375000      0.821264  \n25%    334.247708  26.375311      0.906289  \n50%    365.000000  29.717024      0.915680  \n75%    365.000000  32.507048      0.925130  \nmax    365.000000  35.412920      0.977055  \n"
        },
        {
         "data": {
          "image/png": "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\n",
          "text/plain": "<Figure size 864x504 with 4 Axes>"
         },
         "metadata": {
          "needs_background": "light"
         },
         "output_type": "display_data"
        }
       ]
      }
     },
     "b723f6ab11ee4a849c108159ae4ac5c7": {
      "model_module": "@jupyter-widgets/controls",
      "model_module_version": "1.5.0",
      "model_name": "HBoxModel",
      "state": {
       "children": [
        "IPY_MODEL_85d763ae38a8478aaa6e6abfddc1aa69",
        "IPY_MODEL_4b85798147544086bf5c36297da913b9",
        "IPY_MODEL_6f1eb421824d49699df84eb9625cec14"
       ],
       "layout": "IPY_MODEL_7cb0ca5e8da3486db73a48b4e7a48e62"
      }
     },
     "b75aaa14b6cb4d6a84b7a55df5b32479": {
      "model_module": "@jupyter-widgets/output",
      "model_module_version": "1.0.0",
      "model_name": "OutputModel",
      "state": {
       "layout": "IPY_MODEL_7f7a2b316248473b8cc0f0baabc99316",
       "outputs": [
        {
         "name": "stdout",
         "output_type": "stream",
         "text": "       UptimeCount     CMcount     PMcount    UptimeSum       CMSum  \\\ncount   100.000000  100.000000  100.000000   100.000000  100.000000   \nmean     10.140000    5.620000    3.570000  3463.581051  167.345312   \nstd       1.614455    1.650099    0.607279    48.954214   49.320836   \nmin       7.000000    2.000000    2.000000  3338.995155   57.743661   \n25%       9.000000    4.000000    3.000000  3423.789224  131.258055   \n50%      10.000000    6.000000    4.000000  3467.323564  162.442772   \n75%      11.000000    7.000000    4.000000  3500.827171  208.084667   \nmax      14.000000   10.000000    4.000000  3571.220117  296.457540   \n\n            PMSum    Downtime  Replacements         MTBF        MTTR  \\\ncount  100.000000  100.000000    100.000000   100.000000  100.000000   \nmean    19.073637  186.418949      9.190000   688.062993   20.034928   \nstd      3.546409   48.954214      1.643444   275.602817    2.553237   \nmin      8.923826   78.779883      6.000000   333.899515   13.129980   \n25%     16.372142  149.172829      8.000000   489.112746   18.691074   \n50%     20.134045  182.676436      9.000000   578.403626   20.483831   \n75%     21.729463  226.210776     10.000000   875.206793   21.503290   \nmax     25.148449  311.004845     13.000000  1785.610059   26.485718   \n\n       Availability  \ncount    100.000000  \nmean       0.967628  \nstd        0.012452  \nmin        0.933142  \n25%        0.958549  \n50%        0.969400  \n75%        0.976617  \nmax        0.992700  \n"
        },
        {
         "data": {
          "image/png": "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\n",
          "text/plain": "<Figure size 864x504 with 6 Axes>"
         },
         "metadata": {
          "needs_background": "light"
         },
         "output_type": "display_data"
        }
       ]
      }
     },
     "b77c8119374f40a98cbf1e510e3f252d": {
      "model_module": "@jupyter-widgets/controls",
      "model_module_version": "1.5.0",
      "model_name": "DescriptionStyleModel",
      "state": {
       "description_width": "initial"
      }
     },
     "b79b7568fd79424db7a994e4b5de8f3b": {
      "model_module": "@jupyter-widgets/controls",
      "model_module_version": "1.5.0",
      "model_name": "DescriptionStyleModel",
      "state": {
       "description_width": "initial"
      }
     },
     "b7b5d5a70cd44d09917a74e952923d84": {
      "model_module": "@jupyter-widgets/controls",
      "model_module_version": "1.5.0",
      "model_name": "BoundedFloatTextModel",
      "state": {
       "description": "PM freq  (hrs):",
       "layout": "IPY_MODEL_d047ed6ac9304bc1aa8a860c75bcc865",
       "max": 876000,
       "min": 8760,
       "step": 1,
       "style": "IPY_MODEL_fae2e086343d44cc8753b8b813819a9d",
       "value": 17520
      }
     },
     "b8594f26eb7e4a8ea4323fbc02d3312d": {
      "model_module": "@jupyter-widgets/controls",
      "model_module_version": "1.5.0",
      "model_name": "BoundedIntTextModel",
      "state": {
       "description": "No of Simulatio:",
       "layout": "IPY_MODEL_cae84fe3fa2f44f7b3ceeaf7792baeca",
       "max": 1000,
       "min": 10,
       "style": "IPY_MODEL_6fb97ae33f4d42f7b7e31043ff6de705",
       "value": 100
      }
     },
     "b86b5fe02cc545b3986b6d8b2cd468ab": {
      "model_module": "@jupyter-widgets/controls",
      "model_module_version": "1.5.0",
      "model_name": "BoundedFloatTextModel",
      "state": {
       "description": "CM right time (hrs):",
       "layout": "IPY_MODEL_e0bcf36a4b1945bbaca2754f24c1941c",
       "max": 26280,
       "min": 3,
       "step": 1,
       "style": "IPY_MODEL_50472725208c40ee816aba9d98eb84c1",
       "value": 920
      }
     },
     "b89ad289b4254d6cb7ec09a6e336a796": {
      "model_module": "@jupyter-widgets/base",
      "model_module_version": "1.2.0",
      "model_name": "LayoutModel",
      "state": {}
     },
     "b8afcf1eefee4b7bacbfc588cb30f345": {
      "model_module": "@jupyter-widgets/controls",
      "model_module_version": "1.5.0",
      "model_name": "DescriptionStyleModel",
      "state": {
       "description_width": ""
      }
     },
     "b8dff10c2c8d40b987945138c13a79bc": {
      "model_module": "@jupyter-widgets/controls",
      "model_module_version": "1.5.0",
      "model_name": "BoundedFloatTextModel",
      "state": {
       "description": "PM freq  (hrs):",
       "layout": "IPY_MODEL_779e263bca534dbe9aaefab3fd0f01da",
       "max": 876000,
       "min": 2190,
       "step": 4380,
       "style": "IPY_MODEL_83daa5b32dd34fa9a1de792426fbfcd0",
       "value": 17520
      }
     },
     "b8f2fc380af6488387485ecf491285f0": {
      "model_module": "@jupyter-widgets/controls",
      "model_module_version": "1.5.0",
      "model_name": "DescriptionStyleModel",
      "state": {
       "description_width": "initial"
      }
     },
     "b94b84074d804ceebeaddc021023bad7": {
      "model_module": "@jupyter-widgets/controls",
      "model_module_version": "1.5.0",
      "model_name": "BoundedFloatTextModel",
      "state": {
       "description": "PM mode time (hrs):",
       "layout": "IPY_MODEL_207f1def8d1b4e14a872496f31806d55",
       "max": 26280,
       "min": 2,
       "step": 1,
       "style": "IPY_MODEL_936a5c368c4d45a3a1b823e54cc21627",
       "value": 120
      }
     },
     "b95b260bf4424c75a015c1f57f471d9e": {
      "model_module": "@jupyter-widgets/base",
      "model_module_version": "1.2.0",
      "model_name": "LayoutModel",
      "state": {}
     },
     "b978ab3bd21e4c1789a3e6323c19dbdb": {
      "model_module": "@jupyter-widgets/base",
      "model_module_version": "1.2.0",
      "model_name": "LayoutModel",
      "state": {}
     },
     "b97a2cfc626346d1b7c784826a58b110": {
      "model_module": "@jupyter-widgets/base",
      "model_module_version": "1.2.0",
      "model_name": "LayoutModel",
      "state": {}
     },
     "b9b05924299b4b5c8ad349d725ef0d03": {
      "model_module": "@jupyter-widgets/controls",
      "model_module_version": "1.5.0",
      "model_name": "IntSliderModel",
      "state": {
       "description": "c",
       "layout": "IPY_MODEL_a0ba87d6d61b4f7bb1091f4f725f6f57",
       "max": 4500,
       "min": -1500,
       "style": "IPY_MODEL_96727f5579de448996cc76e233de1fb7",
       "value": 1500
      }
     },
     "b9f7d31ea4784476a9f4653afb1fa35f": {
      "model_module": "@jupyter-widgets/controls",
      "model_module_version": "1.5.0",
      "model_name": "DescriptionStyleModel",
      "state": {
       "description_width": "initial"
      }
     },
     "ba53baefad8b408ca7fd3ef0635b4bab": {
      "model_module": "@jupyter-widgets/controls",
      "model_module_version": "1.5.0",
      "model_name": "BoundedFloatTextModel",
      "state": {
       "description": "CM right time (hrs):",
       "layout": "IPY_MODEL_ccf463e48d354f9e8c88c71cecf2d381",
       "max": 26280,
       "min": 3,
       "step": 1,
       "style": "IPY_MODEL_c756a322341e478abbe65d40a1b750fd",
       "value": 920
      }
     },
     "ba90545b52f84ae0bbf742b5d6f625b0": {
      "model_module": "@jupyter-widgets/controls",
      "model_module_version": "1.5.0",
      "model_name": "BoundedFloatTextModel",
      "state": {
       "description": "PM toler  (hrs):",
       "layout": "IPY_MODEL_5cd0db3a1c3c44e9885e3050e88fa2b7",
       "max": 8760,
       "min": 1,
       "step": 1,
       "style": "IPY_MODEL_9ea3ef1a19bd4b558ea1bbee66967eee",
       "value": 720
      }
     },
     "baee3d467cd24184ba21449ddee1f300": {
      "model_module": "@jupyter-widgets/controls",
      "model_module_version": "1.5.0",
      "model_name": "DescriptionStyleModel",
      "state": {
       "description_width": "150px"
      }
     },
     "baf9d83f16aa4f0791a9154ba027ce0b": {
      "model_module": "@jupyter-widgets/controls",
      "model_module_version": "1.5.0",
      "model_name": "BoundedFloatTextModel",
      "state": {
       "description": "Scale parameter  (hrs):",
       "layout": "IPY_MODEL_0d18b4369e7f40588019c0284bc0c5c1",
       "max": 876000,
       "min": 8760,
       "step": 1,
       "style": "IPY_MODEL_9d8ab51cf28a4e8490814f73c3af4c31",
       "value": 13140
      }
     },
     "bb5090c6766a482caa90bdb7d5bc2da4": {
      "model_module": "@jupyter-widgets/controls",
      "model_module_version": "1.5.0",
      "model_name": "DescriptionStyleModel",
      "state": {
       "description_width": "initial"
      }
     },
     "bb785368147c4613b50837de06c72d7e": {
      "model_module": "@jupyter-widgets/controls",
      "model_module_version": "1.5.0",
      "model_name": "IntSliderModel",
      "state": {
       "description": "c",
       "layout": "IPY_MODEL_2a2fef98155f4cd38f2acadf450b6e7a",
       "max": 4500,
       "min": -1500,
       "style": "IPY_MODEL_95c4946856dc4461bf58cef0923808f5",
       "value": 1500
      }
     },
     "bba08f9b995b4d268d5d5d840089da12": {
      "model_module": "@jupyter-widgets/controls",
      "model_module_version": "1.5.0",
      "model_name": "BoundedIntTextModel",
      "state": {
       "description": "No of Simulation:",
       "layout": "IPY_MODEL_e5e6082940ce4be2b91ce2c9befd0143",
       "max": 1000,
       "min": 100,
       "style": "IPY_MODEL_99c971bd1bc3467f86434d980dbc03b1",
       "value": 100
      }
     },
     "bc1b32f614384ca695917f7ebf37fb8f": {
      "model_module": "@jupyter-widgets/controls",
      "model_module_version": "1.5.0",
      "model_name": "VBoxModel",
      "state": {
       "children": [
        "IPY_MODEL_ba53baefad8b408ca7fd3ef0635b4bab",
        "IPY_MODEL_ce17bbbc19e046f6aa95d0be38d3afda",
        "IPY_MODEL_94edcbc482ad487eb86bcf1cef8b2514",
        "IPY_MODEL_79fac92d598946a9945c97e613a2d4a7"
       ],
       "layout": "IPY_MODEL_75561dd50ac04c99818083515a6aa848"
      }
     },
     "bc28b46384504ce08e74fc680dc2d66a": {
      "model_module": "@jupyter-widgets/controls",
      "model_module_version": "1.5.0",
      "model_name": "BoundedFloatTextModel",
      "state": {
       "description": "PM right time (hrs):",
       "layout": "IPY_MODEL_39b2ec8e688341a39bd30f8ebe82999d",
       "max": 26280,
       "min": 3,
       "step": 1,
       "style": "IPY_MODEL_749fb547c32a4c29aaec7aa4f458ee12",
       "value": 168
      }
     },
     "bca8faa8c12f4e548cdbb9774d743dc3": {
      "model_module": "@jupyter-widgets/controls",
      "model_module_version": "1.5.0",
      "model_name": "DescriptionStyleModel",
      "state": {
       "description_width": "150px"
      }
     },
     "bcba1310b3aa43dcbab10ceb998b133d": {
      "model_module": "@jupyter-widgets/controls",
      "model_module_version": "1.5.0",
      "model_name": "BoundedFloatTextModel",
      "state": {
       "description": "PM freq  (hrs):",
       "layout": "IPY_MODEL_58a59bb98cfc4dbdbde633e94f6a1361",
       "max": 876000,
       "min": 8760,
       "step": 1,
       "style": "IPY_MODEL_df43a582eb4f4305a24758041e3e2381",
       "value": 17520
      }
     },
     "bcdaf715d9bf40a28f5a9138f8f2bd42": {
      "model_module": "@jupyter-widgets/controls",
      "model_module_version": "1.5.0",
      "model_name": "DescriptionStyleModel",
      "state": {
       "description_width": "initial"
      }
     },
     "bd3651ff23c54a238eb2331a56792532": {
      "model_module": "@jupyter-widgets/base",
      "model_module_version": "1.2.0",
      "model_name": "LayoutModel",
      "state": {}
     },
     "bd60fc5ac4d1455ba5e0c63c5bce044e": {
      "model_module": "@jupyter-widgets/controls",
      "model_module_version": "1.5.0",
      "model_name": "BoundedFloatTextModel",
      "state": {
       "description": "PM freq  (hrs):",
       "layout": "IPY_MODEL_9705e2335bac463b9b81e80090782a63",
       "max": 876000,
       "min": 8760,
       "step": 1,
       "style": "IPY_MODEL_797ceaa325664579850b8386054cfb64",
       "value": 17520
      }
     },
     "bd70ad1abde4438c8980401bc70d37d3": {
      "model_module": "@jupyter-widgets/controls",
      "model_module_version": "1.5.0",
      "model_name": "VBoxModel",
      "state": {
       "children": [
        "IPY_MODEL_89e04dee8ebd49efb286ce368a5e4c8a",
        "IPY_MODEL_eecda20f0c0545cb94238d42eb0ea39c",
        "IPY_MODEL_b0832f1dafaf4d96b8a21758ff03cf2b",
        "IPY_MODEL_36cda569dec94449aa2a58af3e4a5d18"
       ],
       "layout": "IPY_MODEL_499fff1dccd54e99a51971dcc7d7f96c"
      }
     },
     "bdb7d4af03364e8fa6182b44cfd73671": {
      "model_module": "@jupyter-widgets/controls",
      "model_module_version": "1.5.0",
      "model_name": "BoundedFloatTextModel",
      "state": {
       "description": "CM right time (hrs):",
       "layout": "IPY_MODEL_131e4347abd84b9aa5121d4d15246ff9",
       "max": 26280,
       "min": 3,
       "step": 24,
       "style": "IPY_MODEL_0a9955943344442f84a2e95134a60b80",
       "value": 920
      }
     },
     "bdcc5986420e4a4ab7c8fdb946d5b868": {
      "model_module": "@jupyter-widgets/controls",
      "model_module_version": "1.5.0",
      "model_name": "VBoxModel",
      "state": {
       "children": [
        "IPY_MODEL_6e8b0850592e4c46adc00b31ec05eb66",
        "IPY_MODEL_121ff9490b3f402ea2326d97d87587e7",
        "IPY_MODEL_efb8995f886245589ad71fb253e0cb3d",
        "IPY_MODEL_e2edbf57c0bb4af4b16825fa670abd2d"
       ],
       "layout": "IPY_MODEL_eb5d579789e347bc93e197afcb7fa847"
      }
     },
     "bde7814aa7f24a7ab170afb68a891a34": {
      "model_module": "@jupyter-widgets/base",
      "model_module_version": "1.2.0",
      "model_name": "LayoutModel",
      "state": {}
     },
     "bdebc4ae27284e79971320555422ef7e": {
      "model_module": "@jupyter-widgets/controls",
      "model_module_version": "1.5.0",
      "model_name": "DescriptionStyleModel",
      "state": {
       "description_width": "initial"
      }
     },
     "bea6cd20eea94425998a2ba25bd851b8": {
      "model_module": "@jupyter-widgets/base",
      "model_module_version": "1.2.0",
      "model_name": "LayoutModel",
      "state": {}
     },
     "bec11e7c27324879ac5d51be65c94041": {
      "model_module": "@jupyter-widgets/controls",
      "model_module_version": "1.5.0",
      "model_name": "DescriptionStyleModel",
      "state": {
       "description_width": "initial"
      }
     },
     "bf20ce0151244480a309fc2fb5e201ba": {
      "model_module": "@jupyter-widgets/controls",
      "model_module_version": "1.5.0",
      "model_name": "VBoxModel",
      "state": {
       "children": [
        "IPY_MODEL_94d569d989bf4284a736876cc084efef",
        "IPY_MODEL_39659a1dc6c94d49b57b7d57f2e62059",
        "IPY_MODEL_36002305c5f2483da4041552b13df2e6",
        "IPY_MODEL_ec140432017d438cb730f8fc99fe5695"
       ],
       "layout": "IPY_MODEL_9fa83f88ed464cc5884dc21e3c758244"
      }
     },
     "bf4e21399e9640f6b557c597863ffeb3": {
      "model_module": "@jupyter-widgets/controls",
      "model_module_version": "1.5.0",
      "model_name": "VBoxModel",
      "state": {
       "children": [
        "IPY_MODEL_bdb7d4af03364e8fa6182b44cfd73671",
        "IPY_MODEL_bf994135e18c4500a0978d8c387e7d21",
        "IPY_MODEL_8c3cb6f22b064cd0b1f3606849172719",
        "IPY_MODEL_d0364be5fb884b98b49a699e48320ef8"
       ],
       "layout": "IPY_MODEL_ef4b58064125405c92b47651a9fcfbee"
      }
     },
     "bf57de49d2f44365b4de35a2b60f2f2d": {
      "model_module": "@jupyter-widgets/base",
      "model_module_version": "1.2.0",
      "model_name": "LayoutModel",
      "state": {}
     },
     "bf8bdfd8bdb0448aa0c704db0fd50996": {
      "model_module": "@jupyter-widgets/controls",
      "model_module_version": "1.5.0",
      "model_name": "DescriptionStyleModel",
      "state": {
       "description_width": "150px"
      }
     },
     "bf994135e18c4500a0978d8c387e7d21": {
      "model_module": "@jupyter-widgets/controls",
      "model_module_version": "1.5.0",
      "model_name": "BoundedFloatTextModel",
      "state": {
       "description": "PM right time (hrs):",
       "layout": "IPY_MODEL_cf99ccb8475f4d87845b06e748d72a3d",
       "max": 26280,
       "min": 3,
       "step": 24,
       "style": "IPY_MODEL_6b0974fec4a44ffa9e6d0a65d49969e8",
       "value": 168
      }
     },
     "bfce8171d5bb48a984e11d8b9935fbf6": {
      "model_module": "@jupyter-widgets/controls",
      "model_module_version": "1.5.0",
      "model_name": "DescriptionStyleModel",
      "state": {
       "description_width": "150px"
      }
     },
     "c0190666782944818b08ab720078423d": {
      "model_module": "@jupyter-widgets/controls",
      "model_module_version": "1.5.0",
      "model_name": "VBoxModel",
      "state": {
       "children": [
        "IPY_MODEL_91063fffda9042dea998e5ecfa204cfb",
        "IPY_MODEL_b2c8dadc98a14e1984ed1337b6af3f1d",
        "IPY_MODEL_f1bcd8654121475d988ac148057561d7",
        "IPY_MODEL_f38b6610001144e6a3d03cdd6dddcf18",
        "IPY_MODEL_34173941f6ae47cd9c279d15b38712fb"
       ],
       "layout": "IPY_MODEL_b006ac9baf7940249e1404446c1e3722"
      }
     },
     "c041f345a52246fcb48d536d8c0620f7": {
      "model_module": "@jupyter-widgets/controls",
      "model_module_version": "1.5.0",
      "model_name": "BoundedFloatTextModel",
      "state": {
       "description": "PM freq  (hrs):",
       "layout": "IPY_MODEL_df4e0ca80fe9480183fbf5b86d2a6f72",
       "max": 876000,
       "min": 8760,
       "step": 1,
       "style": "IPY_MODEL_4ce4a8736ca94eec8c6936f2fed2bacd",
       "value": 17520
      }
     },
     "c11a5631930745469f36ab5a9216e178": {
      "model_module": "@jupyter-widgets/controls",
      "model_module_version": "1.5.0",
      "model_name": "DescriptionStyleModel",
      "state": {
       "description_width": "initial"
      }
     },
     "c138c2d4d93c4c27b4962bbd36b67afe": {
      "model_module": "@jupyter-widgets/controls",
      "model_module_version": "1.5.0",
      "model_name": "DescriptionStyleModel",
      "state": {
       "description_width": "initial"
      }
     },
     "c14ed20ec2c54b45bd4a38da9e657390": {
      "model_module": "@jupyter-widgets/controls",
      "model_module_version": "1.5.0",
      "model_name": "BoundedFloatTextModel",
      "state": {
       "description": "Series or Redund:",
       "layout": "IPY_MODEL_7736406dac594c658433f15a62f2ade3",
       "max": 2,
       "min": 1,
       "step": 1,
       "style": "IPY_MODEL_10ee9e8d9bb040c7893118b4782e6222",
       "value": 1
      }
     },
     "c1532b72a86f4da0aa80a6c8aecc588a": {
      "model_module": "@jupyter-widgets/base",
      "model_module_version": "1.2.0",
      "model_name": "LayoutModel",
      "state": {}
     },
     "c15cbe237a2f41cfab4e6af487b07755": {
      "model_module": "@jupyter-widgets/controls",
      "model_module_version": "1.5.0",
      "model_name": "BoundedFloatTextModel",
      "state": {
       "description": "PM freq  (hrs):",
       "layout": "IPY_MODEL_e66dfaee567f44dcb0d0a4c3304f85be",
       "max": 876000,
       "min": 8760,
       "step": 1,
       "style": "IPY_MODEL_175a68dc90c845d0b7b5637e4b971d4a",
       "value": 17520
      }
     },
     "c17406ef30be46dd901f1892e11b5a42": {
      "model_module": "@jupyter-widgets/base",
      "model_module_version": "1.2.0",
      "model_name": "LayoutModel",
      "state": {}
     },
     "c1a91f1763d7402ba866a0b050845ab8": {
      "model_module": "@jupyter-widgets/controls",
      "model_module_version": "1.5.0",
      "model_name": "DescriptionStyleModel",
      "state": {
       "description_width": "initial"
      }
     },
     "c1ab5e77479741889982e728b89f5d75": {
      "model_module": "@jupyter-widgets/controls",
      "model_module_version": "1.5.0",
      "model_name": "BoundedIntTextModel",
      "state": {
       "description": "Sim. Period (hrs):",
       "layout": "IPY_MODEL_f64bf8709753485a98437712262421b3",
       "max": 876000,
       "min": 8760,
       "style": "IPY_MODEL_f4ead29edb5f4591a2c9f0099ea36d39",
       "value": 87600
      }
     },
     "c1eb935f35544b83bb5c70d9c7dee2eb": {
      "model_module": "@jupyter-widgets/controls",
      "model_module_version": "1.5.0",
      "model_name": "DescriptionStyleModel",
      "state": {
       "description_width": "initial"
      }
     },
     "c2005ccb18f14cbcb6b15a090a5b6d39": {
      "model_module": "@jupyter-widgets/controls",
      "model_module_version": "1.5.0",
      "model_name": "DescriptionStyleModel",
      "state": {
       "description_width": ""
      }
     },
     "c22f1cba5cc04474b01b478f824e396e": {
      "model_module": "@jupyter-widgets/base",
      "model_module_version": "1.2.0",
      "model_name": "LayoutModel",
      "state": {}
     },
     "c245b08ecf5b4fdc820c0eb74badffeb": {
      "model_module": "@jupyter-widgets/base",
      "model_module_version": "1.2.0",
      "model_name": "LayoutModel",
      "state": {}
     },
     "c2777333e889495ea51a016431def9c6": {
      "model_module": "@jupyter-widgets/controls",
      "model_module_version": "1.5.0",
      "model_name": "DescriptionStyleModel",
      "state": {
       "description_width": "initial"
      }
     },
     "c27f192d05a7440d92aa65c012ea0dfa": {
      "model_module": "@jupyter-widgets/controls",
      "model_module_version": "1.5.0",
      "model_name": "ButtonModel",
      "state": {
       "button_style": "success",
       "description": "Run Simulation",
       "layout": "IPY_MODEL_9459608f201b4a38a1b090834d1ede2e",
       "style": "IPY_MODEL_9e2d58486b9044478083f9cbcea38e6a",
       "tooltip": "Click me"
      }
     },
     "c291ef0fb9dd4ed28af32490e43cb455": {
      "model_module": "@jupyter-widgets/base",
      "model_module_version": "1.2.0",
      "model_name": "LayoutModel",
      "state": {}
     },
     "c2bf6a449d7a49f7b979fff18c260464": {
      "model_module": "@jupyter-widgets/base",
      "model_module_version": "1.2.0",
      "model_name": "LayoutModel",
      "state": {}
     },
     "c2dd4b3d64fa42c88593983aa8784425": {
      "model_module": "@jupyter-widgets/controls",
      "model_module_version": "1.5.0",
      "model_name": "BoundedFloatTextModel",
      "state": {
       "description": "CM left time (hrs):",
       "layout": "IPY_MODEL_9687198e734b45b79366607f6aad8db7",
       "max": 26280,
       "min": 1,
       "step": 24,
       "style": "IPY_MODEL_5c366956088944b5b5c27bc38f74d42a",
       "value": 520
      }
     },
     "c2fb66f645fd461496f4bab39d958440": {
      "model_module": "@jupyter-widgets/base",
      "model_module_version": "1.2.0",
      "model_name": "LayoutModel",
      "state": {}
     },
     "c312f36c9985491e80ee4869b51dec9c": {
      "model_module": "@jupyter-widgets/controls",
      "model_module_version": "1.5.0",
      "model_name": "DescriptionStyleModel",
      "state": {
       "description_width": "150px"
      }
     },
     "c3e7b4c4f33648c2bb7ceca80a970782": {
      "model_module": "@jupyter-widgets/base",
      "model_module_version": "1.2.0",
      "model_name": "LayoutModel",
      "state": {}
     },
     "c41c7deaba6f44f4bcc67dd8d0c5dd08": {
      "model_module": "@jupyter-widgets/controls",
      "model_module_version": "1.5.0",
      "model_name": "ButtonModel",
      "state": {
       "button_style": "success",
       "description": "Run Simulation",
       "layout": "IPY_MODEL_af20ca2b5c75493191e5eb762f086392",
       "style": "IPY_MODEL_cbdbb271355f45d4b2c6a3f8d4c53543",
       "tooltip": "Click me"
      }
     },
     "c5234d57fd84425abba5dacf368f0fa7": {
      "model_module": "@jupyter-widgets/controls",
      "model_module_version": "1.5.0",
      "model_name": "BoundedFloatTextModel",
      "state": {
       "description": "PM toler  (hrs):",
       "layout": "IPY_MODEL_1d15a85d578247c7991e77e4ba5b55db",
       "max": 8760,
       "min": 1,
       "step": 1,
       "style": "IPY_MODEL_b2ed22e797bb409d9e1a3708082d1c7c",
       "value": 720
      }
     },
     "c571858f4e1b4d8d8f668409bfd8b2ba": {
      "model_module": "@jupyter-widgets/controls",
      "model_module_version": "1.5.0",
      "model_name": "DescriptionStyleModel",
      "state": {
       "description_width": "initial"
      }
     },
     "c59a165e113c4ecdb2d0396c4f0c4fcb": {
      "model_module": "@jupyter-widgets/base",
      "model_module_version": "1.2.0",
      "model_name": "LayoutModel",
      "state": {}
     },
     "c5ea3cc17bfb478b928aa228f88d5a71": {
      "model_module": "@jupyter-widgets/controls",
      "model_module_version": "1.5.0",
      "model_name": "DescriptionStyleModel",
      "state": {
       "description_width": "150px"
      }
     },
     "c65a39ed469f4d149798c78be8bc4379": {
      "model_module": "@jupyter-widgets/controls",
      "model_module_version": "1.5.0",
      "model_name": "DescriptionStyleModel",
      "state": {
       "description_width": "initial"
      }
     },
     "c6c199f760e44a788def425f4168a14d": {
      "model_module": "@jupyter-widgets/base",
      "model_module_version": "1.2.0",
      "model_name": "LayoutModel",
      "state": {}
     },
     "c6e2db36435e4cf2a84dcac0aed939dd": {
      "model_module": "@jupyter-widgets/base",
      "model_module_version": "1.2.0",
      "model_name": "LayoutModel",
      "state": {}
     },
     "c70ab5ff25d347e3b351fe92e2d7dbf5": {
      "model_module": "@jupyter-widgets/controls",
      "model_module_version": "1.5.0",
      "model_name": "DescriptionStyleModel",
      "state": {
       "description_width": "initial"
      }
     },
     "c73eac7836c54b44987edbfcf9adbc0f": {
      "model_module": "@jupyter-widgets/base",
      "model_module_version": "1.2.0",
      "model_name": "LayoutModel",
      "state": {}
     },
     "c756a322341e478abbe65d40a1b750fd": {
      "model_module": "@jupyter-widgets/controls",
      "model_module_version": "1.5.0",
      "model_name": "DescriptionStyleModel",
      "state": {
       "description_width": "initial"
      }
     },
     "c75bc35aa1874015938dc2194712b6ea": {
      "model_module": "@jupyter-widgets/controls",
      "model_module_version": "1.5.0",
      "model_name": "BoundedFloatTextModel",
      "state": {
       "description": "Series or Redund:",
       "layout": "IPY_MODEL_7229556f2a7d40f9bc52bfcfc8ff27ca",
       "max": 2,
       "min": 1,
       "step": 1,
       "style": "IPY_MODEL_4d603f78f84c42a0b4c0ee1f3abd55cb",
       "value": 1
      }
     },
     "c7b4751feb644ed586091f07213e1491": {
      "model_module": "@jupyter-widgets/output",
      "model_module_version": "1.0.0",
      "model_name": "OutputModel",
      "state": {
       "layout": "IPY_MODEL_64e3993088334cb9bdcfa707344bdc0c",
       "outputs": [
        {
         "data": {
          "image/png": "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\n",
          "text/plain": "<Figure size 432x288 with 1 Axes>"
         },
         "metadata": {
          "needs_background": "light"
         },
         "output_type": "display_data"
        }
       ]
      }
     },
     "c7bb21e773ce4de18939b7a556ce9b56": {
      "model_module": "@jupyter-widgets/controls",
      "model_module_version": "1.5.0",
      "model_name": "DescriptionStyleModel",
      "state": {
       "description_width": "initial"
      }
     },
     "c7d39d99c7bb472eb34dee41dd8241af": {
      "model_module": "@jupyter-widgets/controls",
      "model_module_version": "1.5.0",
      "model_name": "DescriptionStyleModel",
      "state": {
       "description_width": "150px"
      }
     },
     "c7efa76731a7401fa9c6045e1bbd683b": {
      "model_module": "@jupyter-widgets/controls",
      "model_module_version": "1.5.0",
      "model_name": "VBoxModel",
      "state": {
       "children": [
        "IPY_MODEL_65035841a2b94c06a71503142a81edc9",
        "IPY_MODEL_321a2cf39e84406a89e0bd01b8d42026",
        "IPY_MODEL_33c2ff7c4c7041ddaa94293710795bc6",
        "IPY_MODEL_cf0cf2682a1041b892fec45103ebb790"
       ],
       "layout": "IPY_MODEL_e4cb84f0b59f44b18207d982aa7da0aa"
      }
     },
     "c810a7df231e4732a08f82e69ada2e69": {
      "model_module": "@jupyter-widgets/controls",
      "model_module_version": "1.5.0",
      "model_name": "BoundedFloatTextModel",
      "state": {
       "description": "PM right time (hrs):",
       "layout": "IPY_MODEL_3a1e011de3ac4136ba9b873bc0021d4a",
       "max": 26280,
       "min": 3,
       "step": 1,
       "style": "IPY_MODEL_fef90ffe3bd1465c97cc1f0647c1ece0",
       "value": 168
      }
     },
     "c8422cd7cbf64fc386881d8e35304023": {
      "model_module": "@jupyter-widgets/output",
      "model_module_version": "1.0.0",
      "model_name": "OutputModel",
      "state": {
       "layout": "IPY_MODEL_8e0f194e6712498a9a3ef049dd05d719"
      }
     },
     "c87621fb890a45a7a8b2805a724b060e": {
      "model_module": "@jupyter-widgets/base",
      "model_module_version": "1.2.0",
      "model_name": "LayoutModel",
      "state": {
       "border": "solid 2px green",
       "display": "flex",
       "flex_flow": "row",
       "justify_content": "center",
       "width": "100%"
      }
     },
     "c89b6a7468524ac0aba538c623973946": {
      "model_module": "@jupyter-widgets/output",
      "model_module_version": "1.0.0",
      "model_name": "OutputModel",
      "state": {
       "layout": "IPY_MODEL_f8c8b134388240b188daece3cecba8ba"
      }
     },
     "c90e7e97c5bc420fbbcc4ef86d681d90": {
      "model_module": "@jupyter-widgets/output",
      "model_module_version": "1.0.0",
      "model_name": "OutputModel",
      "state": {
       "layout": "IPY_MODEL_5f8e7631d9c64b72b4cd562ba7a74979",
       "outputs": [
        {
         "data": {
          "image/png": "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\n",
          "text/plain": "<Figure size 432x288 with 1 Axes>"
         },
         "metadata": {
          "needs_background": "light"
         },
         "output_type": "display_data"
        }
       ]
      }
     },
     "c91da6ccbefc436fa7dc812c5ee6e161": {
      "model_module": "@jupyter-widgets/controls",
      "model_module_version": "1.5.0",
      "model_name": "BoundedIntTextModel",
      "state": {
       "description": "No of Simulatio:",
       "layout": "IPY_MODEL_bea6cd20eea94425998a2ba25bd851b8",
       "max": 1000,
       "min": 10,
       "style": "IPY_MODEL_2cb7e426379f42deb2da30799247cc20",
       "value": 100
      }
     },
     "c930e699fdf942a289517b24041f69c9": {
      "model_module": "@jupyter-widgets/controls",
      "model_module_version": "1.5.0",
      "model_name": "ButtonStyleModel",
      "state": {}
     },
     "c9cb125b9e0d435185071977d7e1cf8b": {
      "model_module": "@jupyter-widgets/controls",
      "model_module_version": "1.5.0",
      "model_name": "DescriptionStyleModel",
      "state": {
       "description_width": "initial"
      }
     },
     "c9e24fff5e1e4593af3b411c3605184a": {
      "model_module": "@jupyter-widgets/controls",
      "model_module_version": "1.5.0",
      "model_name": "DescriptionStyleModel",
      "state": {
       "description_width": "150px"
      }
     },
     "ca4db8c552e04476bccbefa9e5f74429": {
      "model_module": "@jupyter-widgets/controls",
      "model_module_version": "1.5.0",
      "model_name": "BoundedFloatTextModel",
      "state": {
       "description": "PM freq  (hrs):",
       "layout": "IPY_MODEL_a20abc61fb2848bbb4aad845bfaf6f8f",
       "max": 876000,
       "min": 8760,
       "step": 1,
       "style": "IPY_MODEL_f504b2152c3844fa88bca9ca47a41ac3",
       "value": 17520
      }
     },
     "ca5a441e626645d39a4d2caea5c78930": {
      "model_module": "@jupyter-widgets/base",
      "model_module_version": "1.2.0",
      "model_name": "LayoutModel",
      "state": {}
     },
     "caa3e156fd054449bd4df1769b45d6ac": {
      "model_module": "@jupyter-widgets/controls",
      "model_module_version": "1.5.0",
      "model_name": "BoundedFloatTextModel",
      "state": {
       "description": "CM mode time (hrs):",
       "layout": "IPY_MODEL_d9017fc797094b69aa4abdbf03ce24f5",
       "max": 26280,
       "min": 2,
       "step": 24,
       "style": "IPY_MODEL_b2ee0631241c431dbef5231b124177a3",
       "value": 720
      }
     },
     "cab3bfad0ed14fe48c91c484f122b185": {
      "model_module": "@jupyter-widgets/controls",
      "model_module_version": "1.5.0",
      "model_name": "ButtonModel",
      "state": {
       "button_style": "success",
       "description": "Run Simulation",
       "layout": "IPY_MODEL_3874ace6b938462cbea23e99ab6d0e3c",
       "style": "IPY_MODEL_1d5558eecfd34bfbbb0b46c151520be0",
       "tooltip": "Click me"
      }
     },
     "cacc95dd1f2549418d4c0f092cee31a1": {
      "model_module": "@jupyter-widgets/controls",
      "model_module_version": "1.5.0",
      "model_name": "BoundedFloatTextModel",
      "state": {
       "description": "PM right time (hrs):",
       "layout": "IPY_MODEL_d9f37876d173482da5a618c58cfb9d1b",
       "max": 26280,
       "min": 3,
       "step": 1,
       "style": "IPY_MODEL_f8f4a07d8c7841dc8b5d27540cdf2877",
       "value": 168
      }
     },
     "cae5a03fc88c4ab8ad0db9338b8785b1": {
      "model_module": "@jupyter-widgets/controls",
      "model_module_version": "1.5.0",
      "model_name": "DescriptionStyleModel",
      "state": {
       "description_width": "150px"
      }
     },
     "cae84fe3fa2f44f7b3ceeaf7792baeca": {
      "model_module": "@jupyter-widgets/base",
      "model_module_version": "1.2.0",
      "model_name": "LayoutModel",
      "state": {}
     },
     "cb3d5f10ffa84ba8bfef0de2752ef4a2": {
      "model_module": "@jupyter-widgets/controls",
      "model_module_version": "1.5.0",
      "model_name": "BoundedFloatTextModel",
      "state": {
       "description": "CM left time (hrs):",
       "layout": "IPY_MODEL_1f5eb87df09d4035ab4a5a017f05ae3d",
       "max": 26280,
       "min": 1,
       "step": 1,
       "style": "IPY_MODEL_b8f2fc380af6488387485ecf491285f0",
       "value": 520
      }
     },
     "cb64123a2d3b439bb460dbc3e5fb2fa4": {
      "model_module": "@jupyter-widgets/base",
      "model_module_version": "1.2.0",
      "model_name": "LayoutModel",
      "state": {}
     },
     "cbbb4be9267a44af84e851b263d348aa": {
      "model_module": "@jupyter-widgets/controls",
      "model_module_version": "1.5.0",
      "model_name": "BoundedFloatTextModel",
      "state": {
       "description": "PM right time (hrs):",
       "layout": "IPY_MODEL_b27fdb0a8ab24169bd7dd5c55b0e495b",
       "max": 26280,
       "min": 3,
       "step": 1,
       "style": "IPY_MODEL_d93ee57c506a4ff79d7548ac1bc7c1f0",
       "value": 168
      }
     },
     "cbdbb271355f45d4b2c6a3f8d4c53543": {
      "model_module": "@jupyter-widgets/controls",
      "model_module_version": "1.5.0",
      "model_name": "ButtonStyleModel",
      "state": {}
     },
     "cc5604e765a1492fba4d156aae33a8aa": {
      "model_module": "@jupyter-widgets/base",
      "model_module_version": "1.2.0",
      "model_name": "LayoutModel",
      "state": {}
     },
     "cc99c6d91df0407e8e817a15fff29078": {
      "model_module": "@jupyter-widgets/controls",
      "model_module_version": "1.5.0",
      "model_name": "BoundedFloatTextModel",
      "state": {
       "description": "PM left time (hrs):",
       "layout": "IPY_MODEL_ef99bdb809d44c8399837dc918ac3d71",
       "max": 26280,
       "min": 1,
       "step": 24,
       "style": "IPY_MODEL_a2470572bb0f45898a96b14e01cfba99",
       "value": 96
      }
     },
     "cca2f232f0344c6e9719075d736c5799": {
      "model_module": "@jupyter-widgets/controls",
      "model_module_version": "1.5.0",
      "model_name": "BoundedFloatTextModel",
      "state": {
       "description": "CM mode time (hrs):",
       "layout": "IPY_MODEL_5d18a61ad7ce47e58cbc53da511a78b8",
       "max": 26280,
       "min": 2,
       "step": 24,
       "style": "IPY_MODEL_f9615be7db2b496fbecb3b90ec1a9eb7",
       "value": 720
      }
     },
     "ccc191368c854a69a8c161d99d664f61": {
      "model_module": "@jupyter-widgets/base",
      "model_module_version": "1.2.0",
      "model_name": "LayoutModel",
      "state": {}
     },
     "ccf463e48d354f9e8c88c71cecf2d381": {
      "model_module": "@jupyter-widgets/base",
      "model_module_version": "1.2.0",
      "model_name": "LayoutModel",
      "state": {}
     },
     "cd28143c1d7647fb8e98a4aa5c2f1856": {
      "model_module": "@jupyter-widgets/base",
      "model_module_version": "1.2.0",
      "model_name": "LayoutModel",
      "state": {}
     },
     "cd2f43ff22774786bb463fd282347b46": {
      "model_module": "@jupyter-widgets/base",
      "model_module_version": "1.2.0",
      "model_name": "LayoutModel",
      "state": {}
     },
     "cd6cb31a4ad044d3a0b2706a56a26f4d": {
      "model_module": "@jupyter-widgets/base",
      "model_module_version": "1.2.0",
      "model_name": "LayoutModel",
      "state": {}
     },
     "cd7b3c253d3543fcb709290d2b487a1f": {
      "model_module": "@jupyter-widgets/controls",
      "model_module_version": "1.5.0",
      "model_name": "BoundedFloatTextModel",
      "state": {
       "description": "Series or Redund:",
       "layout": "IPY_MODEL_3681e86015524beea206d5295351e5fb",
       "max": 2,
       "min": 1,
       "step": 1,
       "style": "IPY_MODEL_9f919926209f4bc98a51345021f7b9da",
       "value": 1
      }
     },
     "cd9aac8fbd42478ea703cf762357a51a": {
      "model_module": "@jupyter-widgets/controls",
      "model_module_version": "1.5.0",
      "model_name": "DescriptionStyleModel",
      "state": {
       "description_width": "initial"
      }
     },
     "cdc5b77d11334efd97dae245a4f032b8": {
      "model_module": "@jupyter-widgets/controls",
      "model_module_version": "1.5.0",
      "model_name": "DescriptionStyleModel",
      "state": {
       "description_width": "150px"
      }
     },
     "ce17bbbc19e046f6aa95d0be38d3afda": {
      "model_module": "@jupyter-widgets/controls",
      "model_module_version": "1.5.0",
      "model_name": "BoundedFloatTextModel",
      "state": {
       "description": "PM right time (hrs):",
       "layout": "IPY_MODEL_9a47508d032a45139a15f948113251ab",
       "max": 26280,
       "min": 3,
       "step": 1,
       "style": "IPY_MODEL_8fbf4bf5505348f286e93b2b1b0fdfbf",
       "value": 168
      }
     },
     "ce49cb118ba84539a1688bdb1d702790": {
      "model_module": "@jupyter-widgets/base",
      "model_module_version": "1.2.0",
      "model_name": "LayoutModel",
      "state": {}
     },
     "ce653f04773e4746af0efaafe5d4f5c9": {
      "model_module": "@jupyter-widgets/base",
      "model_module_version": "1.2.0",
      "model_name": "LayoutModel",
      "state": {}
     },
     "ce9fee65bc214a439f52495e8a7c5b59": {
      "model_module": "@jupyter-widgets/base",
      "model_module_version": "1.2.0",
      "model_name": "LayoutModel",
      "state": {}
     },
     "cf03fd048a204063bd72b1fd85945bcf": {
      "model_module": "@jupyter-widgets/controls",
      "model_module_version": "1.5.0",
      "model_name": "VBoxModel",
      "state": {
       "_dom_classes": [
        "widget-interact"
       ],
       "children": [
        "IPY_MODEL_3a0762dd7d8c43429c516ae05a46d43e",
        "IPY_MODEL_9076ce42b28544c6b071cdf85b486b70",
        "IPY_MODEL_97265262bf4041e0bee83cb99eb3e996"
       ],
       "layout": "IPY_MODEL_459949121c3f4bdf9634eac001547a75"
      }
     },
     "cf0cf2682a1041b892fec45103ebb790": {
      "model_module": "@jupyter-widgets/controls",
      "model_module_version": "1.5.0",
      "model_name": "BoundedIntTextModel",
      "state": {
       "description": "Sim. Period (hrs):",
       "layout": "IPY_MODEL_dcd79767a3dd4ba69454fa8ff0371280",
       "max": 876000,
       "min": 8760,
       "style": "IPY_MODEL_4b3868bcded2431587f177547dd05713",
       "value": 87600
      }
     },
     "cf0e1d42bc424c61a8dac03d20fca4fb": {
      "model_module": "@jupyter-widgets/base",
      "model_module_version": "1.2.0",
      "model_name": "LayoutModel",
      "state": {}
     },
     "cf0f62fe06774d86bca6f4a4b85119ef": {
      "model_module": "@jupyter-widgets/controls",
      "model_module_version": "1.5.0",
      "model_name": "VBoxModel",
      "state": {
       "children": [
        "IPY_MODEL_0b7e3e3d6a1641aca907cb2b2fcf04d4",
        "IPY_MODEL_7b2c809a3bf3483bbfa1b297fe664274",
        "IPY_MODEL_5ae54b04917d43fc978451fd45a92a7e",
        "IPY_MODEL_93856326170e4cd299f4f27032fdfa6f"
       ],
       "layout": "IPY_MODEL_f842d0d43e994b4a8a8318f3f49c6d5d"
      }
     },
     "cf5bb4ee4aaf41318deaee158e2e8fac": {
      "model_module": "@jupyter-widgets/controls",
      "model_module_version": "1.5.0",
      "model_name": "HBoxModel",
      "state": {
       "children": [
        "IPY_MODEL_1f9603e8a8ca4b518659dfaa44e88fe3",
        "IPY_MODEL_ac9525c936ac49a98d63481f477af8c9",
        "IPY_MODEL_946b599fe756487da37fb5ddbd001fe3"
       ],
       "layout": "IPY_MODEL_02b97556e4c742c28b73c6449be859e2"
      }
     },
     "cf83d689515740829e9c502e1cacc9a9": {
      "model_module": "@jupyter-widgets/controls",
      "model_module_version": "1.5.0",
      "model_name": "VBoxModel",
      "state": {
       "children": [
        "IPY_MODEL_85d636105b594b3cadcbc7efd8ad6663",
        "IPY_MODEL_0dbfbd5981a34fccbd47d23e1c6e3ab1",
        "IPY_MODEL_d62c22be6b9748f398bbfe7cbbc2cd6c",
        "IPY_MODEL_a3d9dff5ebb246c684d2adabe6ff165b",
        "IPY_MODEL_64fbd312d2634b4692e861113e084564"
       ],
       "layout": "IPY_MODEL_24804748dae64befb1cbfc17541f68a0"
      }
     },
     "cf99ccb8475f4d87845b06e748d72a3d": {
      "model_module": "@jupyter-widgets/base",
      "model_module_version": "1.2.0",
      "model_name": "LayoutModel",
      "state": {}
     },
     "cff90af6b23140e68b4d765256584896": {
      "model_module": "@jupyter-widgets/controls",
      "model_module_version": "1.5.0",
      "model_name": "BoundedIntTextModel",
      "state": {
       "description": "No of Simulatio:",
       "layout": "IPY_MODEL_c6e2db36435e4cf2a84dcac0aed939dd",
       "max": 1000,
       "min": 10,
       "style": "IPY_MODEL_3924aa8d8b8641c7babe2ee837e366f6",
       "value": 100
      }
     },
     "d0094db516bc414791ee942edbe9f287": {
      "model_module": "@jupyter-widgets/controls",
      "model_module_version": "1.5.0",
      "model_name": "ButtonStyleModel",
      "state": {}
     },
     "d018517c77eb4106a2c05662e97b76ee": {
      "model_module": "@jupyter-widgets/controls",
      "model_module_version": "1.5.0",
      "model_name": "BoundedFloatTextModel",
      "state": {
       "description": "CM left time (hrs):",
       "layout": "IPY_MODEL_845b8c38361142429454661111cc259f",
       "max": 26280,
       "min": 1,
       "step": 24,
       "style": "IPY_MODEL_e1d5e02f901d4add872fc303e34df5f8",
       "value": 520
      }
     },
     "d0364be5fb884b98b49a699e48320ef8": {
      "model_module": "@jupyter-widgets/controls",
      "model_module_version": "1.5.0",
      "model_name": "BoundedIntTextModel",
      "state": {
       "description": "Sim. Period (hrs):",
       "layout": "IPY_MODEL_eabbbc4b7934424788d500b88d133c98",
       "max": 876000,
       "min": 8760,
       "step": 8760,
       "style": "IPY_MODEL_69be9696c763495cb6d994982a6b96da",
       "value": 87600
      }
     },
     "d03b9fb05b5349bcb32b3121380faed8": {
      "model_module": "@jupyter-widgets/base",
      "model_module_version": "1.2.0",
      "model_name": "LayoutModel",
      "state": {
       "border": "solid 2px green",
       "display": "flex",
       "flex_flow": "row",
       "justify_content": "center",
       "width": "100%"
      }
     },
     "d047ed6ac9304bc1aa8a860c75bcc865": {
      "model_module": "@jupyter-widgets/base",
      "model_module_version": "1.2.0",
      "model_name": "LayoutModel",
      "state": {}
     },
     "d05bcbcb73b041f39bb3387ffa913bfc": {
      "model_module": "@jupyter-widgets/base",
      "model_module_version": "1.2.0",
      "model_name": "LayoutModel",
      "state": {}
     },
     "d06b1d5084e94e68aeddc7b62cc2e7ce": {
      "model_module": "@jupyter-widgets/base",
      "model_module_version": "1.2.0",
      "model_name": "LayoutModel",
      "state": {}
     },
     "d0b95334cba240979f0bf64e44f12441": {
      "model_module": "@jupyter-widgets/controls",
      "model_module_version": "1.5.0",
      "model_name": "BoundedFloatTextModel",
      "state": {
       "description": "PM toler  (hrs):",
       "layout": "IPY_MODEL_b5385d22e1014c1a972ab17c5c8d8cba",
       "max": 8760,
       "min": 1,
       "step": 1,
       "style": "IPY_MODEL_68f5d2518b514a799a844b9b5b02dbe6",
       "value": 720
      }
     },
     "d0d4b2930e0a4d959474c53a6de01556": {
      "model_module": "@jupyter-widgets/base",
      "model_module_version": "1.2.0",
      "model_name": "LayoutModel",
      "state": {}
     },
     "d0fa32afc07a4144a1f7aaf0c52c7dd0": {
      "model_module": "@jupyter-widgets/controls",
      "model_module_version": "1.5.0",
      "model_name": "DescriptionStyleModel",
      "state": {
       "description_width": "initial"
      }
     },
     "d111d65e58514ca79f3d6f3be264aff9": {
      "model_module": "@jupyter-widgets/base",
      "model_module_version": "1.2.0",
      "model_name": "LayoutModel",
      "state": {}
     },
     "d134fc8459924afe9a7eca9f18e5bd13": {
      "model_module": "@jupyter-widgets/base",
      "model_module_version": "1.2.0",
      "model_name": "LayoutModel",
      "state": {}
     },
     "d189ec60dec347e1814e35defadc1554": {
      "model_module": "@jupyter-widgets/controls",
      "model_module_version": "1.5.0",
      "model_name": "DescriptionStyleModel",
      "state": {
       "description_width": "150px"
      }
     },
     "d18b122768aa491aa9a0cd1e93af512d": {
      "model_module": "@jupyter-widgets/controls",
      "model_module_version": "1.5.0",
      "model_name": "VBoxModel",
      "state": {
       "children": [
        "IPY_MODEL_31329b3b05e64c628b5a46af6acbafa3",
        "IPY_MODEL_0c7509f04b05476a8ef3d2993a7f7f70",
        "IPY_MODEL_35344c2c0e004553b4993ca9fa1c3da2",
        "IPY_MODEL_343953374d034c71ad5a7b106a0b173a"
       ],
       "layout": "IPY_MODEL_03d47dbefcce44c984c55ea33a046291"
      }
     },
     "d1ffe6e750e2498e8ad8c73f2ec91506": {
      "model_module": "@jupyter-widgets/controls",
      "model_module_version": "1.5.0",
      "model_name": "SliderStyleModel",
      "state": {
       "description_width": ""
      }
     },
     "d21a6f65a67f401faa7fa640f2a29be7": {
      "model_module": "@jupyter-widgets/base",
      "model_module_version": "1.2.0",
      "model_name": "LayoutModel",
      "state": {}
     },
     "d2f71e37a01742cab50ec166267cd43a": {
      "model_module": "@jupyter-widgets/controls",
      "model_module_version": "1.5.0",
      "model_name": "DescriptionStyleModel",
      "state": {
       "description_width": "initial"
      }
     },
     "d32257eeeb9a429e95aa01bc79728ef7": {
      "model_module": "@jupyter-widgets/controls",
      "model_module_version": "1.5.0",
      "model_name": "FloatSliderModel",
      "state": {
       "description": "shape",
       "layout": "IPY_MODEL_82678f6768d44feaa771a2835c175835",
       "max": 4.5,
       "min": -1.5,
       "step": 0.1,
       "style": "IPY_MODEL_f448d3e9092e43cdbd86a019fedef272",
       "value": 1.5
      }
     },
     "d3367d2e7d6e4c65b6f1f900ad692689": {
      "model_module": "@jupyter-widgets/base",
      "model_module_version": "1.2.0",
      "model_name": "LayoutModel",
      "state": {}
     },
     "d39965f32dfd4815bb515f5ebd09ed6e": {
      "model_module": "@jupyter-widgets/base",
      "model_module_version": "1.2.0",
      "model_name": "LayoutModel",
      "state": {}
     },
     "d3ae75a82c4f43b2a0551b4b7938f3b8": {
      "model_module": "@jupyter-widgets/controls",
      "model_module_version": "1.5.0",
      "model_name": "VBoxModel",
      "state": {
       "children": [
        "IPY_MODEL_b250f3011e89441ab58b7b7f050c310a",
        "IPY_MODEL_611a991f6e994e708a865c0055ca7184",
        "IPY_MODEL_3ac0495595c142d3ae52e856f5a3d709",
        "IPY_MODEL_7b78a45b449244068dca2f63fbedfe91",
        "IPY_MODEL_2dee9543ef554f0aa54b37c8e150f18a"
       ],
       "layout": "IPY_MODEL_b89ad289b4254d6cb7ec09a6e336a796"
      }
     },
     "d3ce1c406acd42f2a7980343d60f1069": {
      "model_module": "@jupyter-widgets/controls",
      "model_module_version": "1.5.0",
      "model_name": "DescriptionStyleModel",
      "state": {
       "description_width": "initial"
      }
     },
     "d3e3d21825bb477ba8eda7fcc8a93a4c": {
      "model_module": "@jupyter-widgets/base",
      "model_module_version": "1.2.0",
      "model_name": "LayoutModel",
      "state": {}
     },
     "d48c4564016a4b7ab2c019735a1a183a": {
      "model_module": "@jupyter-widgets/base",
      "model_module_version": "1.2.0",
      "model_name": "LayoutModel",
      "state": {}
     },
     "d4fd458b329f429d87e4d42ae2c6fcd1": {
      "model_module": "@jupyter-widgets/controls",
      "model_module_version": "1.5.0",
      "model_name": "BoundedFloatTextModel",
      "state": {
       "description": "PM left time (hrs):",
       "layout": "IPY_MODEL_215d35ba4ca34c06b719e720fb1951df",
       "max": 26280,
       "min": 1,
       "step": 24,
       "style": "IPY_MODEL_e071704501ae49288b1e34d1885af2d5",
       "value": 96
      }
     },
     "d5a6a47f66274949be176247d0eda0c6": {
      "model_module": "@jupyter-widgets/base",
      "model_module_version": "1.2.0",
      "model_name": "LayoutModel",
      "state": {}
     },
     "d62c22be6b9748f398bbfe7cbbc2cd6c": {
      "model_module": "@jupyter-widgets/controls",
      "model_module_version": "1.5.0",
      "model_name": "BoundedFloatTextModel",
      "state": {
       "description": "PM freq  (hrs):",
       "layout": "IPY_MODEL_970b6ec47ab54de4960ab110acbe584a",
       "max": 876000,
       "min": 8760,
       "step": 1,
       "style": "IPY_MODEL_3ebfd11c1e2c401aad0266eb441e7f4d",
       "value": 17520
      }
     },
     "d6459110cef74cbf9cc163b7fbdd7caa": {
      "model_module": "@jupyter-widgets/controls",
      "model_module_version": "1.5.0",
      "model_name": "DescriptionStyleModel",
      "state": {
       "description_width": "150px"
      }
     },
     "d693814b84614272b8bfe97a2eaf154d": {
      "model_module": "@jupyter-widgets/controls",
      "model_module_version": "1.5.0",
      "model_name": "BoundedFloatTextModel",
      "state": {
       "description": "Shape parameter:",
       "layout": "IPY_MODEL_8173ddb93ac44594ab4df7563823eecd",
       "max": 10,
       "min": 1,
       "step": 1,
       "style": "IPY_MODEL_7fa5e32e019e42c98fbe67d9f4753749",
       "value": 1.5
      }
     },
     "d6a70e39c4df436f9579b8b8d3590202": {
      "model_module": "@jupyter-widgets/controls",
      "model_module_version": "1.5.0",
      "model_name": "BoundedIntTextModel",
      "state": {
       "description": "Sim. Period (hrs):",
       "layout": "IPY_MODEL_33df19a95a5d4cbe91fe188b9e03d7c3",
       "max": 876000,
       "min": 8760,
       "style": "IPY_MODEL_f8a387ac93a54ef4a4eae332f02f445e",
       "value": 87600
      }
     },
     "d6a7684b33f24c8baf8c89e2dee21bb5": {
      "model_module": "@jupyter-widgets/controls",
      "model_module_version": "1.5.0",
      "model_name": "ButtonStyleModel",
      "state": {}
     },
     "d6e3f4e282724389976cb0d5aaf6d519": {
      "model_module": "@jupyter-widgets/controls",
      "model_module_version": "1.5.0",
      "model_name": "IntSliderModel",
      "state": {
       "description": "b",
       "layout": "IPY_MODEL_31f560213c0c47fdaffb23752d9c5076",
       "max": 2250,
       "min": -750,
       "style": "IPY_MODEL_02ec85b792dd436594659a3b43a43b49",
       "value": 750
      }
     },
     "d71fea7d6993432994c30e773433e7e5": {
      "model_module": "@jupyter-widgets/controls",
      "model_module_version": "1.5.0",
      "model_name": "IntSliderModel",
      "state": {
       "description": "b",
       "layout": "IPY_MODEL_2a6803d1e00c47e2b8e5bf31215750ba",
       "max": 2250,
       "min": -750,
       "style": "IPY_MODEL_3823f261d16947c180e85f01e6438c4d",
       "value": 750
      }
     },
     "d739efe085e0403694d27c7817dd56bc": {
      "model_module": "@jupyter-widgets/output",
      "model_module_version": "1.0.0",
      "model_name": "OutputModel",
      "state": {
       "layout": "IPY_MODEL_1643274b5df5425db61331e9dca52276",
       "outputs": [
        {
         "data": {
          "image/png": "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\n",
          "text/plain": "<Figure size 432x288 with 1 Axes>"
         },
         "metadata": {
          "needs_background": "light"
         },
         "output_type": "display_data"
        }
       ]
      }
     },
     "d7791a27ad4b4a849a8ead9ae613bffb": {
      "model_module": "@jupyter-widgets/controls",
      "model_module_version": "1.5.0",
      "model_name": "DescriptionStyleModel",
      "state": {
       "description_width": "initial"
      }
     },
     "d78223785c9a4914bb3881c02bf7248b": {
      "model_module": "@jupyter-widgets/controls",
      "model_module_version": "1.5.0",
      "model_name": "BoundedFloatTextModel",
      "state": {
       "description": "Shape parameter:",
       "layout": "IPY_MODEL_19c5f5b5fade47bab01e9f5f1b127199",
       "max": 30,
       "min": 1,
       "step": 1,
       "style": "IPY_MODEL_b04817ae8db5492da532ff55b9d28fff",
       "value": 1.5
      }
     },
     "d7d2a75d10184783a8781e8ae5c21afa": {
      "model_module": "@jupyter-widgets/controls",
      "model_module_version": "1.5.0",
      "model_name": "BoundedFloatTextModel",
      "state": {
       "description": "PM mode time (hrs):",
       "layout": "IPY_MODEL_1bec67bfe1e549a79b5d3944c32349af",
       "max": 26280,
       "min": 2,
       "step": 1,
       "style": "IPY_MODEL_3889ed4c43964f6eb20026d5a8d15c88",
       "value": 120
      }
     },
     "d7d957d408124a41a8a7f5f7b3af3fd6": {
      "model_module": "@jupyter-widgets/controls",
      "model_module_version": "1.5.0",
      "model_name": "DescriptionStyleModel",
      "state": {
       "description_width": "initial"
      }
     },
     "d82e64bdc0764d16afc9ef144ba01fc1": {
      "model_module": "@jupyter-widgets/base",
      "model_module_version": "1.2.0",
      "model_name": "LayoutModel",
      "state": {}
     },
     "d8334114672a4524b26dd42bc50c0c1b": {
      "model_module": "@jupyter-widgets/base",
      "model_module_version": "1.2.0",
      "model_name": "LayoutModel",
      "state": {}
     },
     "d8513fad92934417b3b56b0ff214edaa": {
      "model_module": "@jupyter-widgets/base",
      "model_module_version": "1.2.0",
      "model_name": "LayoutModel",
      "state": {}
     },
     "d8521fdde2ea4d21aa8a0d993114a637": {
      "model_module": "@jupyter-widgets/controls",
      "model_module_version": "1.5.0",
      "model_name": "ButtonModel",
      "state": {
       "button_style": "success",
       "description": "Run Simulation",
       "layout": "IPY_MODEL_084e7f14ecdb4c6faec8ff78b99cf2cf",
       "style": "IPY_MODEL_f6201ff00c10423b8c82a62f0501374a",
       "tooltip": "Click me"
      }
     },
     "d8629275758a4bb8ba1b327b9f1f25e8": {
      "model_module": "@jupyter-widgets/controls",
      "model_module_version": "1.5.0",
      "model_name": "HBoxModel",
      "state": {
       "children": [
        "IPY_MODEL_cf83d689515740829e9c502e1cacc9a9",
        "IPY_MODEL_7d722227742643879ea40469153eb6a5",
        "IPY_MODEL_d18b122768aa491aa9a0cd1e93af512d"
       ],
       "layout": "IPY_MODEL_eb9febd299fd422794958f7ba372a255"
      }
     },
     "d8eeae73fdf7433a906d927d6a8e950a": {
      "model_module": "@jupyter-widgets/base",
      "model_module_version": "1.2.0",
      "model_name": "LayoutModel",
      "state": {}
     },
     "d8f36e5bbd77483ebd90b86bb74d49a1": {
      "model_module": "@jupyter-widgets/controls",
      "model_module_version": "1.5.0",
      "model_name": "HBoxModel",
      "state": {
       "children": [
        "IPY_MODEL_78576c1928b3485d9b22b7ca66bf864d",
        "IPY_MODEL_f2ed9ad35ed5452a90abc8ef6be44ef8",
        "IPY_MODEL_bf4e21399e9640f6b557c597863ffeb3"
       ],
       "layout": "IPY_MODEL_2ae866bddf63490c8d52e0864cc113dc"
      }
     },
     "d9017fc797094b69aa4abdbf03ce24f5": {
      "model_module": "@jupyter-widgets/base",
      "model_module_version": "1.2.0",
      "model_name": "LayoutModel",
      "state": {}
     },
     "d9335201e96a4ffeb3281d88628e0106": {
      "model_module": "@jupyter-widgets/controls",
      "model_module_version": "1.5.0",
      "model_name": "ButtonStyleModel",
      "state": {}
     },
     "d93ee57c506a4ff79d7548ac1bc7c1f0": {
      "model_module": "@jupyter-widgets/controls",
      "model_module_version": "1.5.0",
      "model_name": "DescriptionStyleModel",
      "state": {
       "description_width": "initial"
      }
     },
     "d9464292e1ab44e0892bd2b996ad537d": {
      "model_module": "@jupyter-widgets/controls",
      "model_module_version": "1.5.0",
      "model_name": "DescriptionStyleModel",
      "state": {
       "description_width": "initial"
      }
     },
     "d987018b51f44ced897d4f472992b226": {
      "model_module": "@jupyter-widgets/controls",
      "model_module_version": "1.5.0",
      "model_name": "ButtonStyleModel",
      "state": {}
     },
     "d9d2c5c8aca0478bad2e1ce9ca519533": {
      "model_module": "@jupyter-widgets/base",
      "model_module_version": "1.2.0",
      "model_name": "LayoutModel",
      "state": {}
     },
     "d9e49dd1e5a742038930456c82d6a0e7": {
      "model_module": "@jupyter-widgets/controls",
      "model_module_version": "1.5.0",
      "model_name": "DescriptionStyleModel",
      "state": {
       "description_width": "initial"
      }
     },
     "d9f37876d173482da5a618c58cfb9d1b": {
      "model_module": "@jupyter-widgets/base",
      "model_module_version": "1.2.0",
      "model_name": "LayoutModel",
      "state": {}
     },
     "da333cb36dea4d4f8457e06d19558e10": {
      "model_module": "@jupyter-widgets/controls",
      "model_module_version": "1.5.0",
      "model_name": "DescriptionStyleModel",
      "state": {
       "description_width": "initial"
      }
     },
     "da4477c4ba704c419d757daaa36e0e21": {
      "model_module": "@jupyter-widgets/controls",
      "model_module_version": "1.5.0",
      "model_name": "VBoxModel",
      "state": {
       "children": [
        "IPY_MODEL_6f76f35746df4a70ad2db3453bdc6953",
        "IPY_MODEL_d7d2a75d10184783a8781e8ae5c21afa",
        "IPY_MODEL_37dd0f5f666b42279ab8a2a9ea4323bc",
        "IPY_MODEL_b8594f26eb7e4a8ea4323fbc02d3312d"
       ],
       "layout": "IPY_MODEL_49e49339654743df9b017029ab2400ae"
      }
     },
     "da5be974aa2e4d18a24fb5b5e7c43ea0": {
      "model_module": "@jupyter-widgets/controls",
      "model_module_version": "1.5.0",
      "model_name": "DescriptionStyleModel",
      "state": {
       "description_width": "initial"
      }
     },
     "dae1bad946b3464bad087310f52dce02": {
      "model_module": "@jupyter-widgets/controls",
      "model_module_version": "1.5.0",
      "model_name": "VBoxModel",
      "state": {
       "children": [
        "IPY_MODEL_ed10a5aa311f4856a2443f8d40c70453",
        "IPY_MODEL_06fa97d09d7d480dbd2f9fa4b91f37ac",
        "IPY_MODEL_2d6a1d662c2e49c68c555d46d7c1df17",
        "IPY_MODEL_1bf09e5ba2b34c49894a26497afa9c48"
       ],
       "layout": "IPY_MODEL_5ca7a0bba2ce4e50a160a100191edec4"
      }
     },
     "db108f08a60a40a0bdc4907691cb7525": {
      "model_module": "@jupyter-widgets/controls",
      "model_module_version": "1.5.0",
      "model_name": "BoundedFloatTextModel",
      "state": {
       "description": "CM mode time (hrs):",
       "layout": "IPY_MODEL_2c2912bd4ead4b3ba4b3334da70ae08b",
       "max": 26280,
       "min": 2,
       "step": 1,
       "style": "IPY_MODEL_7de428ec933148baaacbf71a59a4fef3",
       "value": 720
      }
     },
     "dbb633cc20cd4ccf8e36db72c24042c6": {
      "model_module": "@jupyter-widgets/controls",
      "model_module_version": "1.5.0",
      "model_name": "BoundedIntTextModel",
      "state": {
       "description": "No of Simulation:",
       "layout": "IPY_MODEL_87f6925037b243079e74e5f2ad2f5d4e",
       "max": 1000,
       "min": 100,
       "step": 50,
       "style": "IPY_MODEL_07c1b4fdc0b04135b3d803199a8a6358",
       "value": 100
      }
     },
     "dbc5199d9e8f4141a06dc53af849e035": {
      "model_module": "@jupyter-widgets/controls",
      "model_module_version": "1.5.0",
      "model_name": "BoundedFloatTextModel",
      "state": {
       "description": "CM mode time (hrs):",
       "layout": "IPY_MODEL_b6701682fbf640d5940c66644c8ac081",
       "max": 26280,
       "min": 2,
       "step": 1,
       "style": "IPY_MODEL_6f75bf0751a047d19a6b74e1848a73a9",
       "value": 720
      }
     },
     "dc16c750a86b4b9da85665bb7488b90b": {
      "model_module": "@jupyter-widgets/controls",
      "model_module_version": "1.5.0",
      "model_name": "DescriptionStyleModel",
      "state": {
       "description_width": "150px"
      }
     },
     "dc4c35dac6b64b4d9122d7ba0d9a7ed1": {
      "model_module": "@jupyter-widgets/controls",
      "model_module_version": "1.5.0",
      "model_name": "BoundedFloatTextModel",
      "state": {
       "description": "PM toler  (hrs):",
       "layout": "IPY_MODEL_c6c199f760e44a788def425f4168a14d",
       "max": 8760,
       "min": 1,
       "step": 1,
       "style": "IPY_MODEL_a0d75ffc50964e9b90eca68ccc058a81",
       "value": 720
      }
     },
     "dcb7044e88ec4cc48c226e0d2fe33d2a": {
      "model_module": "@jupyter-widgets/controls",
      "model_module_version": "1.5.0",
      "model_name": "VBoxModel",
      "state": {
       "children": [
        "IPY_MODEL_143f0edf714f400b96e8f4956f11d620",
        "IPY_MODEL_24741e0a44074442baf5d224115474b7",
        "IPY_MODEL_6eec119d3baf44679c29551af28158d3",
        "IPY_MODEL_651c5d57746842a2b4e5930ca30b4a3d"
       ],
       "layout": "IPY_MODEL_d9d2c5c8aca0478bad2e1ce9ca519533"
      }
     },
     "dcb805e37445491883f49eff64505f1f": {
      "model_module": "@jupyter-widgets/controls",
      "model_module_version": "1.5.0",
      "model_name": "BoundedFloatTextModel",
      "state": {
       "description": "PM right time (hrs):",
       "layout": "IPY_MODEL_74306903601041cc98f94b96d647fb72",
       "max": 26280,
       "min": 3,
       "step": 1,
       "style": "IPY_MODEL_c9cb125b9e0d435185071977d7e1cf8b",
       "value": 168
      }
     },
     "dcc386d18ca54714808c0109d486b393": {
      "model_module": "@jupyter-widgets/controls",
      "model_module_version": "1.5.0",
      "model_name": "BoundedFloatTextModel",
      "state": {
       "description": "Series or Redund:",
       "layout": "IPY_MODEL_b119edf0827d4358baacb548a65a19f1",
       "max": 2,
       "min": 1,
       "step": 1,
       "style": "IPY_MODEL_65a543b00c0f456eaa40c7843ad5094c",
       "value": 1
      }
     },
     "dcd79767a3dd4ba69454fa8ff0371280": {
      "model_module": "@jupyter-widgets/base",
      "model_module_version": "1.2.0",
      "model_name": "LayoutModel",
      "state": {}
     },
     "dd9ba51cbfba4682aa1fa6ba27664d6e": {
      "model_module": "@jupyter-widgets/base",
      "model_module_version": "1.2.0",
      "model_name": "LayoutModel",
      "state": {}
     },
     "de46dbf467cc4f709a16caef24b4c4a9": {
      "model_module": "@jupyter-widgets/controls",
      "model_module_version": "1.5.0",
      "model_name": "DescriptionStyleModel",
      "state": {
       "description_width": ""
      }
     },
     "de6ec284aba94b34ac89cef292ca10bd": {
      "model_module": "@jupyter-widgets/base",
      "model_module_version": "1.2.0",
      "model_name": "LayoutModel",
      "state": {}
     },
     "de778858ac8e468ca68be1d5a0ae6858": {
      "model_module": "@jupyter-widgets/controls",
      "model_module_version": "1.5.0",
      "model_name": "HBoxModel",
      "state": {
       "children": [
        "IPY_MODEL_0eef87bb3419487bb6e8965b3368079d",
        "IPY_MODEL_805fdca9328f4d1dab8303d7186e64d9",
        "IPY_MODEL_031de9fb63894515bff8ee040b0f1837"
       ],
       "layout": "IPY_MODEL_7bd4aabaef764fa4a3c8e2743325ae0c"
      }
     },
     "deb38a86170d49d2815bde1d97ee4430": {
      "model_module": "@jupyter-widgets/base",
      "model_module_version": "1.2.0",
      "model_name": "LayoutModel",
      "state": {}
     },
     "df43a582eb4f4305a24758041e3e2381": {
      "model_module": "@jupyter-widgets/controls",
      "model_module_version": "1.5.0",
      "model_name": "DescriptionStyleModel",
      "state": {
       "description_width": "initial"
      }
     },
     "df4e0ca80fe9480183fbf5b86d2a6f72": {
      "model_module": "@jupyter-widgets/base",
      "model_module_version": "1.2.0",
      "model_name": "LayoutModel",
      "state": {}
     },
     "df506672e0fb455f85f031911274ec0b": {
      "model_module": "@jupyter-widgets/controls",
      "model_module_version": "1.5.0",
      "model_name": "VBoxModel",
      "state": {
       "children": [
        "IPY_MODEL_c2dd4b3d64fa42c88593983aa8784425",
        "IPY_MODEL_081c6d98d8e54b7cbb9848aaafd35f26",
        "IPY_MODEL_e50e6e2c34b047f68e5a2a33ea313bbb",
        "IPY_MODEL_6392920a36bb43a2a60c42c3cbe8f71e",
        "IPY_MODEL_0e5fc6078fea4b3da581bdcf11761a78"
       ],
       "layout": "IPY_MODEL_14bcf3e1f4a34b67b6186c7f8ed8e0d2"
      }
     },
     "df70873787f947ae9b6a3e335582d716": {
      "model_module": "@jupyter-widgets/controls",
      "model_module_version": "1.5.0",
      "model_name": "DescriptionStyleModel",
      "state": {
       "description_width": "initial"
      }
     },
     "dfa7592d08004439964893fe0772c4af": {
      "model_module": "@jupyter-widgets/base",
      "model_module_version": "1.2.0",
      "model_name": "LayoutModel",
      "state": {}
     },
     "dfb9a941ca19488f87f6f06b27b837dd": {
      "model_module": "@jupyter-widgets/controls",
      "model_module_version": "1.5.0",
      "model_name": "DescriptionStyleModel",
      "state": {
       "description_width": "initial"
      }
     },
     "e00e4c697a974dc2b83c3b1672bbc260": {
      "model_module": "@jupyter-widgets/controls",
      "model_module_version": "1.5.0",
      "model_name": "BoundedIntTextModel",
      "state": {
       "description": "No of Simulation:",
       "layout": "IPY_MODEL_0d56f5c8f76645e7a695bd65c8138032",
       "max": 1000,
       "min": 100,
       "style": "IPY_MODEL_852c24ae819b474d8530c696a7e52c72",
       "value": 100
      }
     },
     "e024c64c95124bb68e096261bc7bdb50": {
      "model_module": "@jupyter-widgets/base",
      "model_module_version": "1.2.0",
      "model_name": "LayoutModel",
      "state": {}
     },
     "e02d77c8671d4a7189bbbd0e03e102d6": {
      "model_module": "@jupyter-widgets/base",
      "model_module_version": "1.2.0",
      "model_name": "LayoutModel",
      "state": {}
     },
     "e071704501ae49288b1e34d1885af2d5": {
      "model_module": "@jupyter-widgets/controls",
      "model_module_version": "1.5.0",
      "model_name": "DescriptionStyleModel",
      "state": {
       "description_width": "150px"
      }
     },
     "e0bcf36a4b1945bbaca2754f24c1941c": {
      "model_module": "@jupyter-widgets/base",
      "model_module_version": "1.2.0",
      "model_name": "LayoutModel",
      "state": {}
     },
     "e0e071df07a34e9ca892d2f21b0d67e2": {
      "model_module": "@jupyter-widgets/base",
      "model_module_version": "1.2.0",
      "model_name": "LayoutModel",
      "state": {}
     },
     "e106e7d6781d4fa4b0a1fa617b47edea": {
      "model_module": "@jupyter-widgets/base",
      "model_module_version": "1.2.0",
      "model_name": "LayoutModel",
      "state": {}
     },
     "e1094d518e524fe9a6409b8accaf6c4e": {
      "model_module": "@jupyter-widgets/controls",
      "model_module_version": "1.5.0",
      "model_name": "BoundedFloatTextModel",
      "state": {
       "description": "PM freq  (hrs):",
       "layout": "IPY_MODEL_cc5604e765a1492fba4d156aae33a8aa",
       "max": 876000,
       "min": 2190,
       "step": 4380,
       "style": "IPY_MODEL_70071eb6898d44678f6812831f675729",
       "value": 17520
      }
     },
     "e10cad7487ef46a6939c12996310f548": {
      "model_module": "@jupyter-widgets/controls",
      "model_module_version": "1.5.0",
      "model_name": "DescriptionStyleModel",
      "state": {
       "description_width": "initial"
      }
     },
     "e1102e324bb54bb4a634a2a4caec72e5": {
      "model_module": "@jupyter-widgets/controls",
      "model_module_version": "1.5.0",
      "model_name": "DescriptionStyleModel",
      "state": {
       "description_width": "initial"
      }
     },
     "e159e69a15e942aea6c05430a5a793a6": {
      "model_module": "@jupyter-widgets/controls",
      "model_module_version": "1.5.0",
      "model_name": "HBoxModel",
      "state": {
       "children": [
        "IPY_MODEL_5ec191da179b431792aa68b1db24a829",
        "IPY_MODEL_7ddccaf671084992a922e40cc8e653a0",
        "IPY_MODEL_081c7320f70d44d09bfd423a96ec3840"
       ],
       "layout": "IPY_MODEL_affdb6174ef8408486f934a904290ae5"
      }
     },
     "e186d0999497421c8ea4c460e331b152": {
      "model_module": "@jupyter-widgets/base",
      "model_module_version": "1.2.0",
      "model_name": "LayoutModel",
      "state": {}
     },
     "e1b6cf6d92d445fdb8d45cd8c7884a57": {
      "model_module": "@jupyter-widgets/base",
      "model_module_version": "1.2.0",
      "model_name": "LayoutModel",
      "state": {
       "border": "solid 2px green",
       "display": "flex",
       "flex_flow": "row",
       "justify_content": "center",
       "width": "100%"
      }
     },
     "e1d5e02f901d4add872fc303e34df5f8": {
      "model_module": "@jupyter-widgets/controls",
      "model_module_version": "1.5.0",
      "model_name": "DescriptionStyleModel",
      "state": {
       "description_width": "150px"
      }
     },
     "e1e2725e09f34d6d8efe449ae559f31e": {
      "model_module": "@jupyter-widgets/controls",
      "model_module_version": "1.5.0",
      "model_name": "DescriptionStyleModel",
      "state": {
       "description_width": "initial"
      }
     },
     "e27b9732763c4bd995f20be50eabbd28": {
      "model_module": "@jupyter-widgets/controls",
      "model_module_version": "1.5.0",
      "model_name": "DescriptionStyleModel",
      "state": {
       "description_width": "initial"
      }
     },
     "e285f4ee00de41f19fda2f8204a0790e": {
      "model_module": "@jupyter-widgets/output",
      "model_module_version": "1.0.0",
      "model_name": "OutputModel",
      "state": {
       "layout": "IPY_MODEL_6490b52d8d7848139fa2d4052038d761"
      }
     },
     "e2edbf57c0bb4af4b16825fa670abd2d": {
      "model_module": "@jupyter-widgets/controls",
      "model_module_version": "1.5.0",
      "model_name": "BoundedIntTextModel",
      "state": {
       "description": "No of Simulatio:",
       "layout": "IPY_MODEL_0872f9cbd13f47ff8197a4817b73496b",
       "max": 1000,
       "min": 10,
       "style": "IPY_MODEL_14ba140da6f24d12b7bbd69ad900056b",
       "value": 100
      }
     },
     "e2f1f790121849879dc0fff1c1942b7d": {
      "model_module": "@jupyter-widgets/base",
      "model_module_version": "1.2.0",
      "model_name": "LayoutModel",
      "state": {}
     },
     "e36bc95e118b4cb2825e3dd99da6b220": {
      "model_module": "@jupyter-widgets/controls",
      "model_module_version": "1.5.0",
      "model_name": "DescriptionStyleModel",
      "state": {
       "description_width": "150px"
      }
     },
     "e3fef1192bf94ef39b84f405ab1cddd5": {
      "model_module": "@jupyter-widgets/controls",
      "model_module_version": "1.5.0",
      "model_name": "DescriptionStyleModel",
      "state": {
       "description_width": "initial"
      }
     },
     "e47e9e99fcb44f48858e107edcfaac16": {
      "model_module": "@jupyter-widgets/controls",
      "model_module_version": "1.5.0",
      "model_name": "DescriptionStyleModel",
      "state": {
       "description_width": "initial"
      }
     },
     "e4cb84f0b59f44b18207d982aa7da0aa": {
      "model_module": "@jupyter-widgets/base",
      "model_module_version": "1.2.0",
      "model_name": "LayoutModel",
      "state": {}
     },
     "e4f0ce12a66143faaf8d4071ec675089": {
      "model_module": "@jupyter-widgets/controls",
      "model_module_version": "1.5.0",
      "model_name": "DescriptionStyleModel",
      "state": {
       "description_width": ""
      }
     },
     "e5007c68e00844e4afdda99dcc378f14": {
      "model_module": "@jupyter-widgets/controls",
      "model_module_version": "1.5.0",
      "model_name": "DescriptionStyleModel",
      "state": {
       "description_width": "initial"
      }
     },
     "e50e6e2c34b047f68e5a2a33ea313bbb": {
      "model_module": "@jupyter-widgets/controls",
      "model_module_version": "1.5.0",
      "model_name": "BoundedFloatTextModel",
      "state": {
       "description": "PM freq  (hrs):",
       "layout": "IPY_MODEL_301459631c6a4a86b622ad9b1c5abced",
       "max": 876000,
       "min": 2190,
       "step": 4380,
       "style": "IPY_MODEL_189ce586ecf54a2faf40cbc45a95d7d6",
       "value": 17520
      }
     },
     "e513ab1377eb46ef9c965ea29c2396ee": {
      "model_module": "@jupyter-widgets/controls",
      "model_module_version": "1.5.0",
      "model_name": "VBoxModel",
      "state": {
       "children": [
        "IPY_MODEL_38f48f82317d49e18949668d38225d75",
        "IPY_MODEL_ff0ac3355f124a9b8870bc9442357dd4",
        "IPY_MODEL_f2954fe60c6d4b10bd7695166d70d979",
        "IPY_MODEL_bba08f9b995b4d268d5d5d840089da12"
       ],
       "layout": "IPY_MODEL_67d2bbcda1434a998d5460ea73870d71"
      }
     },
     "e52b3aa48d794a7aa39b62416f248391": {
      "model_module": "@jupyter-widgets/base",
      "model_module_version": "1.2.0",
      "model_name": "LayoutModel",
      "state": {
       "border": "solid 2px green",
       "display": "flex",
       "flex_flow": "row",
       "justify_content": "center",
       "width": "100%"
      }
     },
     "e5423c34fae340fabc054ca90d3a21d5": {
      "model_module": "@jupyter-widgets/base",
      "model_module_version": "1.2.0",
      "model_name": "LayoutModel",
      "state": {}
     },
     "e571e2c2f57e47e8a4454817f61d10eb": {
      "model_module": "@jupyter-widgets/base",
      "model_module_version": "1.2.0",
      "model_name": "LayoutModel",
      "state": {}
     },
     "e579830125c04934a28e5ee64b1be5a2": {
      "model_module": "@jupyter-widgets/output",
      "model_module_version": "1.0.0",
      "model_name": "OutputModel",
      "state": {
       "layout": "IPY_MODEL_5d145de6d1aa4d7abc40b4de20c1794b",
       "outputs": [
        {
         "name": "stdout",
         "output_type": "stream",
         "text": "       UptimeCount     CMcount     PMcount    UptimeSum       CMSum  \\\ncount   100.000000  100.000000  100.000000   100.000000  100.000000   \nmean     10.300000    5.750000    3.590000  3457.748960  173.144913   \nstd       1.811858    1.866098    0.683056    54.434980   55.421656   \nmin       7.000000    2.000000    1.000000  3282.939308   62.262681   \n25%       9.000000    4.000000    3.000000  3420.679570  131.605023   \n50%      10.000000    6.000000    4.000000  3455.014933  174.387709   \n75%      11.000000    7.000000    4.000000  3497.757694  211.068982   \nmax      16.000000   12.000000    4.000000  3566.401448  352.429320   \n\n            PMSum    Downtime  Replacements         MTBF        MTTR  \\\ncount  100.000000  100.000000    100.000000   100.000000  100.000000   \nmean    19.106127  192.251040      9.340000   688.849595   20.260776   \nstd      3.776292   54.434980      1.793479   308.742921    2.616843   \nmin      4.936687   83.598552      6.000000   273.578276   13.933092   \n25%     16.849464  152.242306      8.000000   488.668510   18.858082   \n50%     20.525293  194.985067      9.000000   575.835822   20.645570   \n75%     21.473653  229.320430     10.000000   874.439423   21.882958   \nmax     24.013438  367.060692     15.000000  1783.200724   26.524066   \n\n       Availability  \ncount    100.000000  \nmean       0.966289  \nstd        0.014132  \nmin        0.917897  \n25%        0.957390  \n50%        0.966615  \n75%        0.978014  \nmax        0.992247  \n"
        },
        {
         "data": {
          "image/png": "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\n",
          "text/plain": "<Figure size 864x504 with 6 Axes>"
         },
         "metadata": {
          "needs_background": "light"
         },
         "output_type": "display_data"
        }
       ]
      }
     },
     "e5e6082940ce4be2b91ce2c9befd0143": {
      "model_module": "@jupyter-widgets/base",
      "model_module_version": "1.2.0",
      "model_name": "LayoutModel",
      "state": {}
     },
     "e627d541dc3c4c1696f50aee52d7e293": {
      "model_module": "@jupyter-widgets/controls",
      "model_module_version": "1.5.0",
      "model_name": "VBoxModel",
      "state": {
       "_dom_classes": [
        "widget-interact"
       ],
       "children": [
        "IPY_MODEL_819bc48491ea4218bbb842fa8792bfe4",
        "IPY_MODEL_abae50f36aee4accb3dab34577222d0e",
        "IPY_MODEL_2e174214023a4067bd84a0ba9126b365",
        "IPY_MODEL_1bc38b05de5f44ad96567e6d27fdb8d5"
       ],
       "layout": "IPY_MODEL_e5423c34fae340fabc054ca90d3a21d5"
      }
     },
     "e639c511023b4e25b2052c1f8537e509": {
      "model_module": "@jupyter-widgets/base",
      "model_module_version": "1.2.0",
      "model_name": "LayoutModel",
      "state": {}
     },
     "e66343731a074e199da0f0e2818f43bb": {
      "model_module": "@jupyter-widgets/controls",
      "model_module_version": "1.5.0",
      "model_name": "BoundedFloatTextModel",
      "state": {
       "description": "PM mode time (hrs):",
       "layout": "IPY_MODEL_72cf506814f942cc8bd0b9f8cf66486b",
       "max": 26280,
       "min": 2,
       "step": 1,
       "style": "IPY_MODEL_858c5083487c47ac81f5b6f8aa38bd0d",
       "value": 120
      }
     },
     "e66dfaee567f44dcb0d0a4c3304f85be": {
      "model_module": "@jupyter-widgets/base",
      "model_module_version": "1.2.0",
      "model_name": "LayoutModel",
      "state": {}
     },
     "e679e119f5a54b7c838be01446b5b750": {
      "model_module": "@jupyter-widgets/base",
      "model_module_version": "1.2.0",
      "model_name": "LayoutModel",
      "state": {}
     },
     "e6a8b2cb79154f5c838241464d2d8ea2": {
      "model_module": "@jupyter-widgets/controls",
      "model_module_version": "1.5.0",
      "model_name": "FloatSliderModel",
      "state": {
       "description": "shape",
       "layout": "IPY_MODEL_ef344b4df15a48f19d087be941f5eea2",
       "max": 4.5,
       "min": -1.5,
       "step": 0.1,
       "style": "IPY_MODEL_adfb7f210186497e9cf7fba13aea14c6",
       "value": 1.5
      }
     },
     "e6dba31e6df94b9f9e5fc9131d001b09": {
      "model_module": "@jupyter-widgets/controls",
      "model_module_version": "1.5.0",
      "model_name": "BoundedIntTextModel",
      "state": {
       "description": "Sim. Period (hrs):",
       "layout": "IPY_MODEL_104bc0d48c0649989a5097246d188900",
       "max": 876000,
       "min": 8760,
       "step": 8760,
       "style": "IPY_MODEL_85ffe4f0e074442184266b3c1b3751e9",
       "value": 87600
      }
     },
     "e72e973a872c46ed8310ab0ec66b5c96": {
      "model_module": "@jupyter-widgets/base",
      "model_module_version": "1.2.0",
      "model_name": "LayoutModel",
      "state": {}
     },
     "e7782dec108048e5bb40503f62cfc0a3": {
      "model_module": "@jupyter-widgets/controls",
      "model_module_version": "1.5.0",
      "model_name": "ButtonStyleModel",
      "state": {}
     },
     "e7aef3e5511744c4ae2c4b1abb81686c": {
      "model_module": "@jupyter-widgets/base",
      "model_module_version": "1.2.0",
      "model_name": "LayoutModel",
      "state": {}
     },
     "e8aaccd476bc4c0cb772ad35e7968e89": {
      "model_module": "@jupyter-widgets/controls",
      "model_module_version": "1.5.0",
      "model_name": "DescriptionStyleModel",
      "state": {
       "description_width": "initial"
      }
     },
     "e92c41dd19c344168506064261d55925": {
      "model_module": "@jupyter-widgets/controls",
      "model_module_version": "1.5.0",
      "model_name": "BoundedFloatTextModel",
      "state": {
       "description": "PM left time (hrs):",
       "layout": "IPY_MODEL_0e63ca5866c8453c99eb6aec3fa0161b",
       "max": 26280,
       "min": 1,
       "step": 1,
       "style": "IPY_MODEL_fb50dd667d91484ebfe140834e0403ae",
       "value": 96
      }
     },
     "e95353e31bc4449b81e2aa4e0458fd70": {
      "model_module": "@jupyter-widgets/controls",
      "model_module_version": "1.5.0",
      "model_name": "BoundedFloatTextModel",
      "state": {
       "description": "PM toler  (hrs):",
       "layout": "IPY_MODEL_b2af2725971f44b0a390bd8c328eaa9c",
       "max": 8760,
       "min": 1,
       "step": 1,
       "style": "IPY_MODEL_fec54606717d487391e2616714b7f42d",
       "value": 720
      }
     },
     "e9843eb1f054478ab045163682c368ad": {
      "model_module": "@jupyter-widgets/controls",
      "model_module_version": "1.5.0",
      "model_name": "BoundedFloatTextModel",
      "state": {
       "description": "PM left time (hrs):",
       "layout": "IPY_MODEL_3512c5b4ebef423ca7cc6100f33ef03d",
       "max": 26280,
       "min": 1,
       "step": 24,
       "style": "IPY_MODEL_cdc5b77d11334efd97dae245a4f032b8",
       "value": 96
      }
     },
     "ea27415a822d42cfa999b239150e9c85": {
      "model_module": "@jupyter-widgets/controls",
      "model_module_version": "1.5.0",
      "model_name": "DescriptionStyleModel",
      "state": {
       "description_width": "150px"
      }
     },
     "eabbbc4b7934424788d500b88d133c98": {
      "model_module": "@jupyter-widgets/base",
      "model_module_version": "1.2.0",
      "model_name": "LayoutModel",
      "state": {}
     },
     "eb5d579789e347bc93e197afcb7fa847": {
      "model_module": "@jupyter-widgets/base",
      "model_module_version": "1.2.0",
      "model_name": "LayoutModel",
      "state": {}
     },
     "eb9febd299fd422794958f7ba372a255": {
      "model_module": "@jupyter-widgets/base",
      "model_module_version": "1.2.0",
      "model_name": "LayoutModel",
      "state": {
       "border": "solid 2px green",
       "display": "flex",
       "flex_flow": "row",
       "justify_content": "center",
       "width": "100%"
      }
     },
     "ebcb12db58bf4a70a286e56035228593": {
      "model_module": "@jupyter-widgets/base",
      "model_module_version": "1.2.0",
      "model_name": "LayoutModel",
      "state": {}
     },
     "ebea4318b5bc4d9e984e7a29d64d2548": {
      "model_module": "@jupyter-widgets/base",
      "model_module_version": "1.2.0",
      "model_name": "LayoutModel",
      "state": {}
     },
     "ec0ae7b9ac884d9cbc2fd99790a7fa3c": {
      "model_module": "@jupyter-widgets/controls",
      "model_module_version": "1.5.0",
      "model_name": "BoundedIntTextModel",
      "state": {
       "description": "Sim. Period (hrs):",
       "layout": "IPY_MODEL_64577e1ab4b84fac960538e474703b98",
       "max": 876000,
       "min": 8760,
       "step": 8760,
       "style": "IPY_MODEL_7ab58042af4044e78f8ee4960133257c",
       "value": 87600
      }
     },
     "ec140432017d438cb730f8fc99fe5695": {
      "model_module": "@jupyter-widgets/controls",
      "model_module_version": "1.5.0",
      "model_name": "BoundedIntTextModel",
      "state": {
       "description": "No of Simulatio:",
       "layout": "IPY_MODEL_78307119d8a242e8956172e4f316b0e8",
       "max": 1000,
       "min": 10,
       "style": "IPY_MODEL_fe17d1ce66f7497da1090bc4d6ae4b56",
       "value": 100
      }
     },
     "ecc7e6857159412fad17b0dec302dffc": {
      "model_module": "@jupyter-widgets/controls",
      "model_module_version": "1.5.0",
      "model_name": "HBoxModel",
      "state": {
       "children": [
        "IPY_MODEL_0d24f81faa434d5f981a042a7a3a705f",
        "IPY_MODEL_da4477c4ba704c419d757daaa36e0e21",
        "IPY_MODEL_7028fb1b116b4e278a24e3baecebe7e3"
       ],
       "layout": "IPY_MODEL_873604d215874b67839c8cc6ed97b808"
      }
     },
     "ece620a6047c48bbb44bb1ff69fc188b": {
      "model_module": "@jupyter-widgets/base",
      "model_module_version": "1.2.0",
      "model_name": "LayoutModel",
      "state": {}
     },
     "ed10a5aa311f4856a2443f8d40c70453": {
      "model_module": "@jupyter-widgets/controls",
      "model_module_version": "1.5.0",
      "model_name": "BoundedFloatTextModel",
      "state": {
       "description": "CM right time (hrs):",
       "layout": "IPY_MODEL_45555cd484b04d1d8dfd8e44a3d2abb7",
       "max": 26280,
       "min": 3,
       "step": 1,
       "style": "IPY_MODEL_f6008b2c12d8497aae2f553d1f9609ff",
       "value": 920
      }
     },
     "ed176b8310114ea988e14d6e022f96f4": {
      "model_module": "@jupyter-widgets/base",
      "model_module_version": "1.2.0",
      "model_name": "LayoutModel",
      "state": {}
     },
     "ed5801a7568045e4882e5f3651e441cb": {
      "model_module": "@jupyter-widgets/controls",
      "model_module_version": "1.5.0",
      "model_name": "DescriptionStyleModel",
      "state": {
       "description_width": "initial"
      }
     },
     "ed759c970cfc4b57b48087029d2d0353": {
      "model_module": "@jupyter-widgets/base",
      "model_module_version": "1.2.0",
      "model_name": "LayoutModel",
      "state": {}
     },
     "ed8b25cc6ff04d93b70ca77140d0340a": {
      "model_module": "@jupyter-widgets/controls",
      "model_module_version": "1.5.0",
      "model_name": "HBoxModel",
      "state": {
       "children": [
        "IPY_MODEL_22a71bdb9c91491a874ea9674d3d857a",
        "IPY_MODEL_8485750fceb14a28a9179f5e60b4b322",
        "IPY_MODEL_cf0f62fe06774d86bca6f4a4b85119ef"
       ],
       "layout": "IPY_MODEL_2ec36f12e9b44c1c9234878d1f5cf6ec"
      }
     },
     "ed8cac5f93744df0b1cdcadb8634191f": {
      "model_module": "@jupyter-widgets/base",
      "model_module_version": "1.2.0",
      "model_name": "LayoutModel",
      "state": {}
     },
     "edb79afb5468486aa340d7970016f4a7": {
      "model_module": "@jupyter-widgets/controls",
      "model_module_version": "1.5.0",
      "model_name": "BoundedFloatTextModel",
      "state": {
       "description": "Scale parameter  (hrs):",
       "layout": "IPY_MODEL_84cb6c4d9ca44faea136727641297f3f",
       "max": 876000,
       "min": 8760,
       "step": 1,
       "style": "IPY_MODEL_b79b7568fd79424db7a994e4b5de8f3b",
       "value": 13140
      }
     },
     "ede638eac0cd425389552d58890cb933": {
      "model_module": "@jupyter-widgets/controls",
      "model_module_version": "1.5.0",
      "model_name": "IntSliderModel",
      "state": {
       "description": "scale",
       "layout": "IPY_MODEL_832594fdf2a741e4ae442863e1eca48f",
       "max": 65700,
       "min": -21900,
       "style": "IPY_MODEL_a6f022041a064d29ae47a4933017cbc7",
       "value": 21900
      }
     },
     "ee04e669aa124c918cbaa40071a8359a": {
      "model_module": "@jupyter-widgets/controls",
      "model_module_version": "1.5.0",
      "model_name": "DescriptionStyleModel",
      "state": {
       "description_width": "150px"
      }
     },
     "ee54aea796ad4bcca7b2dc9e9e313150": {
      "model_module": "@jupyter-widgets/base",
      "model_module_version": "1.2.0",
      "model_name": "LayoutModel",
      "state": {}
     },
     "eecda20f0c0545cb94238d42eb0ea39c": {
      "model_module": "@jupyter-widgets/controls",
      "model_module_version": "1.5.0",
      "model_name": "BoundedFloatTextModel",
      "state": {
       "description": "PM mode time (hrs):",
       "layout": "IPY_MODEL_9a3050da0d43422f8c690ad47c3e3c5d",
       "max": 26280,
       "min": 2,
       "step": 1,
       "style": "IPY_MODEL_f0d033d362864db3b6e6aaa3c8398309",
       "value": 120
      }
     },
     "eed512cd05f84bf1bef3d84b5b8047a5": {
      "model_module": "@jupyter-widgets/base",
      "model_module_version": "1.2.0",
      "model_name": "LayoutModel",
      "state": {}
     },
     "ef1999cf08144d5d98027a409cda3063": {
      "model_module": "@jupyter-widgets/controls",
      "model_module_version": "1.5.0",
      "model_name": "BoundedFloatTextModel",
      "state": {
       "description": "PM freq  (hrs):",
       "layout": "IPY_MODEL_ad76882ea17f45258d19dfcd8d720c48",
       "max": 876000,
       "min": 2190,
       "step": 4380,
       "style": "IPY_MODEL_6134c4a821e847819a5b146f539b1086",
       "value": 17520
      }
     },
     "ef344b4df15a48f19d087be941f5eea2": {
      "model_module": "@jupyter-widgets/base",
      "model_module_version": "1.2.0",
      "model_name": "LayoutModel",
      "state": {}
     },
     "ef4b58064125405c92b47651a9fcfbee": {
      "model_module": "@jupyter-widgets/base",
      "model_module_version": "1.2.0",
      "model_name": "LayoutModel",
      "state": {}
     },
     "ef99bdb809d44c8399837dc918ac3d71": {
      "model_module": "@jupyter-widgets/base",
      "model_module_version": "1.2.0",
      "model_name": "LayoutModel",
      "state": {}
     },
     "ef9d82c7f5f64f0791ff0b7743cd4f80": {
      "model_module": "@jupyter-widgets/controls",
      "model_module_version": "1.5.0",
      "model_name": "DescriptionStyleModel",
      "state": {
       "description_width": "150px"
      }
     },
     "efb8995f886245589ad71fb253e0cb3d": {
      "model_module": "@jupyter-widgets/controls",
      "model_module_version": "1.5.0",
      "model_name": "BoundedFloatTextModel",
      "state": {
       "description": "Shape parameter:",
       "layout": "IPY_MODEL_e571e2c2f57e47e8a4454817f61d10eb",
       "max": 10,
       "min": 1,
       "step": 1,
       "style": "IPY_MODEL_6bb57ed731144ee080a98ade2733c38b",
       "value": 1.5
      }
     },
     "efde6b9a412f4c9aa5773d02e7358e99": {
      "model_module": "@jupyter-widgets/controls",
      "model_module_version": "1.5.0",
      "model_name": "DescriptionStyleModel",
      "state": {
       "description_width": "150px"
      }
     },
     "f00770dc393340dab8a4627ab8322010": {
      "model_module": "@jupyter-widgets/controls",
      "model_module_version": "1.5.0",
      "model_name": "ButtonStyleModel",
      "state": {}
     },
     "f0d033d362864db3b6e6aaa3c8398309": {
      "model_module": "@jupyter-widgets/controls",
      "model_module_version": "1.5.0",
      "model_name": "DescriptionStyleModel",
      "state": {
       "description_width": "initial"
      }
     },
     "f11c7e3eac434cfdb4eb7248b62eab00": {
      "model_module": "@jupyter-widgets/controls",
      "model_module_version": "1.5.0",
      "model_name": "BoundedFloatTextModel",
      "state": {
       "description": "CM left time (hrs):",
       "layout": "IPY_MODEL_87a764ecc3224fb2aec873f1f24c54e5",
       "max": 26280,
       "min": 1,
       "step": 24,
       "style": "IPY_MODEL_061674273d01449db0d8163b8db2be51",
       "value": 520
      }
     },
     "f17439c2454746c6b22b09b5ad3a9ee9": {
      "model_module": "@jupyter-widgets/controls",
      "model_module_version": "1.5.0",
      "model_name": "DescriptionStyleModel",
      "state": {
       "description_width": "150px"
      }
     },
     "f176b8c2d01945afa78a5058d4cfefab": {
      "model_module": "@jupyter-widgets/controls",
      "model_module_version": "1.5.0",
      "model_name": "ButtonModel",
      "state": {
       "button_style": "success",
       "description": "Run Simulation",
       "layout": "IPY_MODEL_3f46ab75f95349ccbd20c378a3ccfea7",
       "style": "IPY_MODEL_8b2c91375f0144f08b437bb63eaa9352",
       "tooltip": "Click me"
      }
     },
     "f1bcd8654121475d988ac148057561d7": {
      "model_module": "@jupyter-widgets/controls",
      "model_module_version": "1.5.0",
      "model_name": "BoundedFloatTextModel",
      "state": {
       "description": "PM freq  (hrs):",
       "layout": "IPY_MODEL_b61d594f67074e99a59e2769d138913d",
       "max": 876000,
       "min": 8760,
       "step": 1,
       "style": "IPY_MODEL_c11a5631930745469f36ab5a9216e178",
       "value": 17520
      }
     },
     "f1c55f8d860e4098954af9a5663d2fbc": {
      "model_module": "@jupyter-widgets/controls",
      "model_module_version": "1.5.0",
      "model_name": "VBoxModel",
      "state": {
       "_dom_classes": [
        "widget-interact"
       ],
       "children": [
        "IPY_MODEL_e6a8b2cb79154f5c838241464d2d8ea2",
        "IPY_MODEL_2c3f4a58649146bf88f0099cd4906dd7",
        "IPY_MODEL_10a0e9ed762c4c39aeb78e348bdb1ba9"
       ],
       "layout": "IPY_MODEL_9a74c7c74d3f44869f9d578571802b7f"
      }
     },
     "f1e4f2a84ff846cb82332264e9f7dca9": {
      "model_module": "@jupyter-widgets/output",
      "model_module_version": "1.0.0",
      "model_name": "OutputModel",
      "state": {
       "layout": "IPY_MODEL_9002719358f34164b6c777aeb422357f"
      }
     },
     "f242d15e4cab427683de00f23bb3db5c": {
      "model_module": "@jupyter-widgets/base",
      "model_module_version": "1.2.0",
      "model_name": "LayoutModel",
      "state": {}
     },
     "f250e8e616f74f49bfafbf307e27da28": {
      "model_module": "@jupyter-widgets/base",
      "model_module_version": "1.2.0",
      "model_name": "LayoutModel",
      "state": {}
     },
     "f2954fe60c6d4b10bd7695166d70d979": {
      "model_module": "@jupyter-widgets/controls",
      "model_module_version": "1.5.0",
      "model_name": "BoundedFloatTextModel",
      "state": {
       "description": "Shape parameter:",
       "layout": "IPY_MODEL_13c09e1aa8ed4ae8898bd156d5fe3525",
       "max": 10,
       "min": 1,
       "step": 1,
       "style": "IPY_MODEL_6b74f6d4e707498d88627e7fbd3bc9b6",
       "value": 1.5
      }
     },
     "f2a607a4bbee4552b4b77aeda7b969c2": {
      "model_module": "@jupyter-widgets/base",
      "model_module_version": "1.2.0",
      "model_name": "LayoutModel",
      "state": {}
     },
     "f2a92d65715a4900bc528b4cc6576dde": {
      "model_module": "@jupyter-widgets/output",
      "model_module_version": "1.0.0",
      "model_name": "OutputModel",
      "state": {
       "layout": "IPY_MODEL_5ee00ab46c14422d826f2a481b44a3d8",
       "outputs": [
        {
         "data": {
          "image/png": "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\n",
          "text/plain": "<Figure size 432x288 with 1 Axes>"
         },
         "metadata": {
          "needs_background": "light"
         },
         "output_type": "display_data"
        }
       ]
      }
     },
     "f2ed9ad35ed5452a90abc8ef6be44ef8": {
      "model_module": "@jupyter-widgets/controls",
      "model_module_version": "1.5.0",
      "model_name": "VBoxModel",
      "state": {
       "children": [
        "IPY_MODEL_439403d1a3ff484494dc9eb071693446",
        "IPY_MODEL_7a45f12803e5419cab698fe6c870013e",
        "IPY_MODEL_617c4ee3f8eb40d6b10e8beae1d52e94",
        "IPY_MODEL_91fc93e5dbaa4d13aeb4cf13c31e3728"
       ],
       "layout": "IPY_MODEL_16ff0fa47a784af380e9c46f47006cf1"
      }
     },
     "f31316b266b84a5c82faf97f7e4874b2": {
      "model_module": "@jupyter-widgets/controls",
      "model_module_version": "1.5.0",
      "model_name": "BoundedFloatTextModel",
      "state": {
       "description": "PM toler  (hrs):",
       "layout": "IPY_MODEL_517488707f2b4d4e9d59fe9e7b02a6de",
       "max": 17520,
       "min": 1,
       "step": 24,
       "style": "IPY_MODEL_84f31b8aa6cf497d9d2d0c1401d649f2",
       "value": 720
      }
     },
     "f36f5bd8a1cf4354ad0e1258c509c44d": {
      "model_module": "@jupyter-widgets/base",
      "model_module_version": "1.2.0",
      "model_name": "LayoutModel",
      "state": {}
     },
     "f3850d97bb1e4ba58f05a3a64bacff2a": {
      "model_module": "@jupyter-widgets/controls",
      "model_module_version": "1.5.0",
      "model_name": "DescriptionStyleModel",
      "state": {
       "description_width": "initial"
      }
     },
     "f38b6610001144e6a3d03cdd6dddcf18": {
      "model_module": "@jupyter-widgets/controls",
      "model_module_version": "1.5.0",
      "model_name": "BoundedFloatTextModel",
      "state": {
       "description": "PM toler  (hrs):",
       "layout": "IPY_MODEL_3c954c17ac5e4a8a8ddde90efd8550ab",
       "max": 8760,
       "min": 1,
       "step": 1,
       "style": "IPY_MODEL_1491554b001e41d5beb3167b5c18ae39",
       "value": 720
      }
     },
     "f3a0559e8e7a4e22a63815b8e7e7c6c9": {
      "model_module": "@jupyter-widgets/controls",
      "model_module_version": "1.5.0",
      "model_name": "DescriptionStyleModel",
      "state": {
       "description_width": "initial"
      }
     },
     "f3a16d620fba4bdca58a2e0ac985fb29": {
      "model_module": "@jupyter-widgets/base",
      "model_module_version": "1.2.0",
      "model_name": "LayoutModel",
      "state": {}
     },
     "f406a23edd5348a0a158df04fcd50bca": {
      "model_module": "@jupyter-widgets/controls",
      "model_module_version": "1.5.0",
      "model_name": "SliderStyleModel",
      "state": {
       "description_width": ""
      }
     },
     "f432683634044db5bf5930d621ebb4db": {
      "model_module": "@jupyter-widgets/controls",
      "model_module_version": "1.5.0",
      "model_name": "BoundedIntTextModel",
      "state": {
       "description": "Sim. Period (hrs):",
       "layout": "IPY_MODEL_5a9d9330e91b42718f960c7bc30ad42f",
       "max": 876000,
       "min": 8760,
       "style": "IPY_MODEL_f5bc3e04145e4d57b771658b0b3c08f0",
       "value": 87600
      }
     },
     "f448d3e9092e43cdbd86a019fedef272": {
      "model_module": "@jupyter-widgets/controls",
      "model_module_version": "1.5.0",
      "model_name": "SliderStyleModel",
      "state": {
       "description_width": ""
      }
     },
     "f4e34381565f4a98b38c7f0d5fcffd6c": {
      "model_module": "@jupyter-widgets/controls",
      "model_module_version": "1.5.0",
      "model_name": "DescriptionStyleModel",
      "state": {
       "description_width": "150px"
      }
     },
     "f4ead29edb5f4591a2c9f0099ea36d39": {
      "model_module": "@jupyter-widgets/controls",
      "model_module_version": "1.5.0",
      "model_name": "DescriptionStyleModel",
      "state": {
       "description_width": "initial"
      }
     },
     "f504b2152c3844fa88bca9ca47a41ac3": {
      "model_module": "@jupyter-widgets/controls",
      "model_module_version": "1.5.0",
      "model_name": "DescriptionStyleModel",
      "state": {
       "description_width": "initial"
      }
     },
     "f5443c8680e64f7a8c92c8072a747e7b": {
      "model_module": "@jupyter-widgets/controls",
      "model_module_version": "1.5.0",
      "model_name": "DescriptionStyleModel",
      "state": {
       "description_width": "initial"
      }
     },
     "f5bc3e04145e4d57b771658b0b3c08f0": {
      "model_module": "@jupyter-widgets/controls",
      "model_module_version": "1.5.0",
      "model_name": "DescriptionStyleModel",
      "state": {
       "description_width": "initial"
      }
     },
     "f6008b2c12d8497aae2f553d1f9609ff": {
      "model_module": "@jupyter-widgets/controls",
      "model_module_version": "1.5.0",
      "model_name": "DescriptionStyleModel",
      "state": {
       "description_width": "initial"
      }
     },
     "f6201ff00c10423b8c82a62f0501374a": {
      "model_module": "@jupyter-widgets/controls",
      "model_module_version": "1.5.0",
      "model_name": "ButtonStyleModel",
      "state": {}
     },
     "f64bf8709753485a98437712262421b3": {
      "model_module": "@jupyter-widgets/base",
      "model_module_version": "1.2.0",
      "model_name": "LayoutModel",
      "state": {}
     },
     "f688fbddd842467cb9a8b37734ec3424": {
      "model_module": "@jupyter-widgets/base",
      "model_module_version": "1.2.0",
      "model_name": "LayoutModel",
      "state": {}
     },
     "f6ba7c93296040e281d99be80ce27aee": {
      "model_module": "@jupyter-widgets/controls",
      "model_module_version": "1.5.0",
      "model_name": "BoundedFloatTextModel",
      "state": {
       "description": "PM toler  (hrs):",
       "layout": "IPY_MODEL_79084141492f4de8aa258a40f42e43c1",
       "max": 8760,
       "min": 1,
       "step": 1,
       "style": "IPY_MODEL_8e5f1a68627740fb823385e462684c7d",
       "value": 720
      }
     },
     "f6feb0a1ba704d55b186501e9c4507e0": {
      "model_module": "@jupyter-widgets/controls",
      "model_module_version": "1.5.0",
      "model_name": "BoundedFloatTextModel",
      "state": {
       "description": "PM toler  (hrs):",
       "layout": "IPY_MODEL_50992fb959b44220b0ee1edb3262dee0",
       "max": 8760,
       "min": 1,
       "step": 1,
       "style": "IPY_MODEL_0d70ef8671a241d29b9875390cf02d9c",
       "value": 720
      }
     },
     "f72b2edcca3245339cb075ed3e04187c": {
      "model_module": "@jupyter-widgets/base",
      "model_module_version": "1.2.0",
      "model_name": "LayoutModel",
      "state": {}
     },
     "f7630d28281c440e866a95bf6131f26d": {
      "model_module": "@jupyter-widgets/controls",
      "model_module_version": "1.5.0",
      "model_name": "DescriptionStyleModel",
      "state": {
       "description_width": "initial"
      }
     },
     "f79c96643c034e9d95eb367ec90dc61d": {
      "model_module": "@jupyter-widgets/controls",
      "model_module_version": "1.5.0",
      "model_name": "BoundedFloatTextModel",
      "state": {
       "description": "CM right time (hrs):",
       "layout": "IPY_MODEL_de6ec284aba94b34ac89cef292ca10bd",
       "max": 26280,
       "min": 3,
       "step": 1,
       "style": "IPY_MODEL_9db933977ed6408fbe2721ac55432e7e",
       "value": 920
      }
     },
     "f7d0de6d13b144fe88d9687bdbc4d5ce": {
      "model_module": "@jupyter-widgets/base",
      "model_module_version": "1.2.0",
      "model_name": "LayoutModel",
      "state": {}
     },
     "f7d6a1b67b274a0d8e6a289b5ad684bc": {
      "model_module": "@jupyter-widgets/controls",
      "model_module_version": "1.5.0",
      "model_name": "DescriptionStyleModel",
      "state": {
       "description_width": "initial"
      }
     },
     "f842d0d43e994b4a8a8318f3f49c6d5d": {
      "model_module": "@jupyter-widgets/base",
      "model_module_version": "1.2.0",
      "model_name": "LayoutModel",
      "state": {}
     },
     "f867774990164d86a0147e18256329ce": {
      "model_module": "@jupyter-widgets/base",
      "model_module_version": "1.2.0",
      "model_name": "LayoutModel",
      "state": {}
     },
     "f89e874926594c5193ef7432b6fa150e": {
      "model_module": "@jupyter-widgets/base",
      "model_module_version": "1.2.0",
      "model_name": "LayoutModel",
      "state": {}
     },
     "f8a387ac93a54ef4a4eae332f02f445e": {
      "model_module": "@jupyter-widgets/controls",
      "model_module_version": "1.5.0",
      "model_name": "DescriptionStyleModel",
      "state": {
       "description_width": "initial"
      }
     },
     "f8a680144ca14131a5fd0500396851c3": {
      "model_module": "@jupyter-widgets/base",
      "model_module_version": "1.2.0",
      "model_name": "LayoutModel",
      "state": {}
     },
     "f8c8b134388240b188daece3cecba8ba": {
      "model_module": "@jupyter-widgets/base",
      "model_module_version": "1.2.0",
      "model_name": "LayoutModel",
      "state": {}
     },
     "f8ee9847f96a4c24830ba4efc6a43b3d": {
      "model_module": "@jupyter-widgets/controls",
      "model_module_version": "1.5.0",
      "model_name": "BoundedFloatTextModel",
      "state": {
       "description": "Shape parameter:",
       "layout": "IPY_MODEL_f72b2edcca3245339cb075ed3e04187c",
       "max": 10,
       "min": 1,
       "step": 1,
       "style": "IPY_MODEL_4b4f5318cc774ee1884e1abb1e54a1ca",
       "value": 1.5
      }
     },
     "f8f4a07d8c7841dc8b5d27540cdf2877": {
      "model_module": "@jupyter-widgets/controls",
      "model_module_version": "1.5.0",
      "model_name": "DescriptionStyleModel",
      "state": {
       "description_width": "initial"
      }
     },
     "f9615be7db2b496fbecb3b90ec1a9eb7": {
      "model_module": "@jupyter-widgets/controls",
      "model_module_version": "1.5.0",
      "model_name": "DescriptionStyleModel",
      "state": {
       "description_width": "150px"
      }
     },
     "f96b5368c5954ec287afb21d0732fc04": {
      "model_module": "@jupyter-widgets/controls",
      "model_module_version": "1.5.0",
      "model_name": "BoundedFloatTextModel",
      "state": {
       "description": "Scale parameter  (hrs):",
       "layout": "IPY_MODEL_5bff8845800d47c79c506d717bf0d36a",
       "max": 876000,
       "min": 8760,
       "step": 1,
       "style": "IPY_MODEL_bcdaf715d9bf40a28f5a9138f8f2bd42",
       "value": 13140
      }
     },
     "f9a8b2ca3a4b42c082199645c3a783c6": {
      "model_module": "@jupyter-widgets/controls",
      "model_module_version": "1.5.0",
      "model_name": "DescriptionStyleModel",
      "state": {
       "description_width": "initial"
      }
     },
     "fa10bbbd02274908bcfbb2be17f5782b": {
      "model_module": "@jupyter-widgets/controls",
      "model_module_version": "1.5.0",
      "model_name": "DescriptionStyleModel",
      "state": {
       "description_width": "initial"
      }
     },
     "fa66e860c1b44ebaa8478272eb14f09c": {
      "model_module": "@jupyter-widgets/controls",
      "model_module_version": "1.5.0",
      "model_name": "DescriptionStyleModel",
      "state": {
       "description_width": "150px"
      }
     },
     "fae2e086343d44cc8753b8b813819a9d": {
      "model_module": "@jupyter-widgets/controls",
      "model_module_version": "1.5.0",
      "model_name": "DescriptionStyleModel",
      "state": {
       "description_width": "initial"
      }
     },
     "fb50dd667d91484ebfe140834e0403ae": {
      "model_module": "@jupyter-widgets/controls",
      "model_module_version": "1.5.0",
      "model_name": "DescriptionStyleModel",
      "state": {
       "description_width": "initial"
      }
     },
     "fb86648e478547e1bf5ff1259f00fb52": {
      "model_module": "@jupyter-widgets/base",
      "model_module_version": "1.2.0",
      "model_name": "LayoutModel",
      "state": {}
     },
     "fb9586a847a345eda8804b84821993a0": {
      "model_module": "@jupyter-widgets/controls",
      "model_module_version": "1.5.0",
      "model_name": "BoundedFloatTextModel",
      "state": {
       "description": "PM mode time (hrs):",
       "layout": "IPY_MODEL_6d47972eff6c45368382dff95bc14e23",
       "max": 26280,
       "min": 2,
       "step": 24,
       "style": "IPY_MODEL_2ff799bd4f3747c6b1cd69dd4bc130d9",
       "value": 120
      }
     },
     "fbafca7ae98049289ca04ecd52151f41": {
      "model_module": "@jupyter-widgets/controls",
      "model_module_version": "1.5.0",
      "model_name": "DescriptionStyleModel",
      "state": {
       "description_width": "150px"
      }
     },
     "fbe10973870f417cb79050d73c94900c": {
      "model_module": "@jupyter-widgets/controls",
      "model_module_version": "1.5.0",
      "model_name": "IntSliderModel",
      "state": {
       "description": "a",
       "layout": "IPY_MODEL_929d0af1898c402d8586da1833adacad",
       "max": 3,
       "min": -1,
       "style": "IPY_MODEL_9f26c7b131584432aaa976f37e5fe266",
       "value": 1
      }
     },
     "fbec87608cf04a2690b3112ecd17eb9c": {
      "model_module": "@jupyter-widgets/controls",
      "model_module_version": "1.5.0",
      "model_name": "HBoxModel",
      "state": {
       "children": [
        "IPY_MODEL_7af28526b83e4f09af09565755a6a18d",
        "IPY_MODEL_65b7f94891a143f28ee3b2bce775db37",
        "IPY_MODEL_94858cdac02943cfa617074e7bf5d8e4"
       ],
       "layout": "IPY_MODEL_439f5e7dc2af484a9940b5304f0578bf"
      }
     },
     "fc1f4d7eef584e619e93c6dea2c8bf5d": {
      "model_module": "@jupyter-widgets/controls",
      "model_module_version": "1.5.0",
      "model_name": "BoundedFloatTextModel",
      "state": {
       "description": "Series or Redund:",
       "layout": "IPY_MODEL_648b678276dc49a68550809d343c4ba0",
       "max": 2,
       "min": 1,
       "step": 1,
       "style": "IPY_MODEL_e4f0ce12a66143faaf8d4071ec675089",
       "value": 1
      }
     },
     "fc246bad88ad4173b7d64cf53b242116": {
      "model_module": "@jupyter-widgets/base",
      "model_module_version": "1.2.0",
      "model_name": "LayoutModel",
      "state": {}
     },
     "fc262fc91a4b43688af8c568babe2e39": {
      "model_module": "@jupyter-widgets/controls",
      "model_module_version": "1.5.0",
      "model_name": "SliderStyleModel",
      "state": {
       "description_width": ""
      }
     },
     "fc5bfe0c1f7a451e9e5f03719b5bc26d": {
      "model_module": "@jupyter-widgets/controls",
      "model_module_version": "1.5.0",
      "model_name": "DescriptionStyleModel",
      "state": {
       "description_width": "150px"
      }
     },
     "fc7dd8a23e6f4fb79248e9ca73493d2a": {
      "model_module": "@jupyter-widgets/base",
      "model_module_version": "1.2.0",
      "model_name": "LayoutModel",
      "state": {}
     },
     "fd14c2efd4de4e2abe4bbf0cb1500db5": {
      "model_module": "@jupyter-widgets/base",
      "model_module_version": "1.2.0",
      "model_name": "LayoutModel",
      "state": {}
     },
     "fd203efde40841d78475c7de99ac7acc": {
      "model_module": "@jupyter-widgets/base",
      "model_module_version": "1.2.0",
      "model_name": "LayoutModel",
      "state": {}
     },
     "fd532aecd8284da7876539b90751f342": {
      "model_module": "@jupyter-widgets/controls",
      "model_module_version": "1.5.0",
      "model_name": "ButtonModel",
      "state": {
       "button_style": "success",
       "description": "Run Simulation",
       "layout": "IPY_MODEL_69878f45cecb4444b1ebf228a7f4b9c9",
       "style": "IPY_MODEL_d987018b51f44ced897d4f472992b226",
       "tooltip": "Click me"
      }
     },
     "fe12421f057243afb9fc1c22a1f2a9a6": {
      "model_module": "@jupyter-widgets/controls",
      "model_module_version": "1.5.0",
      "model_name": "DescriptionStyleModel",
      "state": {
       "description_width": "150px"
      }
     },
     "fe17d1ce66f7497da1090bc4d6ae4b56": {
      "model_module": "@jupyter-widgets/controls",
      "model_module_version": "1.5.0",
      "model_name": "DescriptionStyleModel",
      "state": {
       "description_width": "initial"
      }
     },
     "fe78a84698b74dca8a3c6d5b14f832d4": {
      "model_module": "@jupyter-widgets/base",
      "model_module_version": "1.2.0",
      "model_name": "LayoutModel",
      "state": {}
     },
     "fead93f6c0b543b4917f008ea538e22f": {
      "model_module": "@jupyter-widgets/base",
      "model_module_version": "1.2.0",
      "model_name": "LayoutModel",
      "state": {}
     },
     "feb11c0425fe410e9f2a193bf7c17286": {
      "model_module": "@jupyter-widgets/base",
      "model_module_version": "1.2.0",
      "model_name": "LayoutModel",
      "state": {}
     },
     "feb137c8f8d94e5d914df8ae069d010d": {
      "model_module": "@jupyter-widgets/base",
      "model_module_version": "1.2.0",
      "model_name": "LayoutModel",
      "state": {}
     },
     "feba4981c5a74e149c772f5c7a28a7b8": {
      "model_module": "@jupyter-widgets/base",
      "model_module_version": "1.2.0",
      "model_name": "LayoutModel",
      "state": {}
     },
     "fec54606717d487391e2616714b7f42d": {
      "model_module": "@jupyter-widgets/controls",
      "model_module_version": "1.5.0",
      "model_name": "DescriptionStyleModel",
      "state": {
       "description_width": "initial"
      }
     },
     "fef800ebf4d3425bb776ee270ca26d1a": {
      "model_module": "@jupyter-widgets/output",
      "model_module_version": "1.0.0",
      "model_name": "OutputModel",
      "state": {
       "layout": "IPY_MODEL_4a0a32b7780940bcab52e74495607d7f"
      }
     },
     "fef90ffe3bd1465c97cc1f0647c1ece0": {
      "model_module": "@jupyter-widgets/controls",
      "model_module_version": "1.5.0",
      "model_name": "DescriptionStyleModel",
      "state": {
       "description_width": "initial"
      }
     },
     "ff00675416ed47c5a3e1bf06ec03a404": {
      "model_module": "@jupyter-widgets/base",
      "model_module_version": "1.2.0",
      "model_name": "LayoutModel",
      "state": {}
     },
     "ff0ac3355f124a9b8870bc9442357dd4": {
      "model_module": "@jupyter-widgets/controls",
      "model_module_version": "1.5.0",
      "model_name": "BoundedFloatTextModel",
      "state": {
       "description": "PM mode time (hrs):",
       "layout": "IPY_MODEL_7bad7dc7332b41cd9b5175915351a637",
       "max": 26280,
       "min": 2,
       "step": 1,
       "style": "IPY_MODEL_52a5ad8c1d0b46c0bf6cb2073d909916",
       "value": 120
      }
     },
     "ff3669205569480986de0f87f10598f1": {
      "model_module": "@jupyter-widgets/controls",
      "model_module_version": "1.5.0",
      "model_name": "BoundedIntTextModel",
      "state": {
       "description": "Sim. Period (hrs):",
       "layout": "IPY_MODEL_ccc191368c854a69a8c161d99d664f61",
       "max": 876000,
       "min": 8760,
       "style": "IPY_MODEL_105ac47f141b49bf88c08237c1e70b3f",
       "value": 87600
      }
     },
     "fff7c96d75194897b41cee82ca77e398": {
      "model_module": "@jupyter-widgets/base",
      "model_module_version": "1.2.0",
      "model_name": "LayoutModel",
      "state": {}
     }
    },
    "version_major": 2,
    "version_minor": 0
   }
  }
 },
 "nbformat": 4,
 "nbformat_minor": 4
}
